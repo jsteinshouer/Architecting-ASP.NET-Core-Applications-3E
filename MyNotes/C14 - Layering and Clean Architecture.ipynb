{
 "cells": [
  {
   "cell_type": "markdown",
   "id": "3dfb4f23",
   "metadata": {},
   "source": [
    "# Chapter 14 - Layering and Clean Architecture\n",
    "\n",
    "- Efficient way to partition and organize units of logic i.e. MVC\n",
    "- Logical organization of code\n",
    "- Horizontal slicing\n",
    "- Classic layering\n",
    "    * Presenstion layer\n",
    "    * Domain layer (business logic)\n",
    "    * Data layer or persistance layer\n",
    "- Sometimes layers are divided among teams, leaving knowledge gaps\n",
    "- Splitting layers veritically and horizontally\n",
    "- Assemblies are consumable units of compiled code i.e. `.dll` or `.exe`\n",
    "    * Can be deployed as nuget packages\n",
    "\n",
    "## Domain layer\n",
    "\n",
    "- Rich vs anemic\n",
    "\n",
    "### Rich domain model\n",
    "\n",
    "- Operations in the domain model classes\n",
    "\n",
    "### Anemic domain model\n",
    "\n",
    "- Logic goes into a service layer"
   ]
  },
  {
   "cell_type": "markdown",
   "id": "0f62302f",
   "metadata": {},
   "source": [
    "## Service Layer\n",
    "\n",
    "- Service layer can be just a sub-folder named Services \\\n",
    "- It could be seperate assemblies for abstractions and implementations\n",
    "- It could be its own tier i.e. REST api\n",
    "- Used with Anemic domain models"
   ]
  },
  {
   "cell_type": "markdown",
   "id": "f289647c",
   "metadata": {},
   "source": [
    "## Data layer\n",
    "\n",
    "- Common patterns are unit of work and Repository patterns\n",
    "- Modern data layers leverage ORM such as entity framework\n",
    "    * implements the above patterns for us\n",
    "- EF core is lighter weight and faster than EF 6\n",
    "    * Not the same thing\n",
    "- Can use Dapr for complete control of your sql code\n",
    "\n",
    "### Repository pattern\n",
    "\n",
    "- Not needed if using EF core\n",
    "\n",
    "Example interface\n",
    "\n",
    "```csharp\n",
    "public interface IRepository<T, TId> where T : class, IEntity<TId>\n",
    "{\n",
    "    Task<IEnumerable<T>> AllAsync(CancellationToken cancellationToken);\n",
    "    Task<T?> GetByIdAsync(TId id, CancellationToken cancellationToken);\n",
    "    Task<T> CreateAsync(T entity, CancellationToken cancellationToken);\n",
    "    Task UpdateAsync(T entity, CancellationToken cancellationToken);\n",
    "    Task DeleteAsync(TId id, CancellationToken cancellationToken);\n",
    "}\n",
    "public interface IEntity<TId>\n",
    "{\n",
    "    TId Id { get; }\n",
    "}\n",
    "```\n",
    "\n",
    "### Unit of Work\n",
    "\n",
    "- Allows us to combine multiple changes into a single transaction (Single database call)\n",
    "- IMplemented as `DbContext` in EF\n"
   ]
  },
  {
   "cell_type": "code",
   "execution_count": 11,
   "metadata": {
    "polyglot_notebook": {
     "kernelName": "mermaid"
    },
    "vscode": {
     "languageId": "polyglot-notebook"
    }
   },
   "outputs": [
    {
     "data": {
      "text/html": [
       "<div class=\"mermaidMarkdownContainer\" style=\"background-color:white\">\r\n",
       "<link rel=\"stylesheet\" href=\"https://cdnjs.cloudflare.com/ajax/libs/font-awesome/6.2.0/css/all.min.css\">\r\n",
       "<div id=\"64465902e1d1441d82d68696d5263a0c\"></div>\r\n",
       "<script type=\"module\">\r\n",
       "\r\n",
       "            import mermaid from 'https://cdn.jsdelivr.net/npm/mermaid@10.6.1/dist/mermaid.esm.min.mjs';\r\n",
       "            let renderTarget = document.getElementById('64465902e1d1441d82d68696d5263a0c');\r\n",
       "            try {\r\n",
       "                const {svg, bindFunctions} = await mermaid.mermaidAPI.render( \r\n",
       "                    'mermaid_64465902e1d1441d82d68696d5263a0c', \r\n",
       "                    `classDiagram\n",
       "    direction LR\n",
       "    namespace Presentation {\n",
       "        class Program\n",
       "    }\n",
       "    namespace Domain {\n",
       "        class IProductService\n",
       "        class ProductService\n",
       "    }\n",
       "    namespace Data.Abstract {\n",
       "        class IProductRepository\n",
       "    }\n",
       "    namespace Data.EF {\n",
       "        class ProductRepository\n",
       "    }`);\r\n",
       "                renderTarget.innerHTML = svg;\r\n",
       "                bindFunctions?.(renderTarget);\r\n",
       "            }\r\n",
       "            catch (error) {\r\n",
       "                console.log(error);\r\n",
       "            }\r\n",
       "</script>\r\n",
       "</div>\r\n"
      ]
     },
     "metadata": {},
     "output_type": "display_data"
    }
   ],
   "source": [
    "classDiagram\n",
    "    direction LR\n",
    "    namespace Presentation {\n",
    "        class Program\n",
    "    }\n",
    "    namespace Domain {\n",
    "        class IProductService\n",
    "        class ProductService\n",
    "    }\n",
    "    namespace Data.Abstract {\n",
    "        class IProductRepository\n",
    "    }\n",
    "    namespace Data.EF {\n",
    "        class ProductRepository\n",
    "    }"
   ]
  },
  {
   "cell_type": "markdown",
   "id": "30b934fe",
   "metadata": {},
   "source": [
    "## Project\n",
    "\n",
    "See solution in `C14\\AbstractLayer`\n",
    "\n",
    "- Seperate models for each layer"
   ]
  },
  {
   "cell_type": "markdown",
   "id": "29254700",
   "metadata": {},
   "source": [
    "### Data.Abstract Layer"
   ]
  },
  {
   "cell_type": "code",
   "execution_count": 12,
   "metadata": {
    "polyglot_notebook": {
     "kernelName": "csharp"
    },
    "vscode": {
     "languageId": "polyglot-notebook"
    }
   },
   "outputs": [],
   "source": [
    "using System.Collections.Generic;\n",
    "using System.Threading;\n",
    "\n",
    "public class Product\n",
    "{\n",
    "    public int? Id { get; set; }\n",
    "    public string? Name { get; set; }\n",
    "    public int QuantityInStock { get; set; }\n",
    "}\n",
    "\n",
    "public interface IProductRepository\n",
    "{\n",
    "    Task<IEnumerable<Product>> AllAsync(CancellationToken cancellationToken);\n",
    "    Task<Product?> FindByIdAsync(int productId, CancellationToken cancellationToken);\n",
    "    Task CreateAsync(Product product, CancellationToken cancellationToken);\n",
    "    Task UpdateAsync(Product product, CancellationToken cancellationToken);\n",
    "    Task DeleteAsync(int productId, CancellationToken cancellationToken);\n",
    "}"
   ]
  },
  {
   "cell_type": "markdown",
   "id": "fcf6cbb9",
   "metadata": {},
   "source": [
    "### Data.EF Layer"
   ]
  },
  {
   "cell_type": "code",
   "execution_count": 13,
   "metadata": {
    "polyglot_notebook": {
     "kernelName": "csharp"
    },
    "vscode": {
     "languageId": "polyglot-notebook"
    }
   },
   "outputs": [
    {
     "data": {
      "text/html": [
       "<div><div></div><div></div><div><strong>Installed Packages</strong><ul><li><span>Microsoft.EntityFrameworkCore, 9.0.6</span></li><li><span>Microsoft.EntityFrameworkCore.InMemory, 9.0.6</span></li></ul></div></div>"
      ]
     },
     "metadata": {},
     "output_type": "display_data"
    }
   ],
   "source": [
    "#r \"nuget: Microsoft.EntityFrameworkCore\"\n",
    "#r \"nuget: Microsoft.EntityFrameworkCore.InMemory\""
   ]
  },
  {
   "cell_type": "code",
   "execution_count": 14,
   "metadata": {
    "polyglot_notebook": {
     "kernelName": "csharp"
    },
    "vscode": {
     "languageId": "polyglot-notebook"
    }
   },
   "outputs": [],
   "source": [
    "//using Data.Abstract;\n",
    "using Microsoft.EntityFrameworkCore;\n",
    "\n",
    "public class ProductContext : DbContext\n",
    "{\n",
    "    public ProductContext(DbContextOptions options)\n",
    "        : base(options)\n",
    "    {\n",
    "    }\n",
    "\n",
    "    public DbSet<Product> Products => Set<Product>();\n",
    "}\n",
    "\n",
    "public class ProductNotFoundException : Exception\n",
    "{\n",
    "    public ProductNotFoundException(int productId)\n",
    "        : base($\"The product '{productId}' was not found.\")\n",
    "    {\n",
    "        ProductId = productId;\n",
    "    }\n",
    "\n",
    "    public int ProductId { get; }\n",
    "}\n",
    "\n",
    "public class ProductRepository : IProductRepository\n",
    "{\n",
    "    private readonly ProductContext _db;\n",
    "    public ProductRepository(ProductContext db)\n",
    "    {\n",
    "        _db = db ?? throw new ArgumentNullException(nameof(db));\n",
    "    }\n",
    "\n",
    "    public async Task<IEnumerable<Product>> AllAsync(CancellationToken cancellationToken)\n",
    "    {\n",
    "        return await _db.Products.ToArrayAsync(cancellationToken);\n",
    "    }\n",
    "\n",
    "    public async Task CreateAsync(Product product, CancellationToken cancellationToken)\n",
    "    {\n",
    "        _db.Products.Add(product);\n",
    "        await _db.SaveChangesAsync(cancellationToken);\n",
    "    }\n",
    "\n",
    "    public async Task DeleteAsync(int productId, CancellationToken cancellationToken)\n",
    "    {\n",
    "        var product = await FindByIdAsync(productId, cancellationToken);\n",
    "        if (product == null)\n",
    "        {\n",
    "            throw new ProductNotFoundException(productId);\n",
    "        }\n",
    "        _db.Products.Remove(product);\n",
    "        await _db.SaveChangesAsync(cancellationToken);\n",
    "    }\n",
    "\n",
    "    public async Task<Product?> FindByIdAsync(int productId, CancellationToken cancellationToken)\n",
    "    {\n",
    "        var product = await _db.Products.FindAsync(new object[] { productId }, cancellationToken);\n",
    "        return product;\n",
    "    }\n",
    "\n",
    "    public async Task UpdateAsync(Product product, CancellationToken cancellationToken)\n",
    "    {\n",
    "        _db.Entry(product).State = EntityState.Modified;\n",
    "        await _db.SaveChangesAsync(cancellationToken);\n",
    "    }\n",
    "}\n"
   ]
  },
  {
   "cell_type": "markdown",
   "id": "2f3666a9",
   "metadata": {},
   "source": [
    "### Domain layer"
   ]
  },
  {
   "cell_type": "code",
   "execution_count": 15,
   "metadata": {
    "polyglot_notebook": {
     "kernelName": "csharp"
    },
    "vscode": {
     "languageId": "polyglot-notebook"
    }
   },
   "outputs": [],
   "source": [
    "// public class Product\n",
    "// {\n",
    "//     public int? Id { get; set; }\n",
    "//     public string? Name { get; set; }\n",
    "//     public int QuantityInStock { get; set; }\n",
    "// }\n",
    "\n",
    "public class NotEnoughStockException : Exception\n",
    "{\n",
    "    public NotEnoughStockException(int quantityInStock, int amountToRemove)\n",
    "        : base($\"You cannot remove {amountToRemove} item(s) when there is only {quantityInStock} item(s) left.\")\n",
    "    {\n",
    "        QuantityInStock = quantityInStock;\n",
    "        AmountToRemove = amountToRemove;\n",
    "    }\n",
    "\n",
    "    public int QuantityInStock { get; }\n",
    "    public int AmountToRemove { get; }\n",
    "}\n",
    "\n",
    "//Services\n",
    "\n",
    "public interface IProductService\n",
    "{\n",
    "    Task<IEnumerable<Product>> AllAsync(CancellationToken cancellationToken);\n",
    "}\n",
    "\n",
    "public interface IStockService\n",
    "{\n",
    "    Task<int> AddStockAsync(int productId, int amount, CancellationToken cancellationToken);\n",
    "    Task<int> RemoveStockAsync(int productId, int amount, CancellationToken cancellationToken);\n",
    "}\n",
    "\n",
    "public class ProductNotFoundException : Exception\n",
    "{\n",
    "    public ProductNotFoundException(int productId)\n",
    "        : base($\"The product '{productId}' was not found.\")\n",
    "    {\n",
    "        ProductId = productId;\n",
    "    }\n",
    "\n",
    "    public int ProductId { get; }\n",
    "}\n",
    "\n",
    "public class ProductService : IProductService\n",
    "{\n",
    "    private readonly IProductRepository _repository;\n",
    "    public ProductService(IProductRepository repository)\n",
    "    {\n",
    "        _repository = repository ?? throw new ArgumentNullException(nameof(repository));\n",
    "    }\n",
    "\n",
    "    public async Task<IEnumerable<Product>> AllAsync(CancellationToken cancellationToken)\n",
    "    {\n",
    "        return (await _repository.AllAsync(cancellationToken)).Select(p => new Product\n",
    "        {\n",
    "            Id = p.Id,\n",
    "            Name = p.Name,\n",
    "            QuantityInStock = p.QuantityInStock\n",
    "        });\n",
    "    }\n",
    "}\n",
    "\n",
    "public class StockService : IStockService\n",
    "{\n",
    "    private readonly IProductRepository _repository;\n",
    "    public StockService(IProductRepository repository)\n",
    "    {\n",
    "        _repository = repository ?? throw new ArgumentNullException(nameof(repository));\n",
    "    }\n",
    "\n",
    "    public async Task<int> AddStockAsync(int productId, int amount, CancellationToken cancellationToken)\n",
    "    {\n",
    "        var product = await _repository.FindByIdAsync(productId, cancellationToken);\n",
    "        if (product == null)\n",
    "        {\n",
    "            throw new ProductNotFoundException(productId);\n",
    "        }\n",
    "        product.QuantityInStock += amount;\n",
    "        await _repository.UpdateAsync(product, cancellationToken);\n",
    "\n",
    "        return product.QuantityInStock;\n",
    "    }\n",
    "\n",
    "    public async Task<int> RemoveStockAsync(int productId, int amount, CancellationToken cancellationToken)\n",
    "    {\n",
    "        var product = await _repository.FindByIdAsync(productId, cancellationToken);\n",
    "        if (product == null)\n",
    "        {\n",
    "            throw new ProductNotFoundException(productId);\n",
    "        }\n",
    "        if (amount > product.QuantityInStock)\n",
    "        {\n",
    "            throw new NotEnoughStockException(product.QuantityInStock, amount);\n",
    "        }\n",
    "        product.QuantityInStock -= amount;\n",
    "        await _repository.UpdateAsync(product, cancellationToken);\n",
    "\n",
    "        return product.QuantityInStock;\n",
    "    }\n",
    "}\n"
   ]
  },
  {
   "cell_type": "markdown",
   "id": "d661834f",
   "metadata": {},
   "source": [
    "### Presentation layer"
   ]
  },
  {
   "cell_type": "code",
   "execution_count": 16,
   "metadata": {
    "polyglot_notebook": {
     "kernelName": "csharp"
    },
    "vscode": {
     "languageId": "polyglot-notebook"
    }
   },
   "outputs": [],
   "source": [
    "#r \"C:\\Program Files\\dotnet\\shared\\Microsoft.AspNetCore.App\\9.0.2\\Microsoft.AspNetCore.dll\"\n",
    "#r \"C:\\Program Files\\dotnet\\shared\\Microsoft.AspNetCore.App\\9.0.2\\Microsoft.Extensions.Hosting.dll\"\n",
    "#r \"C:\\Program Files\\dotnet\\shared\\Microsoft.AspNetCore.App\\9.0.2\\Microsoft.AspNetCore.Mvc.ViewFeatures.dll\"\n",
    "#r \"C:\\Program Files\\dotnet\\shared\\Microsoft.AspNetCore.App\\9.0.2\\Microsoft.AspNetCore.Diagnostics.dll\"\n",
    "#r \"C:\\Program Files\\dotnet\\shared\\Microsoft.AspNetCore.App\\9.0.2\\Microsoft.AspNetCore.Http.dll\"\n",
    "#r \"C:\\Program Files\\dotnet\\shared\\Microsoft.AspNetCore.App\\9.0.2\\Microsoft.AspNetCore.Http.Results.dll\""
   ]
  },
  {
   "cell_type": "code",
   "execution_count": 17,
   "metadata": {
    "polyglot_notebook": {
     "kernelName": "csharp"
    },
    "vscode": {
     "languageId": "polyglot-notebook"
    }
   },
   "outputs": [],
   "source": [
    "string[] args = {\"--urls\",\"http://localhost:7002\"};"
   ]
  },
  {
   "cell_type": "code",
   "execution_count": 18,
   "metadata": {
    "polyglot_notebook": {
     "kernelName": "csharp"
    },
    "vscode": {
     "languageId": "polyglot-notebook"
    }
   },
   "outputs": [
    {
     "name": "stdout",
     "output_type": "stream",
     "text": [
      "info: Microsoft.EntityFrameworkCore.Update[30100]\n",
      "      Saved 3 entities to in-memory store.\n",
      "info: Microsoft.Hosting.Lifetime[14]\n",
      "      Now listening on: http://localhost:7002\n",
      "info: Microsoft.Hosting.Lifetime[0]\n",
      "      Application started. Press Ctrl+C to shut down.\n",
      "info: Microsoft.Hosting.Lifetime[0]\n",
      "      Hosting environment: Production\n",
      "info: Microsoft.Hosting.Lifetime[0]\n",
      "      Content root path: c:\\Users\\jason\\training\\dotnet\\Architecting-ASP.NET-Core-Applications-3E\\MyNotes\n"
     ]
    }
   ],
   "source": [
    "//using Domain.Services;\n",
    "using Microsoft.AspNetCore.Http;\n",
    "using Microsoft.EntityFrameworkCore;\n",
    "using Microsoft.EntityFrameworkCore.Diagnostics;\n",
    "using Microsoft.AspNetCore.Http.HttpResults;\n",
    "using Microsoft.AspNetCore.Routing;\n",
    "using Microsoft.AspNetCore.Builder;\n",
    "using Microsoft.Extensions.DependencyInjection;\n",
    "\n",
    "var builder = WebApplication.CreateBuilder(args);\n",
    "builder.Services\n",
    "    // Domain Layer\n",
    "    .AddScoped<IProductService, ProductService>()\n",
    "    .AddScoped<IStockService, StockService>()\n",
    "\n",
    "    // Data Layer (mapping Data.Abstract to Data.EF)\n",
    "    .AddScoped<IProductRepository, ProductRepository>()\n",
    "    .AddDbContext<ProductContext>(options => options\n",
    "        .UseInMemoryDatabase(\"ProductContextMemoryDB\")\n",
    "        .ConfigureWarnings(builder => builder.Ignore(InMemoryEventId.TransactionIgnoredWarning))\n",
    "    )\n",
    ";\n",
    "\n",
    "var app = builder.Build();\n",
    "\n",
    "app.MapGet(\"/products\", async (IProductService productService, CancellationToken cancellationToken)\n",
    "    => (await productService.AllAsync(cancellationToken)).Select(p => new {\n",
    "        p.Id,\n",
    "        p.Name,\n",
    "        p.QuantityInStock\n",
    "    }));\n",
    "app.MapPost(\"/products/{productId:int}/add-stocks\", async (int productId, AddStocksCommand command, IStockService stockService, CancellationToken cancellationToken) =>\n",
    "{\n",
    "    var quantityInStock = await stockService.AddStockAsync(productId, command.Amount, cancellationToken);\n",
    "    return new StockLevel(quantityInStock);\n",
    "});\n",
    "app.MapPost(\"/products/{productId:int}/remove-stocks\", async (int productId, RemoveStocksCommand command, IStockService stockService, CancellationToken cancellationToken) =>\n",
    "{\n",
    "    try\n",
    "    {\n",
    "        var quantityInStock = await stockService.RemoveStockAsync(productId, command.Amount, cancellationToken);\n",
    "        var stockLevel = new StockLevel(quantityInStock);\n",
    "        return Results.Ok(stockLevel);\n",
    "    }\n",
    "    catch (NotEnoughStockException ex)\n",
    "    {\n",
    "        return Results.Conflict(new\n",
    "        {\n",
    "            ex.Message,\n",
    "            ex.AmountToRemove,\n",
    "            ex.QuantityInStock\n",
    "        });\n",
    "    }\n",
    "});\n",
    "\n",
    "using (var seedScope = app.Services.CreateScope())\n",
    "{\n",
    "    var db = seedScope.ServiceProvider.GetRequiredService<ProductContext>();\n",
    "    await ProductSeeder.SeedAsync(db);\n",
    "}\n",
    "app.RunAsync();\n",
    "\n",
    "public class AddStocksCommand\n",
    "{\n",
    "    public int Amount { get; set; }\n",
    "}\n",
    "\n",
    "public class RemoveStocksCommand\n",
    "{\n",
    "    public int Amount { get; set; }\n",
    "}\n",
    "\n",
    "public class StockLevel\n",
    "{\n",
    "    public StockLevel(int quantityInStock)\n",
    "    {\n",
    "        QuantityInStock = quantityInStock;\n",
    "    }\n",
    "\n",
    "    public int QuantityInStock { get; set; }\n",
    "}\n",
    "\n",
    "public static class ProductSeeder\n",
    "{\n",
    "    public static Task SeedAsync(ProductContext db)\n",
    "    {\n",
    "        db.Products.Add(new Product\n",
    "        {\n",
    "            Id = 1,\n",
    "            Name = \"Banana\",\n",
    "            QuantityInStock = 50\n",
    "        });\n",
    "        db.Products.Add(new Product\n",
    "        {\n",
    "            Id = 2,\n",
    "            Name = \"Apple\",\n",
    "            QuantityInStock = 20\n",
    "        });\n",
    "        db.Products.Add(new Product\n",
    "        {\n",
    "            Id = 3,\n",
    "            Name = \"Habanero Pepper\",\n",
    "            QuantityInStock = 10\n",
    "        });\n",
    "        return db.SaveChangesAsync();\n",
    "    }\n",
    "}"
   ]
  },
  {
   "cell_type": "code",
   "execution_count": 19,
   "metadata": {
    "polyglot_notebook": {
     "kernelName": "csharp"
    },
    "vscode": {
     "languageId": "polyglot-notebook"
    }
   },
   "outputs": [
    {
     "data": {
      "application/json": [
       {
        "id": 1,
        "name": "Banana",
        "quantityInStock": 50
       },
       {
        "id": 2,
        "name": "Apple",
        "quantityInStock": 20
       },
       {
        "id": 3,
        "name": "Habanero Pepper",
        "quantityInStock": 10
       }
      ]
     },
     "metadata": {},
     "output_type": "display_data"
    }
   ],
   "source": [
    "using System.Net.Http;\n",
    "\n",
    "var httpClient = new HttpClient();\n",
    "\n",
    "var response = await httpClient.GetAsync(\"http://localhost:7002/products\");\n",
    "response.EnsureSuccessStatusCode();\n",
    "var content = await response.Content.ReadAsStringAsync();\n",
    "content.DisplayAs(\"application/json\")"
   ]
  },
  {
   "cell_type": "code",
   "execution_count": 20,
   "metadata": {
    "polyglot_notebook": {
     "kernelName": "csharp"
    },
    "vscode": {
     "languageId": "polyglot-notebook"
    }
   },
   "outputs": [],
   "source": [
    "app.StopAsync();"
   ]
  },
  {
   "cell_type": "markdown",
   "id": "9dc2a165",
   "metadata": {},
   "source": [
    "## Sharing the model\n",
    "\n",
    "- Presentation layer should use View model or DTO objects\n",
    "- See `C14\\SharedModel` for example\n",
    "- Be careful as it can get messy"
   ]
  },
  {
   "cell_type": "markdown",
   "id": "9ff78708",
   "metadata": {},
   "source": [
    "## Clean Architecture\n",
    "\n",
    "- UI, Core, and Infrastructure\n",
    "- Core\n",
    "    * Domain models and entities\n",
    "    * Domain services\n",
    "- Infrastructure\n",
    "    * UIs\n",
    "    * Data access\n",
    "    * Infrastructure related services\n",
    "- These layers can be split into smaller layers\n",
    "- Dependencies can only point inward\n",
    "\n",
    "### Infrastructure\n",
    "\n",
    "- UIs\n",
    "- Implementations\n",
    "    * i.e. REST calls, DB calls, disk access, etc\n",
    "\n",
    "### Core\n",
    "\n",
    "- Use cases\n",
    "    - Interfaces\n",
    "    - Domain services   \n",
    "- Entities (Models)\n",
    "\n",
    "### Project - `C14\\CleanArchitecture`"
   ]
  },
  {
   "cell_type": "markdown",
   "id": "b8cf3f48",
   "metadata": {},
   "source": [
    "## Real life\n",
    "\n",
    "- Domain-heavy and logic intesive project will benefit from a domain layer\n",
    "- Data management project maybe only need a presentation and data layer\n",
    "- It depends on the project\n",
    "    * Skill level of the team\n",
    "    * Requirments\n",
    "    * Budget constraints\n",
    "    * etc\n",
    "- Dont over-engineer\n",
    "- YAGNI\n",
    "- Educate customers and clients on expectations\n",
    "- Educate peers\n",
    "- Utilize tools for simple data-driven applications like no code\n",
    "- Keep it as simple as possible. Only as much complexity as needed\n",
    "- Consider who will be supporting it\n"
   ]
  },
  {
   "cell_type": "markdown",
   "id": "77dad458",
   "metadata": {},
   "source": [
    "## Resources\n",
    "\n",
    "- [Part 5: Repositories, the ClanRepository, and inte\u0002gration testing](https://www.forevolve.com/en/articles/2017/08/25/design-patterns-web-api-service-and-repository-part-5/)\n",
    "- [EF - Using Transactions](https://learn.microsoft.com/en-us/ef/core/saving/transactions)\n",
    "- [MS Learn - Architecture](https://learn.microsoft.com/en-us/dotnet/architecture/modern-web-apps-azure/common-web-application-architectures)\n",
    "-[GitHub - ardalis/CleanArchitecture](https://github.com/ardalis/CleanArchitecture)\n",
    "-[GitHub - jasontaylordev/CleanArchitecture](https://github.com/jasontaylordev/CleanArchitecture)\n",
    "\n"
   ]
  }
 ],
 "metadata": {
  "kernelspec": {
   "display_name": ".NET (C#)",
   "language": "C#",
   "name": ".net-csharp"
  },
  "language_info": {
   "name": "python",
   "version": "3.11.2"
  },
  "polyglot_notebook": {
   "kernelInfo": {
    "defaultKernelName": "csharp",
    "items": [
     {
      "aliases": [],
      "name": "csharp"
     }
    ]
   }
  }
 },
 "nbformat": 4,
 "nbformat_minor": 5
}
