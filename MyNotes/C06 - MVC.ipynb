{
 "cells": [
  {
   "cell_type": "markdown",
   "id": "4485503b",
   "metadata": {},
   "source": [
    "# Chapter 6 - Model View Controller (MVC)\n",
    "\n",
    "Create a new project\n",
    "\n",
    "```bash\n",
    "dotnet new webapi --use-controllers\n",
    "```"
   ]
  },
  {
   "cell_type": "markdown",
   "id": "43beb2af",
   "metadata": {},
   "source": [
    "## Testing out using Controllers in Notebooks\n",
    "\n",
    "Doesnt seem to work"
   ]
  },
  {
   "cell_type": "code",
   "execution_count": 14,
   "id": "bc6b0029",
   "metadata": {
    "vscode": {
     "languageId": "polyglot-notebook"
    }
   },
   "outputs": [],
   "source": [
    "#r \"C:\\Program Files\\dotnet\\shared\\Microsoft.AspNetCore.App\\9.0.2\\Microsoft.AspNetCore.dll\"\n",
    "#r \"C:\\Program Files\\dotnet\\shared\\Microsoft.AspNetCore.App\\9.0.2\\Microsoft.Extensions.Hosting.dll\"\n",
    "#r \"C:\\Program Files\\dotnet\\shared\\Microsoft.AspNetCore.App\\9.0.2\\Microsoft.AspNetCore.Mvc.dll\"\n",
    "#r \"C:\\Program Files\\dotnet\\shared\\Microsoft.AspNetCore.App\\9.0.2\\Microsoft.AspNetCore.Mvc.Core.dll\"\n",
    "#r \"C:\\Program Files\\dotnet\\shared\\Microsoft.AspNetCore.App\\9.0.2\\Microsoft.AspNetCore.Mvc.Cors.dll\"\n",
    "#r \"C:\\Program Files\\dotnet\\shared\\Microsoft.AspNetCore.App\\9.0.2\\Microsoft.AspNetCore.Mvc.Formatters.Json.dll\"\n",
    "#r \"C:\\Program Files\\dotnet\\shared\\Microsoft.AspNetCore.App\\9.0.2\\Microsoft.AspNetCore.Mvc.Abstractions.dll\"\n",
    "#r \"C:\\Program Files\\dotnet\\shared\\Microsoft.AspNetCore.App\\9.0.2\\Microsoft.AspNetCore.Mvc.DataAnnotations.dll\"\n",
    "#r \"C:\\Program Files\\dotnet\\shared\\Microsoft.AspNetCore.App\\9.0.2\\Microsoft.AspNetCore.Mvc.ViewFeatures.dll\"\n",
    "#r \"C:\\Program Files\\dotnet\\shared\\Microsoft.AspNetCore.App\\9.0.2\\Microsoft.AspNetCore.Diagnostics.dll\"\n",
    "#r \"C:\\Program Files\\dotnet\\shared\\Microsoft.AspNetCore.App\\9.0.2\\Microsoft.Extensions.DependencyInjection.dll\"\n",
    "#r \"C:\\Program Files\\dotnet\\shared\\Microsoft.AspNetCore.App\\9.0.2\\Microsoft.Extensions.DependencyInjection.Abstractions.dll\""
   ]
  },
  {
   "cell_type": "code",
   "execution_count": 15,
   "id": "837c0215",
   "metadata": {
    "vscode": {
     "languageId": "polyglot-notebook"
    }
   },
   "outputs": [
    {
     "data": {
      "text/html": [
       "<div><div></div><div></div><div><strong>Installed Packages</strong><ul><li><span>Microsoft.AspNetCore.OpenApi, 9.0.4</span></li><li><span>Swashbuckle.AspNetCore, 8.1.1</span></li></ul></div></div>"
      ]
     },
     "metadata": {},
     "output_type": "display_data"
    }
   ],
   "source": [
    "#r \"nuget:Swashbuckle.AspNetCore\"\n",
    "#r \"nuget:Microsoft.AspNetCore.OpenApi\""
   ]
  },
  {
   "cell_type": "code",
   "execution_count": 16,
   "id": "85d004cb",
   "metadata": {
    "vscode": {
     "languageId": "polyglot-notebook"
    }
   },
   "outputs": [],
   "source": [
    "using Microsoft.AspNetCore.Mvc;\n",
    "\n",
    "[ApiController]\n",
    "public class MyController : Controller\n",
    "{\n",
    " \n",
    "    public MyController()\n",
    "    {\n",
    "\n",
    "    }\n",
    " \n",
    "    public IActionResult Index() => Ok(\"Hello from Controller\");\n",
    "}"
   ]
  },
  {
   "cell_type": "code",
   "execution_count": null,
   "id": "1ab5e319",
   "metadata": {
    "vscode": {
     "languageId": "polyglot-notebook"
    }
   },
   "outputs": [],
   "source": [
    "using Microsoft.AspNetCore.Http;\n",
    "using Microsoft.AspNetCore.Routing;\n",
    "using Microsoft.AspNetCore.Builder;\n",
    "using Microsoft.AspNetCore.Mvc;\n",
    "using Microsoft.Extensions.DependencyInjection;\n",
    "\n",
    "var builder = WebApplication.CreateBuilder();\n",
    "\n",
    "builder.Services.AddControllersWithViews();\n",
    "builder.Services.AddEndpointsApiExplorer();\n",
    "builder.Services.AddSwaggerGen();\n",
    "\n",
    "var app = builder.Build();\n",
    "\n",
    "// app.MapGet(\"/\", () => \"Hello\");\n",
    "// app.MapControllers();\n",
    "app.MapDefaultControllerRoute();\n",
    "app.UseSwagger();\n",
    "app.UseSwaggerUI(); // <-- Light (default) version of Swagger UI\n",
    "app.UseRouting();\n",
    "app.RunAsync();\n"
   ]
  },
  {
   "cell_type": "code",
   "execution_count": 19,
   "id": "4c456c20",
   "metadata": {
    "vscode": {
     "languageId": "polyglot-notebook"
    }
   },
   "outputs": [],
   "source": [
    "app.StopAsync();"
   ]
  },
  {
   "cell_type": "markdown",
   "id": "1169787e",
   "metadata": {},
   "source": [
    "## Results\n",
    "\n",
    "```csharp\n",
    "public async Task<ActionResult> Index()\n",
    "```\n",
    "\n",
    "## Attribute routing\n",
    "\n",
    "- Use attributes to define routes to controller actions\n",
    "\n",
    "    ```csharp\n",
    "    [Route(\"api/[controller]\")]\n",
    "    public class CustomersController : ControllerBase\n",
    "        ...\n",
    "        // api/customers\n",
    "        [HttpGet]\n",
    "        ...\n",
    "        // api/customers/{id}\n",
    "        [HttpGet(\"{id}\")]\n",
    "        ...\n",
    "    ```\n",
    "- Can use attributes to bind data like we did with Minimal API. i.e. [FromBody] and [FromForm] see p 196 for full list.\n",
    "- Better to use DTO just like with Minimal API\n",
    "\n"
   ]
  }
 ],
 "metadata": {
  "kernelspec": {
   "display_name": ".NET (C#)",
   "language": "C#",
   "name": ".net-csharp"
  },
  "language_info": {
   "name": "python"
  },
  "polyglot_notebook": {
   "kernelInfo": {
    "defaultKernelName": "csharp",
    "items": [
     {
      "aliases": [],
      "name": "csharp"
     }
    ]
   }
  }
 },
 "nbformat": 4,
 "nbformat_minor": 5
}
