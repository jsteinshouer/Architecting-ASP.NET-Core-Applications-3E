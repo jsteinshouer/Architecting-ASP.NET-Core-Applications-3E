{
 "cells": [
  {
   "cell_type": "markdown",
   "id": "1c59394b",
   "metadata": {},
   "source": [
    "# Chapter 11 - Structural Patterns\n",
    "\n",
    "- Decorator and composite design patterns help to complext oject structures\n",
    "- Adapter pattern helps to connect an existing interface to another incompatible interface - enabling 2 systems to communicate\n",
    "- The Faade pattern provides a simpler interface to a complex system\n"
   ]
  },
  {
   "cell_type": "markdown",
   "id": "2f8fc903",
   "metadata": {},
   "source": [
    "\n",
    "## The Decorator design pattern\n",
    "\n",
    "- Dynamically add new functionality to an object by wrapping it with 1 or more decorator objects (At runtime)\n",
    "- Helps to follow the open-closed principle\n"
   ]
  },
  {
   "cell_type": "code",
   "execution_count": 20,
   "metadata": {
    "polyglot_notebook": {
     "kernelName": "mermaid"
    },
    "vscode": {
     "languageId": "polyglot-notebook"
    }
   },
   "outputs": [
    {
     "data": {
      "text/html": [
       "<div class=\"mermaidMarkdownContainer\" style=\"background-color:white\">\r\n",
       "<link rel=\"stylesheet\" href=\"https://cdnjs.cloudflare.com/ajax/libs/font-awesome/6.2.0/css/all.min.css\">\r\n",
       "<div id=\"bff529e8b0f84af88f2f20b1cf357ad5\"></div>\r\n",
       "<script type=\"module\">\r\n",
       "\r\n",
       "            import mermaid from 'https://cdn.jsdelivr.net/npm/mermaid@10.6.1/dist/mermaid.esm.min.mjs';\r\n",
       "            let renderTarget = document.getElementById('bff529e8b0f84af88f2f20b1cf357ad5');\r\n",
       "            try {\r\n",
       "                const {svg, bindFunctions} = await mermaid.mermaidAPI.render( \r\n",
       "                    'mermaid_bff529e8b0f84af88f2f20b1cf357ad5', \r\n",
       "                    `classDiagram \r\n",
       "    direction\r\n",
       "    class IComponent {\r\n",
       "        <<interface>>\r\n",
       "        +Operation()\r\n",
       "    }\r\n",
       "    class ComponentA {\r\n",
       "        +Operation()\r\n",
       "    }\r\n",
       "    class DecoratorA {\r\n",
       "        -component IComponent\r\n",
       "        +DecoratorA(component IComponent)\r\n",
       "        +Operation()\r\n",
       "        -AddBehaviorA()\r\n",
       "    }\r\n",
       "\r\n",
       "    note for IComponent \"Client\"\r\n",
       "\r\n",
       "    ComponentA ..|> IComponent\r\n",
       "    DecoratorA ..|> IComponent\r\n",
       "    DecoratorA o-- IComponent`);\r\n",
       "                renderTarget.innerHTML = svg;\r\n",
       "                bindFunctions?.(renderTarget);\r\n",
       "            }\r\n",
       "            catch (error) {\r\n",
       "                console.log(error);\r\n",
       "            }\r\n",
       "</script>\r\n",
       "</div>\r\n"
      ]
     },
     "metadata": {},
     "output_type": "display_data"
    }
   ],
   "source": [
    "classDiagram \n",
    "    direction\n",
    "    class IComponent {\n",
    "        <<interface>>\n",
    "        +Operation()\n",
    "    }\n",
    "    class ComponentA {\n",
    "        +Operation()\n",
    "    }\n",
    "    class DecoratorA {\n",
    "        -component IComponent\n",
    "        +DecoratorA(component IComponent)\n",
    "        +Operation()\n",
    "        -AddBehaviorA()\n",
    "    }\n",
    "\n",
    "    note for IComponent \"Client\"\n",
    "\n",
    "    ComponentA ..|> IComponent\n",
    "    DecoratorA ..|> IComponent\n",
    "    DecoratorA o-- IComponent"
   ]
  },
  {
   "cell_type": "code",
   "execution_count": 27,
   "id": "f64618fb",
   "metadata": {
    "polyglot_notebook": {
     "kernelName": "mermaid"
    },
    "vscode": {
     "languageId": "polyglot-notebook"
    }
   },
   "outputs": [
    {
     "data": {
      "text/html": [
       "<div class=\"mermaidMarkdownContainer\" style=\"background-color:white\">\r\n",
       "<link rel=\"stylesheet\" href=\"https://cdnjs.cloudflare.com/ajax/libs/font-awesome/6.2.0/css/all.min.css\">\r\n",
       "<div id=\"1461d55f29d248648b8a400b4752216b\"></div>\r\n",
       "<script type=\"module\">\r\n",
       "\r\n",
       "            import mermaid from 'https://cdn.jsdelivr.net/npm/mermaid@10.6.1/dist/mermaid.esm.min.mjs';\r\n",
       "            let renderTarget = document.getElementById('1461d55f29d248648b8a400b4752216b');\r\n",
       "            try {\r\n",
       "                const {svg, bindFunctions} = await mermaid.mermaidAPI.render( \r\n",
       "                    'mermaid_1461d55f29d248648b8a400b4752216b', \r\n",
       "                    `sequenceDiagram\r\n",
       "    actor Client\r\n",
       "    participant DecoratorA\r\n",
       "    participant ComponentA\r\n",
       "    activate Client\r\n",
       "    Client->>DecoratorA: Operation()\r\n",
       "    activate DecoratorA\r\n",
       "    DecoratorA->>ComponentA: Operation()\r\n",
       "    activate ComponentA\r\n",
       "    ComponentA-->>DecoratorA: Return\r\n",
       "    deactivate ComponentA\r\n",
       "    DecoratorA->>DecoratorA: AddBehaviorA()\r\n",
       "    DecoratorA-->>Client: Return\r\n",
       "    deactivate DecoratorA\r\n",
       "    deactivate Client`);\r\n",
       "                renderTarget.innerHTML = svg;\r\n",
       "                bindFunctions?.(renderTarget);\r\n",
       "            }\r\n",
       "            catch (error) {\r\n",
       "                console.log(error);\r\n",
       "            }\r\n",
       "</script>\r\n",
       "</div>\r\n"
      ]
     },
     "metadata": {},
     "output_type": "display_data"
    }
   ],
   "source": [
    "sequenceDiagram\n",
    "    actor Client\n",
    "    participant DecoratorA\n",
    "    participant ComponentA\n",
    "    activate Client\n",
    "    Client->>DecoratorA: Operation()\n",
    "    activate DecoratorA\n",
    "    DecoratorA->>ComponentA: Operation()\n",
    "    activate ComponentA\n",
    "    ComponentA-->>DecoratorA: Return\n",
    "    deactivate ComponentA\n",
    "    DecoratorA->>DecoratorA: AddBehaviorA()\n",
    "    DecoratorA-->>Client: Return\n",
    "    deactivate DecoratorA\n",
    "    deactivate Client"
   ]
  },
  {
   "cell_type": "markdown",
   "id": "d2406c9d",
   "metadata": {},
   "source": [
    "- Decorators can be nested"
   ]
  },
  {
   "cell_type": "code",
   "execution_count": 1,
   "id": "071f8e8d",
   "metadata": {
    "polyglot_notebook": {
     "kernelName": "csharp"
    },
    "vscode": {
     "languageId": "polyglot-notebook"
    }
   },
   "outputs": [],
   "source": [
    "public interface IComponent\n",
    "{\n",
    " string Operation();\n",
    "}\n",
    "\n",
    "public class ComponentA : IComponent\n",
    "{\n",
    "    public string Operation()\n",
    "    {\n",
    "        return \"Hello from ComponentA\";\n",
    "    }\n",
    "}\n",
    "\n",
    "public class DecoratorA : IComponent\n",
    "{\n",
    "    private readonly IComponent _component;\n",
    "\n",
    "    public DecoratorA(IComponent component)\n",
    "    {\n",
    "        _component = component ?? throw new ArgumentNullException(nameof(component));\n",
    "    }\n",
    " \n",
    "    public string Operation()\n",
    "    {\n",
    "        var result = _component.Operation();\n",
    "        return $\"<DecoratorA>{result}</DecoratorA>\";\n",
    "    }\n",
    "}\n",
    "\n",
    "public class DecoratorB : IComponent\n",
    "{\n",
    "    private readonly IComponent _component;\n",
    "\n",
    "    public DecoratorB(IComponent component)\n",
    "    {\n",
    "        _component = component ?? throw new ArgumentNullException(nameof(component));\n",
    "    }\n",
    "\n",
    "    public string Operation()\n",
    "    {\n",
    "        var result = _component.Operation();\n",
    "        return $\"<DecoratorB>{result}</DecoratorB>\";\n",
    "    }\n",
    "}"
   ]
  },
  {
   "cell_type": "code",
   "execution_count": 4,
   "id": "bf192281",
   "metadata": {
    "polyglot_notebook": {
     "kernelName": "csharp"
    },
    "vscode": {
     "languageId": "polyglot-notebook"
    }
   },
   "outputs": [
    {
     "data": {
      "text/plain": [
       "Hello from ComponentA"
      ]
     },
     "metadata": {},
     "output_type": "display_data"
    }
   ],
   "source": [
    "//builder.Services.AddSingleton<IComponent, ComponentA>();\n",
    "//app.MapGet(\"/\", (IComponent component) => component.Operation());\n",
    "var component = new ComponentA();\n",
    "\n",
    "component.Operation().Display();"
   ]
  },
  {
   "cell_type": "code",
   "execution_count": 7,
   "id": "492a83ef",
   "metadata": {
    "polyglot_notebook": {
     "kernelName": "csharp"
    },
    "vscode": {
     "languageId": "polyglot-notebook"
    }
   },
   "outputs": [
    {
     "data": {
      "text/plain": [
       "<DecoratorA>Hello from ComponentA</DecoratorA>"
      ]
     },
     "metadata": {},
     "output_type": "display_data"
    }
   ],
   "source": [
    "//builder.Services.AddSingleton<IComponent>(serviceProvider => new DecoratorA(newComponentA()));\n",
    "//app.MapGet(\"/\", (IComponent component) => component.Operation());\n",
    "var component = new DecoratorA(new ComponentA());\n",
    "\n",
    "component.Operation().Display();"
   ]
  },
  {
   "cell_type": "code",
   "execution_count": 8,
   "metadata": {
    "polyglot_notebook": {
     "kernelName": "csharp"
    },
    "vscode": {
     "languageId": "polyglot-notebook"
    }
   },
   "outputs": [
    {
     "data": {
      "text/plain": [
       "<DecoratorB><DecoratorA>Hello from ComponentA</DecoratorA></DecoratorB>"
      ]
     },
     "metadata": {},
     "output_type": "display_data"
    }
   ],
   "source": [
    "//builder.Services.AddSingleton<IComponent>(serviceProvider => new DecoratorB(new DecoratorA(new ComponentA())));\n",
    "//app.MapGet(\"/\", (IComponent component) => component.Operation());\n",
    "var component = new DecoratorB(new DecoratorA(new ComponentA()));\n",
    "\n",
    "component.Operation().Display();"
   ]
  },
  {
   "cell_type": "markdown",
   "id": "8b19cb94",
   "metadata": {},
   "source": [
    "### Use Scrutor\n",
    "\n",
    "[Scrutor](https://github.com/khellang/Scrutor) can be used to simplify the composition of decorators.\n",
    "\n",
    "```bash\n",
    "dotnet add package Scrutor\n",
    "```\n",
    "\n",
    "```csharp\n",
    "builder.Services\n",
    "    .AddSingleton<IComponent, ComponentA>()\n",
    "    .Decorate<IComponent, DecoratorA>()\n",
    "    .Decorate<IComponent, DecoratorB>();\n",
    "```"
   ]
  },
  {
   "cell_type": "markdown",
   "id": "e3ad5575",
   "metadata": {},
   "source": [
    "## The Composite design pattern\n",
    "\n",
    "- Helps manage complext object structures\n",
    "- i.e graph or tree with self managing nodes\n"
   ]
  },
  {
   "cell_type": "markdown",
   "id": "c725cce1",
   "metadata": {},
   "source": [
    "\n",
    "### Diagram\n",
    "\n",
    "- *Composite* collection of `IComponent`\n",
    "    * calls `Operation()` on each of its children\n",
    "- *Component* represents a single element; a leaf\n"
   ]
  },
  {
   "cell_type": "code",
   "execution_count": 1,
   "id": "a97040d3",
   "metadata": {
    "polyglot_notebook": {
     "kernelName": "mermaid"
    },
    "vscode": {
     "languageId": "polyglot-notebook"
    }
   },
   "outputs": [
    {
     "data": {
      "text/html": [
       "<div class=\"mermaidMarkdownContainer\" style=\"background-color:white\">\r\n",
       "<link rel=\"stylesheet\" href=\"https://cdnjs.cloudflare.com/ajax/libs/font-awesome/6.2.0/css/all.min.css\">\r\n",
       "<div id=\"55d90b268b944bc3addcf428d36f3ea0\"></div>\r\n",
       "<script type=\"module\">\r\n",
       "\r\n",
       "            import mermaid from 'https://cdn.jsdelivr.net/npm/mermaid@10.6.1/dist/mermaid.esm.min.mjs';\r\n",
       "            let renderTarget = document.getElementById('55d90b268b944bc3addcf428d36f3ea0');\r\n",
       "            try {\r\n",
       "                const {svg, bindFunctions} = await mermaid.mermaidAPI.render( \r\n",
       "                    'mermaid_55d90b268b944bc3addcf428d36f3ea0', \r\n",
       "                    `classDiagram\r\n",
       "    direction LR\r\n",
       "    class IComponent {\r\n",
       "        <<interface>>\r\n",
       "        +Operation()\r\n",
       "    }\r\n",
       "    class Component {\r\n",
       "        +Operation()\r\n",
       "    }\r\n",
       "    class Composite {\r\n",
       "        +children IComponent[]\r\n",
       "        +Operation()\r\n",
       "    }\r\n",
       "\r\n",
       "\r\n",
       "    IComponent <|-- Component\r\n",
       "    IComponent <|-- Composite\r\n",
       "    Composite o-- IComponent : children`);\r\n",
       "                renderTarget.innerHTML = svg;\r\n",
       "                bindFunctions?.(renderTarget);\r\n",
       "            }\r\n",
       "            catch (error) {\r\n",
       "                console.log(error);\r\n",
       "            }\r\n",
       "</script>\r\n",
       "</div>\r\n"
      ]
     },
     "metadata": {},
     "output_type": "display_data"
    }
   ],
   "source": [
    "classDiagram\n",
    "    direction LR\n",
    "    class IComponent {\n",
    "        <<interface>>\n",
    "        +Operation()\n",
    "    }\n",
    "    class Component {\n",
    "        +Operation()\n",
    "    }\n",
    "    class Composite {\n",
    "        +children IComponent[]\n",
    "        +Operation()\n",
    "    }\n",
    "\n",
    "\n",
    "    IComponent <|-- Component\n",
    "    IComponent <|-- Composite\n",
    "    Composite o-- IComponent : children"
   ]
  },
  {
   "cell_type": "markdown",
   "id": "ac9b0283",
   "metadata": {},
   "source": [
    "### C# Example: Composite Pattern for Organizational Hierarchy\n",
    "\n",
    "The following example demonstrates how to use the Composite design pattern to represent an organizational hierarchy with employees and managers."
   ]
  },
  {
   "cell_type": "code",
   "execution_count": 17,
   "id": "9dbf1137",
   "metadata": {
    "polyglot_notebook": {
     "kernelName": "csharp"
    },
    "vscode": {
     "languageId": "polyglot-notebook"
    }
   },
   "outputs": [
    {
     "name": "stdout",
     "output_type": "stream",
     "text": [
      "+ CEO: Alice\n",
      "  + Head of Development: Bob\n",
      "    + Team Lead: Charlie\n",
      "      - Developer: Diana\n",
      "  + Head of Sales: Eve\n",
      "    - Salesperson: Frank\n"
     ]
    }
   ],
   "source": [
    "public interface IEmployee\n",
    "{\n",
    "    void Display(int indent = 0);\n",
    "}\n",
    "\n",
    "public class Employee : IEmployee\n",
    "{\n",
    "    public string Name { get; }\n",
    "    public string Position { get; }\n",
    "\n",
    "    public Employee(string name, string position)\n",
    "    {\n",
    "        Name = name;\n",
    "        Position = position;\n",
    "    }\n",
    "\n",
    "    public void Display(int indent = 0)\n",
    "    {\n",
    "        Console.WriteLine(new string(' ', indent) + $\"- {Position}: {Name}\");\n",
    "    }\n",
    "}\n",
    "\n",
    "public class Manager : IEmployee\n",
    "{\n",
    "    public string Name { get; }\n",
    "    public string Position { get; }\n",
    "    private readonly List<IEmployee> _subordinates = new();\n",
    "\n",
    "    public Manager(string name, string position)\n",
    "    {\n",
    "        Name = name;\n",
    "        Position = position;\n",
    "    }\n",
    "\n",
    "    public void Add(IEmployee employee)\n",
    "    {\n",
    "        _subordinates.Add(employee);\n",
    "    }\n",
    "\n",
    "    public void Remove(IEmployee employee)\n",
    "    {\n",
    "        _subordinates.Remove(employee);\n",
    "    }\n",
    "\n",
    "    public void Display(int indent = 0)\n",
    "    {\n",
    "        Console.WriteLine(new string(' ', indent) + $\"+ {Position}: {Name}\");\n",
    "        foreach (var subordinate in _subordinates)\n",
    "        {\n",
    "            subordinate.Display(indent + 2);\n",
    "        }\n",
    "    }\n",
    "}\n",
    "\n",
    "var ceo = new Manager(\"Alice\", \"CEO\");\n",
    "var headDev = new Manager(\"Bob\", \"Head of Development\");\n",
    "var dev1 = new Manager(\"Charlie\", \"Team Lead\");\n",
    "var dev2 = new Employee(\"Diana\", \"Developer\");\n",
    "var headSales = new Manager(\"Eve\", \"Head of Sales\");\n",
    "var sales1 = new Employee(\"Frank\", \"Salesperson\");\n",
    "\n",
    "headDev.Add(dev1);\n",
    "dev1.Add(dev2);\n",
    "headSales.Add(sales1);\n",
    "ceo.Add(headDev);\n",
    "ceo.Add(headSales);\n",
    "\n",
    "ceo.Display();\n"
   ]
  },
  {
   "cell_type": "markdown",
   "id": "364c336d",
   "metadata": {},
   "source": [
    "This code defines an `IEmployee` interface, concrete `Employee` (leaf), and `Manager` (composite) classes. Managers can have subordinates (other employees or managers), and the hierarchy can be displayed recursively.\n",
    "\n",
    "See Bookstore example in [C11/src/Composite](../C11/src/Composite/Program.cs)"
   ]
  },
  {
   "cell_type": "markdown",
   "id": "89dfad69",
   "metadata": {},
   "source": [
    "## The Adapter design pattern\n",
    "\n",
    "- Used to make two incompatible interfaces work together without modifying their existing code"
   ]
  },
  {
   "cell_type": "markdown",
   "id": "38d102e6",
   "metadata": {},
   "source": [
    "### Diagram\n",
    "\n",
    "- Adapter calls `SomeMethod()` on Adaptee\n",
    "- You can also use inheritance if access to private members is needed but prefer composition if possible"
   ]
  },
  {
   "cell_type": "code",
   "execution_count": 6,
   "metadata": {
    "polyglot_notebook": {
     "kernelName": "mermaid"
    },
    "vscode": {
     "languageId": "polyglot-notebook"
    }
   },
   "outputs": [
    {
     "data": {
      "text/html": [
       "<div class=\"mermaidMarkdownContainer\" style=\"background-color:white\">\r\n",
       "<link rel=\"stylesheet\" href=\"https://cdnjs.cloudflare.com/ajax/libs/font-awesome/6.2.0/css/all.min.css\">\r\n",
       "<div id=\"44d56f4951e74180bcb955a043a8d57e\"></div>\r\n",
       "<script type=\"module\">\r\n",
       "\r\n",
       "            import mermaid from 'https://cdn.jsdelivr.net/npm/mermaid@10.6.1/dist/mermaid.esm.min.mjs';\r\n",
       "            let renderTarget = document.getElementById('44d56f4951e74180bcb955a043a8d57e');\r\n",
       "            try {\r\n",
       "                const {svg, bindFunctions} = await mermaid.mermaidAPI.render( \r\n",
       "                    'mermaid_44d56f4951e74180bcb955a043a8d57e', \r\n",
       "                    `classDiagram\r\n",
       "    direction LR\r\n",
       "    class ITarget {\r\n",
       "        <<interface>>\r\n",
       "        +Operation()\r\n",
       "    }\r\n",
       "    class Client {\r\n",
       "\r\n",
       "    }\r\n",
       "    class Adapter {\r\n",
       "        +adaptee Adaptee\r\n",
       "        +Operation()\r\n",
       "    }\r\n",
       "    class Adaptee {\r\n",
       "        +SomeMethod()\r\n",
       "    }\r\n",
       "\r\n",
       "\r\n",
       "    Client o-- ITarget\r\n",
       "    Adapter o-- Adaptee\r\n",
       "    Adapter ..|> ITarget\r\n",
       "`);\r\n",
       "                renderTarget.innerHTML = svg;\r\n",
       "                bindFunctions?.(renderTarget);\r\n",
       "            }\r\n",
       "            catch (error) {\r\n",
       "                console.log(error);\r\n",
       "            }\r\n",
       "</script>\r\n",
       "</div>\r\n"
      ]
     },
     "metadata": {},
     "output_type": "display_data"
    }
   ],
   "source": [
    "classDiagram\n",
    "    direction LR\n",
    "    class ITarget {\n",
    "        <<interface>>\n",
    "        +Operation()\n",
    "    }\n",
    "    class Client {\n",
    "\n",
    "    }\n",
    "    class Adapter {\n",
    "        +adaptee Adaptee\n",
    "        +Operation()\n",
    "    }\n",
    "    class Adaptee {\n",
    "        +SomeMethod()\n",
    "    }\n",
    "\n",
    "\n",
    "    Client o-- ITarget\n",
    "    Adapter o-- Adaptee\n",
    "    Adapter ..|> ITarget\n"
   ]
  },
  {
   "cell_type": "markdown",
   "id": "a8ca035a",
   "metadata": {},
   "source": [
    "### Project: Greeter"
   ]
  },
  {
   "cell_type": "code",
   "execution_count": 7,
   "metadata": {
    "polyglot_notebook": {
     "kernelName": "csharp"
    },
    "vscode": {
     "languageId": "polyglot-notebook"
    }
   },
   "outputs": [
    {
     "data": {
      "text/plain": [
       "Adaptee says: hi ExternalGreeterAdapter!"
      ]
     },
     "metadata": {},
     "output_type": "display_data"
    }
   ],
   "source": [
    "//External class we want to use (Adaptee)\n",
    "public class ExternalGreeter\n",
    "{\n",
    "    public string GreetByName(string name)\n",
    "    {\n",
    "        return $\"Adaptee says: hi {name}!\";\n",
    "    }\n",
    "}\n",
    "\n",
    "//Interface used in our system\n",
    "public interface IGreeter\n",
    "{\n",
    "    string Greeting();\n",
    "}\n",
    "\n",
    "//Adapter class that adapts the ExternalGreeter to the IGreeter interface\n",
    "public class ExternalGreeterAdapter : IGreeter\n",
    "{\n",
    "    private readonly ExternalGreeter _adaptee;\n",
    "\n",
    "    public ExternalGreeterAdapter(ExternalGreeter adaptee)\n",
    "    {\n",
    "        _adaptee = adaptee ?? throw new ArgumentNullException(nameof(adaptee));\n",
    "    }\n",
    "\n",
    "    public string Greeting()\n",
    "    {\n",
    "        return _adaptee.GreetByName(\"ExternalGreeterAdapter\");\n",
    "    }\n",
    "}\n",
    "\n",
    "// Usage\n",
    "// builder.Services.AddSingleton<ExternalGreeter>();\n",
    "// builder.Services.AddSingleton<IGreeter, ExternalGreeterAdapter>();\n",
    "var adaptee = new ExternalGreeter();\n",
    "var adapter = new ExternalGreeterAdapter(adaptee);\n",
    "adapter.Greeting().Display();"
   ]
  },
  {
   "cell_type": "markdown",
   "id": "34434d05",
   "metadata": {},
   "source": [
    "## The Facade design pattern\n",
    "\n",
    "- Simplifies access to a complex system (Could be multiple sub-systems)"
   ]
  },
  {
   "cell_type": "code",
   "execution_count": 14,
   "id": "4669cdd0",
   "metadata": {
    "polyglot_notebook": {
     "kernelName": "mermaid"
    },
    "vscode": {
     "languageId": "polyglot-notebook"
    }
   },
   "outputs": [
    {
     "data": {
      "text/html": [
       "<div class=\"mermaidMarkdownContainer\" style=\"background-color:white\">\r\n",
       "<link rel=\"stylesheet\" href=\"https://cdnjs.cloudflare.com/ajax/libs/font-awesome/6.2.0/css/all.min.css\">\r\n",
       "<div id=\"9eda20e05a5246fda24ddf89e1bf7008\"></div>\r\n",
       "<script type=\"module\">\r\n",
       "\r\n",
       "            import mermaid from 'https://cdn.jsdelivr.net/npm/mermaid@10.6.1/dist/mermaid.esm.min.mjs';\r\n",
       "            let renderTarget = document.getElementById('9eda20e05a5246fda24ddf89e1bf7008');\r\n",
       "            try {\r\n",
       "                const {svg, bindFunctions} = await mermaid.mermaidAPI.render( \r\n",
       "                    'mermaid_9eda20e05a5246fda24ddf89e1bf7008', \r\n",
       "                    `classDiagram\r\n",
       "    direction LR\r\n",
       "    class Client {\r\n",
       "        +UseFacade()\r\n",
       "    }\r\n",
       "    class Facade {\r\n",
       "        +OperationA()\r\n",
       "        +OperationB()\r\n",
       "    }\r\n",
       "    %% SubsystemA namespace\r\n",
       "    class SubsystemAClass1 {\r\n",
       "        +ActionA1()\r\n",
       "    }\r\n",
       "    class SubsystemAClass2 {\r\n",
       "        +ActionA2()\r\n",
       "    }\r\n",
       "    SubsystemAClass1 <..> SubsystemAClass2 : collaborates\r\n",
       "    %% SubsystemB namespace\r\n",
       "    class SubsystemBClass1 {\r\n",
       "        +ActionB1()\r\n",
       "    }\r\n",
       "\r\n",
       "    Client o-- Facade : uses\r\n",
       "    Facade o-- SubsystemAClass1 : uses\r\n",
       "    Facade o-- SubsystemAClass2 : uses\r\n",
       "    Facade o-- SubsystemBClass1 : uses`);\r\n",
       "                renderTarget.innerHTML = svg;\r\n",
       "                bindFunctions?.(renderTarget);\r\n",
       "            }\r\n",
       "            catch (error) {\r\n",
       "                console.log(error);\r\n",
       "            }\r\n",
       "</script>\r\n",
       "</div>\r\n"
      ]
     },
     "metadata": {},
     "output_type": "display_data"
    }
   ],
   "source": [
    "classDiagram\n",
    "    direction LR\n",
    "    class Client {\n",
    "        +UseFacade()\n",
    "    }\n",
    "    class Facade {\n",
    "        +OperationA()\n",
    "        +OperationB()\n",
    "    }\n",
    "    %% SubsystemA namespace\n",
    "    class SubsystemAClass1 {\n",
    "        +ActionA1()\n",
    "    }\n",
    "    class SubsystemAClass2 {\n",
    "        +ActionA2()\n",
    "    }\n",
    "    SubsystemAClass1 <..> SubsystemAClass2 : collaborates\n",
    "    %% SubsystemB namespace\n",
    "    class SubsystemBClass1 {\n",
    "        +ActionB1()\n",
    "    }\n",
    "\n",
    "    Client o-- Facade : uses\n",
    "    Facade o-- SubsystemAClass1 : uses\n",
    "    Facade o-- SubsystemAClass2 : uses\n",
    "    Facade o-- SubsystemBClass1 : uses"
   ]
  },
  {
   "cell_type": "markdown",
   "id": "b2097cf5",
   "metadata": {},
   "source": [
    "- **Opaque facades**: Facade is inside the subsystem, all other classes have an internal visibility modifier\n",
    "- **Transparent facades**: Subsytem has a public modifier so the Facade and be internal or external\n",
    "- Static - avoid if possible"
   ]
  },
  {
   "cell_type": "markdown",
   "id": "6f405536",
   "metadata": {},
   "source": [
    "### Project"
   ]
  },
  {
   "cell_type": "markdown",
   "id": "ce77e134",
   "metadata": {},
   "source": [
    "Subsystem"
   ]
  },
  {
   "cell_type": "code",
   "execution_count": 15,
   "metadata": {
    "polyglot_notebook": {
     "kernelName": "csharp"
    },
    "vscode": {
     "languageId": "polyglot-notebook"
    }
   },
   "outputs": [],
   "source": [
    "//Namespace: MySubsystem\n",
    "\n",
    "//Abstractions\n",
    "public interface IInventoryService\n",
    "{\n",
    "    bool CheckStock(string productId, int quantity);\n",
    "}\n",
    "\n",
    "public interface IShippingService\n",
    "{\n",
    "    void ScheduleShipping(int orderId);\n",
    "}\n",
    "\n",
    "public interface IOrderProcessingService\n",
    "{\n",
    "    int CreateOrder(string productId, int quantity);\n",
    "    string GetOrderStatus(int orderId);\n",
    "}\n",
    "\n",
    "//Implementations\n",
    "public class InventoryService : IInventoryService\n",
    "{\n",
    "    public bool CheckStock(string productId, int quantity)\n",
    "    {\n",
    "        // Check if the product is available in the desired quantity\n",
    "        return true; // Simplified for example\n",
    "    }\n",
    "}\n",
    "\n",
    "public class OrderProcessingService : IOrderProcessingService\n",
    "{\n",
    "    public int CreateOrder(string productId, int quantity)\n",
    "    {\n",
    "        // Logic to create an order\n",
    "        return 123; // Returns a mock order ID\n",
    "    }\n",
    "\n",
    "    public string GetOrderStatus(int orderId)\n",
    "    {\n",
    "        // Logic to get order status\n",
    "        return \"Order Shipped\"; // Simplified for example\n",
    "    }\n",
    "}\n",
    "\n",
    "public class ShippingService : IShippingService\n",
    "{\n",
    "    public void ScheduleShipping(int orderId)\n",
    "    {\n",
    "        // Logic to schedule shipping\n",
    "    }\n",
    "}\n",
    "\n",
    "\n"
   ]
  },
  {
   "cell_type": "markdown",
   "id": "eef5f1e4",
   "metadata": {},
   "source": [
    "Facade"
   ]
  },
  {
   "cell_type": "code",
   "execution_count": 16,
   "metadata": {
    "polyglot_notebook": {
     "kernelName": "csharp"
    },
    "vscode": {
     "languageId": "polyglot-notebook"
    }
   },
   "outputs": [],
   "source": [
    "//using MySubsystem;\n",
    "\n",
    "public interface IECommerceFacade\n",
    "{\n",
    "    string PlaceOrder(string productId, int quantity);\n",
    "    string CheckOrderStatus(int orderId);\n",
    "}\n",
    "\n",
    "public class ECommerceFacade : IECommerceFacade\n",
    "{\n",
    "    private readonly IInventoryService _inventoryService;\n",
    "    private readonly IOrderProcessingService _orderProcessingService;\n",
    "    private readonly IShippingService _shippingService;\n",
    "\n",
    "    public ECommerceFacade(IInventoryService inventoryService, IOrderProcessingService orderProcessingService, IShippingService shippingService)\n",
    "    {\n",
    "        _inventoryService = inventoryService ?? throw new ArgumentNullException(nameof(inventoryService));\n",
    "        _orderProcessingService = orderProcessingService ?? throw new ArgumentNullException(nameof(orderProcessingService));\n",
    "        _shippingService = shippingService ?? throw new ArgumentNullException(nameof(shippingService));\n",
    "    }\n",
    "\n",
    "    public string PlaceOrder(string productId, int quantity)\n",
    "    {\n",
    "        if (_inventoryService.CheckStock(productId, quantity))\n",
    "        {\n",
    "            var orderId = _orderProcessingService.CreateOrder(productId, quantity);\n",
    "            _shippingService.ScheduleShipping(orderId);\n",
    "            return $\"Order {orderId} placed successfully.\";\n",
    "        }\n",
    "        return \"Order failed due to insufficient stock.\";\n",
    "    }\n",
    "\n",
    "    public string CheckOrderStatus(int orderId)\n",
    "    {\n",
    "        return _orderProcessingService.GetOrderStatus(orderId);\n",
    "    }\n",
    "}\n",
    "\n"
   ]
  },
  {
   "cell_type": "code",
   "execution_count": 17,
   "metadata": {
    "polyglot_notebook": {
     "kernelName": "csharp"
    },
    "vscode": {
     "languageId": "polyglot-notebook"
    }
   },
   "outputs": [],
   "source": [
    "#r \"C:\\Program Files\\dotnet\\shared\\Microsoft.AspNetCore.App\\9.0.2\\Microsoft.AspNetCore.dll\"\n",
    "#r \"C:\\Program Files\\dotnet\\shared\\Microsoft.AspNetCore.App\\9.0.2\\Microsoft.Extensions.Hosting.dll\"\n",
    "#r \"C:\\Program Files\\dotnet\\shared\\Microsoft.AspNetCore.App\\9.0.2\\Microsoft.AspNetCore.Mvc.ViewFeatures.dll\"\n",
    "#r \"C:\\Program Files\\dotnet\\shared\\Microsoft.AspNetCore.App\\9.0.2\\Microsoft.AspNetCore.Diagnostics.dll\"\n",
    "#r \"C:\\Program Files\\dotnet\\shared\\Microsoft.AspNetCore.App\\9.0.2\\Microsoft.AspNetCore.Http.dll\"\n",
    "#r \"C:\\Program Files\\dotnet\\shared\\Microsoft.AspNetCore.App\\9.0.2\\Microsoft.AspNetCore.Http.Results.dll\""
   ]
  },
  {
   "cell_type": "code",
   "execution_count": 20,
   "metadata": {
    "polyglot_notebook": {
     "kernelName": "csharp"
    },
    "vscode": {
     "languageId": "polyglot-notebook"
    }
   },
   "outputs": [],
   "source": [
    "using Microsoft.Extensions.DependencyInjection.Extensions;\n",
    "using Microsoft.Extensions.DependencyInjection;\n",
    "\n",
    "\n",
    "public static IServiceCollection AddFacadeSubSystem(this IServiceCollection services)\n",
    "{\n",
    "    services.TryAddSingleton<IInventoryService, InventoryService>();\n",
    "    services.TryAddSingleton<IOrderProcessingService, OrderProcessingService>();\n",
    "    services.TryAddSingleton<IShippingService, ShippingService>();\n",
    "    services.TryAddSingleton<IECommerceFacade, ECommerceFacade>();\n",
    "    return services;\n",
    "}"
   ]
  },
  {
   "cell_type": "code",
   "execution_count": 24,
   "metadata": {
    "polyglot_notebook": {
     "kernelName": "csharp"
    },
    "vscode": {
     "languageId": "polyglot-notebook"
    }
   },
   "outputs": [
    {
     "name": "stdout",
     "output_type": "stream",
     "text": [
      "info: Microsoft.Hosting.Lifetime[14]\n",
      "      Now listening on: http://localhost:7001\n",
      "info: Microsoft.Hosting.Lifetime[0]\n",
      "      Application started. Press Ctrl+C to shut down.\n",
      "info: Microsoft.Hosting.Lifetime[0]\n",
      "      Hosting environment: Production\n",
      "info: Microsoft.Hosting.Lifetime[0]\n",
      "      Content root path: c:\\Users\\jason\\training\\dotnet\\Architecting-ASP.NET-Core-Applications-3E\\MyNotes\n"
     ]
    }
   ],
   "source": [
    "using Microsoft.AspNetCore.Http;\n",
    "using Microsoft.AspNetCore.Http.HttpResults;\n",
    "using Microsoft.AspNetCore.Routing;\n",
    "using Microsoft.AspNetCore.Builder;\n",
    "using Microsoft.Extensions.DependencyInjection;\n",
    "\n",
    "// Define the command line arguments\n",
    "string[] args = {\"--urls\",\"http://localhost:7001\"};\n",
    "\n",
    "var builder = WebApplication.CreateBuilder(args);\n",
    "builder.Services.AddFacadeSubSystem();\n",
    "var app = builder.Build();\n",
    "\n",
    "app.MapPost( \"/PlaceOrder\", (PlaceOrder order, IECommerceFacade eCommerceFacade) => \n",
    "    eCommerceFacade.PlaceOrder(order.ProductId, order.Quantity)\n",
    ");\n",
    "\n",
    "app.MapGet(\n",
    " \"/CheckOrderStatus/{orderId}\",\n",
    " (int orderId, IECommerceFacade eCommerceFacade)\n",
    " => eCommerceFacade.CheckOrderStatus(orderId)\n",
    ");\n",
    "\n",
    "app.RunAsync();\n",
    "\n",
    "public record class PlaceOrder(string ProductId, int Quantity);"
   ]
  },
  {
   "cell_type": "code",
   "execution_count": 22,
   "metadata": {
    "polyglot_notebook": {
     "kernelName": "csharp"
    },
    "vscode": {
     "languageId": "polyglot-notebook"
    }
   },
   "outputs": [
    {
     "data": {
      "application/json": ""
     },
     "metadata": {},
     "output_type": "display_data"
    }
   ],
   "source": [
    "using System.Net.Http;\n",
    "\n",
    "var httpClient = new HttpClient();\n",
    "\n",
    "var response = await httpClient.PostAsync(\"http://localhost:7001/PlaceOrder\",\n",
    "    new StringContent(\n",
    "        \"\"\"{\"ProductId\":\"12345\",\"Quantity\":2}\"\"\",\n",
    "        System.Text.Encoding.UTF8,\n",
    "        \"application/json\"\n",
    "    )\n",
    ");  \n",
    "response.EnsureSuccessStatusCode();\n",
    "var content = await response.Content.ReadAsStringAsync();\n",
    "content.DisplayAs(\"application/json\")"
   ]
  },
  {
   "cell_type": "code",
   "execution_count": 25,
   "metadata": {
    "polyglot_notebook": {
     "kernelName": "csharp"
    },
    "vscode": {
     "languageId": "polyglot-notebook"
    }
   },
   "outputs": [
    {
     "data": {
      "application/json": ""
     },
     "metadata": {},
     "output_type": "display_data"
    }
   ],
   "source": [
    "using System.Net.Http;\n",
    "\n",
    "var httpClient = new HttpClient();\n",
    "\n",
    "var response = await httpClient.GetAsync(\"http://localhost:7001/CheckOrderStatus/123\");\n",
    "response.EnsureSuccessStatusCode();\n",
    "var content = await response.Content.ReadAsStringAsync();\n",
    "content.DisplayAs(\"application/json\")"
   ]
  },
  {
   "cell_type": "code",
   "execution_count": 26,
   "metadata": {
    "polyglot_notebook": {
     "kernelName": "csharp"
    },
    "vscode": {
     "languageId": "polyglot-notebook"
    }
   },
   "outputs": [],
   "source": [
    "app.StopAsync();"
   ]
  }
 ],
 "metadata": {
  "kernelspec": {
   "display_name": ".NET (C#)",
   "language": "C#",
   "name": ".net-csharp"
  },
  "language_info": {
   "name": "python"
  },
  "polyglot_notebook": {
   "kernelInfo": {
    "defaultKernelName": "csharp",
    "items": [
     {
      "aliases": [],
      "name": "csharp"
     }
    ]
   }
  }
 },
 "nbformat": 4,
 "nbformat_minor": 5
}
