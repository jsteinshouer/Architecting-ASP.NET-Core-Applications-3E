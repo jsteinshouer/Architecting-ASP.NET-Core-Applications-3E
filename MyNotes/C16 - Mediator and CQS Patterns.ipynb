{
 "cells": [
  {
   "cell_type": "markdown",
   "id": "9234b682",
   "metadata": {},
   "source": [
    "# Chapter 16 - Mediator and CQS Patterns\n",
    "\n",
    "## Vertical Slice Architecture\n",
    "\n",
    "- Each layer creates a specific feature\n",
    "- Goal is to encapsulate featyres together\n",
    "- CQS (Commands and Queries) and Mediator patterns work well for this purpose\n"
   ]
  },
  {
   "cell_type": "markdown",
   "id": "31f90aa0",
   "metadata": {},
   "source": [
    "\n",
    "## The Mediator Pattern\n",
    "\n",
    "- Behavioral pattern that controlls how objects interact with one another\n",
    "    * Breaks tight coupling between components\n",
    "- Object (\"colleagues\") use mediators (middle man) to communicate"
   ]
  },
  {
   "cell_type": "code",
   "execution_count": 1,
   "id": "173e5d58",
   "metadata": {
    "language_info": {
     "name": "polyglot-notebook"
    },
    "polyglot_notebook": {
     "kernelName": "mermaid"
    }
   },
   "outputs": [
    {
     "data": {
      "text/html": [
       "<div class=\"mermaidMarkdownContainer\" style=\"background-color:white\">\r\n",
       "<link rel=\"stylesheet\" href=\"https://cdnjs.cloudflare.com/ajax/libs/font-awesome/6.2.0/css/all.min.css\">\r\n",
       "<div id=\"8fb5305a05fb47cdab67241c0d173ce2\"></div>\r\n",
       "<script type=\"module\">\r\n",
       "\r\n",
       "            import mermaid from 'https://cdn.jsdelivr.net/npm/mermaid@10.6.1/dist/mermaid.esm.min.mjs';\r\n",
       "            let renderTarget = document.getElementById('8fb5305a05fb47cdab67241c0d173ce2');\r\n",
       "            try {\r\n",
       "                const {svg, bindFunctions} = await mermaid.mermaidAPI.render( \r\n",
       "                    'mermaid_8fb5305a05fb47cdab67241c0d173ce2', \r\n",
       "                    `classDiagram\r\n",
       "    direction LR\r\n",
       "    class Consumer\r\n",
       "    class IMediator {\r\n",
       "        <<Interface>>\r\n",
       "        + Send(Message) void\r\n",
       "    }\r\n",
       "    class IColleague {\r\n",
       "        <<Interface>>\r\n",
       "        + Receive(Message) void\r\n",
       "    }\r\n",
       "    Consumer-->IMediator\r\n",
       "    IMediator-->IColleague`);\r\n",
       "                renderTarget.innerHTML = svg;\r\n",
       "                bindFunctions?.(renderTarget);\r\n",
       "            }\r\n",
       "            catch (error) {\r\n",
       "                console.log(error);\r\n",
       "            }\r\n",
       "</script>\r\n",
       "</div>\r\n"
      ]
     },
     "metadata": {},
     "output_type": "display_data"
    }
   ],
   "source": [
    "classDiagram\n",
    "    direction LR\n",
    "    class Consumer\n",
    "    class IMediator {\n",
    "        <<Interface>>\n",
    "        + Send(Message) void\n",
    "    }\n",
    "    class IColleague {\n",
    "        <<Interface>>\n",
    "        + Receive(Message) void\n",
    "    }\n",
    "    Consumer-->IMediator\n",
    "    IMediator-->IColleague"
   ]
  },
  {
   "cell_type": "markdown",
   "id": "60d12c9e",
   "metadata": {},
   "source": [
    "### Mediator Namespace"
   ]
  },
  {
   "cell_type": "code",
   "execution_count": 2,
   "id": "f392e5c0",
   "metadata": {},
   "outputs": [],
   "source": [
    "public interface IMediator\n",
    "{\n",
    "    void Send(Message message);\n",
    "}\n",
    "\n",
    "public interface IColleague\n",
    "{\n",
    "    string Name { get; }\n",
    "    void ReceiveMessage(Message message);\n",
    "}\n",
    "\n",
    "public record class Message(IColleague Sender, string Content);"
   ]
  },
  {
   "cell_type": "code",
   "execution_count": 3,
   "id": "2096ed0b",
   "metadata": {},
   "outputs": [],
   "source": [
    "public class ConcreteMediator : IMediator\n",
    "{\n",
    "    private readonly List<IColleague> _colleagues;\n",
    "    public ConcreteMediator(params IColleague[] colleagues)\n",
    "    {\n",
    "        ArgumentNullException.ThrowIfNull(colleagues);\n",
    "        _colleagues = new List<IColleague>(colleagues);\n",
    "    }\n",
    "\n",
    "    public void Send(Message message)\n",
    "    {\n",
    "        foreach (var colleague in _colleagues)\n",
    "        {\n",
    "            colleague.ReceiveMessage(message);\n",
    "        }\n",
    "    }\n",
    "}\n",
    "\n",
    "public class ConcreteColleague : IColleague\n",
    "{\n",
    "    private readonly IMessageWriter<Message> _messageWriter;\n",
    "    public ConcreteColleague(string name, IMessageWriter<Message> messageWriter)\n",
    "    {\n",
    "        Name = name ?? throw new ArgumentNullException(nameof(name));\n",
    "        _messageWriter = messageWriter ?? throw new ArgumentNullException(nameof(messageWriter));\n",
    "    }\n",
    "\n",
    "    public string Name { get; }\n",
    "\n",
    "    public void ReceiveMessage(Message message)\n",
    "    {\n",
    "        _messageWriter.Write(message);\n",
    "    }\n",
    "}\n",
    "\n",
    "public interface IMessageWriter<Tmessage>\n",
    "{\n",
    "    void Write(Tmessage message);\n",
    "} \n"
   ]
  },
  {
   "cell_type": "code",
   "execution_count": 4,
   "id": "a3e9da61",
   "metadata": {},
   "outputs": [
    {
     "data": {
      "text/plain": [
       "[Colleague 1]: Hello from Colleague 1!\r\n",
       "[Colleague 2]: Hello from Colleague 2!\r\n"
      ]
     },
     "metadata": {},
     "output_type": "display_data"
    },
    {
     "data": {
      "text/plain": [
       "[Colleague 1]: Hello from Colleague 1!\r\n",
       "[Colleague 2]: Hello from Colleague 2!\r\n"
      ]
     },
     "metadata": {},
     "output_type": "display_data"
    }
   ],
   "source": [
    "public class MessageWriter : IMessageWriter<Message>\n",
    "{\n",
    "    public StringBuilder Output { get; } = new StringBuilder();\n",
    "\n",
    "    public void Write(Message message)\n",
    "    {\n",
    "        Output.AppendLine($\"[{message.Sender.Name}]: {message.Content}\");\n",
    "    }\n",
    "}\n",
    "\n",
    "var messageWriter1 = new MessageWriter();\n",
    "var colleague1 = new ConcreteColleague(\"Colleague 1\", messageWriter1);\n",
    "var messageWriter2 = new MessageWriter();\n",
    "var colleague2 = new ConcreteColleague(\"Colleague 2\", messageWriter2);\n",
    "\n",
    "var mediator = new ConcreteMediator(colleague1, colleague2);\n",
    "\n",
    "mediator.Send(new Message(colleague1, \"Hello from Colleague 1!\"));\n",
    "mediator.Send(new Message(colleague2, \"Hello from Colleague 2!\"));\n",
    "messageWriter1.Output.ToString().Display();\n",
    "messageWriter2.Output.ToString().Display();"
   ]
  },
  {
   "cell_type": "markdown",
   "id": "eaa6c706",
   "metadata": {},
   "source": [
    "See [C16\\Mediator\\test\\Mediator.Tests\\ChatRoomTest.cs](..\\C16\\Mediator\\test\\Mediator.Tests\\ChatRoomTest.cs) for more realistic example."
   ]
  },
  {
   "cell_type": "markdown",
   "id": "8ceaf7bb",
   "metadata": {},
   "source": [
    "## The CQS Pattern\n",
    "\n",
    "- Command-Query Seperation\n",
    "- Commands change the state of an object or system\n",
    "- Queries return values without changing the state\n",
    "- CQRS\n",
    "    * Extension of CQS - Discussed more in microservices\n",
    "    * Often paired with event-driven architectures\n",
    "\n"
   ]
  },
  {
   "cell_type": "markdown",
   "id": "2338e84f",
   "metadata": {},
   "source": [
    "### Simple Example: CQS Pattern in C#\n",
    "\n",
    "Below is a minimal example demonstrating the Command-Query Separation (CQS) pattern.\n",
    "\n",
    "- **Command**: Changes state (e.g., adds an item).\n",
    "- **Query**: Returns data without changing state."
   ]
  },
  {
   "cell_type": "code",
   "execution_count": 5,
   "metadata": {
    "language_info": {
     "name": "polyglot-notebook"
    },
    "polyglot_notebook": {
     "kernelName": "csharp"
    }
   },
   "outputs": [
    {
     "data": {
      "text/plain": [
       "Apple, Banana"
      ]
     },
     "metadata": {},
     "output_type": "display_data"
    }
   ],
   "source": [
    "public class ItemRepository\n",
    "{\n",
    "    private readonly List<string> _items = new();\n",
    "\n",
    "    // Command: changes state\n",
    "    public void AddItem(string item)\n",
    "    {\n",
    "        _items.Add(item);\n",
    "    }\n",
    "\n",
    "    // Query: returns data, does not change state\n",
    "    public IReadOnlyList<string> GetItems() => _items.AsReadOnly();\n",
    "}\n",
    "\n",
    "// Usage example:\n",
    "var repo = new ItemRepository();\n",
    "repo.AddItem(\"Apple\"); // Command\n",
    "repo.AddItem(\"Banana\"); // Command\n",
    "var items = repo.GetItems(); // Query\n",
    "string.Join(\", \", items).Display(); // Output: Apple, Banana"
   ]
  },
  {
   "cell_type": "markdown",
   "id": "6e46161f",
   "metadata": {},
   "source": [
    "### Combining CQS with the Mediator Pattern\n",
    "\n",
    "The Mediator pattern can be used to decouple the sender of a command or query from its handler. In a typical CQS+Mediator setup:\n",
    "- **Commands** and **Queries** are represented as separate request objects.\n",
    "- A **Mediator** receives these requests and dispatches them to the appropriate handler.\n",
    "- This approach is common in modern .NET applications using libraries like MediatR.\n",
    "\n",
    "Below is a simple example combining both patterns."
   ]
  },
  {
   "cell_type": "code",
   "execution_count": 6,
   "metadata": {
    "language_info": {
     "name": "polyglot-notebook"
    },
    "polyglot_notebook": {
     "kernelName": "csharp"
    }
   },
   "outputs": [
    {
     "data": {
      "text/plain": [
       "Orange, Pear"
      ]
     },
     "metadata": {},
     "output_type": "display_data"
    }
   ],
   "source": [
    "// Command\n",
    "public record AddItemCommand(string Item);\n",
    "\n",
    "// Query\n",
    "public record GetItemsQuery();\n",
    "\n",
    "// Handler interfaces\n",
    "public interface ICommandHandler<TCommand>\n",
    "{\n",
    "    void Handle(TCommand command);\n",
    "}\n",
    "\n",
    "public interface IQueryHandler<TQuery, TResult>\n",
    "{\n",
    "    TResult Handle(TQuery query);\n",
    "}\n",
    "\n",
    "// Repository (same as before)\n",
    "public class ItemRepository2\n",
    "{\n",
    "    private readonly List<string> _items = new();\n",
    "    public void Add(string item) => _items.Add(item);\n",
    "    public IReadOnlyList<string> GetAll() => _items.AsReadOnly();\n",
    "}\n",
    "\n",
    "// Command Handler\n",
    "public class AddItemHandler : ICommandHandler<AddItemCommand>\n",
    "{\n",
    "    private readonly ItemRepository2 _repo;\n",
    "    public AddItemHandler(ItemRepository2 repo) => _repo = repo;\n",
    "    public void Handle(AddItemCommand command) => _repo.Add(command.Item);\n",
    "}\n",
    "\n",
    "// Query Handler\n",
    "public class GetItemsHandler : IQueryHandler<GetItemsQuery, IReadOnlyList<string>>\n",
    "{\n",
    "    private readonly ItemRepository2 _repo;\n",
    "    public GetItemsHandler(ItemRepository2 repo) => _repo = repo;\n",
    "    public IReadOnlyList<string> Handle(GetItemsQuery query) => _repo.GetAll();\n",
    "}\n",
    "\n",
    "// Simple Mediator\n",
    "public class SimpleMediator\n",
    "{\n",
    "    private readonly AddItemHandler _addHandler;\n",
    "    private readonly GetItemsHandler _getHandler;\n",
    "    public SimpleMediator(AddItemHandler addHandler, GetItemsHandler getHandler)\n",
    "    {\n",
    "        _addHandler = addHandler;\n",
    "        _getHandler = getHandler;\n",
    "    }\n",
    "    public void Send(AddItemCommand command) => _addHandler.Handle(command);\n",
    "    public IReadOnlyList<string> Send(GetItemsQuery query) => _getHandler.Handle(query);\n",
    "}\n",
    "\n",
    "// Usage:\n",
    "var repo2 = new ItemRepository2();\n",
    "var mediator2 = new SimpleMediator(new AddItemHandler(repo2), new GetItemsHandler(repo2));\n",
    "mediator2.Send(new AddItemCommand(\"Orange\"));\n",
    "mediator2.Send(new AddItemCommand(\"Pear\"));\n",
    "var result = mediator2.Send(new GetItemsQuery());\n",
    "string.Join(\", \", result).Display(); // Output: Orange, Pear"
   ]
  },
  {
   "cell_type": "markdown",
   "id": "7cc4be66",
   "metadata": {},
   "source": [
    "See [C16/CQS/src/CQS/](../C16/CQS/src/CQS/) for more realistic example."
   ]
  },
  {
   "cell_type": "markdown",
   "id": "cfadfc86",
   "metadata": {},
   "source": [
    "## Using MediatR\n",
    "\n",
    "https://github.com/LuckyPennySoftware/MediatR\n",
    "\n",
    "```\n",
    "dotnet add package MediatR\n",
    "```\n",
    "\n",
    "Supports in-process communication through messaging. It suuports request/response flow though command, queries, notifications, and events"
   ]
  },
  {
   "cell_type": "markdown",
   "id": "d3aa7f10",
   "metadata": {},
   "source": [
    "### Packages / Dependencies"
   ]
  },
  {
   "cell_type": "code",
   "execution_count": 1,
   "id": "10c5ebba",
   "metadata": {},
   "outputs": [
    {
     "data": {
      "text/html": [
       "<div><div></div><div></div><div><strong>Installed Packages</strong><ul><li><span>Microsoft.EntityFrameworkCore, 9.0.2</span></li><li><span>Microsoft.EntityFrameworkCore.InMemory, 9.0.2</span></li></ul></div></div>"
      ]
     },
     "metadata": {},
     "output_type": "display_data"
    }
   ],
   "source": [
    "#r \"nuget: Microsoft.EntityFrameworkCore, 9.0.2\"\n",
    "#r \"nuget: Microsoft.EntityFrameworkCore.InMemory, 9.0.2\""
   ]
  },
  {
   "cell_type": "code",
   "execution_count": 2,
   "id": "d78aa0de",
   "metadata": {},
   "outputs": [
    {
     "data": {
      "text/html": [
       "<div><div></div><div></div><div><strong>Installed Packages</strong><ul><li><span>microsoft.extensions.dependencyinjection, 9.0.2</span></li><li><span>microsoft.extensions.dependencyinjection.abstractions, 9.0.2</span></li></ul></div></div>"
      ]
     },
     "metadata": {},
     "output_type": "display_data"
    }
   ],
   "source": [
    "#r \"nuget: Microsoft.Extensions.DependencyInjection, 9.0.2\"\n",
    "#r \"nuget: Microsoft.Extensions.DependencyInjection.Abstractions, 9.0.2\""
   ]
  },
  {
   "cell_type": "code",
   "execution_count": 3,
   "id": "4ae4ba56",
   "metadata": {},
   "outputs": [
    {
     "data": {
      "text/html": [
       "<div><div></div><div></div><div><strong>Installed Packages</strong><ul><li><span>MediatR, 13.0.0</span></li></ul></div></div>"
      ]
     },
     "metadata": {},
     "output_type": "display_data"
    }
   ],
   "source": [
    "#r \"nuget: MediatR\""
   ]
  },
  {
   "cell_type": "markdown",
   "id": "47a0e8be",
   "metadata": {},
   "source": [
    "### Core"
   ]
  },
  {
   "cell_type": "code",
   "execution_count": 4,
   "id": "62155038",
   "metadata": {},
   "outputs": [],
   "source": [
    "using System.Threading;\n",
    "\n",
    "public class NegativeValueException : Exception\n",
    "{\n",
    "    public NegativeValueException(int amountToAddOrRevove)\n",
    "        : base($\"The amount to add or remove can't be negative. Provided: {amountToAddOrRevove}.\")\n",
    "    {\n",
    "\n",
    "    }\n",
    "}\n",
    "\n",
    "public class NotEnoughStockException : Exception\n",
    "{\n",
    "    public NotEnoughStockException(int quantityInStock, int amountToRemove)\n",
    "        : base($\"You cannot remove {amountToRemove} item(s) when there is only {quantityInStock} item(s) left.\")\n",
    "    {\n",
    "        QuantityInStock = quantityInStock;\n",
    "        AmountToRemove = amountToRemove;\n",
    "    }\n",
    "\n",
    "    public int QuantityInStock { get; }\n",
    "    public int AmountToRemove { get; }\n",
    "}\n",
    "\n",
    "public class ProductNotFoundException : Exception\n",
    "{\n",
    "    public ProductNotFoundException(int productId)\n",
    "        : base($\"The product '{productId}' was not found.\")\n",
    "    {\n",
    "        ProductId = productId;\n",
    "    }\n",
    "\n",
    "    public int ProductId { get; }\n",
    "}\n",
    "\n"
   ]
  },
  {
   "cell_type": "markdown",
   "id": "b3e5f4c3",
   "metadata": {},
   "source": [
    "### Core.Entities"
   ]
  },
  {
   "cell_type": "code",
   "execution_count": 5,
   "id": "ff3d1657",
   "metadata": {},
   "outputs": [],
   "source": [
    "\n",
    "\n",
    "// Core.Entities namespace\n",
    "public class Product\n",
    "{\n",
    "    public Product(string name, int quantityInStock, int? id = null)\n",
    "    {\n",
    "        Name = name ?? throw new ArgumentNullException(nameof(name));\n",
    "        QuantityInStock = quantityInStock;\n",
    "        Id = id;\n",
    "    }\n",
    "\n",
    "    public int? Id { get; init; }\n",
    "    public string Name { get; init; }\n",
    "    public int QuantityInStock { get; private set; }\n",
    "\n",
    "    public void AddStock(int amount)\n",
    "    {\n",
    "        if (amount == 0) { return; }\n",
    "        if (amount < 0) { throw new NegativeValueException(amount); }\n",
    "        QuantityInStock += amount;\n",
    "    }\n",
    "\n",
    "    public void RemoveStock(int amount)\n",
    "    {\n",
    "        if (amount == 0) { return; }\n",
    "        if (amount < 0) { throw new NegativeValueException(amount); }\n",
    "        if (amount > QuantityInStock) { throw new NotEnoughStockException(QuantityInStock, amount); }\n",
    "        QuantityInStock -= amount;\n",
    "    }\n",
    "}\n"
   ]
  },
  {
   "cell_type": "markdown",
   "id": "706a3f44",
   "metadata": {},
   "source": [
    "### Core.Repositories"
   ]
  },
  {
   "cell_type": "code",
   "execution_count": 6,
   "id": "808a79f1",
   "metadata": {},
   "outputs": [],
   "source": [
    "\n",
    "// using Core.Entities\n",
    "\n",
    "public interface IProductRepository\n",
    "{\n",
    "    Task<IEnumerable<Product>> AllAsync(CancellationToken cancellationToken);\n",
    "    Task<Product?> FindByIdAsync(int productId, CancellationToken cancellationToken);\n",
    "    Task CreateAsync(Product product, CancellationToken cancellationToken);\n",
    "    Task UpdateAsync(Product product, CancellationToken cancellationToken);\n",
    "    Task DeleteAsync(int productId, CancellationToken cancellationToken);\n",
    "}"
   ]
  },
  {
   "cell_type": "markdown",
   "id": "21b58dc6",
   "metadata": {},
   "source": [
    "### Core.UseCases"
   ]
  },
  {
   "cell_type": "code",
   "execution_count": 7,
   "id": "54049edc",
   "metadata": {},
   "outputs": [],
   "source": [
    "\n",
    "//using Core.Repositories;\n",
    "using MediatR;\n",
    "\n",
    "// Core/UseCases/AddStocks.cs\n",
    "public class AddStocks\n",
    "{\n",
    "    public class Command : IRequest<int>\n",
    "    {\n",
    "        public int ProductId { get; set; }\n",
    "        public int Amount { get; set; }\n",
    "    }\n",
    "\n",
    "    public class Handler : IRequestHandler<Command, int>\n",
    "    {\n",
    "        private readonly IProductRepository _productRepository;\n",
    "        public Handler(IProductRepository productRepository)\n",
    "        {\n",
    "            _productRepository = productRepository ?? throw new ArgumentNullException(nameof(productRepository));\n",
    "        }\n",
    "\n",
    "        public async Task<int> Handle(Command request, CancellationToken cancellationToken)\n",
    "        {\n",
    "            var product = await _productRepository.FindByIdAsync(request.ProductId, cancellationToken);\n",
    "            if (product == null)\n",
    "            {\n",
    "                throw new ProductNotFoundException(request.ProductId);\n",
    "            }\n",
    "            product.AddStock(request.Amount);\n",
    "            await _productRepository.UpdateAsync(product, cancellationToken);\n",
    "            return product.QuantityInStock;\n",
    "        }\n",
    "    }\n",
    "}\n",
    "\n",
    "// Core/UseCases/RemoveStocks.cs\n",
    "public class RemoveStocks\n",
    "{\n",
    "    public class Command : IRequest<int>\n",
    "    {\n",
    "        public int ProductId { get; set; }\n",
    "        public int Amount { get; set; }\n",
    "    }\n",
    "\n",
    "    public class Handler : IRequestHandler<Command, int>\n",
    "    {\n",
    "        private readonly IProductRepository _productRepository;\n",
    "        public Handler(IProductRepository productRepository)\n",
    "        {\n",
    "            _productRepository = productRepository ?? throw new ArgumentNullException(nameof(productRepository));\n",
    "        }\n",
    "\n",
    "        public async Task<int> Handle(Command request, CancellationToken cancellationToken)\n",
    "        {\n",
    "            var product = await _productRepository.FindByIdAsync(request.ProductId, cancellationToken);\n",
    "            if (product == null)\n",
    "            {\n",
    "                throw new ProductNotFoundException(request.ProductId);\n",
    "            }\n",
    "            product.RemoveStock(request.Amount);\n",
    "            await _productRepository.UpdateAsync(product, cancellationToken);\n",
    "            return product.QuantityInStock;\n",
    "        }\n",
    "    }\n",
    "}"
   ]
  },
  {
   "cell_type": "markdown",
   "id": "60976731",
   "metadata": {},
   "source": [
    "### Infrastructure.Data.EF"
   ]
  },
  {
   "cell_type": "code",
   "execution_count": 8,
   "id": "d4176a6b",
   "metadata": {},
   "outputs": [],
   "source": [
    "\n",
    "//using Core.Entities;\n",
    "using Microsoft.Extensions.DependencyInjection;\n",
    "using Microsoft.Extensions.DependencyInjection.Extensions;\n",
    "using Microsoft.EntityFrameworkCore;\n",
    "\n",
    "\n",
    "public class ProductContext : DbContext\n",
    "{\n",
    "    public ProductContext(DbContextOptions options)\n",
    "        : base(options)\n",
    "    {\n",
    "    }\n",
    "\n",
    "    public DbSet<Product> Products => Set<Product>();\n",
    "}\n",
    "\n",
    "// using Core;\n",
    "// using Core.Entities;\n",
    "// using Core.Repositories;\n",
    "// using Microsoft.EntityFrameworkCore;\n",
    "\n",
    "public class ProductRepository : IProductRepository\n",
    "{\n",
    "    private readonly ProductContext _db;\n",
    "    public ProductRepository(ProductContext db)\n",
    "    {\n",
    "        _db = db ?? throw new ArgumentNullException(nameof(db));\n",
    "    }\n",
    "\n",
    "    public async Task<IEnumerable<Product>> AllAsync(CancellationToken cancellationToken)\n",
    "    {\n",
    "        return (await _db.Products.ToArrayAsync(cancellationToken));\n",
    "    }\n",
    "\n",
    "    public async Task CreateAsync(Product product, CancellationToken cancellationToken)\n",
    "    {\n",
    "        _db.Products.Add(product);\n",
    "        await _db.SaveChangesAsync(cancellationToken);\n",
    "    }\n",
    "\n",
    "    public async Task DeleteAsync(int productId, CancellationToken cancellationToken)\n",
    "    {\n",
    "        var product = await FindByIdAsync(productId, cancellationToken);\n",
    "        if (product == null)\n",
    "        {\n",
    "            throw new ProductNotFoundException(productId);\n",
    "        }\n",
    "        _db.Products.Remove(product);\n",
    "        await _db.SaveChangesAsync(cancellationToken);\n",
    "    }\n",
    "\n",
    "    public async Task<Product?> FindByIdAsync(int productId, CancellationToken cancellationToken)\n",
    "    {\n",
    "        var product = await _db.Products.FindAsync(new object[] { productId }, cancellationToken);\n",
    "        return product;\n",
    "    }\n",
    "\n",
    "    public async Task UpdateAsync(Product product, CancellationToken cancellationToken)\n",
    "    {\n",
    "        _db.Entry(product).State = EntityState.Modified;\n",
    "        await _db.SaveChangesAsync(cancellationToken);\n",
    "    }\n",
    "}\n",
    "\n"
   ]
  },
  {
   "cell_type": "markdown",
   "id": "82c40c5b",
   "metadata": {},
   "source": [
    "### Web"
   ]
  },
  {
   "cell_type": "code",
   "execution_count": 9,
   "id": "2d136c72",
   "metadata": {},
   "outputs": [],
   "source": [
    "string[] args = {\"--urls\",\"http://localhost:7000\"};"
   ]
  },
  {
   "cell_type": "code",
   "execution_count": 26,
   "id": "5efca4d4",
   "metadata": {},
   "outputs": [
    {
     "name": "stdout",
     "output_type": "stream",
     "text": [
      "info: Microsoft.Hosting.Lifetime[14]\n",
      "      Now listening on: http://localhost:7000\n",
      "info: Microsoft.Hosting.Lifetime[0]\n",
      "      Application started. Press Ctrl+C to shut down.\n",
      "info: Microsoft.Hosting.Lifetime[0]\n",
      "      Hosting environment: Production\n",
      "info: Microsoft.Hosting.Lifetime[0]\n",
      "      Content root path: c:\\Users\\jason\\training\\dotnet\\Architecting-ASP.NET-Core-Applications-3E\\MyNotes\n"
     ]
    }
   ],
   "source": [
    "// using Core;\n",
    "// using Core.Entities;\n",
    "// using Core.Repositories;\n",
    "// using Core.UseCases;\n",
    "// using Infrastructure.Data.EF;\n",
    "\n",
    "\n",
    "#r \"C:\\Program Files\\dotnet\\shared\\Microsoft.AspNetCore.App\\9.0.2\\Microsoft.AspNetCore.dll\"\n",
    "#r \"C:\\Program Files\\dotnet\\shared\\Microsoft.AspNetCore.App\\9.0.2\\Microsoft.Extensions.Hosting.dll\"\n",
    "#r \"C:\\Program Files\\dotnet\\shared\\Microsoft.AspNetCore.App\\9.0.2\\Microsoft.AspNetCore.Mvc.ViewFeatures.dll\"\n",
    "#r \"C:\\Program Files\\dotnet\\shared\\Microsoft.AspNetCore.App\\9.0.2\\Microsoft.AspNetCore.Diagnostics.dll\"\n",
    "#r \"C:\\Program Files\\dotnet\\shared\\Microsoft.AspNetCore.App\\9.0.2\\Microsoft.AspNetCore.Http.dll\"\n",
    "#r \"C:\\Program Files\\dotnet\\shared\\Microsoft.AspNetCore.App\\9.0.2\\Microsoft.AspNetCore.Http.Results.dll\"\n",
    "// #r \"C:\\Program Files\\dotnet\\shared\\Microsoft.AspNetCore.App\\9.0.2\\Microsoft.Extensions.DependencyInjection.dll\"\n",
    "// #r \"C:\\Program Files\\dotnet\\shared\\Microsoft.AspNetCore.App\\9.0.2\\Microsoft.Extensions.DependencyInjection.Abstractions.dll\"\n",
    "#r \"C:\\Program Files\\dotnet\\shared\\Microsoft.AspNetCore.App\\9.0.2\\Microsoft.Extensions.Logging.Abstractions.dll\"\n",
    "using MediatR;\n",
    "using Microsoft.EntityFrameworkCore;\n",
    "using Microsoft.EntityFrameworkCore.Diagnostics;\n",
    "using Microsoft.AspNetCore.Http;\n",
    "using Microsoft.AspNetCore.Http.HttpResults;\n",
    "using Microsoft.AspNetCore.Routing;\n",
    "using Microsoft.AspNetCore.Builder;\n",
    "using Microsoft.Extensions.DependencyInjection;\n",
    "using Microsoft.Extensions.DependencyInjection.Extensions;\n",
    "using Microsoft.Extensions.Logging;\n",
    "using System.IO;\n",
    "\n",
    "try{\n",
    "    if (app != null)\n",
    "    {\n",
    "        await app.StopAsync();\n",
    "    }\n",
    "}\n",
    "catch (Exception ex)\n",
    "{\n",
    "    Console.WriteLine($\"Error Stopping application: {ex.Message}\");\n",
    "}\n",
    "\n",
    "var builder = WebApplication.CreateBuilder(args);\n",
    "\n",
    "\n",
    "builder.Services\n",
    "    // Core Layer\n",
    "    .AddMediatR(cfg => cfg.RegisterServicesFromAssemblyContaining<NotEnoughStockException>())\n",
    "\n",
    "    // Infrastructure Layer (mapping Core to Infrastructure.Data.EF)\n",
    "    .AddScoped<ProductContext>()\n",
    "    .AddScoped<IProductRepository, ProductRepository>()\n",
    "    //Manual registration of MediatR handlers - only needed for workbooks\n",
    "    .AddTransient<MediatR.IRequestHandler<AddStocks.Command, Int32>,AddStocks.Handler>()\n",
    "    .AddTransient<MediatR.IRequestHandler<RemoveStocks.Command, Int32>,RemoveStocks.Handler>()\n",
    "\n",
    "    .AddDbContext<Microsoft.EntityFrameworkCore.DbContext>(options => options\n",
    "        .UseInMemoryDatabase(\"ProductContextMemoryDB\")\n",
    "        .ConfigureWarnings(builder => builder.Ignore(InMemoryEventId.TransactionIgnoredWarning))\n",
    "    )\n",
    ";\n",
    "\n",
    "var app = builder.Build();\n",
    "app.MapGet(\"/products\", async (IProductRepository productRepository, CancellationToken cancellationToken) =>\n",
    "{\n",
    "    var products = await productRepository.AllAsync(cancellationToken);\n",
    "    return products.Select(p => new\n",
    "    {\n",
    "        p.Id,\n",
    "        p.Name,\n",
    "        p.QuantityInStock\n",
    "    });\n",
    "});\n",
    "app.MapPost(\"/products/{productId:int}/add-stocks\", async (int productId, AddStocks.Command command, IMediator mediator, CancellationToken cancellationToken) =>\n",
    "{\n",
    "    try\n",
    "    {\n",
    "        command.ProductId = productId;\n",
    "        var quantityInStock = await mediator.Send(command, cancellationToken);\n",
    "        var stockLevel = new StockLevel(quantityInStock);\n",
    "        return Results.Ok(stockLevel);\n",
    "    }\n",
    "    catch (ProductNotFoundException ex)\n",
    "    {\n",
    "        return Results.NotFound(new\n",
    "        {\n",
    "            ex.Message,\n",
    "            productId,\n",
    "        });\n",
    "    }\n",
    "    catch (Exception ex) // Catch all other exceptions\n",
    "    {\n",
    "        return Results.InternalServerError(new\n",
    "        {\n",
    "            ex.Message\n",
    "        });\n",
    "    }\n",
    "});\n",
    "app.MapPost(\"/products/{productId:int}/remove-stocks\", async (int productId, RemoveStocks.Command command, IMediator mediator, CancellationToken cancellationToken) =>\n",
    "{\n",
    "    try\n",
    "    {\n",
    "        command.ProductId = productId;\n",
    "        var quantityInStock = await mediator.Send(command, cancellationToken);\n",
    "        var stockLevel = new StockLevel(quantityInStock);\n",
    "        return Results.Ok(stockLevel);\n",
    "    }\n",
    "    catch (NotEnoughStockException ex)\n",
    "    {\n",
    "        return Results.Conflict(new\n",
    "        {\n",
    "            ex.Message,\n",
    "            ex.AmountToRemove,\n",
    "            ex.QuantityInStock\n",
    "        });\n",
    "    }\n",
    "    catch (ProductNotFoundException ex)\n",
    "    {\n",
    "        return Results.NotFound(new\n",
    "        {\n",
    "            ex.Message,\n",
    "            productId,\n",
    "        });\n",
    "    }\n",
    "});\n",
    "\n",
    "using (var seedScope = app.Services.CreateScope())\n",
    "{\n",
    "    var db = seedScope.ServiceProvider.GetRequiredService<ProductContext>();\n",
    "    await ProductSeeder.SeedAsync(db);\n",
    "}\n",
    "\n",
    "var startTask = app.RunAsync();\n",
    "\n",
    "internal static class ProductSeeder\n",
    "{\n",
    "    public static Task SeedAsync(ProductContext db)\n",
    "    {\n",
    "        db.Database.EnsureCreated();\n",
    "        if (db.Products.Any())  \n",
    "        {\n",
    "            return Task.CompletedTask; // No need to seed if products already exist\n",
    "        }\n",
    "        \n",
    "        db.Products.Add(new Product(\n",
    "            id: 1,\n",
    "            name: \"Banana\",\n",
    "            quantityInStock: 50\n",
    "        ));\n",
    "        db.Products.Add(new Product(\n",
    "            id: 2,\n",
    "            name: \"Apple\",\n",
    "            quantityInStock: 20\n",
    "        ));\n",
    "        db.Products.Add(new Product(\n",
    "            id: 3,\n",
    "            name: \"Habanero Pepper\",\n",
    "            quantityInStock: 10\n",
    "        ));\n",
    "        return db.SaveChangesAsync();\n",
    "    }\n",
    "}\n",
    "\n",
    "public record class StockLevel(int QuantityInStock);\n"
   ]
  },
  {
   "cell_type": "code",
   "execution_count": 22,
   "id": "58f1fdf5",
   "metadata": {},
   "outputs": [
    {
     "data": {
      "text/html": [
       "<details open=\"open\" class=\"dni-treeview\"><summary><span class=\"dni-code-hint\"><code>StatusCode: 200, ReasonPhrase: &#39;OK&#39;, Version: 1.1, Content: System.Net.Http.HttpConnectionResponseContent, Headers:\\r\\n{\\r\\n  Date: Fri, 18 Jul 2025 12:46:21 GMT\\r\\n  Server: Kestrel\\r\\n  Transfer-Encoding: chunked\\r\\n  Content-Type: application/json; charset=utf-8\\r\\n}</code></span></summary><div><table><thead><tr></tr></thead><tbody><tr><td>Version</td><td><details class=\"dni-treeview\"><summary><span class=\"dni-code-hint\"><code>1.1</code></span></summary><div><table><thead><tr></tr></thead><tbody><tr><td>Major</td><td><div class=\"dni-plaintext\"><pre>1</pre></div></td></tr><tr><td>Minor</td><td><div class=\"dni-plaintext\"><pre>1</pre></div></td></tr><tr><td>Build</td><td><div class=\"dni-plaintext\"><pre>-1</pre></div></td></tr><tr><td>Revision</td><td><div class=\"dni-plaintext\"><pre>-1</pre></div></td></tr><tr><td>MajorRevision</td><td><div class=\"dni-plaintext\"><pre>-1</pre></div></td></tr><tr><td>MinorRevision</td><td><div class=\"dni-plaintext\"><pre>-1</pre></div></td></tr></tbody></table></div></details></td></tr><tr><td>Content</td><td><details class=\"dni-treeview\"><summary><span class=\"dni-code-hint\"><code>System.Net.Http.HttpConnectionResponseContent</code></span></summary><div><table><thead><tr></tr></thead><tbody><tr><td>Headers</td><td><details class=\"dni-treeview\"><summary><span class=\"dni-code-hint\"><code>[ [Content-Type, System.String[]] ]</code></span></summary><div><table><thead><tr></tr></thead><tbody><tr><td>Allow</td><td><details class=\"dni-treeview\"><summary><span class=\"dni-code-hint\"><code>[  ]</code></span></summary><div><table><thead><tr></tr></thead><tbody><tr><td>Count</td><td><div class=\"dni-plaintext\"><pre>0</pre></div></td></tr><tr><td>IsReadOnly</td><td><div class=\"dni-plaintext\"><pre>False</pre></div></td></tr><tr><td><i>(values)</i></td><td><div class=\"dni-plaintext\"><pre>[  ]</pre></div></td></tr></tbody></table></div></details></td></tr><tr><td>ContentDisposition</td><td><div class=\"dni-plaintext\"><pre>&lt;null&gt;</pre></div></td></tr><tr><td>ContentEncoding</td><td><details class=\"dni-treeview\"><summary><span class=\"dni-code-hint\"><code>[  ]</code></span></summary><div><table><thead><tr></tr></thead><tbody><tr><td>Count</td><td><div class=\"dni-plaintext\"><pre>0</pre></div></td></tr><tr><td>IsReadOnly</td><td><div class=\"dni-plaintext\"><pre>False</pre></div></td></tr><tr><td><i>(values)</i></td><td><div class=\"dni-plaintext\"><pre>[  ]</pre></div></td></tr></tbody></table></div></details></td></tr><tr><td>ContentLanguage</td><td><details class=\"dni-treeview\"><summary><span class=\"dni-code-hint\"><code>[  ]</code></span></summary><div><table><thead><tr></tr></thead><tbody><tr><td>Count</td><td><div class=\"dni-plaintext\"><pre>0</pre></div></td></tr><tr><td>IsReadOnly</td><td><div class=\"dni-plaintext\"><pre>False</pre></div></td></tr><tr><td><i>(values)</i></td><td><div class=\"dni-plaintext\"><pre>[  ]</pre></div></td></tr></tbody></table></div></details></td></tr><tr><td>ContentLength</td><td><div class=\"dni-plaintext\"><pre>22</pre></div></td></tr><tr><td>ContentLocation</td><td><div class=\"dni-plaintext\"><pre>&lt;null&gt;</pre></div></td></tr><tr><td>ContentMD5</td><td><div class=\"dni-plaintext\"><pre>&lt;null&gt;</pre></div></td></tr><tr><td>ContentRange</td><td><div class=\"dni-plaintext\"><pre>&lt;null&gt;</pre></div></td></tr><tr><td>ContentType</td><td><details class=\"dni-treeview\"><summary><span class=\"dni-code-hint\"><code>application/json; charset=utf-8</code></span></summary><div><table><thead><tr></tr></thead><tbody><tr><td>CharSet</td><td><div class=\"dni-plaintext\"><pre>utf-8</pre></div></td></tr><tr><td>Parameters</td><td><details class=\"dni-treeview\"><summary><span class=\"dni-code-hint\"><code>[ charset=utf-8 ]</code></span></summary><div><table><thead><tr></tr></thead><tbody><tr><td>Count</td><td><div class=\"dni-plaintext\"><pre>1</pre></div></td></tr><tr><td>IsReadOnly</td><td><div class=\"dni-plaintext\"><pre>False</pre></div></td></tr><tr><td><i>(values)</i></td><td><table><thead><tr><th><i>index</i></th><th>value</th></tr></thead><tbody><tr><td>0</td><td><details class=\"dni-treeview\"><summary><span class=\"dni-code-hint\"><code>charset=utf-8</code></span></summary><div><table><thead><tr></tr></thead><tbody><tr><td>Name</td><td>charset</td></tr><tr><td>Value</td><td>utf-8</td></tr></tbody></table></div></details></td></tr></tbody></table></td></tr></tbody></table></div></details></td></tr><tr><td>MediaType</td><td><div class=\"dni-plaintext\"><pre>application/json</pre></div></td></tr></tbody></table></div></details></td></tr><tr><td>Expires</td><td><div class=\"dni-plaintext\"><pre>&lt;null&gt;</pre></div></td></tr><tr><td>LastModified</td><td><div class=\"dni-plaintext\"><pre>&lt;null&gt;</pre></div></td></tr><tr><td>NonValidated</td><td><details class=\"dni-treeview\"><summary><span class=\"dni-code-hint\"><code>[ [Content-Type, application/json; charset=utf-8], [Content-Length, 22] ]</code></span></summary><div><table><thead><tr></tr></thead><tbody><tr><td>Count</td><td><div class=\"dni-plaintext\"><pre>2</pre></div></td></tr><tr><td><i>(values)</i></td><td><table><thead><tr><th><i>index</i></th><th>value</th></tr></thead><tbody><tr><td>0</td><td><details class=\"dni-treeview\"><summary><span class=\"dni-code-hint\"><code>[Content-Type, application/json; charset=utf-8]</code></span></summary><div><table><thead><tr></tr></thead><tbody><tr><td>Key</td><td><div class=\"dni-plaintext\"><pre>Content-Type</pre></div></td></tr><tr><td>Value</td><td><details class=\"dni-treeview\"><summary><span class=\"dni-code-hint\"><code>[ application/json; charset=utf-8 ]</code></span></summary><div><table><thead><tr></tr></thead><tbody><tr><td>Count</td><td>1</td></tr><tr><td><i>(values)</i></td><td><div class=\"dni-plaintext\"><pre>[ application/json; charset=utf-8 ]</pre></div></td></tr></tbody></table></div></details></td></tr></tbody></table></div></details></td></tr><tr><td>1</td><td><details class=\"dni-treeview\"><summary><span class=\"dni-code-hint\"><code>[Content-Length, 22]</code></span></summary><div><table><thead><tr></tr></thead><tbody><tr><td>Key</td><td><div class=\"dni-plaintext\"><pre>Content-Length</pre></div></td></tr><tr><td>Value</td><td><details class=\"dni-treeview\"><summary><span class=\"dni-code-hint\"><code>[ 22 ]</code></span></summary><div><table><thead><tr></tr></thead><tbody><tr><td>Count</td><td>1</td></tr><tr><td><i>(values)</i></td><td><div class=\"dni-plaintext\"><pre>[ 22 ]</pre></div></td></tr></tbody></table></div></details></td></tr></tbody></table></div></details></td></tr></tbody></table></td></tr></tbody></table></div></details></td></tr><tr><td><i>(values)</i></td><td><table><thead><tr><th><i>index</i></th><th>value</th></tr></thead><tbody><tr><td>0</td><td><details class=\"dni-treeview\"><summary><span class=\"dni-code-hint\"><code>[Content-Type, System.String[]]</code></span></summary><div><table><thead><tr></tr></thead><tbody><tr><td>Key</td><td><div class=\"dni-plaintext\"><pre>Content-Type</pre></div></td></tr><tr><td>Value</td><td><div class=\"dni-plaintext\"><pre>[ application/json; charset=utf-8 ]</pre></div></td></tr></tbody></table></div></details></td></tr><tr><td>1</td><td><details class=\"dni-treeview\"><summary><span class=\"dni-code-hint\"><code>[Content-Length, System.String[]]</code></span></summary><div><table><thead><tr></tr></thead><tbody><tr><td>Key</td><td><div class=\"dni-plaintext\"><pre>Content-Length</pre></div></td></tr><tr><td>Value</td><td><div class=\"dni-plaintext\"><pre>[ 22 ]</pre></div></td></tr></tbody></table></div></details></td></tr></tbody></table></td></tr></tbody></table></div></details></td></tr></tbody></table></div></details></td></tr><tr><td>StatusCode</td><td><span>OK</span></td></tr><tr><td>ReasonPhrase</td><td><div class=\"dni-plaintext\"><pre>OK</pre></div></td></tr><tr><td>Headers</td><td><details class=\"dni-treeview\"><summary><span class=\"dni-code-hint\"><code>[ [Date, System.String[]], [Server, System.String[]], [Transfer-Encoding, System.String[]] ]</code></span></summary><div><table><thead><tr></tr></thead><tbody><tr><td>AcceptRanges</td><td><details class=\"dni-treeview\"><summary><span class=\"dni-code-hint\"><code>[  ]</code></span></summary><div><table><thead><tr></tr></thead><tbody><tr><td>Count</td><td><div class=\"dni-plaintext\"><pre>0</pre></div></td></tr><tr><td>IsReadOnly</td><td><div class=\"dni-plaintext\"><pre>False</pre></div></td></tr><tr><td><i>(values)</i></td><td><div class=\"dni-plaintext\"><pre>[  ]</pre></div></td></tr></tbody></table></div></details></td></tr><tr><td>Age</td><td><div class=\"dni-plaintext\"><pre>&lt;null&gt;</pre></div></td></tr><tr><td>ETag</td><td><div class=\"dni-plaintext\"><pre>&lt;null&gt;</pre></div></td></tr><tr><td>Location</td><td><div class=\"dni-plaintext\"><pre>&lt;null&gt;</pre></div></td></tr><tr><td>ProxyAuthenticate</td><td><details class=\"dni-treeview\"><summary><span class=\"dni-code-hint\"><code>[  ]</code></span></summary><div><table><thead><tr></tr></thead><tbody><tr><td>Count</td><td><div class=\"dni-plaintext\"><pre>0</pre></div></td></tr><tr><td>IsReadOnly</td><td><div class=\"dni-plaintext\"><pre>False</pre></div></td></tr><tr><td><i>(values)</i></td><td><i>(empty)</i></td></tr></tbody></table></div></details></td></tr><tr><td>RetryAfter</td><td><div class=\"dni-plaintext\"><pre>&lt;null&gt;</pre></div></td></tr><tr><td>Server</td><td><details class=\"dni-treeview\"><summary><span class=\"dni-code-hint\"><code>[ Kestrel ]</code></span></summary><div><table><thead><tr></tr></thead><tbody><tr><td>Count</td><td><div class=\"dni-plaintext\"><pre>1</pre></div></td></tr><tr><td>IsReadOnly</td><td><div class=\"dni-plaintext\"><pre>False</pre></div></td></tr><tr><td><i>(values)</i></td><td><table><thead><tr><th><i>index</i></th><th>value</th></tr></thead><tbody><tr><td>0</td><td><details class=\"dni-treeview\"><summary><span class=\"dni-code-hint\"><code>Kestrel</code></span></summary><div><table><thead><tr></tr></thead><tbody><tr><td>Product</td><td><details class=\"dni-treeview\"><summary><span class=\"dni-code-hint\"><code>Kestrel</code></span></summary><div><table><thead><tr></tr></thead><tbody><tr><td>Name</td><td><div class=\"dni-plaintext\"><pre>Kestrel</pre></div></td></tr><tr><td>Version</td><td><div class=\"dni-plaintext\"><pre>&lt;null&gt;</pre></div></td></tr></tbody></table></div></details></td></tr><tr><td>Comment</td><td><div class=\"dni-plaintext\"><pre>&lt;null&gt;</pre></div></td></tr></tbody></table></div></details></td></tr></tbody></table></td></tr></tbody></table></div></details></td></tr><tr><td>Vary</td><td><details class=\"dni-treeview\"><summary><span class=\"dni-code-hint\"><code>[  ]</code></span></summary><div><table><thead><tr></tr></thead><tbody><tr><td>Count</td><td><div class=\"dni-plaintext\"><pre>0</pre></div></td></tr><tr><td>IsReadOnly</td><td><div class=\"dni-plaintext\"><pre>False</pre></div></td></tr><tr><td><i>(values)</i></td><td><div class=\"dni-plaintext\"><pre>[  ]</pre></div></td></tr></tbody></table></div></details></td></tr><tr><td>WwwAuthenticate</td><td><details class=\"dni-treeview\"><summary><span class=\"dni-code-hint\"><code>[  ]</code></span></summary><div><table><thead><tr></tr></thead><tbody><tr><td>Count</td><td><div class=\"dni-plaintext\"><pre>0</pre></div></td></tr><tr><td>IsReadOnly</td><td><div class=\"dni-plaintext\"><pre>False</pre></div></td></tr><tr><td><i>(values)</i></td><td><i>(empty)</i></td></tr></tbody></table></div></details></td></tr><tr><td>CacheControl</td><td><div class=\"dni-plaintext\"><pre>&lt;null&gt;</pre></div></td></tr><tr><td>Connection</td><td><details class=\"dni-treeview\"><summary><span class=\"dni-code-hint\"><code>[  ]</code></span></summary><div><table><thead><tr></tr></thead><tbody><tr><td>Count</td><td><div class=\"dni-plaintext\"><pre>0</pre></div></td></tr><tr><td>IsReadOnly</td><td><div class=\"dni-plaintext\"><pre>False</pre></div></td></tr><tr><td><i>(values)</i></td><td><div class=\"dni-plaintext\"><pre>[  ]</pre></div></td></tr></tbody></table></div></details></td></tr><tr><td>ConnectionClose</td><td><div class=\"dni-plaintext\"><pre>&lt;null&gt;</pre></div></td></tr><tr><td>Date</td><td><span>2025-07-18 12:46:21Z</span></td></tr><tr><td>Pragma</td><td><details class=\"dni-treeview\"><summary><span class=\"dni-code-hint\"><code>[  ]</code></span></summary><div><table><thead><tr></tr></thead><tbody><tr><td>Count</td><td><div class=\"dni-plaintext\"><pre>0</pre></div></td></tr><tr><td>IsReadOnly</td><td><div class=\"dni-plaintext\"><pre>False</pre></div></td></tr><tr><td><i>(values)</i></td><td><i>(empty)</i></td></tr></tbody></table></div></details></td></tr><tr><td>Trailer</td><td><details class=\"dni-treeview\"><summary><span class=\"dni-code-hint\"><code>[  ]</code></span></summary><div><table><thead><tr></tr></thead><tbody><tr><td>Count</td><td><div class=\"dni-plaintext\"><pre>0</pre></div></td></tr><tr><td>IsReadOnly</td><td><div class=\"dni-plaintext\"><pre>False</pre></div></td></tr><tr><td><i>(values)</i></td><td><div class=\"dni-plaintext\"><pre>[  ]</pre></div></td></tr></tbody></table></div></details></td></tr><tr><td>TransferEncoding</td><td><details class=\"dni-treeview\"><summary><span class=\"dni-code-hint\"><code>[ chunked ]</code></span></summary><div><table><thead><tr></tr></thead><tbody><tr><td>Count</td><td><div class=\"dni-plaintext\"><pre>1</pre></div></td></tr><tr><td>IsReadOnly</td><td><div class=\"dni-plaintext\"><pre>False</pre></div></td></tr><tr><td><i>(values)</i></td><td><table><thead><tr><th><i>index</i></th><th>value</th></tr></thead><tbody><tr><td>0</td><td><details class=\"dni-treeview\"><summary><span class=\"dni-code-hint\"><code>chunked</code></span></summary><div><table><thead><tr></tr></thead><tbody><tr><td>Value</td><td><div class=\"dni-plaintext\"><pre>chunked</pre></div></td></tr><tr><td>Parameters</td><td><details class=\"dni-treeview\"><summary><span class=\"dni-code-hint\"><code>[  ]</code></span></summary><div><table><thead><tr></tr></thead><tbody><tr><td>Count</td><td><div class=\"dni-plaintext\"><pre>0</pre></div></td></tr><tr><td>IsReadOnly</td><td><div class=\"dni-plaintext\"><pre>False</pre></div></td></tr><tr><td><i>(values)</i></td><td><i>(empty)</i></td></tr></tbody></table></div></details></td></tr></tbody></table></div></details></td></tr></tbody></table></td></tr></tbody></table></div></details></td></tr><tr><td>TransferEncodingChunked</td><td><div class=\"dni-plaintext\"><pre>True</pre></div></td></tr><tr><td>Upgrade</td><td><details class=\"dni-treeview\"><summary><span class=\"dni-code-hint\"><code>[  ]</code></span></summary><div><table><thead><tr></tr></thead><tbody><tr><td>Count</td><td><div class=\"dni-plaintext\"><pre>0</pre></div></td></tr><tr><td>IsReadOnly</td><td><div class=\"dni-plaintext\"><pre>False</pre></div></td></tr><tr><td><i>(values)</i></td><td><i>(empty)</i></td></tr></tbody></table></div></details></td></tr><tr><td>Via</td><td><details class=\"dni-treeview\"><summary><span class=\"dni-code-hint\"><code>[  ]</code></span></summary><div><table><thead><tr></tr></thead><tbody><tr><td>Count</td><td><div class=\"dni-plaintext\"><pre>0</pre></div></td></tr><tr><td>IsReadOnly</td><td><div class=\"dni-plaintext\"><pre>False</pre></div></td></tr><tr><td><i>(values)</i></td><td><i>(empty)</i></td></tr></tbody></table></div></details></td></tr><tr><td>Warning</td><td><details class=\"dni-treeview\"><summary><span class=\"dni-code-hint\"><code>[  ]</code></span></summary><div><table><thead><tr></tr></thead><tbody><tr><td>Count</td><td><div class=\"dni-plaintext\"><pre>0</pre></div></td></tr><tr><td>IsReadOnly</td><td><div class=\"dni-plaintext\"><pre>False</pre></div></td></tr><tr><td><i>(values)</i></td><td><i>(empty)</i></td></tr></tbody></table></div></details></td></tr><tr><td>NonValidated</td><td><details class=\"dni-treeview\"><summary><span class=\"dni-code-hint\"><code>[ [Date, Fri, 18 Jul 2025 12:46:21 GMT], [Server, Kestrel], [Transfer-Encoding, chunked] ]</code></span></summary><div><table><thead><tr></tr></thead><tbody><tr><td>Count</td><td><div class=\"dni-plaintext\"><pre>3</pre></div></td></tr><tr><td><i>(values)</i></td><td><table><thead><tr><th><i>index</i></th><th>value</th></tr></thead><tbody><tr><td>0</td><td><details class=\"dni-treeview\"><summary><span class=\"dni-code-hint\"><code>[Date, Fri, 18 Jul 2025 12:46:21 GMT]</code></span></summary><div><table><thead><tr></tr></thead><tbody><tr><td>Key</td><td><div class=\"dni-plaintext\"><pre>Date</pre></div></td></tr><tr><td>Value</td><td><details class=\"dni-treeview\"><summary><span class=\"dni-code-hint\"><code>[ Fri, 18 Jul 2025 12:46:21 GMT ]</code></span></summary><div><table><thead><tr></tr></thead><tbody><tr><td>Count</td><td><div class=\"dni-plaintext\"><pre>1</pre></div></td></tr><tr><td><i>(values)</i></td><td><div class=\"dni-plaintext\"><pre>[ Fri, 18 Jul 2025 12:46:21 GMT ]</pre></div></td></tr></tbody></table></div></details></td></tr></tbody></table></div></details></td></tr><tr><td>1</td><td><details class=\"dni-treeview\"><summary><span class=\"dni-code-hint\"><code>[Server, Kestrel]</code></span></summary><div><table><thead><tr></tr></thead><tbody><tr><td>Key</td><td><div class=\"dni-plaintext\"><pre>Server</pre></div></td></tr><tr><td>Value</td><td><details class=\"dni-treeview\"><summary><span class=\"dni-code-hint\"><code>[ Kestrel ]</code></span></summary><div><table><thead><tr></tr></thead><tbody><tr><td>Count</td><td><div class=\"dni-plaintext\"><pre>1</pre></div></td></tr><tr><td><i>(values)</i></td><td><div class=\"dni-plaintext\"><pre>[ Kestrel ]</pre></div></td></tr></tbody></table></div></details></td></tr></tbody></table></div></details></td></tr><tr><td>2</td><td><details class=\"dni-treeview\"><summary><span class=\"dni-code-hint\"><code>[Transfer-Encoding, chunked]</code></span></summary><div><table><thead><tr></tr></thead><tbody><tr><td>Key</td><td><div class=\"dni-plaintext\"><pre>Transfer-Encoding</pre></div></td></tr><tr><td>Value</td><td><details class=\"dni-treeview\"><summary><span class=\"dni-code-hint\"><code>[ chunked ]</code></span></summary><div><table><thead><tr></tr></thead><tbody><tr><td>Count</td><td><div class=\"dni-plaintext\"><pre>1</pre></div></td></tr><tr><td><i>(values)</i></td><td><div class=\"dni-plaintext\"><pre>[ chunked ]</pre></div></td></tr></tbody></table></div></details></td></tr></tbody></table></div></details></td></tr></tbody></table></td></tr></tbody></table></div></details></td></tr><tr><td><i>(values)</i></td><td><table><thead><tr><th><i>index</i></th><th>value</th></tr></thead><tbody><tr><td>0</td><td><details class=\"dni-treeview\"><summary><span class=\"dni-code-hint\"><code>[Date, System.String[]]</code></span></summary><div><table><thead><tr></tr></thead><tbody><tr><td>Key</td><td><div class=\"dni-plaintext\"><pre>Date</pre></div></td></tr><tr><td>Value</td><td><div class=\"dni-plaintext\"><pre>[ Fri, 18 Jul 2025 12:46:21 GMT ]</pre></div></td></tr></tbody></table></div></details></td></tr><tr><td>1</td><td><details class=\"dni-treeview\"><summary><span class=\"dni-code-hint\"><code>[Server, System.String[]]</code></span></summary><div><table><thead><tr></tr></thead><tbody><tr><td>Key</td><td><div class=\"dni-plaintext\"><pre>Server</pre></div></td></tr><tr><td>Value</td><td><div class=\"dni-plaintext\"><pre>[ Kestrel ]</pre></div></td></tr></tbody></table></div></details></td></tr><tr><td>2</td><td><details class=\"dni-treeview\"><summary><span class=\"dni-code-hint\"><code>[Transfer-Encoding, System.String[]]</code></span></summary><div><table><thead><tr></tr></thead><tbody><tr><td>Key</td><td><div class=\"dni-plaintext\"><pre>Transfer-Encoding</pre></div></td></tr><tr><td>Value</td><td><div class=\"dni-plaintext\"><pre>[ chunked ]</pre></div></td></tr></tbody></table></div></details></td></tr></tbody></table></td></tr></tbody></table></div></details></td></tr><tr><td>TrailingHeaders</td><td><details class=\"dni-treeview\"><summary><span class=\"dni-code-hint\"><code>[  ]</code></span></summary><div><table><thead><tr></tr></thead><tbody><tr><td>AcceptRanges</td><td><details class=\"dni-treeview\"><summary><span class=\"dni-code-hint\"><code>[  ]</code></span></summary><div><table><thead><tr></tr></thead><tbody><tr><td>Count</td><td><div class=\"dni-plaintext\"><pre>0</pre></div></td></tr><tr><td>IsReadOnly</td><td><div class=\"dni-plaintext\"><pre>False</pre></div></td></tr><tr><td><i>(values)</i></td><td><div class=\"dni-plaintext\"><pre>[  ]</pre></div></td></tr></tbody></table></div></details></td></tr><tr><td>Age</td><td><div class=\"dni-plaintext\"><pre>&lt;null&gt;</pre></div></td></tr><tr><td>ETag</td><td><div class=\"dni-plaintext\"><pre>&lt;null&gt;</pre></div></td></tr><tr><td>Location</td><td><div class=\"dni-plaintext\"><pre>&lt;null&gt;</pre></div></td></tr><tr><td>ProxyAuthenticate</td><td><details class=\"dni-treeview\"><summary><span class=\"dni-code-hint\"><code>[  ]</code></span></summary><div><table><thead><tr></tr></thead><tbody><tr><td>Count</td><td><div class=\"dni-plaintext\"><pre>0</pre></div></td></tr><tr><td>IsReadOnly</td><td><div class=\"dni-plaintext\"><pre>False</pre></div></td></tr><tr><td><i>(values)</i></td><td><i>(empty)</i></td></tr></tbody></table></div></details></td></tr><tr><td>RetryAfter</td><td><div class=\"dni-plaintext\"><pre>&lt;null&gt;</pre></div></td></tr><tr><td>Server</td><td><details class=\"dni-treeview\"><summary><span class=\"dni-code-hint\"><code>[  ]</code></span></summary><div><table><thead><tr></tr></thead><tbody><tr><td>Count</td><td><div class=\"dni-plaintext\"><pre>0</pre></div></td></tr><tr><td>IsReadOnly</td><td><div class=\"dni-plaintext\"><pre>False</pre></div></td></tr><tr><td><i>(values)</i></td><td><i>(empty)</i></td></tr></tbody></table></div></details></td></tr><tr><td>Vary</td><td><details class=\"dni-treeview\"><summary><span class=\"dni-code-hint\"><code>[  ]</code></span></summary><div><table><thead><tr></tr></thead><tbody><tr><td>Count</td><td><div class=\"dni-plaintext\"><pre>0</pre></div></td></tr><tr><td>IsReadOnly</td><td><div class=\"dni-plaintext\"><pre>False</pre></div></td></tr><tr><td><i>(values)</i></td><td><div class=\"dni-plaintext\"><pre>[  ]</pre></div></td></tr></tbody></table></div></details></td></tr><tr><td>WwwAuthenticate</td><td><details class=\"dni-treeview\"><summary><span class=\"dni-code-hint\"><code>[  ]</code></span></summary><div><table><thead><tr></tr></thead><tbody><tr><td>Count</td><td><div class=\"dni-plaintext\"><pre>0</pre></div></td></tr><tr><td>IsReadOnly</td><td><div class=\"dni-plaintext\"><pre>False</pre></div></td></tr><tr><td><i>(values)</i></td><td><i>(empty)</i></td></tr></tbody></table></div></details></td></tr><tr><td>CacheControl</td><td><div class=\"dni-plaintext\"><pre>&lt;null&gt;</pre></div></td></tr><tr><td>Connection</td><td><details class=\"dni-treeview\"><summary><span class=\"dni-code-hint\"><code>[  ]</code></span></summary><div><table><thead><tr></tr></thead><tbody><tr><td>Count</td><td><div class=\"dni-plaintext\"><pre>0</pre></div></td></tr><tr><td>IsReadOnly</td><td><div class=\"dni-plaintext\"><pre>False</pre></div></td></tr><tr><td><i>(values)</i></td><td><div class=\"dni-plaintext\"><pre>[  ]</pre></div></td></tr></tbody></table></div></details></td></tr><tr><td>ConnectionClose</td><td><div class=\"dni-plaintext\"><pre>&lt;null&gt;</pre></div></td></tr><tr><td>Date</td><td><div class=\"dni-plaintext\"><pre>&lt;null&gt;</pre></div></td></tr><tr><td>Pragma</td><td><details class=\"dni-treeview\"><summary><span class=\"dni-code-hint\"><code>[  ]</code></span></summary><div><table><thead><tr></tr></thead><tbody><tr><td>Count</td><td><div class=\"dni-plaintext\"><pre>0</pre></div></td></tr><tr><td>IsReadOnly</td><td><div class=\"dni-plaintext\"><pre>False</pre></div></td></tr><tr><td><i>(values)</i></td><td><i>(empty)</i></td></tr></tbody></table></div></details></td></tr><tr><td>Trailer</td><td><details class=\"dni-treeview\"><summary><span class=\"dni-code-hint\"><code>[  ]</code></span></summary><div><table><thead><tr></tr></thead><tbody><tr><td>Count</td><td><div class=\"dni-plaintext\"><pre>0</pre></div></td></tr><tr><td>IsReadOnly</td><td><div class=\"dni-plaintext\"><pre>False</pre></div></td></tr><tr><td><i>(values)</i></td><td><div class=\"dni-plaintext\"><pre>[  ]</pre></div></td></tr></tbody></table></div></details></td></tr><tr><td>TransferEncoding</td><td><details class=\"dni-treeview\"><summary><span class=\"dni-code-hint\"><code>[  ]</code></span></summary><div><table><thead><tr></tr></thead><tbody><tr><td>Count</td><td><div class=\"dni-plaintext\"><pre>0</pre></div></td></tr><tr><td>IsReadOnly</td><td><div class=\"dni-plaintext\"><pre>False</pre></div></td></tr><tr><td><i>(values)</i></td><td><i>(empty)</i></td></tr></tbody></table></div></details></td></tr><tr><td>TransferEncodingChunked</td><td><div class=\"dni-plaintext\"><pre>&lt;null&gt;</pre></div></td></tr><tr><td>Upgrade</td><td><details class=\"dni-treeview\"><summary><span class=\"dni-code-hint\"><code>[  ]</code></span></summary><div><table><thead><tr></tr></thead><tbody><tr><td>Count</td><td><div class=\"dni-plaintext\"><pre>0</pre></div></td></tr><tr><td>IsReadOnly</td><td><div class=\"dni-plaintext\"><pre>False</pre></div></td></tr><tr><td><i>(values)</i></td><td><i>(empty)</i></td></tr></tbody></table></div></details></td></tr><tr><td>Via</td><td><details class=\"dni-treeview\"><summary><span class=\"dni-code-hint\"><code>[  ]</code></span></summary><div><table><thead><tr></tr></thead><tbody><tr><td>Count</td><td><div class=\"dni-plaintext\"><pre>0</pre></div></td></tr><tr><td>IsReadOnly</td><td><div class=\"dni-plaintext\"><pre>False</pre></div></td></tr><tr><td><i>(values)</i></td><td><i>(empty)</i></td></tr></tbody></table></div></details></td></tr><tr><td>Warning</td><td><details class=\"dni-treeview\"><summary><span class=\"dni-code-hint\"><code>[  ]</code></span></summary><div><table><thead><tr></tr></thead><tbody><tr><td>Count</td><td><div class=\"dni-plaintext\"><pre>0</pre></div></td></tr><tr><td>IsReadOnly</td><td><div class=\"dni-plaintext\"><pre>False</pre></div></td></tr><tr><td><i>(values)</i></td><td><i>(empty)</i></td></tr></tbody></table></div></details></td></tr><tr><td>NonValidated</td><td><details class=\"dni-treeview\"><summary><span class=\"dni-code-hint\"><code>[  ]</code></span></summary><div><table><thead><tr></tr></thead><tbody><tr><td>Count</td><td><div class=\"dni-plaintext\"><pre>0</pre></div></td></tr><tr><td><i>(values)</i></td><td><i>(empty)</i></td></tr></tbody></table></div></details></td></tr><tr><td><i>(values)</i></td><td><i>(empty)</i></td></tr></tbody></table></div></details></td></tr><tr><td>RequestMessage</td><td><details class=\"dni-treeview\"><summary><span class=\"dni-code-hint\"><code>Method: POST, RequestUri: &#39;http://localhost:7000/products/3/add-stocks&#39;, Version: 1.1, Content: System.Net.Http.StringContent, Headers:\\r\\n{\\r\\n  traceparent: 00-f9112acd668ee04cc896ad290c83d7e5-38afcb4c958be1ca-00\\r\\n  Content-Type: application/json; charset=utf-8\\r\\n  Content-Length: 15\\r\\n}</code></span></summary><div><table><thead><tr></tr></thead><tbody><tr><td>Version</td><td><details class=\"dni-treeview\"><summary><span class=\"dni-code-hint\"><code>1.1</code></span></summary><div><table><thead><tr></tr></thead><tbody><tr><td>Major</td><td><div class=\"dni-plaintext\"><pre>1</pre></div></td></tr><tr><td>Minor</td><td><div class=\"dni-plaintext\"><pre>1</pre></div></td></tr><tr><td>Build</td><td><div class=\"dni-plaintext\"><pre>-1</pre></div></td></tr><tr><td>Revision</td><td><div class=\"dni-plaintext\"><pre>-1</pre></div></td></tr><tr><td>MajorRevision</td><td><div class=\"dni-plaintext\"><pre>-1</pre></div></td></tr><tr><td>MinorRevision</td><td><div class=\"dni-plaintext\"><pre>-1</pre></div></td></tr></tbody></table></div></details></td></tr><tr><td>VersionPolicy</td><td><span>RequestVersionOrLower</span></td></tr><tr><td>Content</td><td><details class=\"dni-treeview\"><summary><span class=\"dni-code-hint\"><code>System.Net.Http.StringContent</code></span></summary><div><table><thead><tr></tr></thead><tbody><tr><td>Headers</td><td><details class=\"dni-treeview\"><summary><span class=\"dni-code-hint\"><code>[ [Content-Type, System.String[]], [Content-Length, System.String[]] ]</code></span></summary><div><table><thead><tr></tr></thead><tbody><tr><td>Allow</td><td><details class=\"dni-treeview\"><summary><span class=\"dni-code-hint\"><code>[  ]</code></span></summary><div><table><thead><tr></tr></thead><tbody><tr><td>Count</td><td><div class=\"dni-plaintext\"><pre>0</pre></div></td></tr><tr><td>IsReadOnly</td><td><div class=\"dni-plaintext\"><pre>False</pre></div></td></tr><tr><td><i>(values)</i></td><td><div class=\"dni-plaintext\"><pre>[  ]</pre></div></td></tr></tbody></table></div></details></td></tr><tr><td>ContentDisposition</td><td><div class=\"dni-plaintext\"><pre>&lt;null&gt;</pre></div></td></tr><tr><td>ContentEncoding</td><td><details class=\"dni-treeview\"><summary><span class=\"dni-code-hint\"><code>[  ]</code></span></summary><div><table><thead><tr></tr></thead><tbody><tr><td>Count</td><td><div class=\"dni-plaintext\"><pre>0</pre></div></td></tr><tr><td>IsReadOnly</td><td><div class=\"dni-plaintext\"><pre>False</pre></div></td></tr><tr><td><i>(values)</i></td><td><div class=\"dni-plaintext\"><pre>[  ]</pre></div></td></tr></tbody></table></div></details></td></tr><tr><td>ContentLanguage</td><td><details class=\"dni-treeview\"><summary><span class=\"dni-code-hint\"><code>[  ]</code></span></summary><div><table><thead><tr></tr></thead><tbody><tr><td>Count</td><td><div class=\"dni-plaintext\"><pre>0</pre></div></td></tr><tr><td>IsReadOnly</td><td><div class=\"dni-plaintext\"><pre>False</pre></div></td></tr><tr><td><i>(values)</i></td><td><div class=\"dni-plaintext\"><pre>[  ]</pre></div></td></tr></tbody></table></div></details></td></tr><tr><td>ContentLength</td><td><div class=\"dni-plaintext\"><pre>15</pre></div></td></tr><tr><td>ContentLocation</td><td><div class=\"dni-plaintext\"><pre>&lt;null&gt;</pre></div></td></tr><tr><td>ContentMD5</td><td><div class=\"dni-plaintext\"><pre>&lt;null&gt;</pre></div></td></tr><tr><td>ContentRange</td><td><div class=\"dni-plaintext\"><pre>&lt;null&gt;</pre></div></td></tr><tr><td>ContentType</td><td><details class=\"dni-treeview\"><summary><span class=\"dni-code-hint\"><code>application/json; charset=utf-8</code></span></summary><div><table><thead><tr></tr></thead><tbody><tr><td>CharSet</td><td><div class=\"dni-plaintext\"><pre>utf-8</pre></div></td></tr><tr><td>Parameters</td><td><details class=\"dni-treeview\"><summary><span class=\"dni-code-hint\"><code>[ charset=utf-8 ]</code></span></summary><div><table><thead><tr></tr></thead><tbody><tr><td>Count</td><td>1</td></tr><tr><td>IsReadOnly</td><td>False</td></tr><tr><td><i>(values)</i></td><td><table><thead><tr><th><i>index</i></th><th>value</th></tr></thead><tbody><tr><td>0</td><td>charset=utf-8</td></tr></tbody></table></td></tr></tbody></table></div></details></td></tr><tr><td>MediaType</td><td><div class=\"dni-plaintext\"><pre>application/json</pre></div></td></tr></tbody></table></div></details></td></tr><tr><td>Expires</td><td><div class=\"dni-plaintext\"><pre>&lt;null&gt;</pre></div></td></tr><tr><td>LastModified</td><td><div class=\"dni-plaintext\"><pre>&lt;null&gt;</pre></div></td></tr><tr><td>NonValidated</td><td><details class=\"dni-treeview\"><summary><span class=\"dni-code-hint\"><code>[ [Content-Type, application/json; charset=utf-8], [Content-Length, 15] ]</code></span></summary><div><table><thead><tr></tr></thead><tbody><tr><td>Count</td><td><div class=\"dni-plaintext\"><pre>2</pre></div></td></tr><tr><td><i>(values)</i></td><td><table><thead><tr><th><i>index</i></th><th>value</th></tr></thead><tbody><tr><td>0</td><td><details class=\"dni-treeview\"><summary><span class=\"dni-code-hint\"><code>[Content-Type, application/json; charset=utf-8]</code></span></summary><div><table><thead><tr></tr></thead><tbody><tr><td>Key</td><td>Content-Type</td></tr><tr><td>Value</td><td>[ application/json; charset=utf-8 ]</td></tr></tbody></table></div></details></td></tr><tr><td>1</td><td><details class=\"dni-treeview\"><summary><span class=\"dni-code-hint\"><code>[Content-Length, 15]</code></span></summary><div><table><thead><tr></tr></thead><tbody><tr><td>Key</td><td>Content-Length</td></tr><tr><td>Value</td><td>[ 15 ]</td></tr></tbody></table></div></details></td></tr></tbody></table></td></tr></tbody></table></div></details></td></tr><tr><td><i>(values)</i></td><td><table><thead><tr><th><i>index</i></th><th>value</th></tr></thead><tbody><tr><td>0</td><td><details class=\"dni-treeview\"><summary><span class=\"dni-code-hint\"><code>[Content-Type, System.String[]]</code></span></summary><div><table><thead><tr></tr></thead><tbody><tr><td>Key</td><td><div class=\"dni-plaintext\"><pre>Content-Type</pre></div></td></tr><tr><td>Value</td><td><div class=\"dni-plaintext\"><pre>[ application/json; charset=utf-8 ]</pre></div></td></tr></tbody></table></div></details></td></tr><tr><td>1</td><td><details class=\"dni-treeview\"><summary><span class=\"dni-code-hint\"><code>[Content-Length, System.String[]]</code></span></summary><div><table><thead><tr></tr></thead><tbody><tr><td>Key</td><td><div class=\"dni-plaintext\"><pre>Content-Length</pre></div></td></tr><tr><td>Value</td><td><div class=\"dni-plaintext\"><pre>[ 15 ]</pre></div></td></tr></tbody></table></div></details></td></tr></tbody></table></td></tr></tbody></table></div></details></td></tr></tbody></table></div></details></td></tr><tr><td>Method</td><td><details class=\"dni-treeview\"><summary><span class=\"dni-code-hint\"><code>POST</code></span></summary><div><table><thead><tr></tr></thead><tbody><tr><td>Method</td><td><div class=\"dni-plaintext\"><pre>POST</pre></div></td></tr></tbody></table></div></details></td></tr><tr><td>RequestUri</td><td><details class=\"dni-treeview\"><summary><span class=\"dni-code-hint\"><code>http://localhost:7000/products/3/add-stocks</code></span></summary><div><table><thead><tr></tr></thead><tbody><tr><td>AbsolutePath</td><td><div class=\"dni-plaintext\"><pre>/products/3/add-stocks</pre></div></td></tr><tr><td>AbsoluteUri</td><td><div class=\"dni-plaintext\"><pre>http://localhost:7000/products/3/add-stocks</pre></div></td></tr><tr><td>LocalPath</td><td><div class=\"dni-plaintext\"><pre>/products/3/add-stocks</pre></div></td></tr><tr><td>Authority</td><td><div class=\"dni-plaintext\"><pre>localhost:7000</pre></div></td></tr><tr><td>HostNameType</td><td><span>Dns</span></td></tr><tr><td>IsDefaultPort</td><td><div class=\"dni-plaintext\"><pre>False</pre></div></td></tr><tr><td>IsFile</td><td><div class=\"dni-plaintext\"><pre>False</pre></div></td></tr><tr><td>IsLoopback</td><td><div class=\"dni-plaintext\"><pre>True</pre></div></td></tr><tr><td>PathAndQuery</td><td><div class=\"dni-plaintext\"><pre>/products/3/add-stocks</pre></div></td></tr><tr><td>Segments</td><td><div class=\"dni-plaintext\"><pre>[ /, products/, 3/, add-stocks ]</pre></div></td></tr><tr><td>IsUnc</td><td><div class=\"dni-plaintext\"><pre>False</pre></div></td></tr><tr><td>Host</td><td><div class=\"dni-plaintext\"><pre>localhost</pre></div></td></tr><tr><td>Port</td><td><div class=\"dni-plaintext\"><pre>7000</pre></div></td></tr><tr><td>Query</td><td><div class=\"dni-plaintext\"><pre></pre></div></td></tr><tr><td>Fragment</td><td><div class=\"dni-plaintext\"><pre></pre></div></td></tr><tr><td>Scheme</td><td><div class=\"dni-plaintext\"><pre>http</pre></div></td></tr><tr><td>OriginalString</td><td><div class=\"dni-plaintext\"><pre>http://localhost:7000/products/3/add-stocks</pre></div></td></tr><tr><td>DnsSafeHost</td><td><div class=\"dni-plaintext\"><pre>localhost</pre></div></td></tr><tr><td>IdnHost</td><td><div class=\"dni-plaintext\"><pre>localhost</pre></div></td></tr><tr><td>IsAbsoluteUri</td><td><div class=\"dni-plaintext\"><pre>True</pre></div></td></tr><tr><td>UserEscaped</td><td><div class=\"dni-plaintext\"><pre>False</pre></div></td></tr><tr><td>UserInfo</td><td><div class=\"dni-plaintext\"><pre></pre></div></td></tr></tbody></table></div></details></td></tr><tr><td>Headers</td><td><details class=\"dni-treeview\"><summary><span class=\"dni-code-hint\"><code>[ [traceparent, System.String[]] ]</code></span></summary><div><table><thead><tr></tr></thead><tbody><tr><td>Accept</td><td><details class=\"dni-treeview\"><summary><span class=\"dni-code-hint\"><code>[  ]</code></span></summary><div><table><thead><tr></tr></thead><tbody><tr><td>Count</td><td><div class=\"dni-plaintext\"><pre>0</pre></div></td></tr><tr><td>IsReadOnly</td><td><div class=\"dni-plaintext\"><pre>False</pre></div></td></tr><tr><td><i>(values)</i></td><td><i>(empty)</i></td></tr></tbody></table></div></details></td></tr><tr><td>AcceptCharset</td><td><details class=\"dni-treeview\"><summary><span class=\"dni-code-hint\"><code>[  ]</code></span></summary><div><table><thead><tr></tr></thead><tbody><tr><td>Count</td><td><div class=\"dni-plaintext\"><pre>0</pre></div></td></tr><tr><td>IsReadOnly</td><td><div class=\"dni-plaintext\"><pre>False</pre></div></td></tr><tr><td><i>(values)</i></td><td><i>(empty)</i></td></tr></tbody></table></div></details></td></tr><tr><td>AcceptEncoding</td><td><details class=\"dni-treeview\"><summary><span class=\"dni-code-hint\"><code>[  ]</code></span></summary><div><table><thead><tr></tr></thead><tbody><tr><td>Count</td><td><div class=\"dni-plaintext\"><pre>0</pre></div></td></tr><tr><td>IsReadOnly</td><td><div class=\"dni-plaintext\"><pre>False</pre></div></td></tr><tr><td><i>(values)</i></td><td><i>(empty)</i></td></tr></tbody></table></div></details></td></tr><tr><td>AcceptLanguage</td><td><details class=\"dni-treeview\"><summary><span class=\"dni-code-hint\"><code>[  ]</code></span></summary><div><table><thead><tr></tr></thead><tbody><tr><td>Count</td><td><div class=\"dni-plaintext\"><pre>0</pre></div></td></tr><tr><td>IsReadOnly</td><td><div class=\"dni-plaintext\"><pre>False</pre></div></td></tr><tr><td><i>(values)</i></td><td><i>(empty)</i></td></tr></tbody></table></div></details></td></tr><tr><td>Authorization</td><td><div class=\"dni-plaintext\"><pre>&lt;null&gt;</pre></div></td></tr><tr><td>ExpectContinue</td><td><div class=\"dni-plaintext\"><pre>&lt;null&gt;</pre></div></td></tr><tr><td>From</td><td><div class=\"dni-plaintext\"><pre>&lt;null&gt;</pre></div></td></tr><tr><td>Host</td><td><div class=\"dni-plaintext\"><pre>&lt;null&gt;</pre></div></td></tr><tr><td>IfMatch</td><td><details class=\"dni-treeview\"><summary><span class=\"dni-code-hint\"><code>[  ]</code></span></summary><div><table><thead><tr></tr></thead><tbody><tr><td>Count</td><td><div class=\"dni-plaintext\"><pre>0</pre></div></td></tr><tr><td>IsReadOnly</td><td><div class=\"dni-plaintext\"><pre>False</pre></div></td></tr><tr><td><i>(values)</i></td><td><i>(empty)</i></td></tr></tbody></table></div></details></td></tr><tr><td>IfModifiedSince</td><td><div class=\"dni-plaintext\"><pre>&lt;null&gt;</pre></div></td></tr><tr><td>IfNoneMatch</td><td><details class=\"dni-treeview\"><summary><span class=\"dni-code-hint\"><code>[  ]</code></span></summary><div><table><thead><tr></tr></thead><tbody><tr><td>Count</td><td><div class=\"dni-plaintext\"><pre>0</pre></div></td></tr><tr><td>IsReadOnly</td><td><div class=\"dni-plaintext\"><pre>False</pre></div></td></tr><tr><td><i>(values)</i></td><td><i>(empty)</i></td></tr></tbody></table></div></details></td></tr><tr><td>IfRange</td><td><div class=\"dni-plaintext\"><pre>&lt;null&gt;</pre></div></td></tr><tr><td>IfUnmodifiedSince</td><td><div class=\"dni-plaintext\"><pre>&lt;null&gt;</pre></div></td></tr><tr><td>MaxForwards</td><td><div class=\"dni-plaintext\"><pre>&lt;null&gt;</pre></div></td></tr><tr><td>Protocol</td><td><div class=\"dni-plaintext\"><pre>&lt;null&gt;</pre></div></td></tr><tr><td>ProxyAuthorization</td><td><div class=\"dni-plaintext\"><pre>&lt;null&gt;</pre></div></td></tr><tr><td>Range</td><td><div class=\"dni-plaintext\"><pre>&lt;null&gt;</pre></div></td></tr><tr><td>Referrer</td><td><div class=\"dni-plaintext\"><pre>&lt;null&gt;</pre></div></td></tr><tr><td>TE</td><td><details class=\"dni-treeview\"><summary><span class=\"dni-code-hint\"><code>[  ]</code></span></summary><div><table><thead><tr></tr></thead><tbody><tr><td>Count</td><td><div class=\"dni-plaintext\"><pre>0</pre></div></td></tr><tr><td>IsReadOnly</td><td><div class=\"dni-plaintext\"><pre>False</pre></div></td></tr><tr><td><i>(values)</i></td><td><i>(empty)</i></td></tr></tbody></table></div></details></td></tr><tr><td>UserAgent</td><td><details class=\"dni-treeview\"><summary><span class=\"dni-code-hint\"><code>[  ]</code></span></summary><div><table><thead><tr></tr></thead><tbody><tr><td>Count</td><td><div class=\"dni-plaintext\"><pre>0</pre></div></td></tr><tr><td>IsReadOnly</td><td><div class=\"dni-plaintext\"><pre>False</pre></div></td></tr><tr><td><i>(values)</i></td><td><i>(empty)</i></td></tr></tbody></table></div></details></td></tr><tr><td>Expect</td><td><details class=\"dni-treeview\"><summary><span class=\"dni-code-hint\"><code>[  ]</code></span></summary><div><table><thead><tr></tr></thead><tbody><tr><td>Count</td><td><div class=\"dni-plaintext\"><pre>0</pre></div></td></tr><tr><td>IsReadOnly</td><td><div class=\"dni-plaintext\"><pre>False</pre></div></td></tr><tr><td><i>(values)</i></td><td><i>(empty)</i></td></tr></tbody></table></div></details></td></tr><tr><td>CacheControl</td><td><div class=\"dni-plaintext\"><pre>&lt;null&gt;</pre></div></td></tr><tr><td>Connection</td><td><details class=\"dni-treeview\"><summary><span class=\"dni-code-hint\"><code>[  ]</code></span></summary><div><table><thead><tr></tr></thead><tbody><tr><td>Count</td><td><div class=\"dni-plaintext\"><pre>0</pre></div></td></tr><tr><td>IsReadOnly</td><td><div class=\"dni-plaintext\"><pre>False</pre></div></td></tr><tr><td><i>(values)</i></td><td><div class=\"dni-plaintext\"><pre>[  ]</pre></div></td></tr></tbody></table></div></details></td></tr><tr><td>ConnectionClose</td><td><div class=\"dni-plaintext\"><pre>&lt;null&gt;</pre></div></td></tr><tr><td>Date</td><td><div class=\"dni-plaintext\"><pre>&lt;null&gt;</pre></div></td></tr><tr><td>Pragma</td><td><details class=\"dni-treeview\"><summary><span class=\"dni-code-hint\"><code>[  ]</code></span></summary><div><table><thead><tr></tr></thead><tbody><tr><td>Count</td><td><div class=\"dni-plaintext\"><pre>0</pre></div></td></tr><tr><td>IsReadOnly</td><td><div class=\"dni-plaintext\"><pre>False</pre></div></td></tr><tr><td><i>(values)</i></td><td><i>(empty)</i></td></tr></tbody></table></div></details></td></tr><tr><td>Trailer</td><td><details class=\"dni-treeview\"><summary><span class=\"dni-code-hint\"><code>[  ]</code></span></summary><div><table><thead><tr></tr></thead><tbody><tr><td>Count</td><td><div class=\"dni-plaintext\"><pre>0</pre></div></td></tr><tr><td>IsReadOnly</td><td><div class=\"dni-plaintext\"><pre>False</pre></div></td></tr><tr><td><i>(values)</i></td><td><div class=\"dni-plaintext\"><pre>[  ]</pre></div></td></tr></tbody></table></div></details></td></tr><tr><td>TransferEncoding</td><td><details class=\"dni-treeview\"><summary><span class=\"dni-code-hint\"><code>[  ]</code></span></summary><div><table><thead><tr></tr></thead><tbody><tr><td>Count</td><td><div class=\"dni-plaintext\"><pre>0</pre></div></td></tr><tr><td>IsReadOnly</td><td><div class=\"dni-plaintext\"><pre>False</pre></div></td></tr><tr><td><i>(values)</i></td><td><i>(empty)</i></td></tr></tbody></table></div></details></td></tr><tr><td>TransferEncodingChunked</td><td><div class=\"dni-plaintext\"><pre>&lt;null&gt;</pre></div></td></tr><tr><td>Upgrade</td><td><details class=\"dni-treeview\"><summary><span class=\"dni-code-hint\"><code>[  ]</code></span></summary><div><table><thead><tr></tr></thead><tbody><tr><td>Count</td><td><div class=\"dni-plaintext\"><pre>0</pre></div></td></tr><tr><td>IsReadOnly</td><td><div class=\"dni-plaintext\"><pre>False</pre></div></td></tr><tr><td><i>(values)</i></td><td><i>(empty)</i></td></tr></tbody></table></div></details></td></tr><tr><td>Via</td><td><details class=\"dni-treeview\"><summary><span class=\"dni-code-hint\"><code>[  ]</code></span></summary><div><table><thead><tr></tr></thead><tbody><tr><td>Count</td><td><div class=\"dni-plaintext\"><pre>0</pre></div></td></tr><tr><td>IsReadOnly</td><td><div class=\"dni-plaintext\"><pre>False</pre></div></td></tr><tr><td><i>(values)</i></td><td><i>(empty)</i></td></tr></tbody></table></div></details></td></tr><tr><td>Warning</td><td><details class=\"dni-treeview\"><summary><span class=\"dni-code-hint\"><code>[  ]</code></span></summary><div><table><thead><tr></tr></thead><tbody><tr><td>Count</td><td><div class=\"dni-plaintext\"><pre>0</pre></div></td></tr><tr><td>IsReadOnly</td><td><div class=\"dni-plaintext\"><pre>False</pre></div></td></tr><tr><td><i>(values)</i></td><td><i>(empty)</i></td></tr></tbody></table></div></details></td></tr><tr><td>NonValidated</td><td><details class=\"dni-treeview\"><summary><span class=\"dni-code-hint\"><code>[ [traceparent, 00-f9112acd668ee04cc896ad290c83d7e5-38afcb4c958be1ca-00] ]</code></span></summary><div><table><thead><tr></tr></thead><tbody><tr><td>Count</td><td><div class=\"dni-plaintext\"><pre>1</pre></div></td></tr><tr><td><i>(values)</i></td><td><table><thead><tr><th><i>index</i></th><th>value</th></tr></thead><tbody><tr><td>0</td><td><details class=\"dni-treeview\"><summary><span class=\"dni-code-hint\"><code>[traceparent, 00-f9112acd668ee04cc896ad290c83d7e5-38afcb4c958be1ca-00]</code></span></summary><div><table><thead><tr></tr></thead><tbody><tr><td>Key</td><td><div class=\"dni-plaintext\"><pre>traceparent</pre></div></td></tr><tr><td>Value</td><td><details class=\"dni-treeview\"><summary><span class=\"dni-code-hint\"><code>[ 00-f9112acd668ee04cc896ad290c83d7e5-38afcb4c958be1ca-00 ]</code></span></summary><div><table><thead><tr></tr></thead><tbody><tr><td>Count</td><td>1</td></tr><tr><td><i>(values)</i></td><td><div class=\"dni-plaintext\"><pre>[ 00-f9112acd668ee04cc896ad290c83d7e5-38afcb4c958be1ca-00 ]</pre></div></td></tr></tbody></table></div></details></td></tr></tbody></table></div></details></td></tr></tbody></table></td></tr></tbody></table></div></details></td></tr><tr><td><i>(values)</i></td><td><table><thead><tr><th><i>index</i></th><th>value</th></tr></thead><tbody><tr><td>0</td><td><details class=\"dni-treeview\"><summary><span class=\"dni-code-hint\"><code>[traceparent, System.String[]]</code></span></summary><div><table><thead><tr></tr></thead><tbody><tr><td>Key</td><td><div class=\"dni-plaintext\"><pre>traceparent</pre></div></td></tr><tr><td>Value</td><td><div class=\"dni-plaintext\"><pre>[ 00-f9112acd668ee04cc896ad290c83d7e5-38afcb4c958be1ca-00 ]</pre></div></td></tr></tbody></table></div></details></td></tr></tbody></table></td></tr></tbody></table></div></details></td></tr><tr><td>Properties</td><td><i>(empty)</i></td></tr><tr><td>Options</td><td><i>(empty)</i></td></tr></tbody></table></div></details></td></tr><tr><td>IsSuccessStatusCode</td><td><div class=\"dni-plaintext\"><pre>True</pre></div></td></tr></tbody></table></div></details><style>\r\n",
       ".dni-code-hint {\r\n",
       "    font-style: italic;\r\n",
       "    overflow: hidden;\r\n",
       "    white-space: nowrap;\r\n",
       "}\r\n",
       ".dni-treeview {\r\n",
       "    white-space: nowrap;\r\n",
       "}\r\n",
       ".dni-treeview td {\r\n",
       "    vertical-align: top;\r\n",
       "    text-align: start;\r\n",
       "}\r\n",
       "details.dni-treeview {\r\n",
       "    padding-left: 1em;\r\n",
       "}\r\n",
       "table td {\r\n",
       "    text-align: start;\r\n",
       "}\r\n",
       "table tr { \r\n",
       "    vertical-align: top; \r\n",
       "    margin: 0em 0px;\r\n",
       "}\r\n",
       "table tr td pre \r\n",
       "{ \r\n",
       "    vertical-align: top !important; \r\n",
       "    margin: 0em 0px !important;\r\n",
       "} \r\n",
       "table th {\r\n",
       "    text-align: start;\r\n",
       "}\r\n",
       "</style>"
      ]
     },
     "metadata": {},
     "output_type": "display_data"
    },
    {
     "data": {
      "application/json": {
       "quantityInStock": 30
      }
     },
     "metadata": {},
     "output_type": "display_data"
    }
   ],
   "source": [
    "using System.Net.Http;\n",
    "\n",
    "var httpClient = new HttpClient();\n",
    "var payload = new { Amount = \"10\" };\n",
    "var json = System.Text.Json.JsonSerializer.Serialize(payload);\n",
    "var content = new StringContent(json, System.Text.Encoding.UTF8, \"application/json\");\n",
    "var response = await httpClient.PostAsync(\"http://localhost:7000/products/3/add-stocks\", content);\n",
    "//response.EnsureSuccessStatusCode();\n",
    "display(response);\n",
    "var responseData = await response.Content.ReadAsStringAsync();\n",
    "responseData.DisplayAs(\"application/json\")"
   ]
  },
  {
   "cell_type": "code",
   "execution_count": 27,
   "id": "d96f55f3",
   "metadata": {},
   "outputs": [
    {
     "data": {
      "text/html": [
       "<details open=\"open\" class=\"dni-treeview\"><summary><span class=\"dni-code-hint\"><code>StatusCode: 200, ReasonPhrase: &#39;OK&#39;, Version: 1.1, Content: System.Net.Http.HttpConnectionResponseContent, Headers:\\r\\n{\\r\\n  Date: Fri, 18 Jul 2025 12:48:10 GMT\\r\\n  Server: Kestrel\\r\\n  Transfer-Encoding: chunked\\r\\n  Content-Type: application/json; charset=utf-8\\r\\n}</code></span></summary><div><table><thead><tr></tr></thead><tbody><tr><td>Version</td><td><details class=\"dni-treeview\"><summary><span class=\"dni-code-hint\"><code>1.1</code></span></summary><div><table><thead><tr></tr></thead><tbody><tr><td>Major</td><td><div class=\"dni-plaintext\"><pre>1</pre></div></td></tr><tr><td>Minor</td><td><div class=\"dni-plaintext\"><pre>1</pre></div></td></tr><tr><td>Build</td><td><div class=\"dni-plaintext\"><pre>-1</pre></div></td></tr><tr><td>Revision</td><td><div class=\"dni-plaintext\"><pre>-1</pre></div></td></tr><tr><td>MajorRevision</td><td><div class=\"dni-plaintext\"><pre>-1</pre></div></td></tr><tr><td>MinorRevision</td><td><div class=\"dni-plaintext\"><pre>-1</pre></div></td></tr></tbody></table></div></details></td></tr><tr><td>Content</td><td><details class=\"dni-treeview\"><summary><span class=\"dni-code-hint\"><code>System.Net.Http.HttpConnectionResponseContent</code></span></summary><div><table><thead><tr></tr></thead><tbody><tr><td>Headers</td><td><details class=\"dni-treeview\"><summary><span class=\"dni-code-hint\"><code>[ [Content-Type, System.String[]] ]</code></span></summary><div><table><thead><tr></tr></thead><tbody><tr><td>Allow</td><td><details class=\"dni-treeview\"><summary><span class=\"dni-code-hint\"><code>[  ]</code></span></summary><div><table><thead><tr></tr></thead><tbody><tr><td>Count</td><td><div class=\"dni-plaintext\"><pre>0</pre></div></td></tr><tr><td>IsReadOnly</td><td><div class=\"dni-plaintext\"><pre>False</pre></div></td></tr><tr><td><i>(values)</i></td><td><div class=\"dni-plaintext\"><pre>[  ]</pre></div></td></tr></tbody></table></div></details></td></tr><tr><td>ContentDisposition</td><td><div class=\"dni-plaintext\"><pre>&lt;null&gt;</pre></div></td></tr><tr><td>ContentEncoding</td><td><details class=\"dni-treeview\"><summary><span class=\"dni-code-hint\"><code>[  ]</code></span></summary><div><table><thead><tr></tr></thead><tbody><tr><td>Count</td><td><div class=\"dni-plaintext\"><pre>0</pre></div></td></tr><tr><td>IsReadOnly</td><td><div class=\"dni-plaintext\"><pre>False</pre></div></td></tr><tr><td><i>(values)</i></td><td><div class=\"dni-plaintext\"><pre>[  ]</pre></div></td></tr></tbody></table></div></details></td></tr><tr><td>ContentLanguage</td><td><details class=\"dni-treeview\"><summary><span class=\"dni-code-hint\"><code>[  ]</code></span></summary><div><table><thead><tr></tr></thead><tbody><tr><td>Count</td><td><div class=\"dni-plaintext\"><pre>0</pre></div></td></tr><tr><td>IsReadOnly</td><td><div class=\"dni-plaintext\"><pre>False</pre></div></td></tr><tr><td><i>(values)</i></td><td><div class=\"dni-plaintext\"><pre>[  ]</pre></div></td></tr></tbody></table></div></details></td></tr><tr><td>ContentLength</td><td><div class=\"dni-plaintext\"><pre>22</pre></div></td></tr><tr><td>ContentLocation</td><td><div class=\"dni-plaintext\"><pre>&lt;null&gt;</pre></div></td></tr><tr><td>ContentMD5</td><td><div class=\"dni-plaintext\"><pre>&lt;null&gt;</pre></div></td></tr><tr><td>ContentRange</td><td><div class=\"dni-plaintext\"><pre>&lt;null&gt;</pre></div></td></tr><tr><td>ContentType</td><td><details class=\"dni-treeview\"><summary><span class=\"dni-code-hint\"><code>application/json; charset=utf-8</code></span></summary><div><table><thead><tr></tr></thead><tbody><tr><td>CharSet</td><td><div class=\"dni-plaintext\"><pre>utf-8</pre></div></td></tr><tr><td>Parameters</td><td><details class=\"dni-treeview\"><summary><span class=\"dni-code-hint\"><code>[ charset=utf-8 ]</code></span></summary><div><table><thead><tr></tr></thead><tbody><tr><td>Count</td><td><div class=\"dni-plaintext\"><pre>1</pre></div></td></tr><tr><td>IsReadOnly</td><td><div class=\"dni-plaintext\"><pre>False</pre></div></td></tr><tr><td><i>(values)</i></td><td><table><thead><tr><th><i>index</i></th><th>value</th></tr></thead><tbody><tr><td>0</td><td><details class=\"dni-treeview\"><summary><span class=\"dni-code-hint\"><code>charset=utf-8</code></span></summary><div><table><thead><tr></tr></thead><tbody><tr><td>Name</td><td>charset</td></tr><tr><td>Value</td><td>utf-8</td></tr></tbody></table></div></details></td></tr></tbody></table></td></tr></tbody></table></div></details></td></tr><tr><td>MediaType</td><td><div class=\"dni-plaintext\"><pre>application/json</pre></div></td></tr></tbody></table></div></details></td></tr><tr><td>Expires</td><td><div class=\"dni-plaintext\"><pre>&lt;null&gt;</pre></div></td></tr><tr><td>LastModified</td><td><div class=\"dni-plaintext\"><pre>&lt;null&gt;</pre></div></td></tr><tr><td>NonValidated</td><td><details class=\"dni-treeview\"><summary><span class=\"dni-code-hint\"><code>[ [Content-Type, application/json; charset=utf-8], [Content-Length, 22] ]</code></span></summary><div><table><thead><tr></tr></thead><tbody><tr><td>Count</td><td><div class=\"dni-plaintext\"><pre>2</pre></div></td></tr><tr><td><i>(values)</i></td><td><table><thead><tr><th><i>index</i></th><th>value</th></tr></thead><tbody><tr><td>0</td><td><details class=\"dni-treeview\"><summary><span class=\"dni-code-hint\"><code>[Content-Type, application/json; charset=utf-8]</code></span></summary><div><table><thead><tr></tr></thead><tbody><tr><td>Key</td><td><div class=\"dni-plaintext\"><pre>Content-Type</pre></div></td></tr><tr><td>Value</td><td><details class=\"dni-treeview\"><summary><span class=\"dni-code-hint\"><code>[ application/json; charset=utf-8 ]</code></span></summary><div><table><thead><tr></tr></thead><tbody><tr><td>Count</td><td>1</td></tr><tr><td><i>(values)</i></td><td><div class=\"dni-plaintext\"><pre>[ application/json; charset=utf-8 ]</pre></div></td></tr></tbody></table></div></details></td></tr></tbody></table></div></details></td></tr><tr><td>1</td><td><details class=\"dni-treeview\"><summary><span class=\"dni-code-hint\"><code>[Content-Length, 22]</code></span></summary><div><table><thead><tr></tr></thead><tbody><tr><td>Key</td><td><div class=\"dni-plaintext\"><pre>Content-Length</pre></div></td></tr><tr><td>Value</td><td><details class=\"dni-treeview\"><summary><span class=\"dni-code-hint\"><code>[ 22 ]</code></span></summary><div><table><thead><tr></tr></thead><tbody><tr><td>Count</td><td>1</td></tr><tr><td><i>(values)</i></td><td><div class=\"dni-plaintext\"><pre>[ 22 ]</pre></div></td></tr></tbody></table></div></details></td></tr></tbody></table></div></details></td></tr></tbody></table></td></tr></tbody></table></div></details></td></tr><tr><td><i>(values)</i></td><td><table><thead><tr><th><i>index</i></th><th>value</th></tr></thead><tbody><tr><td>0</td><td><details class=\"dni-treeview\"><summary><span class=\"dni-code-hint\"><code>[Content-Type, System.String[]]</code></span></summary><div><table><thead><tr></tr></thead><tbody><tr><td>Key</td><td><div class=\"dni-plaintext\"><pre>Content-Type</pre></div></td></tr><tr><td>Value</td><td><div class=\"dni-plaintext\"><pre>[ application/json; charset=utf-8 ]</pre></div></td></tr></tbody></table></div></details></td></tr><tr><td>1</td><td><details class=\"dni-treeview\"><summary><span class=\"dni-code-hint\"><code>[Content-Length, System.String[]]</code></span></summary><div><table><thead><tr></tr></thead><tbody><tr><td>Key</td><td><div class=\"dni-plaintext\"><pre>Content-Length</pre></div></td></tr><tr><td>Value</td><td><div class=\"dni-plaintext\"><pre>[ 22 ]</pre></div></td></tr></tbody></table></div></details></td></tr></tbody></table></td></tr></tbody></table></div></details></td></tr></tbody></table></div></details></td></tr><tr><td>StatusCode</td><td><span>OK</span></td></tr><tr><td>ReasonPhrase</td><td><div class=\"dni-plaintext\"><pre>OK</pre></div></td></tr><tr><td>Headers</td><td><details class=\"dni-treeview\"><summary><span class=\"dni-code-hint\"><code>[ [Date, System.String[]], [Server, System.String[]], [Transfer-Encoding, System.String[]] ]</code></span></summary><div><table><thead><tr></tr></thead><tbody><tr><td>AcceptRanges</td><td><details class=\"dni-treeview\"><summary><span class=\"dni-code-hint\"><code>[  ]</code></span></summary><div><table><thead><tr></tr></thead><tbody><tr><td>Count</td><td><div class=\"dni-plaintext\"><pre>0</pre></div></td></tr><tr><td>IsReadOnly</td><td><div class=\"dni-plaintext\"><pre>False</pre></div></td></tr><tr><td><i>(values)</i></td><td><div class=\"dni-plaintext\"><pre>[  ]</pre></div></td></tr></tbody></table></div></details></td></tr><tr><td>Age</td><td><div class=\"dni-plaintext\"><pre>&lt;null&gt;</pre></div></td></tr><tr><td>ETag</td><td><div class=\"dni-plaintext\"><pre>&lt;null&gt;</pre></div></td></tr><tr><td>Location</td><td><div class=\"dni-plaintext\"><pre>&lt;null&gt;</pre></div></td></tr><tr><td>ProxyAuthenticate</td><td><details class=\"dni-treeview\"><summary><span class=\"dni-code-hint\"><code>[  ]</code></span></summary><div><table><thead><tr></tr></thead><tbody><tr><td>Count</td><td><div class=\"dni-plaintext\"><pre>0</pre></div></td></tr><tr><td>IsReadOnly</td><td><div class=\"dni-plaintext\"><pre>False</pre></div></td></tr><tr><td><i>(values)</i></td><td><i>(empty)</i></td></tr></tbody></table></div></details></td></tr><tr><td>RetryAfter</td><td><div class=\"dni-plaintext\"><pre>&lt;null&gt;</pre></div></td></tr><tr><td>Server</td><td><details class=\"dni-treeview\"><summary><span class=\"dni-code-hint\"><code>[ Kestrel ]</code></span></summary><div><table><thead><tr></tr></thead><tbody><tr><td>Count</td><td><div class=\"dni-plaintext\"><pre>1</pre></div></td></tr><tr><td>IsReadOnly</td><td><div class=\"dni-plaintext\"><pre>False</pre></div></td></tr><tr><td><i>(values)</i></td><td><table><thead><tr><th><i>index</i></th><th>value</th></tr></thead><tbody><tr><td>0</td><td><details class=\"dni-treeview\"><summary><span class=\"dni-code-hint\"><code>Kestrel</code></span></summary><div><table><thead><tr></tr></thead><tbody><tr><td>Product</td><td><details class=\"dni-treeview\"><summary><span class=\"dni-code-hint\"><code>Kestrel</code></span></summary><div><table><thead><tr></tr></thead><tbody><tr><td>Name</td><td><div class=\"dni-plaintext\"><pre>Kestrel</pre></div></td></tr><tr><td>Version</td><td><div class=\"dni-plaintext\"><pre>&lt;null&gt;</pre></div></td></tr></tbody></table></div></details></td></tr><tr><td>Comment</td><td><div class=\"dni-plaintext\"><pre>&lt;null&gt;</pre></div></td></tr></tbody></table></div></details></td></tr></tbody></table></td></tr></tbody></table></div></details></td></tr><tr><td>Vary</td><td><details class=\"dni-treeview\"><summary><span class=\"dni-code-hint\"><code>[  ]</code></span></summary><div><table><thead><tr></tr></thead><tbody><tr><td>Count</td><td><div class=\"dni-plaintext\"><pre>0</pre></div></td></tr><tr><td>IsReadOnly</td><td><div class=\"dni-plaintext\"><pre>False</pre></div></td></tr><tr><td><i>(values)</i></td><td><div class=\"dni-plaintext\"><pre>[  ]</pre></div></td></tr></tbody></table></div></details></td></tr><tr><td>WwwAuthenticate</td><td><details class=\"dni-treeview\"><summary><span class=\"dni-code-hint\"><code>[  ]</code></span></summary><div><table><thead><tr></tr></thead><tbody><tr><td>Count</td><td><div class=\"dni-plaintext\"><pre>0</pre></div></td></tr><tr><td>IsReadOnly</td><td><div class=\"dni-plaintext\"><pre>False</pre></div></td></tr><tr><td><i>(values)</i></td><td><i>(empty)</i></td></tr></tbody></table></div></details></td></tr><tr><td>CacheControl</td><td><div class=\"dni-plaintext\"><pre>&lt;null&gt;</pre></div></td></tr><tr><td>Connection</td><td><details class=\"dni-treeview\"><summary><span class=\"dni-code-hint\"><code>[  ]</code></span></summary><div><table><thead><tr></tr></thead><tbody><tr><td>Count</td><td><div class=\"dni-plaintext\"><pre>0</pre></div></td></tr><tr><td>IsReadOnly</td><td><div class=\"dni-plaintext\"><pre>False</pre></div></td></tr><tr><td><i>(values)</i></td><td><div class=\"dni-plaintext\"><pre>[  ]</pre></div></td></tr></tbody></table></div></details></td></tr><tr><td>ConnectionClose</td><td><div class=\"dni-plaintext\"><pre>&lt;null&gt;</pre></div></td></tr><tr><td>Date</td><td><span>2025-07-18 12:48:10Z</span></td></tr><tr><td>Pragma</td><td><details class=\"dni-treeview\"><summary><span class=\"dni-code-hint\"><code>[  ]</code></span></summary><div><table><thead><tr></tr></thead><tbody><tr><td>Count</td><td><div class=\"dni-plaintext\"><pre>0</pre></div></td></tr><tr><td>IsReadOnly</td><td><div class=\"dni-plaintext\"><pre>False</pre></div></td></tr><tr><td><i>(values)</i></td><td><i>(empty)</i></td></tr></tbody></table></div></details></td></tr><tr><td>Trailer</td><td><details class=\"dni-treeview\"><summary><span class=\"dni-code-hint\"><code>[  ]</code></span></summary><div><table><thead><tr></tr></thead><tbody><tr><td>Count</td><td><div class=\"dni-plaintext\"><pre>0</pre></div></td></tr><tr><td>IsReadOnly</td><td><div class=\"dni-plaintext\"><pre>False</pre></div></td></tr><tr><td><i>(values)</i></td><td><div class=\"dni-plaintext\"><pre>[  ]</pre></div></td></tr></tbody></table></div></details></td></tr><tr><td>TransferEncoding</td><td><details class=\"dni-treeview\"><summary><span class=\"dni-code-hint\"><code>[ chunked ]</code></span></summary><div><table><thead><tr></tr></thead><tbody><tr><td>Count</td><td><div class=\"dni-plaintext\"><pre>1</pre></div></td></tr><tr><td>IsReadOnly</td><td><div class=\"dni-plaintext\"><pre>False</pre></div></td></tr><tr><td><i>(values)</i></td><td><table><thead><tr><th><i>index</i></th><th>value</th></tr></thead><tbody><tr><td>0</td><td><details class=\"dni-treeview\"><summary><span class=\"dni-code-hint\"><code>chunked</code></span></summary><div><table><thead><tr></tr></thead><tbody><tr><td>Value</td><td><div class=\"dni-plaintext\"><pre>chunked</pre></div></td></tr><tr><td>Parameters</td><td><details class=\"dni-treeview\"><summary><span class=\"dni-code-hint\"><code>[  ]</code></span></summary><div><table><thead><tr></tr></thead><tbody><tr><td>Count</td><td><div class=\"dni-plaintext\"><pre>0</pre></div></td></tr><tr><td>IsReadOnly</td><td><div class=\"dni-plaintext\"><pre>False</pre></div></td></tr><tr><td><i>(values)</i></td><td><i>(empty)</i></td></tr></tbody></table></div></details></td></tr></tbody></table></div></details></td></tr></tbody></table></td></tr></tbody></table></div></details></td></tr><tr><td>TransferEncodingChunked</td><td><div class=\"dni-plaintext\"><pre>True</pre></div></td></tr><tr><td>Upgrade</td><td><details class=\"dni-treeview\"><summary><span class=\"dni-code-hint\"><code>[  ]</code></span></summary><div><table><thead><tr></tr></thead><tbody><tr><td>Count</td><td><div class=\"dni-plaintext\"><pre>0</pre></div></td></tr><tr><td>IsReadOnly</td><td><div class=\"dni-plaintext\"><pre>False</pre></div></td></tr><tr><td><i>(values)</i></td><td><i>(empty)</i></td></tr></tbody></table></div></details></td></tr><tr><td>Via</td><td><details class=\"dni-treeview\"><summary><span class=\"dni-code-hint\"><code>[  ]</code></span></summary><div><table><thead><tr></tr></thead><tbody><tr><td>Count</td><td><div class=\"dni-plaintext\"><pre>0</pre></div></td></tr><tr><td>IsReadOnly</td><td><div class=\"dni-plaintext\"><pre>False</pre></div></td></tr><tr><td><i>(values)</i></td><td><i>(empty)</i></td></tr></tbody></table></div></details></td></tr><tr><td>Warning</td><td><details class=\"dni-treeview\"><summary><span class=\"dni-code-hint\"><code>[  ]</code></span></summary><div><table><thead><tr></tr></thead><tbody><tr><td>Count</td><td><div class=\"dni-plaintext\"><pre>0</pre></div></td></tr><tr><td>IsReadOnly</td><td><div class=\"dni-plaintext\"><pre>False</pre></div></td></tr><tr><td><i>(values)</i></td><td><i>(empty)</i></td></tr></tbody></table></div></details></td></tr><tr><td>NonValidated</td><td><details class=\"dni-treeview\"><summary><span class=\"dni-code-hint\"><code>[ [Date, Fri, 18 Jul 2025 12:48:10 GMT], [Server, Kestrel], [Transfer-Encoding, chunked] ]</code></span></summary><div><table><thead><tr></tr></thead><tbody><tr><td>Count</td><td><div class=\"dni-plaintext\"><pre>3</pre></div></td></tr><tr><td><i>(values)</i></td><td><table><thead><tr><th><i>index</i></th><th>value</th></tr></thead><tbody><tr><td>0</td><td><details class=\"dni-treeview\"><summary><span class=\"dni-code-hint\"><code>[Date, Fri, 18 Jul 2025 12:48:10 GMT]</code></span></summary><div><table><thead><tr></tr></thead><tbody><tr><td>Key</td><td><div class=\"dni-plaintext\"><pre>Date</pre></div></td></tr><tr><td>Value</td><td><details class=\"dni-treeview\"><summary><span class=\"dni-code-hint\"><code>[ Fri, 18 Jul 2025 12:48:10 GMT ]</code></span></summary><div><table><thead><tr></tr></thead><tbody><tr><td>Count</td><td><div class=\"dni-plaintext\"><pre>1</pre></div></td></tr><tr><td><i>(values)</i></td><td><div class=\"dni-plaintext\"><pre>[ Fri, 18 Jul 2025 12:48:10 GMT ]</pre></div></td></tr></tbody></table></div></details></td></tr></tbody></table></div></details></td></tr><tr><td>1</td><td><details class=\"dni-treeview\"><summary><span class=\"dni-code-hint\"><code>[Server, Kestrel]</code></span></summary><div><table><thead><tr></tr></thead><tbody><tr><td>Key</td><td><div class=\"dni-plaintext\"><pre>Server</pre></div></td></tr><tr><td>Value</td><td><details class=\"dni-treeview\"><summary><span class=\"dni-code-hint\"><code>[ Kestrel ]</code></span></summary><div><table><thead><tr></tr></thead><tbody><tr><td>Count</td><td><div class=\"dni-plaintext\"><pre>1</pre></div></td></tr><tr><td><i>(values)</i></td><td><div class=\"dni-plaintext\"><pre>[ Kestrel ]</pre></div></td></tr></tbody></table></div></details></td></tr></tbody></table></div></details></td></tr><tr><td>2</td><td><details class=\"dni-treeview\"><summary><span class=\"dni-code-hint\"><code>[Transfer-Encoding, chunked]</code></span></summary><div><table><thead><tr></tr></thead><tbody><tr><td>Key</td><td><div class=\"dni-plaintext\"><pre>Transfer-Encoding</pre></div></td></tr><tr><td>Value</td><td><details class=\"dni-treeview\"><summary><span class=\"dni-code-hint\"><code>[ chunked ]</code></span></summary><div><table><thead><tr></tr></thead><tbody><tr><td>Count</td><td><div class=\"dni-plaintext\"><pre>1</pre></div></td></tr><tr><td><i>(values)</i></td><td><div class=\"dni-plaintext\"><pre>[ chunked ]</pre></div></td></tr></tbody></table></div></details></td></tr></tbody></table></div></details></td></tr></tbody></table></td></tr></tbody></table></div></details></td></tr><tr><td><i>(values)</i></td><td><table><thead><tr><th><i>index</i></th><th>value</th></tr></thead><tbody><tr><td>0</td><td><details class=\"dni-treeview\"><summary><span class=\"dni-code-hint\"><code>[Date, System.String[]]</code></span></summary><div><table><thead><tr></tr></thead><tbody><tr><td>Key</td><td><div class=\"dni-plaintext\"><pre>Date</pre></div></td></tr><tr><td>Value</td><td><div class=\"dni-plaintext\"><pre>[ Fri, 18 Jul 2025 12:48:10 GMT ]</pre></div></td></tr></tbody></table></div></details></td></tr><tr><td>1</td><td><details class=\"dni-treeview\"><summary><span class=\"dni-code-hint\"><code>[Server, System.String[]]</code></span></summary><div><table><thead><tr></tr></thead><tbody><tr><td>Key</td><td><div class=\"dni-plaintext\"><pre>Server</pre></div></td></tr><tr><td>Value</td><td><div class=\"dni-plaintext\"><pre>[ Kestrel ]</pre></div></td></tr></tbody></table></div></details></td></tr><tr><td>2</td><td><details class=\"dni-treeview\"><summary><span class=\"dni-code-hint\"><code>[Transfer-Encoding, System.String[]]</code></span></summary><div><table><thead><tr></tr></thead><tbody><tr><td>Key</td><td><div class=\"dni-plaintext\"><pre>Transfer-Encoding</pre></div></td></tr><tr><td>Value</td><td><div class=\"dni-plaintext\"><pre>[ chunked ]</pre></div></td></tr></tbody></table></div></details></td></tr></tbody></table></td></tr></tbody></table></div></details></td></tr><tr><td>TrailingHeaders</td><td><details class=\"dni-treeview\"><summary><span class=\"dni-code-hint\"><code>[  ]</code></span></summary><div><table><thead><tr></tr></thead><tbody><tr><td>AcceptRanges</td><td><details class=\"dni-treeview\"><summary><span class=\"dni-code-hint\"><code>[  ]</code></span></summary><div><table><thead><tr></tr></thead><tbody><tr><td>Count</td><td><div class=\"dni-plaintext\"><pre>0</pre></div></td></tr><tr><td>IsReadOnly</td><td><div class=\"dni-plaintext\"><pre>False</pre></div></td></tr><tr><td><i>(values)</i></td><td><div class=\"dni-plaintext\"><pre>[  ]</pre></div></td></tr></tbody></table></div></details></td></tr><tr><td>Age</td><td><div class=\"dni-plaintext\"><pre>&lt;null&gt;</pre></div></td></tr><tr><td>ETag</td><td><div class=\"dni-plaintext\"><pre>&lt;null&gt;</pre></div></td></tr><tr><td>Location</td><td><div class=\"dni-plaintext\"><pre>&lt;null&gt;</pre></div></td></tr><tr><td>ProxyAuthenticate</td><td><details class=\"dni-treeview\"><summary><span class=\"dni-code-hint\"><code>[  ]</code></span></summary><div><table><thead><tr></tr></thead><tbody><tr><td>Count</td><td><div class=\"dni-plaintext\"><pre>0</pre></div></td></tr><tr><td>IsReadOnly</td><td><div class=\"dni-plaintext\"><pre>False</pre></div></td></tr><tr><td><i>(values)</i></td><td><i>(empty)</i></td></tr></tbody></table></div></details></td></tr><tr><td>RetryAfter</td><td><div class=\"dni-plaintext\"><pre>&lt;null&gt;</pre></div></td></tr><tr><td>Server</td><td><details class=\"dni-treeview\"><summary><span class=\"dni-code-hint\"><code>[  ]</code></span></summary><div><table><thead><tr></tr></thead><tbody><tr><td>Count</td><td><div class=\"dni-plaintext\"><pre>0</pre></div></td></tr><tr><td>IsReadOnly</td><td><div class=\"dni-plaintext\"><pre>False</pre></div></td></tr><tr><td><i>(values)</i></td><td><i>(empty)</i></td></tr></tbody></table></div></details></td></tr><tr><td>Vary</td><td><details class=\"dni-treeview\"><summary><span class=\"dni-code-hint\"><code>[  ]</code></span></summary><div><table><thead><tr></tr></thead><tbody><tr><td>Count</td><td><div class=\"dni-plaintext\"><pre>0</pre></div></td></tr><tr><td>IsReadOnly</td><td><div class=\"dni-plaintext\"><pre>False</pre></div></td></tr><tr><td><i>(values)</i></td><td><div class=\"dni-plaintext\"><pre>[  ]</pre></div></td></tr></tbody></table></div></details></td></tr><tr><td>WwwAuthenticate</td><td><details class=\"dni-treeview\"><summary><span class=\"dni-code-hint\"><code>[  ]</code></span></summary><div><table><thead><tr></tr></thead><tbody><tr><td>Count</td><td><div class=\"dni-plaintext\"><pre>0</pre></div></td></tr><tr><td>IsReadOnly</td><td><div class=\"dni-plaintext\"><pre>False</pre></div></td></tr><tr><td><i>(values)</i></td><td><i>(empty)</i></td></tr></tbody></table></div></details></td></tr><tr><td>CacheControl</td><td><div class=\"dni-plaintext\"><pre>&lt;null&gt;</pre></div></td></tr><tr><td>Connection</td><td><details class=\"dni-treeview\"><summary><span class=\"dni-code-hint\"><code>[  ]</code></span></summary><div><table><thead><tr></tr></thead><tbody><tr><td>Count</td><td><div class=\"dni-plaintext\"><pre>0</pre></div></td></tr><tr><td>IsReadOnly</td><td><div class=\"dni-plaintext\"><pre>False</pre></div></td></tr><tr><td><i>(values)</i></td><td><div class=\"dni-plaintext\"><pre>[  ]</pre></div></td></tr></tbody></table></div></details></td></tr><tr><td>ConnectionClose</td><td><div class=\"dni-plaintext\"><pre>&lt;null&gt;</pre></div></td></tr><tr><td>Date</td><td><div class=\"dni-plaintext\"><pre>&lt;null&gt;</pre></div></td></tr><tr><td>Pragma</td><td><details class=\"dni-treeview\"><summary><span class=\"dni-code-hint\"><code>[  ]</code></span></summary><div><table><thead><tr></tr></thead><tbody><tr><td>Count</td><td><div class=\"dni-plaintext\"><pre>0</pre></div></td></tr><tr><td>IsReadOnly</td><td><div class=\"dni-plaintext\"><pre>False</pre></div></td></tr><tr><td><i>(values)</i></td><td><i>(empty)</i></td></tr></tbody></table></div></details></td></tr><tr><td>Trailer</td><td><details class=\"dni-treeview\"><summary><span class=\"dni-code-hint\"><code>[  ]</code></span></summary><div><table><thead><tr></tr></thead><tbody><tr><td>Count</td><td><div class=\"dni-plaintext\"><pre>0</pre></div></td></tr><tr><td>IsReadOnly</td><td><div class=\"dni-plaintext\"><pre>False</pre></div></td></tr><tr><td><i>(values)</i></td><td><div class=\"dni-plaintext\"><pre>[  ]</pre></div></td></tr></tbody></table></div></details></td></tr><tr><td>TransferEncoding</td><td><details class=\"dni-treeview\"><summary><span class=\"dni-code-hint\"><code>[  ]</code></span></summary><div><table><thead><tr></tr></thead><tbody><tr><td>Count</td><td><div class=\"dni-plaintext\"><pre>0</pre></div></td></tr><tr><td>IsReadOnly</td><td><div class=\"dni-plaintext\"><pre>False</pre></div></td></tr><tr><td><i>(values)</i></td><td><i>(empty)</i></td></tr></tbody></table></div></details></td></tr><tr><td>TransferEncodingChunked</td><td><div class=\"dni-plaintext\"><pre>&lt;null&gt;</pre></div></td></tr><tr><td>Upgrade</td><td><details class=\"dni-treeview\"><summary><span class=\"dni-code-hint\"><code>[  ]</code></span></summary><div><table><thead><tr></tr></thead><tbody><tr><td>Count</td><td><div class=\"dni-plaintext\"><pre>0</pre></div></td></tr><tr><td>IsReadOnly</td><td><div class=\"dni-plaintext\"><pre>False</pre></div></td></tr><tr><td><i>(values)</i></td><td><i>(empty)</i></td></tr></tbody></table></div></details></td></tr><tr><td>Via</td><td><details class=\"dni-treeview\"><summary><span class=\"dni-code-hint\"><code>[  ]</code></span></summary><div><table><thead><tr></tr></thead><tbody><tr><td>Count</td><td><div class=\"dni-plaintext\"><pre>0</pre></div></td></tr><tr><td>IsReadOnly</td><td><div class=\"dni-plaintext\"><pre>False</pre></div></td></tr><tr><td><i>(values)</i></td><td><i>(empty)</i></td></tr></tbody></table></div></details></td></tr><tr><td>Warning</td><td><details class=\"dni-treeview\"><summary><span class=\"dni-code-hint\"><code>[  ]</code></span></summary><div><table><thead><tr></tr></thead><tbody><tr><td>Count</td><td><div class=\"dni-plaintext\"><pre>0</pre></div></td></tr><tr><td>IsReadOnly</td><td><div class=\"dni-plaintext\"><pre>False</pre></div></td></tr><tr><td><i>(values)</i></td><td><i>(empty)</i></td></tr></tbody></table></div></details></td></tr><tr><td>NonValidated</td><td><details class=\"dni-treeview\"><summary><span class=\"dni-code-hint\"><code>[  ]</code></span></summary><div><table><thead><tr></tr></thead><tbody><tr><td>Count</td><td><div class=\"dni-plaintext\"><pre>0</pre></div></td></tr><tr><td><i>(values)</i></td><td><i>(empty)</i></td></tr></tbody></table></div></details></td></tr><tr><td><i>(values)</i></td><td><i>(empty)</i></td></tr></tbody></table></div></details></td></tr><tr><td>RequestMessage</td><td><details class=\"dni-treeview\"><summary><span class=\"dni-code-hint\"><code>Method: POST, RequestUri: &#39;http://localhost:7000/products/3/remove-stocks&#39;, Version: 1.1, Content: System.Net.Http.StringContent, Headers:\\r\\n{\\r\\n  traceparent: 00-f9112acd668ee04cc896ad290c83d7e5-736f2d3d05592116-00\\r\\n  Content-Type: application/json; charset=utf-8\\r\\n  Content-Length: 15\\r\\n}</code></span></summary><div><table><thead><tr></tr></thead><tbody><tr><td>Version</td><td><details class=\"dni-treeview\"><summary><span class=\"dni-code-hint\"><code>1.1</code></span></summary><div><table><thead><tr></tr></thead><tbody><tr><td>Major</td><td><div class=\"dni-plaintext\"><pre>1</pre></div></td></tr><tr><td>Minor</td><td><div class=\"dni-plaintext\"><pre>1</pre></div></td></tr><tr><td>Build</td><td><div class=\"dni-plaintext\"><pre>-1</pre></div></td></tr><tr><td>Revision</td><td><div class=\"dni-plaintext\"><pre>-1</pre></div></td></tr><tr><td>MajorRevision</td><td><div class=\"dni-plaintext\"><pre>-1</pre></div></td></tr><tr><td>MinorRevision</td><td><div class=\"dni-plaintext\"><pre>-1</pre></div></td></tr></tbody></table></div></details></td></tr><tr><td>VersionPolicy</td><td><span>RequestVersionOrLower</span></td></tr><tr><td>Content</td><td><details class=\"dni-treeview\"><summary><span class=\"dni-code-hint\"><code>System.Net.Http.StringContent</code></span></summary><div><table><thead><tr></tr></thead><tbody><tr><td>Headers</td><td><details class=\"dni-treeview\"><summary><span class=\"dni-code-hint\"><code>[ [Content-Type, System.String[]], [Content-Length, System.String[]] ]</code></span></summary><div><table><thead><tr></tr></thead><tbody><tr><td>Allow</td><td><details class=\"dni-treeview\"><summary><span class=\"dni-code-hint\"><code>[  ]</code></span></summary><div><table><thead><tr></tr></thead><tbody><tr><td>Count</td><td><div class=\"dni-plaintext\"><pre>0</pre></div></td></tr><tr><td>IsReadOnly</td><td><div class=\"dni-plaintext\"><pre>False</pre></div></td></tr><tr><td><i>(values)</i></td><td><div class=\"dni-plaintext\"><pre>[  ]</pre></div></td></tr></tbody></table></div></details></td></tr><tr><td>ContentDisposition</td><td><div class=\"dni-plaintext\"><pre>&lt;null&gt;</pre></div></td></tr><tr><td>ContentEncoding</td><td><details class=\"dni-treeview\"><summary><span class=\"dni-code-hint\"><code>[  ]</code></span></summary><div><table><thead><tr></tr></thead><tbody><tr><td>Count</td><td><div class=\"dni-plaintext\"><pre>0</pre></div></td></tr><tr><td>IsReadOnly</td><td><div class=\"dni-plaintext\"><pre>False</pre></div></td></tr><tr><td><i>(values)</i></td><td><div class=\"dni-plaintext\"><pre>[  ]</pre></div></td></tr></tbody></table></div></details></td></tr><tr><td>ContentLanguage</td><td><details class=\"dni-treeview\"><summary><span class=\"dni-code-hint\"><code>[  ]</code></span></summary><div><table><thead><tr></tr></thead><tbody><tr><td>Count</td><td><div class=\"dni-plaintext\"><pre>0</pre></div></td></tr><tr><td>IsReadOnly</td><td><div class=\"dni-plaintext\"><pre>False</pre></div></td></tr><tr><td><i>(values)</i></td><td><div class=\"dni-plaintext\"><pre>[  ]</pre></div></td></tr></tbody></table></div></details></td></tr><tr><td>ContentLength</td><td><div class=\"dni-plaintext\"><pre>15</pre></div></td></tr><tr><td>ContentLocation</td><td><div class=\"dni-plaintext\"><pre>&lt;null&gt;</pre></div></td></tr><tr><td>ContentMD5</td><td><div class=\"dni-plaintext\"><pre>&lt;null&gt;</pre></div></td></tr><tr><td>ContentRange</td><td><div class=\"dni-plaintext\"><pre>&lt;null&gt;</pre></div></td></tr><tr><td>ContentType</td><td><details class=\"dni-treeview\"><summary><span class=\"dni-code-hint\"><code>application/json; charset=utf-8</code></span></summary><div><table><thead><tr></tr></thead><tbody><tr><td>CharSet</td><td><div class=\"dni-plaintext\"><pre>utf-8</pre></div></td></tr><tr><td>Parameters</td><td><details class=\"dni-treeview\"><summary><span class=\"dni-code-hint\"><code>[ charset=utf-8 ]</code></span></summary><div><table><thead><tr></tr></thead><tbody><tr><td>Count</td><td>1</td></tr><tr><td>IsReadOnly</td><td>False</td></tr><tr><td><i>(values)</i></td><td><table><thead><tr><th><i>index</i></th><th>value</th></tr></thead><tbody><tr><td>0</td><td>charset=utf-8</td></tr></tbody></table></td></tr></tbody></table></div></details></td></tr><tr><td>MediaType</td><td><div class=\"dni-plaintext\"><pre>application/json</pre></div></td></tr></tbody></table></div></details></td></tr><tr><td>Expires</td><td><div class=\"dni-plaintext\"><pre>&lt;null&gt;</pre></div></td></tr><tr><td>LastModified</td><td><div class=\"dni-plaintext\"><pre>&lt;null&gt;</pre></div></td></tr><tr><td>NonValidated</td><td><details class=\"dni-treeview\"><summary><span class=\"dni-code-hint\"><code>[ [Content-Type, application/json; charset=utf-8], [Content-Length, 15] ]</code></span></summary><div><table><thead><tr></tr></thead><tbody><tr><td>Count</td><td><div class=\"dni-plaintext\"><pre>2</pre></div></td></tr><tr><td><i>(values)</i></td><td><table><thead><tr><th><i>index</i></th><th>value</th></tr></thead><tbody><tr><td>0</td><td><details class=\"dni-treeview\"><summary><span class=\"dni-code-hint\"><code>[Content-Type, application/json; charset=utf-8]</code></span></summary><div><table><thead><tr></tr></thead><tbody><tr><td>Key</td><td>Content-Type</td></tr><tr><td>Value</td><td>[ application/json; charset=utf-8 ]</td></tr></tbody></table></div></details></td></tr><tr><td>1</td><td><details class=\"dni-treeview\"><summary><span class=\"dni-code-hint\"><code>[Content-Length, 15]</code></span></summary><div><table><thead><tr></tr></thead><tbody><tr><td>Key</td><td>Content-Length</td></tr><tr><td>Value</td><td>[ 15 ]</td></tr></tbody></table></div></details></td></tr></tbody></table></td></tr></tbody></table></div></details></td></tr><tr><td><i>(values)</i></td><td><table><thead><tr><th><i>index</i></th><th>value</th></tr></thead><tbody><tr><td>0</td><td><details class=\"dni-treeview\"><summary><span class=\"dni-code-hint\"><code>[Content-Type, System.String[]]</code></span></summary><div><table><thead><tr></tr></thead><tbody><tr><td>Key</td><td><div class=\"dni-plaintext\"><pre>Content-Type</pre></div></td></tr><tr><td>Value</td><td><div class=\"dni-plaintext\"><pre>[ application/json; charset=utf-8 ]</pre></div></td></tr></tbody></table></div></details></td></tr><tr><td>1</td><td><details class=\"dni-treeview\"><summary><span class=\"dni-code-hint\"><code>[Content-Length, System.String[]]</code></span></summary><div><table><thead><tr></tr></thead><tbody><tr><td>Key</td><td><div class=\"dni-plaintext\"><pre>Content-Length</pre></div></td></tr><tr><td>Value</td><td><div class=\"dni-plaintext\"><pre>[ 15 ]</pre></div></td></tr></tbody></table></div></details></td></tr></tbody></table></td></tr></tbody></table></div></details></td></tr></tbody></table></div></details></td></tr><tr><td>Method</td><td><details class=\"dni-treeview\"><summary><span class=\"dni-code-hint\"><code>POST</code></span></summary><div><table><thead><tr></tr></thead><tbody><tr><td>Method</td><td><div class=\"dni-plaintext\"><pre>POST</pre></div></td></tr></tbody></table></div></details></td></tr><tr><td>RequestUri</td><td><details class=\"dni-treeview\"><summary><span class=\"dni-code-hint\"><code>http://localhost:7000/products/3/remove-stocks</code></span></summary><div><table><thead><tr></tr></thead><tbody><tr><td>AbsolutePath</td><td><div class=\"dni-plaintext\"><pre>/products/3/remove-stocks</pre></div></td></tr><tr><td>AbsoluteUri</td><td><div class=\"dni-plaintext\"><pre>http://localhost:7000/products/3/remove-stocks</pre></div></td></tr><tr><td>LocalPath</td><td><div class=\"dni-plaintext\"><pre>/products/3/remove-stocks</pre></div></td></tr><tr><td>Authority</td><td><div class=\"dni-plaintext\"><pre>localhost:7000</pre></div></td></tr><tr><td>HostNameType</td><td><span>Dns</span></td></tr><tr><td>IsDefaultPort</td><td><div class=\"dni-plaintext\"><pre>False</pre></div></td></tr><tr><td>IsFile</td><td><div class=\"dni-plaintext\"><pre>False</pre></div></td></tr><tr><td>IsLoopback</td><td><div class=\"dni-plaintext\"><pre>True</pre></div></td></tr><tr><td>PathAndQuery</td><td><div class=\"dni-plaintext\"><pre>/products/3/remove-stocks</pre></div></td></tr><tr><td>Segments</td><td><div class=\"dni-plaintext\"><pre>[ /, products/, 3/, remove-stocks ]</pre></div></td></tr><tr><td>IsUnc</td><td><div class=\"dni-plaintext\"><pre>False</pre></div></td></tr><tr><td>Host</td><td><div class=\"dni-plaintext\"><pre>localhost</pre></div></td></tr><tr><td>Port</td><td><div class=\"dni-plaintext\"><pre>7000</pre></div></td></tr><tr><td>Query</td><td><div class=\"dni-plaintext\"><pre></pre></div></td></tr><tr><td>Fragment</td><td><div class=\"dni-plaintext\"><pre></pre></div></td></tr><tr><td>Scheme</td><td><div class=\"dni-plaintext\"><pre>http</pre></div></td></tr><tr><td>OriginalString</td><td><div class=\"dni-plaintext\"><pre>http://localhost:7000/products/3/remove-stocks</pre></div></td></tr><tr><td>DnsSafeHost</td><td><div class=\"dni-plaintext\"><pre>localhost</pre></div></td></tr><tr><td>IdnHost</td><td><div class=\"dni-plaintext\"><pre>localhost</pre></div></td></tr><tr><td>IsAbsoluteUri</td><td><div class=\"dni-plaintext\"><pre>True</pre></div></td></tr><tr><td>UserEscaped</td><td><div class=\"dni-plaintext\"><pre>False</pre></div></td></tr><tr><td>UserInfo</td><td><div class=\"dni-plaintext\"><pre></pre></div></td></tr></tbody></table></div></details></td></tr><tr><td>Headers</td><td><details class=\"dni-treeview\"><summary><span class=\"dni-code-hint\"><code>[ [traceparent, System.String[]] ]</code></span></summary><div><table><thead><tr></tr></thead><tbody><tr><td>Accept</td><td><details class=\"dni-treeview\"><summary><span class=\"dni-code-hint\"><code>[  ]</code></span></summary><div><table><thead><tr></tr></thead><tbody><tr><td>Count</td><td><div class=\"dni-plaintext\"><pre>0</pre></div></td></tr><tr><td>IsReadOnly</td><td><div class=\"dni-plaintext\"><pre>False</pre></div></td></tr><tr><td><i>(values)</i></td><td><i>(empty)</i></td></tr></tbody></table></div></details></td></tr><tr><td>AcceptCharset</td><td><details class=\"dni-treeview\"><summary><span class=\"dni-code-hint\"><code>[  ]</code></span></summary><div><table><thead><tr></tr></thead><tbody><tr><td>Count</td><td><div class=\"dni-plaintext\"><pre>0</pre></div></td></tr><tr><td>IsReadOnly</td><td><div class=\"dni-plaintext\"><pre>False</pre></div></td></tr><tr><td><i>(values)</i></td><td><i>(empty)</i></td></tr></tbody></table></div></details></td></tr><tr><td>AcceptEncoding</td><td><details class=\"dni-treeview\"><summary><span class=\"dni-code-hint\"><code>[  ]</code></span></summary><div><table><thead><tr></tr></thead><tbody><tr><td>Count</td><td><div class=\"dni-plaintext\"><pre>0</pre></div></td></tr><tr><td>IsReadOnly</td><td><div class=\"dni-plaintext\"><pre>False</pre></div></td></tr><tr><td><i>(values)</i></td><td><i>(empty)</i></td></tr></tbody></table></div></details></td></tr><tr><td>AcceptLanguage</td><td><details class=\"dni-treeview\"><summary><span class=\"dni-code-hint\"><code>[  ]</code></span></summary><div><table><thead><tr></tr></thead><tbody><tr><td>Count</td><td><div class=\"dni-plaintext\"><pre>0</pre></div></td></tr><tr><td>IsReadOnly</td><td><div class=\"dni-plaintext\"><pre>False</pre></div></td></tr><tr><td><i>(values)</i></td><td><i>(empty)</i></td></tr></tbody></table></div></details></td></tr><tr><td>Authorization</td><td><div class=\"dni-plaintext\"><pre>&lt;null&gt;</pre></div></td></tr><tr><td>ExpectContinue</td><td><div class=\"dni-plaintext\"><pre>&lt;null&gt;</pre></div></td></tr><tr><td>From</td><td><div class=\"dni-plaintext\"><pre>&lt;null&gt;</pre></div></td></tr><tr><td>Host</td><td><div class=\"dni-plaintext\"><pre>&lt;null&gt;</pre></div></td></tr><tr><td>IfMatch</td><td><details class=\"dni-treeview\"><summary><span class=\"dni-code-hint\"><code>[  ]</code></span></summary><div><table><thead><tr></tr></thead><tbody><tr><td>Count</td><td><div class=\"dni-plaintext\"><pre>0</pre></div></td></tr><tr><td>IsReadOnly</td><td><div class=\"dni-plaintext\"><pre>False</pre></div></td></tr><tr><td><i>(values)</i></td><td><i>(empty)</i></td></tr></tbody></table></div></details></td></tr><tr><td>IfModifiedSince</td><td><div class=\"dni-plaintext\"><pre>&lt;null&gt;</pre></div></td></tr><tr><td>IfNoneMatch</td><td><details class=\"dni-treeview\"><summary><span class=\"dni-code-hint\"><code>[  ]</code></span></summary><div><table><thead><tr></tr></thead><tbody><tr><td>Count</td><td><div class=\"dni-plaintext\"><pre>0</pre></div></td></tr><tr><td>IsReadOnly</td><td><div class=\"dni-plaintext\"><pre>False</pre></div></td></tr><tr><td><i>(values)</i></td><td><i>(empty)</i></td></tr></tbody></table></div></details></td></tr><tr><td>IfRange</td><td><div class=\"dni-plaintext\"><pre>&lt;null&gt;</pre></div></td></tr><tr><td>IfUnmodifiedSince</td><td><div class=\"dni-plaintext\"><pre>&lt;null&gt;</pre></div></td></tr><tr><td>MaxForwards</td><td><div class=\"dni-plaintext\"><pre>&lt;null&gt;</pre></div></td></tr><tr><td>Protocol</td><td><div class=\"dni-plaintext\"><pre>&lt;null&gt;</pre></div></td></tr><tr><td>ProxyAuthorization</td><td><div class=\"dni-plaintext\"><pre>&lt;null&gt;</pre></div></td></tr><tr><td>Range</td><td><div class=\"dni-plaintext\"><pre>&lt;null&gt;</pre></div></td></tr><tr><td>Referrer</td><td><div class=\"dni-plaintext\"><pre>&lt;null&gt;</pre></div></td></tr><tr><td>TE</td><td><details class=\"dni-treeview\"><summary><span class=\"dni-code-hint\"><code>[  ]</code></span></summary><div><table><thead><tr></tr></thead><tbody><tr><td>Count</td><td><div class=\"dni-plaintext\"><pre>0</pre></div></td></tr><tr><td>IsReadOnly</td><td><div class=\"dni-plaintext\"><pre>False</pre></div></td></tr><tr><td><i>(values)</i></td><td><i>(empty)</i></td></tr></tbody></table></div></details></td></tr><tr><td>UserAgent</td><td><details class=\"dni-treeview\"><summary><span class=\"dni-code-hint\"><code>[  ]</code></span></summary><div><table><thead><tr></tr></thead><tbody><tr><td>Count</td><td><div class=\"dni-plaintext\"><pre>0</pre></div></td></tr><tr><td>IsReadOnly</td><td><div class=\"dni-plaintext\"><pre>False</pre></div></td></tr><tr><td><i>(values)</i></td><td><i>(empty)</i></td></tr></tbody></table></div></details></td></tr><tr><td>Expect</td><td><details class=\"dni-treeview\"><summary><span class=\"dni-code-hint\"><code>[  ]</code></span></summary><div><table><thead><tr></tr></thead><tbody><tr><td>Count</td><td><div class=\"dni-plaintext\"><pre>0</pre></div></td></tr><tr><td>IsReadOnly</td><td><div class=\"dni-plaintext\"><pre>False</pre></div></td></tr><tr><td><i>(values)</i></td><td><i>(empty)</i></td></tr></tbody></table></div></details></td></tr><tr><td>CacheControl</td><td><div class=\"dni-plaintext\"><pre>&lt;null&gt;</pre></div></td></tr><tr><td>Connection</td><td><details class=\"dni-treeview\"><summary><span class=\"dni-code-hint\"><code>[  ]</code></span></summary><div><table><thead><tr></tr></thead><tbody><tr><td>Count</td><td><div class=\"dni-plaintext\"><pre>0</pre></div></td></tr><tr><td>IsReadOnly</td><td><div class=\"dni-plaintext\"><pre>False</pre></div></td></tr><tr><td><i>(values)</i></td><td><div class=\"dni-plaintext\"><pre>[  ]</pre></div></td></tr></tbody></table></div></details></td></tr><tr><td>ConnectionClose</td><td><div class=\"dni-plaintext\"><pre>&lt;null&gt;</pre></div></td></tr><tr><td>Date</td><td><div class=\"dni-plaintext\"><pre>&lt;null&gt;</pre></div></td></tr><tr><td>Pragma</td><td><details class=\"dni-treeview\"><summary><span class=\"dni-code-hint\"><code>[  ]</code></span></summary><div><table><thead><tr></tr></thead><tbody><tr><td>Count</td><td><div class=\"dni-plaintext\"><pre>0</pre></div></td></tr><tr><td>IsReadOnly</td><td><div class=\"dni-plaintext\"><pre>False</pre></div></td></tr><tr><td><i>(values)</i></td><td><i>(empty)</i></td></tr></tbody></table></div></details></td></tr><tr><td>Trailer</td><td><details class=\"dni-treeview\"><summary><span class=\"dni-code-hint\"><code>[  ]</code></span></summary><div><table><thead><tr></tr></thead><tbody><tr><td>Count</td><td><div class=\"dni-plaintext\"><pre>0</pre></div></td></tr><tr><td>IsReadOnly</td><td><div class=\"dni-plaintext\"><pre>False</pre></div></td></tr><tr><td><i>(values)</i></td><td><div class=\"dni-plaintext\"><pre>[  ]</pre></div></td></tr></tbody></table></div></details></td></tr><tr><td>TransferEncoding</td><td><details class=\"dni-treeview\"><summary><span class=\"dni-code-hint\"><code>[  ]</code></span></summary><div><table><thead><tr></tr></thead><tbody><tr><td>Count</td><td><div class=\"dni-plaintext\"><pre>0</pre></div></td></tr><tr><td>IsReadOnly</td><td><div class=\"dni-plaintext\"><pre>False</pre></div></td></tr><tr><td><i>(values)</i></td><td><i>(empty)</i></td></tr></tbody></table></div></details></td></tr><tr><td>TransferEncodingChunked</td><td><div class=\"dni-plaintext\"><pre>&lt;null&gt;</pre></div></td></tr><tr><td>Upgrade</td><td><details class=\"dni-treeview\"><summary><span class=\"dni-code-hint\"><code>[  ]</code></span></summary><div><table><thead><tr></tr></thead><tbody><tr><td>Count</td><td><div class=\"dni-plaintext\"><pre>0</pre></div></td></tr><tr><td>IsReadOnly</td><td><div class=\"dni-plaintext\"><pre>False</pre></div></td></tr><tr><td><i>(values)</i></td><td><i>(empty)</i></td></tr></tbody></table></div></details></td></tr><tr><td>Via</td><td><details class=\"dni-treeview\"><summary><span class=\"dni-code-hint\"><code>[  ]</code></span></summary><div><table><thead><tr></tr></thead><tbody><tr><td>Count</td><td><div class=\"dni-plaintext\"><pre>0</pre></div></td></tr><tr><td>IsReadOnly</td><td><div class=\"dni-plaintext\"><pre>False</pre></div></td></tr><tr><td><i>(values)</i></td><td><i>(empty)</i></td></tr></tbody></table></div></details></td></tr><tr><td>Warning</td><td><details class=\"dni-treeview\"><summary><span class=\"dni-code-hint\"><code>[  ]</code></span></summary><div><table><thead><tr></tr></thead><tbody><tr><td>Count</td><td><div class=\"dni-plaintext\"><pre>0</pre></div></td></tr><tr><td>IsReadOnly</td><td><div class=\"dni-plaintext\"><pre>False</pre></div></td></tr><tr><td><i>(values)</i></td><td><i>(empty)</i></td></tr></tbody></table></div></details></td></tr><tr><td>NonValidated</td><td><details class=\"dni-treeview\"><summary><span class=\"dni-code-hint\"><code>[ [traceparent, 00-f9112acd668ee04cc896ad290c83d7e5-736f2d3d05592116-00] ]</code></span></summary><div><table><thead><tr></tr></thead><tbody><tr><td>Count</td><td><div class=\"dni-plaintext\"><pre>1</pre></div></td></tr><tr><td><i>(values)</i></td><td><table><thead><tr><th><i>index</i></th><th>value</th></tr></thead><tbody><tr><td>0</td><td><details class=\"dni-treeview\"><summary><span class=\"dni-code-hint\"><code>[traceparent, 00-f9112acd668ee04cc896ad290c83d7e5-736f2d3d05592116-00]</code></span></summary><div><table><thead><tr></tr></thead><tbody><tr><td>Key</td><td><div class=\"dni-plaintext\"><pre>traceparent</pre></div></td></tr><tr><td>Value</td><td><details class=\"dni-treeview\"><summary><span class=\"dni-code-hint\"><code>[ 00-f9112acd668ee04cc896ad290c83d7e5-736f2d3d05592116-00 ]</code></span></summary><div><table><thead><tr></tr></thead><tbody><tr><td>Count</td><td>1</td></tr><tr><td><i>(values)</i></td><td><div class=\"dni-plaintext\"><pre>[ 00-f9112acd668ee04cc896ad290c83d7e5-736f2d3d05592116-00 ]</pre></div></td></tr></tbody></table></div></details></td></tr></tbody></table></div></details></td></tr></tbody></table></td></tr></tbody></table></div></details></td></tr><tr><td><i>(values)</i></td><td><table><thead><tr><th><i>index</i></th><th>value</th></tr></thead><tbody><tr><td>0</td><td><details class=\"dni-treeview\"><summary><span class=\"dni-code-hint\"><code>[traceparent, System.String[]]</code></span></summary><div><table><thead><tr></tr></thead><tbody><tr><td>Key</td><td><div class=\"dni-plaintext\"><pre>traceparent</pre></div></td></tr><tr><td>Value</td><td><div class=\"dni-plaintext\"><pre>[ 00-f9112acd668ee04cc896ad290c83d7e5-736f2d3d05592116-00 ]</pre></div></td></tr></tbody></table></div></details></td></tr></tbody></table></td></tr></tbody></table></div></details></td></tr><tr><td>Properties</td><td><i>(empty)</i></td></tr><tr><td>Options</td><td><i>(empty)</i></td></tr></tbody></table></div></details></td></tr><tr><td>IsSuccessStatusCode</td><td><div class=\"dni-plaintext\"><pre>True</pre></div></td></tr></tbody></table></div></details><style>\r\n",
       ".dni-code-hint {\r\n",
       "    font-style: italic;\r\n",
       "    overflow: hidden;\r\n",
       "    white-space: nowrap;\r\n",
       "}\r\n",
       ".dni-treeview {\r\n",
       "    white-space: nowrap;\r\n",
       "}\r\n",
       ".dni-treeview td {\r\n",
       "    vertical-align: top;\r\n",
       "    text-align: start;\r\n",
       "}\r\n",
       "details.dni-treeview {\r\n",
       "    padding-left: 1em;\r\n",
       "}\r\n",
       "table td {\r\n",
       "    text-align: start;\r\n",
       "}\r\n",
       "table tr { \r\n",
       "    vertical-align: top; \r\n",
       "    margin: 0em 0px;\r\n",
       "}\r\n",
       "table tr td pre \r\n",
       "{ \r\n",
       "    vertical-align: top !important; \r\n",
       "    margin: 0em 0px !important;\r\n",
       "} \r\n",
       "table th {\r\n",
       "    text-align: start;\r\n",
       "}\r\n",
       "</style>"
      ]
     },
     "metadata": {},
     "output_type": "display_data"
    },
    {
     "data": {
      "application/json": {
       "quantityInStock": 20
      }
     },
     "metadata": {},
     "output_type": "display_data"
    }
   ],
   "source": [
    "using System.Net.Http;\n",
    "\n",
    "var httpClient = new HttpClient();\n",
    "var payload = new { Amount = \"10\" };\n",
    "var json = System.Text.Json.JsonSerializer.Serialize(payload);\n",
    "var content = new StringContent(json, System.Text.Encoding.UTF8, \"application/json\");\n",
    "var response = await httpClient.PostAsync(\"http://localhost:7000/products/3/remove-stocks\", content);\n",
    "//response.EnsureSuccessStatusCode();\n",
    "display(response);\n",
    "var responseData = await response.Content.ReadAsStringAsync();\n",
    "responseData.DisplayAs(\"application/json\")"
   ]
  },
  {
   "cell_type": "code",
   "execution_count": 28,
   "id": "4571cafc",
   "metadata": {},
   "outputs": [
    {
     "data": {
      "application/json": [
       {
        "id": 1,
        "name": "Banana",
        "quantityInStock": 50
       },
       {
        "id": 2,
        "name": "Apple",
        "quantityInStock": 20
       },
       {
        "id": 3,
        "name": "Habanero Pepper",
        "quantityInStock": 20
       }
      ]
     },
     "metadata": {},
     "output_type": "display_data"
    }
   ],
   "source": [
    "using System.Net.Http;\n",
    "\n",
    "var httpClient = new HttpClient();\n",
    "\n",
    "var response = await httpClient.GetAsync(\"http://localhost:7000/products\");\n",
    "response.EnsureSuccessStatusCode();\n",
    "var content = await response.Content.ReadAsStringAsync();\n",
    "content.DisplayAs(\"application/json\")"
   ]
  },
  {
   "cell_type": "code",
   "execution_count": 25,
   "id": "04753559",
   "metadata": {},
   "outputs": [],
   "source": [
    "\n",
    "await app.StopAsync();\n"
   ]
  }
 ],
 "metadata": {
  "kernelspec": {
   "display_name": ".NET (C#)",
   "language": "C#",
   "name": ".net-csharp"
  },
  "language_info": {
   "name": "polyglot-notebook"
  },
  "polyglot_notebook": {
   "kernelInfo": {
    "defaultKernelName": "csharp",
    "items": [
     {
      "aliases": [],
      "name": "csharp"
     }
    ]
   }
  }
 },
 "nbformat": 4,
 "nbformat_minor": 5
}
