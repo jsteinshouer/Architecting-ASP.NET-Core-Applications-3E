{
 "cells": [
  {
   "cell_type": "markdown",
   "id": "8a2c30e9",
   "metadata": {},
   "source": [
    "# Chapter 7 - Strategy, Abstract Factory, and Singleton Design Patterns\n",
    "\n",
    "Object creation patterns from the Gang of Four (GoF)\n",
    "\n",
    "- Good for enapsulating and reusing behaviors\n",
    "\n",
    "## Strategy Design Pattern\n",
    "\n",
    "- Allows us to change object behaviors at runtime\n",
    "- The backbone of DI\n",
    "- Follows OCP\n",
    "\n",
    "Goal\n",
    "\n",
    "Aims to extract an algorithm (strategy) from the host class that needs it (context or consumer). This allows the consumer to decide on the strategy at runtime.\n",
    "\n"
   ]
  },
  {
   "cell_type": "code",
   "execution_count": 8,
   "id": "4dff2b7c",
   "metadata": {
    "polyglot_notebook": {
     "kernelName": "mermaid"
    },
    "vscode": {
     "languageId": "polyglot-notebook"
    }
   },
   "outputs": [
    {
     "data": {
      "text/html": [
       "<div class=\"mermaidMarkdownContainer\" style=\"background-color:white\">\r\n",
       "<link rel=\"stylesheet\" href=\"https://cdnjs.cloudflare.com/ajax/libs/font-awesome/6.2.0/css/all.min.css\">\r\n",
       "<div id=\"fc871ea93d6c4891a8bfc19efc5213d1\"></div>\r\n",
       "<script type=\"module\">\r\n",
       "\r\n",
       "            import mermaid from 'https://cdn.jsdelivr.net/npm/mermaid@10.6.1/dist/mermaid.esm.min.mjs';\r\n",
       "            let renderTarget = document.getElementById('fc871ea93d6c4891a8bfc19efc5213d1');\r\n",
       "            try {\r\n",
       "                const {svg, bindFunctions} = await mermaid.mermaidAPI.render( \r\n",
       "                    'mermaid_fc871ea93d6c4891a8bfc19efc5213d1', \r\n",
       "                    `classDiagram\r\n",
       "    class Consumer {\r\n",
       "        +SomeOperation() void\r\n",
       "    }\r\n",
       "    class IStrategy {\r\n",
       "        +ExecuteAlgorithm() void\r\n",
       "    }\r\n",
       "    class Strategy1 {\r\n",
       "        +ExecuteAlgorithm() void\r\n",
       "    }\r\n",
       "    class Strategy2 {\r\n",
       "        +ExecuteAlgorithm() void\r\n",
       "    }\r\n",
       "    <<Interface>> IStrategy\r\n",
       "    IStrategy <|-- Strategy1\r\n",
       "    IStrategy <|-- Strategy2\r\n",
       "    Consumer o-- IStrategy\r\n",
       "`);\r\n",
       "                renderTarget.innerHTML = svg;\r\n",
       "                bindFunctions?.(renderTarget);\r\n",
       "            }\r\n",
       "            catch (error) {\r\n",
       "                console.log(error);\r\n",
       "            }\r\n",
       "</script>\r\n",
       "</div>\r\n"
      ]
     },
     "metadata": {},
     "output_type": "display_data"
    }
   ],
   "source": [
    "classDiagram\n",
    "    class Consumer {\n",
    "        +SomeOperation() void\n",
    "    }\n",
    "    class IStrategy {\n",
    "        +ExecuteAlgorithm() void\n",
    "    }\n",
    "    class Strategy1 {\n",
    "        +ExecuteAlgorithm() void\n",
    "    }\n",
    "    class Strategy2 {\n",
    "        +ExecuteAlgorithm() void\n",
    "    }\n",
    "    <<Interface>> IStrategy\n",
    "    IStrategy <|-- Strategy1\n",
    "    IStrategy <|-- Strategy2\n",
    "    Consumer o-- IStrategy\n"
   ]
  },
  {
   "cell_type": "markdown",
   "id": "405c3533",
   "metadata": {},
   "source": [
    "- Key is that the consumer should not know which strategy is being executed.\n",
    "\n",
    "### Stategies"
   ]
  },
  {
   "cell_type": "code",
   "execution_count": null,
   "id": "4f1b4327",
   "metadata": {
    "vscode": {
     "languageId": "polyglot-notebook"
    }
   },
   "outputs": [],
   "source": [
    "public interface ISortStrategy\n",
    "{\n",
    "    IOrderedEnumerable<string> Sort(IEnumerable<string> input);\n",
    "}\n",
    "\n",
    "public class SortAscendingStrategy : ISortStrategy\n",
    "{\n",
    " public IOrderedEnumerable<string> Sort(IEnumerable<string> input)\n",
    "    => input.OrderBy(x => x);\n",
    "}\n",
    "\n",
    "public class SortDescendingStrategy : ISortStrategy\n",
    "{\n",
    " public IOrderedEnumerable<string> Sort(IEnumerable<string> input)\n",
    "    => input.OrderByDescending(x => x);\n",
    "}"
   ]
  },
  {
   "cell_type": "markdown",
   "id": "e4f4e8bf",
   "metadata": {},
   "source": [
    "### Consumer"
   ]
  },
  {
   "cell_type": "code",
   "execution_count": 11,
   "id": "c3b6542e",
   "metadata": {
    "vscode": {
     "languageId": "polyglot-notebook"
    }
   },
   "outputs": [],
   "source": [
    "using System.Collections.Immutable;\n",
    "\n",
    "public sealed class SortableCollection\n",
    "{\n",
    "    private ISortStrategy _sortStrategy;\n",
    "    private ImmutableArray<string> _items;\n",
    "    public IEnumerable<string> Items => _items;\n",
    "    \n",
    "    public SortableCollection(IEnumerable<string> items)\n",
    "    {\n",
    "        _items = items.ToImmutableArray();\n",
    "        _sortStrategy = new SortAscendingStrategy();\n",
    "    }\n",
    "\n",
    "    public void SetSortStrategy(ISortStrategy strategy) => _sortStrategy = strategy;\n",
    "\n",
    "    public void Sort()\n",
    "    {\n",
    "        _items = _sortStrategy\n",
    "        .Sort(Items)\n",
    "        .ToImmutableArray()\n",
    "        ;\n",
    "    }\n",
    "}"
   ]
  },
  {
   "cell_type": "markdown",
   "id": "57b5725d",
   "metadata": {},
   "source": [
    "### Usage example"
   ]
  },
  {
   "cell_type": "code",
   "execution_count": 21,
   "id": "fea9ffe6",
   "metadata": {
    "vscode": {
     "languageId": "polyglot-notebook"
    }
   },
   "outputs": [
    {
     "data": {
      "text/html": [
       "<details open=\"open\" class=\"dni-treeview\"><summary><span class=\"dni-code-hint\"><code>Submission#3+SortableCollection</code></span></summary><div><table><thead><tr></tr></thead><tbody><tr><td>Items</td><td><div class=\"dni-plaintext\"><pre>[ sit, Lorem, ipsum, dolor, amet. ]</pre></div></td></tr></tbody></table></div></details><style>\r\n",
       ".dni-code-hint {\r\n",
       "    font-style: italic;\r\n",
       "    overflow: hidden;\r\n",
       "    white-space: nowrap;\r\n",
       "}\r\n",
       ".dni-treeview {\r\n",
       "    white-space: nowrap;\r\n",
       "}\r\n",
       ".dni-treeview td {\r\n",
       "    vertical-align: top;\r\n",
       "    text-align: start;\r\n",
       "}\r\n",
       "details.dni-treeview {\r\n",
       "    padding-left: 1em;\r\n",
       "}\r\n",
       "table td {\r\n",
       "    text-align: start;\r\n",
       "}\r\n",
       "table tr { \r\n",
       "    vertical-align: top; \r\n",
       "    margin: 0em 0px;\r\n",
       "}\r\n",
       "table tr td pre \r\n",
       "{ \r\n",
       "    vertical-align: top !important; \r\n",
       "    margin: 0em 0px !important;\r\n",
       "} \r\n",
       "table th {\r\n",
       "    text-align: start;\r\n",
       "}\r\n",
       "</style>"
      ]
     },
     "metadata": {},
     "output_type": "display_data"
    }
   ],
   "source": [
    "using Microsoft.DotNet.Interactive;\n",
    "\n",
    "SortableCollection data = new(new[] { \"Lorem\", \"ipsum\", \"dolor\", \"sit\", \"amet.\" });\n",
    "\n",
    "var input = await Kernel.GetInputAsync( \"Sort: Enter 1 for Ascending and 2 for Descending\", typeHint: \"number\" );\n",
    "int.TryParse(input,out int sort);\n",
    "\n",
    "ISortStrategy strategy = sort == 1\n",
    " ? new SortAscendingStrategy()\n",
    " : new SortDescendingStrategy();\n",
    "\n",
    "data.SetSortStrategy(strategy);\n",
    "data.Sort();\n",
    "display( data );"
   ]
  },
  {
   "cell_type": "markdown",
   "id": "c2321413",
   "metadata": {},
   "source": [
    "## Abstract Factory design pattern\n",
    "\n",
    "Use factories to create complex objects. Goal to to abstract the creation of a family of objects.\n",
    "\n",
    "### Diagram"
   ]
  },
  {
   "cell_type": "code",
   "execution_count": 23,
   "id": "429bcf59",
   "metadata": {
    "polyglot_notebook": {
     "kernelName": "mermaid"
    },
    "vscode": {
     "languageId": "polyglot-notebook"
    }
   },
   "outputs": [
    {
     "data": {
      "text/html": [
       "<div class=\"mermaidMarkdownContainer\" style=\"background-color:white\">\r\n",
       "<link rel=\"stylesheet\" href=\"https://cdnjs.cloudflare.com/ajax/libs/font-awesome/6.2.0/css/all.min.css\">\r\n",
       "<div id=\"bf1e99e24e534c05b513677c8549ea93\"></div>\r\n",
       "<script type=\"module\">\r\n",
       "\r\n",
       "            import mermaid from 'https://cdn.jsdelivr.net/npm/mermaid@10.6.1/dist/mermaid.esm.min.mjs';\r\n",
       "            let renderTarget = document.getElementById('bf1e99e24e534c05b513677c8549ea93');\r\n",
       "            try {\r\n",
       "                const {svg, bindFunctions} = await mermaid.mermaidAPI.render( \r\n",
       "                    'mermaid_bf1e99e24e534c05b513677c8549ea93', \r\n",
       "                    `classDiagram\r\n",
       "    class IVehicleFactory {\r\n",
       "        +CreateCar() ICar\r\n",
       "        +CreateBike() IBike\r\n",
       "    }\r\n",
       "    class HighEndVehicleFactory {\r\n",
       "        +CreateCar() ICar\r\n",
       "        +CreateBike() IBike\r\n",
       "    }\r\n",
       "    class LowEndVehicleFactory {\r\n",
       "        +CreateCar() ICar\r\n",
       "        +CreateBike() IBike\r\n",
       "    }\r\n",
       "    <<Interface>> IVehicleFactory\r\n",
       "    IVehicleFactory <|-- HighEndVehicleFactory\r\n",
       "    IVehicleFactory <|-- LowEndVehicleFactory\r\n",
       "`);\r\n",
       "                renderTarget.innerHTML = svg;\r\n",
       "                bindFunctions?.(renderTarget);\r\n",
       "            }\r\n",
       "            catch (error) {\r\n",
       "                console.log(error);\r\n",
       "            }\r\n",
       "</script>\r\n",
       "</div>\r\n"
      ]
     },
     "metadata": {},
     "output_type": "display_data"
    }
   ],
   "source": [
    "classDiagram\n",
    "    class IVehicleFactory {\n",
    "        +CreateCar() ICar\n",
    "        +CreateBike() IBike\n",
    "    }\n",
    "    class HighEndVehicleFactory {\n",
    "        +CreateCar() ICar\n",
    "        +CreateBike() IBike\n",
    "    }\n",
    "    class LowEndVehicleFactory {\n",
    "        +CreateCar() ICar\n",
    "        +CreateBike() IBike\n",
    "    }\n",
    "    <<Interface>> IVehicleFactory\n",
    "    IVehicleFactory <|-- HighEndVehicleFactory\n",
    "    IVehicleFactory <|-- LowEndVehicleFactory\n"
   ]
  },
  {
   "cell_type": "markdown",
   "id": "f0702d23",
   "metadata": {},
   "source": [
    "### Project: Abstract Factory"
   ]
  },
  {
   "cell_type": "code",
   "execution_count": 24,
   "id": "bc4e1e88",
   "metadata": {
    "vscode": {
     "languageId": "polyglot-notebook"
    }
   },
   "outputs": [],
   "source": [
    "public interface ICar { }\n",
    "public interface IBike { }\n",
    "public class LowEndCar : ICar { }\n",
    "public class LowEndBike : IBike { }\n",
    "public class HighEndCar : ICar { }\n",
    "public class HighEndBike : IBike { }\n",
    "\n",
    "public interface IVehicleFactory\n",
    "{\n",
    "    ICar CreateCar();\n",
    "    IBike CreateBike();\n",
    "}\n",
    "\n",
    "public class LowEndVehicleFactory : IVehicleFactory\n",
    "{\n",
    "    public IBike CreateBike() => new LowEndBike();\n",
    "    public ICar CreateCar() => new LowEndCar();\n",
    "}\n",
    "\n",
    "public class HighEndVehicleFactory : IVehicleFactory\n",
    "{\n",
    "    public IBike CreateBike() => new HighEndBike();\n",
    "    public ICar CreateCar() => new HighEndCar();\n",
    "}"
   ]
  },
  {
   "cell_type": "code",
   "execution_count": 25,
   "id": "5b94bc26",
   "metadata": {
    "vscode": {
     "languageId": "polyglot-notebook"
    }
   },
   "outputs": [
    {
     "data": {
      "text/html": [
       "<div><div></div><div></div><div><strong>Installed Packages</strong><ul><li><span>xunit, 2.9.3</span></li></ul></div></div>"
      ]
     },
     "metadata": {},
     "output_type": "display_data"
    }
   ],
   "source": [
    "#r \"nuget:xunit\""
   ]
  },
  {
   "cell_type": "code",
   "execution_count": 26,
   "id": "0da27e29",
   "metadata": {
    "vscode": {
     "languageId": "polyglot-notebook"
    }
   },
   "outputs": [],
   "source": [
    "#load \"SimpleTestRunner.cs\""
   ]
  },
  {
   "cell_type": "code",
   "execution_count": 33,
   "id": "43b51087",
   "metadata": {
    "vscode": {
     "languageId": "polyglot-notebook"
    }
   },
   "outputs": [],
   "source": [
    "using Xunit;\n",
    "\n",
    "public abstract class BaseAbstractFactoryTest<TConcreteFactory, TExpectedCar, TExpectedBike> where TConcreteFactory : IVehicleFactory, new()\n",
    "{\n",
    "    [Fact]\n",
    "    public void Should_create_a_ICar_of_type_TExpectedCar()\n",
    "    {\n",
    "        // Arrange\n",
    "        IVehicleFactory vehicleFactory = new TConcreteFactory();\n",
    "        var expectedCarType = typeof(TExpectedCar);\n",
    "        // Act\n",
    "        ICar result = vehicleFactory.CreateCar();\n",
    "        // Assert\n",
    "        Assert.IsType(expectedCarType, result);\n",
    "    }\n",
    "\n",
    "    [Fact]\n",
    "    public void Should_create_a_IBike_of_type_TExpectedBike()\n",
    "    {\n",
    "        // Arrange\n",
    "        IVehicleFactory vehicleFactory = new TConcreteFactory();\n",
    "        var expectedBikeType = typeof(TExpectedBike);\n",
    "        // Act\n",
    "        IBike result = vehicleFactory.CreateBike();\n",
    "        // Assert\n",
    "        Assert.IsType(expectedBikeType, result);\n",
    "    }\n",
    "}\n",
    "\n",
    "public class LowEndVehicleFactoryTest : BaseAbstractFactoryTest<LowEndVehicleFactory, LowEndCar, LowEndBike>\n",
    "{ \n",
    "}\n",
    "\n",
    "public class HighEndVehicleFactoryTest : BaseAbstractFactoryTest<HighEndVehicleFactory, HighEndCar, HighEndBike>\n",
    "{\n",
    "}"
   ]
  },
  {
   "cell_type": "code",
   "execution_count": 34,
   "id": "883bd491",
   "metadata": {
    "vscode": {
     "languageId": "polyglot-notebook"
    }
   },
   "outputs": [
    {
     "name": "stdout",
     "output_type": "stream",
     "text": [
      "Running tests in LowEndVehicleFactoryTest...\n",
      "Running Should_create_a_ICar_of_type_TExpectedCar...\n",
      "✔ Should_create_a_ICar_of_type_TExpectedCar passed.\n",
      "Running Should_create_a_IBike_of_type_TExpectedBike...\n",
      "✔ Should_create_a_IBike_of_type_TExpectedBike passed.\n"
     ]
    }
   ],
   "source": [
    "SimpleTestRunner.RunTests(typeof(LowEndVehicleFactoryTest));"
   ]
  },
  {
   "cell_type": "code",
   "execution_count": 35,
   "id": "4a03131a",
   "metadata": {
    "vscode": {
     "languageId": "polyglot-notebook"
    }
   },
   "outputs": [
    {
     "name": "stdout",
     "output_type": "stream",
     "text": [
      "Running tests in HighEndVehicleFactoryTest...\n",
      "Running Should_create_a_ICar_of_type_TExpectedCar...\n",
      "✔ Should_create_a_ICar_of_type_TExpectedCar passed.\n",
      "Running Should_create_a_IBike_of_type_TExpectedBike...\n",
      "✔ Should_create_a_IBike_of_type_TExpectedBike passed.\n"
     ]
    }
   ],
   "source": [
    "SimpleTestRunner.RunTests(typeof(HighEndVehicleFactoryTest));"
   ]
  },
  {
   "cell_type": "markdown",
   "id": "3cac2ee4",
   "metadata": {},
   "source": [
    "## Singleton Design Pattern\n",
    "\n",
    "- Application can create and reuse only 1 instance of a class\n",
    "- Not everything is doable in a static class i.e. cannot implement an interface, pass as an argument, etc\n",
    "- In C# we should use DI to accomplish this\n",
    "- A singleton encapsulates both the object logic itself and its creational log (breaks SRP)\n",
    "\n",
    "### Diagram"
   ]
  },
  {
   "cell_type": "code",
   "execution_count": 38,
   "id": "8fe0f1e1",
   "metadata": {
    "polyglot_notebook": {
     "kernelName": "mermaid"
    },
    "vscode": {
     "languageId": "polyglot-notebook"
    }
   },
   "outputs": [
    {
     "data": {
      "text/html": [
       "<div class=\"mermaidMarkdownContainer\" style=\"background-color:white\">\r\n",
       "<link rel=\"stylesheet\" href=\"https://cdnjs.cloudflare.com/ajax/libs/font-awesome/6.2.0/css/all.min.css\">\r\n",
       "<div id=\"d0389a5bce574fd1af9c050c5d005737\"></div>\r\n",
       "<script type=\"module\">\r\n",
       "\r\n",
       "            import mermaid from 'https://cdn.jsdelivr.net/npm/mermaid@10.6.1/dist/mermaid.esm.min.mjs';\r\n",
       "            let renderTarget = document.getElementById('d0389a5bce574fd1af9c050c5d005737');\r\n",
       "            try {\r\n",
       "                const {svg, bindFunctions} = await mermaid.mermaidAPI.render( \r\n",
       "                    'mermaid_d0389a5bce574fd1af9c050c5d005737', \r\n",
       "                    `classDiagram\r\n",
       "    class Singleton {\r\n",
       "        - instance: Singleton\r\n",
       "        + Create() Singleton\r\n",
       "        - Singleton()\r\n",
       "    }`);\r\n",
       "                renderTarget.innerHTML = svg;\r\n",
       "                bindFunctions?.(renderTarget);\r\n",
       "            }\r\n",
       "            catch (error) {\r\n",
       "                console.log(error);\r\n",
       "            }\r\n",
       "</script>\r\n",
       "</div>\r\n"
      ]
     },
     "metadata": {},
     "output_type": "display_data"
    }
   ],
   "source": [
    "classDiagram\n",
    "    class Singleton {\n",
    "        - instance: Singleton\n",
    "        + Create() Singleton\n",
    "        - Singleton()\n",
    "    }"
   ]
  },
  {
   "cell_type": "code",
   "execution_count": 39,
   "id": "6baf290b",
   "metadata": {
    "vscode": {
     "languageId": "polyglot-notebook"
    }
   },
   "outputs": [],
   "source": [
    "public class MySingleton\n",
    "{\n",
    "    private static MySingleton? _instance;\n",
    "    private MySingleton() { }\n",
    "\n",
    "    public static MySingleton Create() //Could name GetInstance()\n",
    "    {\n",
    "        _instance ??= new MySingleton(); //??= null-coalescing operator\n",
    "        return _instance;\n",
    "    }\n",
    "}"
   ]
  },
  {
   "cell_type": "markdown",
   "id": "a9e9705e",
   "metadata": {},
   "source": [
    "### Sidbar: `??=` null-coalescing operator\n",
    "\n",
    "```csharp\n",
    "_instance ??= new MySingleton();\n",
    "```\n",
    "\n",
    "Equals\n",
    "\n",
    "```csharp\n",
    "if (_instance == null)\n",
    "{\n",
    "    _instance = new MySingleton();\n",
    "}\n",
    "```\n",
    "\n",
    "### Test MySingleton"
   ]
  },
  {
   "cell_type": "code",
   "execution_count": 40,
   "id": "95a82080",
   "metadata": {
    "vscode": {
     "languageId": "polyglot-notebook"
    }
   },
   "outputs": [],
   "source": [
    "using Xunit;\n",
    "\n",
    "public class MySingletonTest\n",
    "{\n",
    "    [Fact]\n",
    "    public void Create_should_always_return_the_same_instance()\n",
    "    {\n",
    "    var first = MySingleton.Create();\n",
    "    var second = MySingleton.Create();\n",
    "    Assert.Same(first, second);\n",
    "    }\n",
    "}"
   ]
  },
  {
   "cell_type": "code",
   "execution_count": 41,
   "id": "5fe39de4",
   "metadata": {
    "vscode": {
     "languageId": "polyglot-notebook"
    }
   },
   "outputs": [
    {
     "name": "stdout",
     "output_type": "stream",
     "text": [
      "Running tests in MySingletonTest...\n",
      "Running Create_should_always_return_the_same_instance...\n",
      "✔ Create_should_always_return_the_same_instance passed.\n"
     ]
    }
   ],
   "source": [
    "SimpleTestRunner.RunTests(typeof(MySingletonTest));"
   ]
  },
  {
   "cell_type": "markdown",
   "id": "9d9c0baa",
   "metadata": {},
   "source": [
    "### Use locking to make it thread safe"
   ]
  },
  {
   "cell_type": "code",
   "execution_count": null,
   "id": "59c7d7af",
   "metadata": {
    "vscode": {
     "languageId": "polyglot-notebook"
    }
   },
   "outputs": [],
   "source": [
    "public class MySingletonWithLock\n",
    "{\n",
    "    private static readonly object _myLock = new();\n",
    "    private static MySingletonWithLock? _instance;\n",
    "    private MySingletonWithLock() { }\n",
    "\n",
    "    public static MySingletonWithLock Create()\n",
    "    {\n",
    "        lock (_myLock)\n",
    "        {\n",
    "            _instance ??= new MySingletonWithLock();\n",
    "        }\n",
    "        return _instance;\n",
    " }\n",
    "}"
   ]
  },
  {
   "cell_type": "markdown",
   "id": "4af489c6",
   "metadata": {},
   "source": [
    "### Simplified and thread safe\n",
    "\n",
    "```csharp\n",
    "public class MySimpleSingleton\n",
    "{\n",
    "    public static MySimpleSingleton Instance { get; } = new();\n",
    "    private MySimpleSingleton() { }\n",
    "}\n",
    "```\n",
    "\n",
    "We use DI so none of this is needed anyway.\n",
    "\n",
    "### Advice on globals\n",
    "\n",
    "- in general they can be dangerous\n",
    "- Hard to test\n",
    "\n",
    "### Conslusion\n",
    "\n",
    "- The Singleton pattern violates most of the SOLID principles so should be used cautiously.\n",
    "- More appropriate method in DI chapter\n",
    "\n"
   ]
  }
 ],
 "metadata": {
  "kernelspec": {
   "display_name": ".NET (C#)",
   "language": "C#",
   "name": ".net-csharp"
  },
  "language_info": {
   "name": "python"
  },
  "polyglot_notebook": {
   "kernelInfo": {
    "defaultKernelName": "csharp",
    "items": [
     {
      "aliases": [],
      "name": "csharp"
     }
    ]
   }
  }
 },
 "nbformat": 4,
 "nbformat_minor": 5
}
