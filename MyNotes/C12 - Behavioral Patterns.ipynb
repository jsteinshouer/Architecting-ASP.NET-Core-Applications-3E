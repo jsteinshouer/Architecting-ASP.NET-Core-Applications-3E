{
 "cells": [
  {
   "cell_type": "markdown",
   "id": "2a61a754",
   "metadata": {},
   "source": [
    "# Chapter 12 - Behavioral Patterns\n",
    "\n",
    "Template Method and Chain of Responsibility patterns."
   ]
  },
  {
   "cell_type": "markdown",
   "id": "e7f5ad44",
   "metadata": {},
   "source": [
    "## The Template Method pattern\n",
    "\n",
    "Base class defines the outline of an algorithm while leaving parts open for modification by sub-classes."
   ]
  },
  {
   "cell_type": "code",
   "execution_count": 39,
   "id": "6cd69514",
   "metadata": {
    "polyglot_notebook": {
     "kernelName": "mermaid"
    },
    "vscode": {
     "languageId": "polyglot-notebook"
    }
   },
   "outputs": [
    {
     "data": {
      "text/html": [
       "<div class=\"mermaidMarkdownContainer\" style=\"background-color:white\">\r\n",
       "<link rel=\"stylesheet\" href=\"https://cdnjs.cloudflare.com/ajax/libs/font-awesome/6.2.0/css/all.min.css\">\r\n",
       "<div id=\"d772f32835704236b286c8ec30306ab8\"></div>\r\n",
       "<script type=\"module\">\r\n",
       "\r\n",
       "            import mermaid from 'https://cdn.jsdelivr.net/npm/mermaid@10.6.1/dist/mermaid.esm.min.mjs';\r\n",
       "            let renderTarget = document.getElementById('d772f32835704236b286c8ec30306ab8');\r\n",
       "            try {\r\n",
       "                const {svg, bindFunctions} = await mermaid.mermaidAPI.render( \r\n",
       "                    'mermaid_d772f32835704236b286c8ec30306ab8', \r\n",
       "                    `classDiagram\r\n",
       "    direction BT\r\n",
       "    class AbstractClass {\r\n",
       "        +TemplateMethod()\r\n",
       "        #Operation()\r\n",
       "    }\r\n",
       "    class Client {\r\n",
       "\r\n",
       "    }\r\n",
       "    class ConcreteClass {\r\n",
       "        #Operation()\r\n",
       "    }\r\n",
       "   Client o-- AbstractClass : uses\r\n",
       "   ConcreteClass ..|> AbstractClass`);\r\n",
       "                renderTarget.innerHTML = svg;\r\n",
       "                bindFunctions?.(renderTarget);\r\n",
       "            }\r\n",
       "            catch (error) {\r\n",
       "                console.log(error);\r\n",
       "            }\r\n",
       "</script>\r\n",
       "</div>\r\n"
      ]
     },
     "metadata": {},
     "output_type": "display_data"
    }
   ],
   "source": [
    "classDiagram\n",
    "    direction BT\n",
    "    class AbstractClass {\n",
    "        +TemplateMethod()\n",
    "        #Operation()\n",
    "    }\n",
    "    class Client {\n",
    "\n",
    "    }\n",
    "    class ConcreteClass {\n",
    "        #Operation()\n",
    "    }\n",
    "   Client o-- AbstractClass : uses\n",
    "   ConcreteClass ..|> AbstractClass"
   ]
  },
  {
   "cell_type": "code",
   "execution_count": 40,
   "id": "76a1a388",
   "metadata": {
    "vscode": {
     "languageId": "polyglot-notebook"
    }
   },
   "outputs": [
    {
     "name": "stdout",
     "output_type": "stream",
     "text": [
      "4\n",
      "\n",
      "\n",
      "8\n",
      "8\n",
      "\n",
      "\n"
     ]
    }
   ],
   "source": [
    "public abstract class SearchMachine\n",
    "{\n",
    "    protected int[] Values { get; }\n",
    "\n",
    "    protected SearchMachine(params int[] values)\n",
    "    {\n",
    "        Values = values ?? throw new ArgumentNullException(nameof(values));\n",
    "    }\n",
    "\n",
    "    public int? IndexOf(int value)\n",
    "    {\n",
    "        if (Values.Length == 0) { return null; }\n",
    "        var result = Find(value);\n",
    "        return result;\n",
    "    }\n",
    "    protected abstract int? Find(int value);\n",
    "}\n",
    "\n",
    "public class BinarySearchMachine : SearchMachine\n",
    "{\n",
    "    public BinarySearchMachine(params int[] values)\n",
    "        : base(values.OrderBy(v => v).ToArray()) { }\n",
    "\n",
    "    protected override int? Find(int value)\n",
    "    {\n",
    "        var index = Array.BinarySearch(Values, value);\n",
    "        return index < 0 ? null : index;\n",
    "    }\n",
    "}\n",
    "\n",
    "public class LinearSearchMachine : SearchMachine\n",
    "{\n",
    "    public LinearSearchMachine(params int[] values) : base(values) { }\n",
    "\n",
    "    protected override int? Find(int value)\n",
    "    {\n",
    "        for (var i = 0; i < Values.Length; i++)\n",
    "        {\n",
    "            if (Values[i] == value) { return i; }\n",
    "        }\n",
    "        return null;\n",
    "    }\n",
    "}\n",
    "\n",
    "var linearSearch = new LinearSearchMachine(1, 10, 5, 2, 123, 333, 4);\n",
    "var binarySearch = new BinarySearchMachine(1, 2, 3, 4, 5, 6, 7, 8, 9, 10);\n",
    "\n",
    "Console.WriteLine(linearSearch.IndexOf(123)); // 4\n",
    "Console.WriteLine(linearSearch.IndexOf(11)); // null\n",
    "\n",
    "Console.WriteLine(binarySearch.IndexOf(9)); // 8\n",
    "Console.WriteLine(binarySearch.IndexOf(11)); // null\n"
   ]
  },
  {
   "cell_type": "markdown",
   "id": "4466702f",
   "metadata": {},
   "source": [
    "```csharp\n",
    "builder.Services\n",
    "    .AddSingleton<SearchMachine>(x\n",
    "    => new LinearSearchMachine(1, 10, 5, 2, 123, 333, 4))\n",
    "    .AddSingleton<SearchMachine>(x\n",
    "    => new BinarySearchMachine(1, 2, 3, 4, 5, 6, 7, 8, 9, 10);\n",
    " ```\n",
    "\n",
    "```csharp\n",
    "IEnumerable<SearchResult> SearchForIndex(int number, IEnumerable<SearchMachine> searchMachines)\n",
    "{\n",
    "    foreach (var searchMachine in searchMachines)\n",
    "    {\n",
    "        var name = searchMachine.GetType().Name;\n",
    "        var index = searchMachine.IndexOf(number);\n",
    "        var found = index.HasValue;\n",
    "        yield return new SearchResult(number, name, found, index);\n",
    "    }\n",
    "}\n",
    "public record class SearchResult(\n",
    "    int SearchedNumber,\n",
    "    string Name,\n",
    "    bool Found,\n",
    "    int? Index\n",
    ");\n",
    "```"
   ]
  },
  {
   "cell_type": "code",
   "execution_count": 41,
   "id": "184d4679",
   "metadata": {
    "vscode": {
     "languageId": "polyglot-notebook"
    }
   },
   "outputs": [],
   "source": [
    "\n",
    "int size = 1000000; // Number of unique integers needed\n",
    "int min = 0;\n",
    "int max = 1000000; // Must be at least size\n",
    "\n",
    "// Generate a range, shuffle, and take the first 'size' elements\n",
    "Random rand = new Random();\n",
    "int[] uniqueRandomArray = Enumerable.Range(min, max - min)\n",
    "    .OrderBy(_ => rand.Next())\n",
    "    .Take(size)\n",
    "    .ToArray();\n",
    "\n",
    "var linearSearch = new LinearSearchMachine(uniqueRandomArray);\n",
    "var binarySearch = new BinarySearchMachine(uniqueRandomArray);\n"
   ]
  },
  {
   "cell_type": "code",
   "execution_count": 42,
   "id": "3f6b7197",
   "metadata": {
    "vscode": {
     "languageId": "polyglot-notebook"
    }
   },
   "outputs": [
    {
     "name": "stdout",
     "output_type": "stream",
     "text": [
      "300029\r\n"
     ]
    },
    {
     "data": {
      "text/plain": [
       "Wall time: 11.7086ms"
      ]
     },
     "metadata": {},
     "output_type": "display_data"
    }
   ],
   "source": [
    "#!time\n",
    "Console.WriteLine(linearSearch.IndexOf(1000));"
   ]
  },
  {
   "cell_type": "code",
   "execution_count": 43,
   "id": "5c07b376",
   "metadata": {
    "vscode": {
     "languageId": "polyglot-notebook"
    }
   },
   "outputs": [
    {
     "name": "stdout",
     "output_type": "stream",
     "text": [
      "1000\r\n"
     ]
    },
    {
     "data": {
      "text/plain": [
       "Wall time: 9.0354ms"
      ]
     },
     "metadata": {},
     "output_type": "display_data"
    }
   ],
   "source": [
    "#!time\n",
    "Console.WriteLine(binarySearch.IndexOf(1000));"
   ]
  },
  {
   "cell_type": "markdown",
   "id": "bb4d6815",
   "metadata": {},
   "source": [
    "## The Chain of Responsibility Pattern\n",
    "\n",
    "- Chain multiple handlers that each solve a limited problem\n",
    "- Each handler is independent and passes the request to the next when complete\n",
    "- The terminal handler is the last in the chain\n",
    "- Can divide complex logic into smaller testable chunks"
   ]
  },
  {
   "cell_type": "code",
   "execution_count": 46,
   "id": "0ffdc161",
   "metadata": {
    "polyglot_notebook": {
     "kernelName": "mermaid"
    },
    "vscode": {
     "languageId": "polyglot-notebook"
    }
   },
   "outputs": [
    {
     "data": {
      "text/html": [
       "<div class=\"mermaidMarkdownContainer\" style=\"background-color:white\">\r\n",
       "<link rel=\"stylesheet\" href=\"https://cdnjs.cloudflare.com/ajax/libs/font-awesome/6.2.0/css/all.min.css\">\r\n",
       "<div id=\"57a45fb382d64d00bc71d42e84e7ae3c\"></div>\r\n",
       "<script type=\"module\">\r\n",
       "\r\n",
       "            import mermaid from 'https://cdn.jsdelivr.net/npm/mermaid@10.6.1/dist/mermaid.esm.min.mjs';\r\n",
       "            let renderTarget = document.getElementById('57a45fb382d64d00bc71d42e84e7ae3c');\r\n",
       "            try {\r\n",
       "                const {svg, bindFunctions} = await mermaid.mermaidAPI.render( \r\n",
       "                    'mermaid_57a45fb382d64d00bc71d42e84e7ae3c', \r\n",
       "                    `classDiagram\r\n",
       "    direction TB\r\n",
       "    class IHandler {\r\n",
       "        <<interface>>\r\n",
       "        +HandleRequest(request)\r\n",
       "    }\r\n",
       "    class HandlerA {\r\n",
       "        -next: IHandler\r\n",
       "        +HandleRequest(request)\r\n",
       "    }\r\n",
       "    class HandlerB {\r\n",
       "        -next: IHandler\r\n",
       "        +HandleRequest(request)\r\n",
       "    }\r\n",
       "    class HandlerC {\r\n",
       "        +HandleRequest(request)\r\n",
       "    }\r\n",
       "    class Client {\r\n",
       "\r\n",
       "    }\r\n",
       "    IHandler <|-- HandlerA\r\n",
       "    IHandler <|-- HandlerB\r\n",
       "    IHandler <|-- HandlerC\r\n",
       "    Client o-- IHandler : uses`);\r\n",
       "                renderTarget.innerHTML = svg;\r\n",
       "                bindFunctions?.(renderTarget);\r\n",
       "            }\r\n",
       "            catch (error) {\r\n",
       "                console.log(error);\r\n",
       "            }\r\n",
       "</script>\r\n",
       "</div>\r\n"
      ]
     },
     "metadata": {},
     "output_type": "display_data"
    }
   ],
   "source": [
    "classDiagram\n",
    "    direction TB\n",
    "    class IHandler {\n",
    "        <<interface>>\n",
    "        +HandleRequest(request)\n",
    "    }\n",
    "    class HandlerA {\n",
    "        -next: IHandler\n",
    "        +HandleRequest(request)\n",
    "    }\n",
    "    class HandlerB {\n",
    "        -next: IHandler\n",
    "        +HandleRequest(request)\n",
    "    }\n",
    "    class HandlerC {\n",
    "        +HandleRequest(request)\n",
    "    }\n",
    "    class Client {\n",
    "\n",
    "    }\n",
    "    IHandler <|-- HandlerA\n",
    "    IHandler <|-- HandlerB\n",
    "    IHandler <|-- HandlerC\n",
    "    Client o-- IHandler : uses"
   ]
  },
  {
   "cell_type": "markdown",
   "id": "efbbe6de",
   "metadata": {},
   "source": [
    "### Project: Message interpreter"
   ]
  },
  {
   "cell_type": "code",
   "execution_count": 52,
   "metadata": {
    "polyglot_notebook": {
     "kernelName": "csharp"
    },
    "vscode": {
     "languageId": "polyglot-notebook"
    }
   },
   "outputs": [
    {
     "data": {
      "text/plain": [
       "Message 'AlarmPaused' handled successfully."
      ]
     },
     "metadata": {},
     "output_type": "display_data"
    },
    {
     "data": {
      "text/plain": [
       "Message 'AlarmStopped' handled successfully."
      ]
     },
     "metadata": {},
     "output_type": "display_data"
    },
    {
     "data": {
      "text/plain": [
       "Messages named 'Notsupported' are not supported."
      ]
     },
     "metadata": {},
     "output_type": "display_data"
    }
   ],
   "source": [
    "public record class Message(string Name, string? Payload);\n",
    "\n",
    "public interface IMessageHandler\n",
    "{\n",
    "    void Handle(Message message);\n",
    "}\n",
    "\n",
    "public class AlarmPausedHandler : IMessageHandler\n",
    "{\n",
    "    private readonly IMessageHandler? _next;\n",
    "    public AlarmPausedHandler(IMessageHandler? next = null)\n",
    "    {\n",
    "        _next = next;\n",
    "    }\n",
    "\n",
    "    public void Handle(Message message)\n",
    "    {\n",
    "        if (message.Name == \"AlarmPaused\")\n",
    "        {\n",
    "            // Do something clever with the Payload\n",
    "        }\n",
    "        else\n",
    "        {\n",
    "            _next?.Handle(message);\n",
    "        }\n",
    "    }\n",
    "}\n",
    "\n",
    "public class AlarmStoppedHandler : IMessageHandler\n",
    "{\n",
    "    private readonly IMessageHandler? _next;\n",
    "    public AlarmStoppedHandler(IMessageHandler? next = null)\n",
    "    {\n",
    "        _next = next;\n",
    "    }\n",
    "\n",
    "    public void Handle(Message message)\n",
    "    {\n",
    "        if (message.Name == \"AlarmStopped\")\n",
    "        {\n",
    "            // Do something clever with the Payload\n",
    "        }\n",
    "        else\n",
    "        {\n",
    "            _next?.Handle(message);\n",
    "        }\n",
    "    }\n",
    "}\n",
    "\n",
    "public class AlarmTriggeredHandler : IMessageHandler\n",
    "{\n",
    "    private readonly IMessageHandler? _next;\n",
    "    public AlarmTriggeredHandler(IMessageHandler? next = null)\n",
    "    {\n",
    "        _next = next;\n",
    "    }\n",
    "\n",
    "    public void Handle(Message message)\n",
    "    {\n",
    "        if (message.Name == \"AlarmTriggered\")\n",
    "        {\n",
    "            // Do something clever with the Payload\n",
    "        }\n",
    "        else\n",
    "        {\n",
    "            _next?.Handle(message);\n",
    "        }\n",
    "    }\n",
    "}\n",
    "\n",
    "public class DefaultHandler : IMessageHandler\n",
    "{\n",
    "    public void Handle(Message message)\n",
    "    {\n",
    "        throw new NotSupportedException(\n",
    "            $\"Messages named '{message.Name}' are not supported.\");\n",
    "    }\n",
    "}\n",
    "\n",
    "\n",
    "public string HandleMessage(Message message)\n",
    "{\n",
    "    \n",
    "    var messageHandler = new AlarmTriggeredHandler(\n",
    "            new AlarmPausedHandler(\n",
    "                new AlarmStoppedHandler(\n",
    "                    new DefaultHandler()\n",
    "                )));\n",
    "    try\n",
    "    {\n",
    "        messageHandler.Handle(message);\n",
    "        return $\"Message '{message.Name}' handled successfully.\";\n",
    "    }\n",
    "    catch (NotSupportedException ex)\n",
    "    {\n",
    "        return ex.Message;\n",
    "    }\n",
    "}\n",
    "\n",
    "\n",
    "\n",
    "HandleMessage(new Message(\"AlarmPaused\", \"Payload1\")).Display();\n",
    "HandleMessage(new Message(\"AlarmStopped\", \"Payload2\")).Display();\n",
    "HandleMessage(new Message(\"Notsupported\", \"Payload3\")).Display();\n"
   ]
  },
  {
   "cell_type": "markdown",
   "id": "c5b84668",
   "metadata": {},
   "source": [
    "See [C12\\src\\ImprovedChainOfResponsibility](../C12/src/ImprovedChainOfResponsibility/Program.cs) for an example of combining the template method with chain of responsibility. Also [C12\\src\\FinalChainOfResponsibility](../C12/src/FinalChainOfResponsibility/Program.cs) then improves it."
   ]
  }
 ],
 "metadata": {
  "kernelspec": {
   "display_name": ".NET (C#)",
   "language": "C#",
   "name": ".net-csharp"
  },
  "language_info": {
   "name": "python"
  },
  "polyglot_notebook": {
   "kernelInfo": {
    "defaultKernelName": "csharp",
    "items": [
     {
      "aliases": [],
      "name": "csharp"
     }
    ]
   }
  }
 },
 "nbformat": 4,
 "nbformat_minor": 5
}
