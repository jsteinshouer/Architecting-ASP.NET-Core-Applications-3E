{
 "cells": [
  {
   "cell_type": "markdown",
   "id": "f07db207",
   "metadata": {},
   "source": [
    "# Chapter 13 - Operation Result Pattern\n",
    "\n",
    "- Communicate sucess or failure of an operation\n",
    "- Returns a value\n",
    "- Returns messages\n",
    "- Alternative to throwing exceptions\n",
    "- Can be as simple as a single binary flag indicating success or complex"
   ]
  },
  {
   "cell_type": "markdown",
   "id": "30081bde",
   "metadata": {},
   "source": [
    "## API Result Example"
   ]
  },
  {
   "cell_type": "code",
   "execution_count": null,
   "id": "3ad9b37d",
   "metadata": {
    "vscode": {
     "languageId": "polyglot-notebook"
    }
   },
   "outputs": [
    {
     "name": "stdout",
     "output_type": "stream",
     "text": [
      "{\"Data\":\"Hello, World!\",\"IsSuccessStatusCode\":true,\"StatusCode\":200,\"Errors\":[]}\n",
      "{\"Data\":[42,45,55],\"IsSuccessStatusCode\":true,\"StatusCode\":200,\"Errors\":[]}\n",
      "{\"Data\":{\"Name\":\"Alice\",\"Age\":30},\"IsSuccessStatusCode\":true,\"StatusCode\":200,\"Errors\":[]}\n"
     ]
    }
   ],
   "source": [
    "using System.Net;\n",
    "using System.Text.Json.Serialization;\n",
    "\n",
    "// This code defines a generic class ApiResult<T> that can be used to represent the result of an API call.\n",
    "// It includes properties for the data returned, whether the call was successful, the HTTP status code, and any errors that occurred.\n",
    "public class ApiResult<T> {\n",
    "    public T Data { get; set; }\n",
    "    public bool IsSuccessStatusCode { get; set; }\n",
    "\tpublic HttpStatusCode StatusCode { get; set; }\n",
    "    public string[] Errors { get; set; }\n",
    "}\n",
    "\n",
    "var result1 = new ApiResult<string> {\n",
    "    Data = \"Hello, World!\",\n",
    "    IsSuccessStatusCode = true,\n",
    "    StatusCode = HttpStatusCode.OK,\n",
    "    Errors = Array.Empty<string>()\n",
    "};\n",
    "\n",
    "Console.WriteLine(System.Text.Json.JsonSerializer.Serialize(result1));\n",
    "\n",
    "var result2 = new ApiResult<int[]> {\n",
    "    Data = [42,45,55],\n",
    "    IsSuccessStatusCode = true,\n",
    "    StatusCode = HttpStatusCode.OK,\n",
    "    Errors = Array.Empty<string>()\n",
    "};\n",
    "Console.WriteLine(System.Text.Json.JsonSerializer.Serialize(result2));\n",
    "\n",
    "public record class MyData\n",
    "{\n",
    "    public string Name { get; init; }\n",
    "    public int Age { get; init; }\n",
    "}\n",
    "\n",
    "var result3 = new ApiResult<MyData> {\n",
    "    Data = new MyData { Name = \"Alice\", Age = 30 },\n",
    "    IsSuccessStatusCode = true,\n",
    "    StatusCode = HttpStatusCode.OK,\n",
    "    Errors = Array.Empty<string>()\n",
    "};\n",
    "\n",
    "Console.WriteLine(System.Text.Json.JsonSerializer.Serialize(result3));"
   ]
  },
  {
   "cell_type": "markdown",
   "id": "128647a2",
   "metadata": {},
   "source": [
    "### Example error"
   ]
  },
  {
   "cell_type": "code",
   "execution_count": 6,
   "id": "84999245",
   "metadata": {
    "vscode": {
     "languageId": "polyglot-notebook"
    }
   },
   "outputs": [
    {
     "name": "stdout",
     "output_type": "stream",
     "text": [
      "{\"Data\":null,\"IsSuccessStatusCode\":false,\"StatusCode\":404,\"Errors\":[\"Data not found\",\"Please check the ID and try again\"]}\r\n"
     ]
    }
   ],
   "source": [
    "var errorResult = new ApiResult<MyData> {\n",
    "    Data = null,\n",
    "    IsSuccessStatusCode = false,\n",
    "    StatusCode = HttpStatusCode.NotFound,\n",
    "    Errors = [\n",
    "        \"Data not found\",\n",
    "        \"Please check the ID and try again\"\n",
    "    ]\n",
    "};\n",
    "\n",
    "Console.WriteLine(System.Text.Json.JsonSerializer.Serialize(errorResult));"
   ]
  },
  {
   "cell_type": "markdown",
   "id": "07de0cff",
   "metadata": {},
   "source": [
    "This is example is similar to the `HttpResponseMessage` class which is also a good example of this pattern.\n",
    "\n",
    "This example is generic but the can also be very specific to the operation being performed. For example the `Data` property could return a more specific operation results. See [C13\\src\\RegistrationApp](C13\\src\\RegistrationApp\\Program.cs) for another example."
   ]
  },
  {
   "cell_type": "markdown",
   "id": "c5fb8875",
   "metadata": {},
   "source": [
    "## Advantages\n",
    "\n",
    "- More explicit that thowing an Exception\n",
    "- A little bit more perfomant that thowing an exception\n",
    "- More flexible than exceptions\n",
    "\n",
    "## Disadvantages\n",
    "\n",
    "- More complex than exceptions\n",
    "- Bigger API surface than needed\n",
    "- Logging?\n"
   ]
  }
 ],
 "metadata": {
  "kernelspec": {
   "display_name": ".NET (C#)",
   "language": "C#",
   "name": ".net-csharp"
  },
  "language_info": {
   "name": "python"
  },
  "polyglot_notebook": {
   "kernelInfo": {
    "defaultKernelName": "csharp",
    "items": [
     {
      "aliases": [],
      "name": "csharp"
     }
    ]
   }
  }
 },
 "nbformat": 4,
 "nbformat_minor": 5
}
