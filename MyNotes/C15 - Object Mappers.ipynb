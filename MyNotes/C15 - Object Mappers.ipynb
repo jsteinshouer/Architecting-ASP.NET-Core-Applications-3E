{
 "cells": [
  {
   "cell_type": "markdown",
   "id": "180a0af4",
   "metadata": {},
   "source": [
    "# Chapter 15 - Object Mappers"
   ]
  },
  {
   "cell_type": "markdown",
   "id": "a0ed8473",
   "metadata": {},
   "source": [
    "\n",
    "\n",
    "## The Object Mapper pattern\n",
    "\n",
    "- Copy the value of an objects properties into the properties of another object\n",
    "    * i.e. Model to DTO"
   ]
  },
  {
   "cell_type": "code",
   "execution_count": 5,
   "id": "2f52ad65",
   "metadata": {
    "polyglot_notebook": {
     "kernelName": "mermaid"
    },
    "vscode": {
     "languageId": "polyglot-notebook"
    }
   },
   "outputs": [
    {
     "data": {
      "text/html": [
       "<div class=\"mermaidMarkdownContainer\" style=\"background-color:white\">\r\n",
       "<link rel=\"stylesheet\" href=\"https://cdnjs.cloudflare.com/ajax/libs/font-awesome/6.2.0/css/all.min.css\">\r\n",
       "<div id=\"1ae5596770a74868ac2dc0911c4da5e3\"></div>\r\n",
       "<script type=\"module\">\r\n",
       "\r\n",
       "            import mermaid from 'https://cdn.jsdelivr.net/npm/mermaid@10.6.1/dist/mermaid.esm.min.mjs';\r\n",
       "            let renderTarget = document.getElementById('1ae5596770a74868ac2dc0911c4da5e3');\r\n",
       "            try {\r\n",
       "                const {svg, bindFunctions} = await mermaid.mermaidAPI.render( \r\n",
       "                    'mermaid_1ae5596770a74868ac2dc0911c4da5e3', \r\n",
       "                    `classDiagram\r\n",
       "    class IMapper~TSource, TDestination~ {\r\n",
       "        +map(TSource)  TDestination\r\n",
       "    }`);\r\n",
       "                renderTarget.innerHTML = svg;\r\n",
       "                bindFunctions?.(renderTarget);\r\n",
       "            }\r\n",
       "            catch (error) {\r\n",
       "                console.log(error);\r\n",
       "            }\r\n",
       "</script>\r\n",
       "</div>\r\n"
      ]
     },
     "metadata": {},
     "output_type": "display_data"
    }
   ],
   "source": [
    "classDiagram\n",
    "    class IMapper~TSource, TDestination~ {\n",
    "        +map(TSource)  TDestination\n",
    "    }"
   ]
  },
  {
   "cell_type": "markdown",
   "id": "5da18d96",
   "metadata": {},
   "source": [
    "### Project - Mapper\n",
    "\n",
    "Simple example. See `C15\\Mapper` for full example."
   ]
  },
  {
   "cell_type": "code",
   "execution_count": 6,
   "id": "154ab467",
   "metadata": {
    "polyglot_notebook": {
     "kernelName": "csharp"
    },
    "vscode": {
     "languageId": "polyglot-notebook"
    }
   },
   "outputs": [
    {
     "data": {
      "text/plain": [
       "[{\"Id\":1,\"Name\":\"Banana\",\"Description\":null,\"ShelfNumber\":1,\"QuantityInStock\":50},{\"Id\":2,\"Name\":\"Apple\",\"Description\":null,\"ShelfNumber\":1,\"QuantityInStock\":20},{\"Id\":3,\"Name\":\"Habanero Pepper\",\"Description\":null,\"ShelfNumber\":2,\"QuantityInStock\":10}]"
      ]
     },
     "metadata": {},
     "output_type": "display_data"
    },
    {
     "data": {
      "text/plain": [
       "[{\"Id\":1,\"Name\":\"Banana\",\"QuantityInStock\":50},{\"Id\":2,\"Name\":\"Apple\",\"QuantityInStock\":20},{\"Id\":3,\"Name\":\"Habanero Pepper\",\"QuantityInStock\":10}]"
      ]
     },
     "metadata": {},
     "output_type": "display_data"
    }
   ],
   "source": [
    "public interface IMapper<TSource, TDestination>\n",
    "{\n",
    "    TDestination Map(TSource entity);\n",
    "}\n",
    "\n",
    "//DTO\n",
    "public record class ProductDTO(int Id, string Name, int QuantityInStock);\n",
    "\n",
    "\n",
    "public class ProductMapper : IMapper<Product, ProductDetails>\n",
    "{\n",
    "    public ProductDetails Map(Product entity)\n",
    "        => new(entity.Id ?? default, entity.Name, entity.QuantityInStock);\n",
    "}\n",
    "\n",
    "public class Product\n",
    "{\n",
    "    public Product(string name, int quantityInStock, int shelfNumber, int? id = null)\n",
    "    {\n",
    "        Name = name ?? throw new ArgumentNullException(nameof(name));\n",
    "        QuantityInStock = quantityInStock;\n",
    "        Id = id;\n",
    "        ShelfNumber = shelfNumber;\n",
    "    }\n",
    "\n",
    "    public int? Id { get; init; }\n",
    "    public string Name { get; init; }\n",
    "    public string Description { get; init; }\n",
    "    public int ShelfNumber { get; init; }\n",
    "    public int QuantityInStock { get; private set; }\n",
    "\n",
    "    public void AddStock(int amount)\n",
    "    {\n",
    "        if (amount == 0) { return; }\n",
    "        QuantityInStock += amount;\n",
    "    }\n",
    "\n",
    "    public void RemoveStock(int amount)\n",
    "    {\n",
    "        if (amount == 0) { return; }\n",
    "        QuantityInStock -= amount;\n",
    "    }\n",
    "}\n",
    "\n",
    "var mapper = new ProductMapper();\n",
    "\n",
    "var products = new List<Product>() \n",
    "{\n",
    "    new Product(\n",
    "        id: 1,\n",
    "        name: \"Banana\",\n",
    "        shelfNumber: 1,\n",
    "        quantityInStock: 50\n",
    "    ),\n",
    "    new Product(\n",
    "        id: 2,\n",
    "        name: \"Apple\",\n",
    "        shelfNumber: 1,\n",
    "        quantityInStock: 20\n",
    "    ),\n",
    "    new Product(\n",
    "        id: 3,\n",
    "        name: \"Habanero Pepper\",\n",
    "        shelfNumber: 2,\n",
    "        quantityInStock: 10\n",
    "    )\n",
    "};\n",
    "\n",
    "display( System.Text.Json.JsonSerializer.Serialize(products) );\n",
    "\n",
    "var data = products.Select( p => mapper.Map(p) );\n",
    "\n",
    "display( System.Text.Json.JsonSerializer.Serialize(data) );\n"
   ]
  },
  {
   "cell_type": "markdown",
   "id": "887eca04",
   "metadata": {},
   "source": [
    "## Too many dependencies\n",
    "\n",
    "- This pattern can quickly become messay with a lot of dependencies\n",
    "    * REduced readability\n",
    "    * Decreased maintainability\n",
    "    * Mock heavy tests\n",
    "    * Inflated scope\n",
    "\n",
    "- Rule of thumb: 3 or less dependencies"
   ]
  },
  {
   "cell_type": "markdown",
   "id": "eb7287a7",
   "metadata": {},
   "source": [
    "### Aggregate Services Pattern\n",
    "\n",
    "- Can be used to reduce the number of dependencies\n",
    "- Putting related services together into 1\n",
    "\n",
    "### Facade\n",
    "\n",
    "- Can also use the facade pattern for this as well"
   ]
  },
  {
   "cell_type": "markdown",
   "id": "ea28dc8d",
   "metadata": {},
   "source": [
    "## Dynamic MappingService"
   ]
  },
  {
   "cell_type": "code",
   "execution_count": null,
   "metadata": {
    "polyglot_notebook": {
     "kernelName": "csharp"
    },
    "vscode": {
     "languageId": "polyglot-notebook"
    }
   },
   "outputs": [],
   "source": [
    "public interface IMappingService\n",
    "{\n",
    "    TDestination Map<TSource, TDestination>(TSource entity);\n",
    "}\n",
    "\n",
    "public class MapperNotFoundException : Exception\n",
    "{\n",
    "    public MapperNotFoundException(Type source, Type destination)\n",
    "        : base($\"No Mapper from '{source}' to '{destination}' was found.\")\n",
    "    {\n",
    "    }\n",
    "}\n",
    "\n",
    "public class ServiceLocatorMappingService : IMappingService\n",
    "{\n",
    "    private readonly IServiceProvider _serviceProvider;\n",
    "    public ServiceLocatorMappingService(IServiceProvider serviceProvider)\n",
    "    {\n",
    "        _serviceProvider = serviceProvider ?? throw new ArgumentNullException(nameof(serviceProvider));\n",
    "    }\n",
    "\n",
    "    public TDestination Map<TSource, TDestination>(TSource entity)\n",
    "    {\n",
    "        var mapper = _serviceProvider.GetService<IMapper<TSource, TDestination>>();\n",
    "        if (mapper == null)\n",
    "        {\n",
    "            throw new MapperNotFoundException(typeof(TSource), typeof(TDestination));\n",
    "        }\n",
    "        return mapper.Map(entity);\n",
    "    }\n",
    "}"
   ]
  },
  {
   "cell_type": "markdown",
   "id": "55a881ed",
   "metadata": {},
   "source": [
    "## AutoMapper\n",
    "\n",
    "- OpenSource tool that does the mapping for us\n",
    "- Maps using conventions\n",
    " \n",
    "```\n",
    "dotnet add package AutoMapper\n",
    "```\n"
   ]
  },
  {
   "cell_type": "code",
   "execution_count": 1,
   "metadata": {
    "polyglot_notebook": {
     "kernelName": "csharp"
    },
    "vscode": {
     "languageId": "polyglot-notebook"
    }
   },
   "outputs": [
    {
     "data": {
      "text/html": [
       "<div><div></div><div></div><div><strong>Installed Packages</strong><ul><li><span>AutoMapper, 14.0.0</span></li></ul></div></div>"
      ]
     },
     "metadata": {},
     "output_type": "display_data"
    }
   ],
   "source": [
    "#r \"nuget:AutoMapper\""
   ]
  },
  {
   "cell_type": "markdown",
   "id": "3d09192c",
   "metadata": {},
   "source": [
    "### Create a profile\n",
    "\n",
    "```csharp\n",
    "using AutoMapper;\n",
    "public class WebProfile : Profile\n",
    "{\n",
    "    public WebProfile()\n",
    "    {\n",
    "        CreateMap<Product, ProductDetails>();\n",
    "        CreateMap<NotEnoughStockException, NotEnoughStock>();\n",
    "        CreateMap<ProductNotFoundException, ProductNotFound>();\n",
    "    }\n",
    "}\n",
    "```"
   ]
  },
  {
   "cell_type": "markdown",
   "id": "5dd48a36",
   "metadata": {},
   "source": [
    "### Injection extension\n",
    "\n",
    "```csharp\n",
    "builder.Services.AddAutoMapper(typeof(WebProfile).Assembly);\n",
    "```\n",
    "\n",
    "### Usage example\n",
    "\n",
    "```csharp\n",
    "app.MapGet(\"/products\", async (\n",
    "    IProductRepository productRepository, \n",
    "    IMapper mapper, \n",
    "    CancellationToken cancellationToken) =>\n",
    "{\n",
    "    var products = await productRepository.AllAsync(cancellationToken);\n",
    "    return products.Select(p => mapper.Map<Product, ProductDetails>(p));\n",
    "});\n",
    "```\n",
    "\n",
    "Use to map from EF core \n",
    "\n",
    "```csharp\n",
    "public IEnumerable<ProductDto> GetAllProducts()\n",
    "{\n",
    "    return _mapper.ProjectTo<ProductDto>(_db.Products);\n",
    "}\n",
    "```"
   ]
  },
  {
   "cell_type": "markdown",
   "id": "dc9cb0bb",
   "metadata": {},
   "source": [
    "## Mapperly\n",
    "\n",
    "- Newer object mapper library that leverages source generation to make it fast\n",
    "    * Code is generated at compile time\n",
    "\n",
    "```\n",
    "dotnet package add  Riok.Mapperly \n",
    "```"
   ]
  },
  {
   "cell_type": "code",
   "execution_count": 1,
   "metadata": {
    "polyglot_notebook": {
     "kernelName": "csharp"
    },
    "vscode": {
     "languageId": "polyglot-notebook"
    }
   },
   "outputs": [
    {
     "data": {
      "text/html": [
       "<div><div></div><div></div><div><strong>Installed Packages</strong><ul><li><span>Riok.Mapperly, 4.2.1</span></li></ul></div></div>"
      ]
     },
     "metadata": {},
     "output_type": "display_data"
    }
   ],
   "source": [
    "#r \"nuget:Riok.Mapperly\""
   ]
  },
  {
   "cell_type": "markdown",
   "id": "8cbf011a",
   "metadata": {},
   "source": [
    "Editing this property in the project file allows you to view the generated source.\n",
    "\n",
    "```\n",
    "<PropertyGroup>\n",
    " <EmitCompilerGeneratedFiles>true</EmitCompilerGeneratedFiles>\n",
    "</PropertyGroup>\n",
    "```\n",
    "\n",
    "See [C15\\Mapperly\\Web\\Program.cs](C15\\Mapperly\\Web\\Program.cs) for full example using this."
   ]
  }
 ],
 "metadata": {
  "kernelspec": {
   "display_name": ".NET (C#)",
   "language": "C#",
   "name": ".net-csharp"
  },
  "language_info": {
   "name": "python"
  },
  "polyglot_notebook": {
   "kernelInfo": {
    "defaultKernelName": "csharp",
    "items": [
     {
      "aliases": [],
      "name": "csharp"
     }
    ]
   }
  }
 },
 "nbformat": 4,
 "nbformat_minor": 5
}
