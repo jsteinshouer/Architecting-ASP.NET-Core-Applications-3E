{
 "cells": [
  {
   "cell_type": "markdown",
   "id": "01183b79",
   "metadata": {},
   "source": [
    "# Example of running xUnit tests in a Jupyter Notebook\n",
    "\n",
    "### Install the xunit Nuget package"
   ]
  },
  {
   "cell_type": "code",
   "execution_count": 2,
   "id": "c9d72c35",
   "metadata": {
    "polyglot_notebook": {
     "kernelName": "csharp"
    }
   },
   "outputs": [
    {
     "data": {
      "text/html": [
       "<div><div></div><div></div><div><strong>Installed Packages</strong><ul><li><span>xunit, 2.9.3</span></li></ul></div></div>"
      ]
     },
     "metadata": {},
     "output_type": "display_data"
    }
   ],
   "source": [
    "#r \"nuget:xunit\""
   ]
  },
  {
   "cell_type": "markdown",
   "id": "5e46d971",
   "metadata": {},
   "source": [
    "### Load the test runner"
   ]
  },
  {
   "cell_type": "code",
   "execution_count": 4,
   "id": "7f1ca24d",
   "metadata": {
    "polyglot_notebook": {
     "kernelName": "csharp"
    }
   },
   "outputs": [],
   "source": [
    "#load \"SimpleTestRunner.cs\""
   ]
  },
  {
   "cell_type": "markdown",
   "id": "2bcbe32e",
   "metadata": {},
   "source": [
    "### Write your tests"
   ]
  },
  {
   "cell_type": "code",
   "execution_count": 6,
   "id": "8bfbb04a",
   "metadata": {
    "polyglot_notebook": {
     "kernelName": "csharp"
    }
   },
   "outputs": [],
   "source": [
    "using Xunit;\n",
    "\n",
    "public class CalculatorTests\n",
    "{\n",
    "    [Fact]\n",
    "    public void Add_ShouldReturnCorrectSum()\n",
    "    {\n",
    "        int result = Add(2, 3);\n",
    "        Assert.Equal(5, result);\n",
    "    }\n",
    "\n",
    "    [Fact]\n",
    "    public void Add_TestShouldFail()\n",
    "    {\n",
    "        int result = Add(1, 1);\n",
    "        Assert.Equal(3, result);\n",
    "    }\n",
    "\n",
    "    private int Add(int a, int b) => a + b;\n",
    "}"
   ]
  },
  {
   "cell_type": "markdown",
   "id": "ccf9a86a",
   "metadata": {},
   "source": [
    "### Run the tests"
   ]
  },
  {
   "cell_type": "code",
   "execution_count": 7,
   "id": "084fd73e",
   "metadata": {
    "polyglot_notebook": {
     "kernelName": "csharp"
    }
   },
   "outputs": [
    {
     "name": "stdout",
     "output_type": "stream",
     "text": [
      "Running tests in CalculatorTests...\n",
      "Running Add_ShouldReturnCorrectSum...\n",
      "✔ Add_ShouldReturnCorrectSum passed.\n",
      "Running Add_TestShouldFail...\n",
      "✘ Add_TestShouldFail failed: Assert.Equal() Failure: Values differ\n",
      "Expected: 3\n",
      "Actual:   2\n"
     ]
    }
   ],
   "source": [
    "\n",
    "SimpleTestRunner.RunTests(typeof(CalculatorTests));"
   ]
  },
  {
   "cell_type": "markdown",
   "id": "5d24bc70",
   "metadata": {},
   "source": [
    "### You can also use `[Theory]` with inline data"
   ]
  },
  {
   "cell_type": "code",
   "execution_count": 8,
   "metadata": {
    "polyglot_notebook": {
     "kernelName": "csharp"
    }
   },
   "outputs": [
    {
     "name": "stdout",
     "output_type": "stream",
     "text": [
      "Running tests in InlineDataTest...\n",
      "Running Should_be_equal with arguments: 1,1...\n",
      "✔ Should_be_equal passed.\n",
      "Running Should_be_equal with arguments: 2,2...\n",
      "✔ Should_be_equal passed.\n",
      "Running Should_be_equal with arguments: 5,5...\n",
      "✔ Should_be_equal passed.\n"
     ]
    }
   ],
   "source": [
    "using Xunit;\n",
    "\n",
    "public class InlineDataTest\n",
    "{\n",
    "    [Theory]\n",
    "    [InlineData(1, 1)]\n",
    "    [InlineData(2, 2)]\n",
    "    [InlineData(5, 5)]\n",
    "    public void Should_be_equal(int value1, int value2)\n",
    "    {\n",
    "        Assert.Equal(value1, value2);\n",
    "    }\n",
    "}\n",
    "SimpleTestRunner.RunTests(typeof(InlineDataTest));"
   ]
  }
 ],
 "metadata": {
  "kernelspec": {
   "display_name": ".NET (C#)",
   "language": "C#",
   "name": ".net-csharp"
  },
  "polyglot_notebook": {
   "kernelInfo": {
    "defaultKernelName": "csharp",
    "items": [
     {
      "aliases": [],
      "name": "csharp"
     }
    ]
   }
  }
 },
 "nbformat": 4,
 "nbformat_minor": 5
}
