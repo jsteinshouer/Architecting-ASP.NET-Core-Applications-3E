{
 "cells": [
  {
   "cell_type": "markdown",
   "id": "840f7150",
   "metadata": {},
   "source": [
    "# Chapter 8 - Dependency Injection\n",
    "\n",
    "- DI is a way to apply the IoC principle\n",
    "    * D is SOLID\n",
    "\n",
    "## Composition root\n",
    "\n",
    "- in .net 8+ the composition root is `Program.cs`\n",
    "- We give the IoC container a bluebrint and it handles the objects for us\n",
    "    * includes their lifetime\n",
    "\n",
    "### Control freak code smell\n",
    "\n",
    "- Forbids us from using the `new` keyword\n",
    "- Violates the IoC principle\n",
    "- Always ask if it is a dependcy that could be injected instead\n",
    "\n",
    "### Stable dependencies\n",
    "\n",
    "- unlikley to break something if they change i.e. DTO or other data structure with no behavior\n",
    "- Can use `new` for these\n",
    "\n",
    "### Volatile dependencies\n",
    "\n",
    "- i.e. Data access, business logic\n",
    "- Use DI\n",
    "\n",
    "### Lifetime\n",
    "\n",
    "|Lifetime   |Description                                            |\n",
    "|-----------|-------------------------------------------------------|\n",
    "| Transient | Creates a new instance every time it is requested     |\n",
    "| Scoped    | Create 1 instance per HTTP request                    |\n",
    "| Singleton | Creates a single instance for the entire application  |\n",
    "\n",
    "- Make sure singleton's are thead safe"
   ]
  },
  {
   "cell_type": "code",
   "execution_count": 1,
   "id": "20459d43",
   "metadata": {
    "polyglot_notebook": {
     "kernelName": "csharp"
    }
   },
   "outputs": [],
   "source": [
    "public class ObjectLifetime : ITransient, IScoped, ISingleton\n",
    "{\n",
    "    public Guid Id { get; } = Guid.NewGuid();\n",
    "}\n",
    "\n",
    "public interface ISingleton\n",
    "{\n",
    "    Guid Id { get; }\n",
    "}\n",
    "\n",
    "public interface IScoped\n",
    "{\n",
    "    Guid Id { get; }\n",
    "}\n",
    "\n",
    "public interface ITransient\n",
    "{\n",
    "    Guid Id { get; }\n",
    "}\n",
    "\n",
    "public class ServiceConsumer(ISingleton singleton, IScoped scoped, ITransient \n",
    "transient)\n",
    "{\n",
    "    private readonly ISingleton _singleton = singleton;\n",
    "    private readonly IScoped _scoped = scoped;\n",
    "    private readonly ITransient _transient = transient;\n",
    "    public Guid SingletonId => _singleton.Id;\n",
    "    public Guid ScopedId => _scoped.Id;\n",
    "    public Guid TransientId => _transient.Id;\n",
    "}"
   ]
  },
  {
   "cell_type": "markdown",
   "id": "ee5c558e",
   "metadata": {},
   "source": [
    "### References needed to run the app below"
   ]
  },
  {
   "cell_type": "code",
   "execution_count": 12,
   "id": "67f11737",
   "metadata": {
    "polyglot_notebook": {
     "kernelName": "csharp"
    }
   },
   "outputs": [],
   "source": [
    "#r \"C:\\Program Files\\dotnet\\shared\\Microsoft.AspNetCore.App\\9.0.2\\Microsoft.AspNetCore.dll\"\n",
    "#r \"C:\\Program Files\\dotnet\\shared\\Microsoft.AspNetCore.App\\9.0.2\\Microsoft.Extensions.Hosting.dll\"\n",
    "#r \"C:\\Program Files\\dotnet\\shared\\Microsoft.AspNetCore.App\\9.0.2\\Microsoft.AspNetCore.Mvc.ViewFeatures.dll\"\n",
    "#r \"C:\\Program Files\\dotnet\\shared\\Microsoft.AspNetCore.App\\9.0.2\\Microsoft.AspNetCore.Diagnostics.dll\"\n",
    "#r \"C:\\Program Files\\dotnet\\shared\\Microsoft.AspNetCore.App\\9.0.2\\Microsoft.AspNetCore.Http.dll\"\n",
    "#r \"C:\\Program Files\\dotnet\\shared\\Microsoft.AspNetCore.App\\9.0.2\\Microsoft.AspNetCore.Http.Results.dll\""
   ]
  },
  {
   "cell_type": "code",
   "execution_count": 4,
   "id": "73b1485c",
   "metadata": {
    "polyglot_notebook": {
     "kernelName": "csharp"
    }
   },
   "outputs": [],
   "source": [
    "string[] args = {\"--urls\",\"http://localhost:5555\"};"
   ]
  },
  {
   "cell_type": "code",
   "execution_count": 24,
   "id": "38a83493",
   "metadata": {
    "polyglot_notebook": {
     "kernelName": "csharp"
    }
   },
   "outputs": [
    {
     "name": "stdout",
     "output_type": "stream",
     "text": [
      "info: Microsoft.Hosting.Lifetime[14]\n",
      "      Now listening on: http://localhost:5555\n",
      "info: Microsoft.Hosting.Lifetime[0]\n",
      "      Application started. Press Ctrl+C to shut down.\n",
      "info: Microsoft.Hosting.Lifetime[0]\n",
      "      Hosting environment: Production\n",
      "info: Microsoft.Hosting.Lifetime[0]\n",
      "      Content root path: c:\\Users\\jason\\training\\dotnet\\Architecting-ASP.NET-Core-Applications-3E\\MyNotes\n"
     ]
    }
   ],
   "source": [
    "using Microsoft.AspNetCore.Http;\n",
    "using Microsoft.AspNetCore.Http.HttpResults;\n",
    "using Microsoft.AspNetCore.Routing;\n",
    "using Microsoft.AspNetCore.Builder;\n",
    "using Microsoft.Extensions.DependencyInjection;\n",
    "\n",
    "var builder = WebApplication.CreateBuilder(args);\n",
    "builder.Services.AddSingleton<ISingleton, ObjectLifetime>();\n",
    "builder.Services.AddScoped<IScoped, ObjectLifetime>();\n",
    "builder.Services.AddTransient<ITransient, ObjectLifetime>();\n",
    "builder.Services.AddTransient<ServiceConsumer>();\n",
    "var app = builder.Build();\n",
    "app.MapGet(\"/\", (ServiceConsumer serviceConsumer1, ServiceConsumer serviceConsumer2) =>\n",
    "{\n",
    "    return TypedResults.Ok(new[] {\n",
    "        serviceConsumer1,\n",
    "        serviceConsumer2\n",
    "    });\n",
    "});\n",
    "app.RunAsync();"
   ]
  },
  {
   "cell_type": "markdown",
   "id": "fc0a6191",
   "metadata": {},
   "source": [
    "### Stop the server"
   ]
  },
  {
   "cell_type": "code",
   "execution_count": 26,
   "id": "96e6577d",
   "metadata": {
    "polyglot_notebook": {
     "kernelName": "csharp"
    }
   },
   "outputs": [],
   "source": [
    "app.StopAsync();\n",
    "app = null;"
   ]
  },
  {
   "cell_type": "code",
   "execution_count": 25,
   "metadata": {
    "polyglot_notebook": {
     "kernelName": "http"
    }
   },
   "outputs": [
    {
     "data": {
      "text/html": [
       "<div class=\"http-response-message-container\"><style type=\"text/css\">\r\n",
       "            .http-response-message-container {\r\n",
       "                display: flex;\r\n",
       "                flex-wrap: wrap;\r\n",
       "            }\r\n",
       "\r\n",
       "            .http-response-message-container > div {\r\n",
       "                margin: .5em;\r\n",
       "                padding: 1em;\r\n",
       "                border: 1px solid;\r\n",
       "            }\r\n",
       "\r\n",
       "            .http-response-message-container > div > h2 {\r\n",
       "                margin-top: 0;\r\n",
       "            }\r\n",
       "\r\n",
       "            .http-response-message-container > div > h3 {\r\n",
       "                margin-bottom: 0;\r\n",
       "            }\r\n",
       "\r\n",
       "            .http-response-message-container summary {\r\n",
       "                margin: 1em 0;\r\n",
       "                font-size: 1.17em;\r\n",
       "                font-weight: 700;\r\n",
       "            }\r\n",
       "\r\n",
       "            @keyframes blink {\r\n",
       "                0% {\r\n",
       "                  opacity: .2;\r\n",
       "                }\r\n",
       "                20% {\r\n",
       "                  opacity: 1;\r\n",
       "                }\r\n",
       "                100% {\r\n",
       "                  opacity: .2;\r\n",
       "                }\r\n",
       "            }\r\n",
       "\r\n",
       "            .ellipsis span {\r\n",
       "                animation-name: blink;\r\n",
       "                animation-duration: 1.4s;\r\n",
       "                animation-iteration-count: infinite;\r\n",
       "                animation-fill-mode: both;\r\n",
       "            }\r\n",
       "\r\n",
       "            .ellipsis span:nth-child(2) {\r\n",
       "                animation-delay: .2s;\r\n",
       "            }\r\n",
       "\r\n",
       "            .ellipsis span:nth-child(3) {\r\n",
       "                animation-delay: .4s;\r\n",
       "            }</style><div><h2>Request</h2><hr></hr><h3>GET <a href=\"http://localhost:5555/\">http://localhost:5555/</a> HTTP/1.1</h3><details><summary>Headers</summary><table><thead><tr><th>Name</th><th>Value</th></tr></thead><tbody><tr><td>traceparent</td><td>00-5f57055280abc71c1db3f3a955c7f0ce-d80405514749824c-00</td></tr></tbody></table></details><details><summary>Body (application/json; charset=utf-8, 0 bytes)</summary><pre></pre></details></div><div><h2>Response</h2><hr></hr><h3>HTTP/1.1 200 OK (4.4 ms)</h3><details open=\"True\"><summary>Headers</summary><table><thead><tr><th>Name</th><th>Value</th></tr></thead><tbody><tr><td>Date</td><td>Wed, 07 May 2025 20:47:23 GMT</td></tr><tr><td>Server</td><td>Kestrel</td></tr><tr><td>Transfer-Encoding</td><td>chunked</td></tr><tr><td>Content-Type</td><td>application/json; charset=utf-8</td></tr><tr><td>Content-Length</td><td>317</td></tr></tbody></table></details><details><summary>Body (application/json; charset=utf-8, 317 bytes)</summary><details class=\"dni-treeview\"><summary><span class=\"dni-code-hint\"><code>[{&quot;singletonId&quot;:&quot;1a3cbbda-54fd-4675-9fa1-1004d23e0a71&quot;,&quot;scopedId&quot;:&quot;7c03ce28-f2f5-405c-b287-bde8cd9a95f5&quot;,&quot;transientId&quot;:&quot;489b3ca9-ee76-46cc-9d62-403b49335e8a&quot;},{&quot;singletonId&quot;:&quot;1a3cbbda-54fd-4675-9fa1-1004d23e0a71&quot;,&quot;scopedId&quot;:&quot;7c03ce28-f2f5-405c-b287-bde8cd9a95f5&quot;,&quot;transientId&quot;:&quot;d86eabb7-3048-4233-8642-df8134eb6430&quot;}]</code></span></summary><div><table><thead><tr></tr></thead><tbody><tr><td><details class=\"dni-treeview\"><summary><span class=\"dni-code-hint\"><code>{&quot;singletonId&quot;:&quot;1a3cbbda-54fd-4675-9fa1-1004d23e0a71&quot;,&quot;scopedId&quot;:&quot;7c03ce28-f2f5-405c-b287-bde8cd9a95f5&quot;,&quot;transientId&quot;:&quot;489b3ca9-ee76-46cc-9d62-403b49335e8a&quot;}</code></span></summary><div><table><thead><tr></tr></thead><tbody><tr><td>singletonId</td><td><span>&quot;1a3cbbda-54fd-4675-9fa1-1004d23e0a71&quot;</span></td></tr><tr><td>scopedId</td><td><span>&quot;7c03ce28-f2f5-405c-b287-bde8cd9a95f5&quot;</span></td></tr><tr><td>transientId</td><td><span>&quot;489b3ca9-ee76-46cc-9d62-403b49335e8a&quot;</span></td></tr></tbody></table></div></details></td></tr><tr><td><details class=\"dni-treeview\"><summary><span class=\"dni-code-hint\"><code>{&quot;singletonId&quot;:&quot;1a3cbbda-54fd-4675-9fa1-1004d23e0a71&quot;,&quot;scopedId&quot;:&quot;7c03ce28-f2f5-405c-b287-bde8cd9a95f5&quot;,&quot;transientId&quot;:&quot;d86eabb7-3048-4233-8642-df8134eb6430&quot;}</code></span></summary><div><table><thead><tr></tr></thead><tbody><tr><td>singletonId</td><td><span>&quot;1a3cbbda-54fd-4675-9fa1-1004d23e0a71&quot;</span></td></tr><tr><td>scopedId</td><td><span>&quot;7c03ce28-f2f5-405c-b287-bde8cd9a95f5&quot;</span></td></tr><tr><td>transientId</td><td><span>&quot;d86eabb7-3048-4233-8642-df8134eb6430&quot;</span></td></tr></tbody></table></div></details></td></tr></tbody></table></div></details></details></div></div><style>\r\n",
       ".dni-code-hint {\r\n",
       "    font-style: italic;\r\n",
       "    overflow: hidden;\r\n",
       "    white-space: nowrap;\r\n",
       "}\r\n",
       ".dni-treeview {\r\n",
       "    white-space: nowrap;\r\n",
       "}\r\n",
       ".dni-treeview td {\r\n",
       "    vertical-align: top;\r\n",
       "    text-align: start;\r\n",
       "}\r\n",
       "details.dni-treeview {\r\n",
       "    padding-left: 1em;\r\n",
       "}\r\n",
       "table td {\r\n",
       "    text-align: start;\r\n",
       "}\r\n",
       "table tr { \r\n",
       "    vertical-align: top; \r\n",
       "    margin: 0em 0px;\r\n",
       "}\r\n",
       "table tr td pre \r\n",
       "{ \r\n",
       "    vertical-align: top !important; \r\n",
       "    margin: 0em 0px !important;\r\n",
       "} \r\n",
       "table th {\r\n",
       "    text-align: start;\r\n",
       "}\r\n",
       "</style>"
      ]
     },
     "metadata": {},
     "output_type": "display_data"
    }
   ],
   "source": [
    "GET http://localhost:5555"
   ]
  },
  {
   "cell_type": "markdown",
   "id": "60742936",
   "metadata": {},
   "source": [
    "### Register with DI Elegantly\n",
    "\n",
    "- Use extension method to register\n",
    "\n",
    "    ```csharp\n",
    "    namespace Microsoft.Extensions.DependencyInjection;\n",
    "    public static class DemoFeatureExtensions\n",
    "    {\n",
    "        public static IServiceCollection AddDemoFeature(this IServiceCollection services)\n",
    "        {\n",
    "            return services\n",
    "                .AddSingleton<MyFeature>()\n",
    "                .AddSingleton<IMyFeatureDependency, MyFeatureDependency>()\n",
    "            ;\n",
    "        }\n",
    "    }\n",
    "    ```\n",
    "\n",
    "    Then in `Program.cs` we can call:\n",
    "\n",
    "    ```csharp\n",
    "    builder.Services.AddDemoFeature();\n",
    "    ```\n",
    "\n",
    "### Other options\n",
    "\n",
    "- Try to always use the built in IoC but there are other libraries or you can create your own if need be see p. 247\n",
    "\n",
    "## Strategy Pattern Revisited\n",
    "\n",
    "### Injection methods\n",
    "\n",
    "- Constructor (Most common)\n",
    "- Property (Not supported out of the box)\n",
    "    * Consider a different design instead of this\n",
    "- Method\n",
    "    * optional dependencies\n",
    "\n",
    "Use DI to inject different services at runtime using an Interface\n",
    "\n",
    "ie.\n",
    "\n",
    "```csharp\n",
    "public class MyController : ControllerBase {\n",
    "    public MyController( ILocationService locationService){}\n",
    "}\n",
    "```\n",
    "\n",
    "Program.cs\n",
    "\n",
    "https://andrewlock.net/configuring-environment-specific-services-in-asp-net-core-part-2/\n",
    "\n",
    "```csharp\n",
    "if(builder.Environment.IsDevelopment())\n",
    "{\n",
    "    builder.Services.AddSingleton<ILocationService, InMemoryLocationService>();\n",
    "}\n",
    "else {\n",
    "    builder.Services.AddSingleton<ILocationService, SQLServerLocationService>();\n",
    "}\n",
    "```\n",
    "\n",
    "## Singleton Patter Revistited\n",
    "\n",
    "- Classic ASP had an application state\n",
    "    * Dictionary of key/value pairs shared for all requests\n",
    "    * Does not exist in .NET Core\n",
    "\n",
    "### Example of caching in memory \n",
    "\n",
    "- Only works per process - Use `IDistributedCache` for distributed caching to something like Redis\n",
    "    "
   ]
  },
  {
   "cell_type": "code",
   "execution_count": null,
   "metadata": {
    "polyglot_notebook": {
     "kernelName": "csharp"
    }
   },
   "outputs": [],
   "source": [
    "using Microsoft.Extensions.Caching.Memory;\n",
    "\n",
    "public interface IApplicationState\n",
    "{\n",
    "    TItem? Get<TItem>(string key);\n",
    "    bool Has<TItem>(string key);\n",
    "    void Set<TItem>(string key, TItem value) where TItem : notnull;\n",
    "}\n",
    "\n",
    "public class ApplicationMemoryCache : IApplicationState\n",
    "{\n",
    " private readonly IMemoryCache _memoryCache;\n",
    " public ApplicationMemoryCache(IMemoryCache memoryCache)\n",
    " {\n",
    " _memoryCache = memoryCache ?? throw new\n",
    "ArgumentNullException(nameof(memoryCache));\n",
    " }\n",
    " public TItem Get<TItem>(string key)\n",
    " {\n",
    " return _memoryCache.Get<TItem>(key);\n",
    " }\n",
    " public bool Has<TItem>(string key)\n",
    " {\n",
    " return _memoryCache.TryGetValue<TItem>(key, out _);\n",
    " }\n",
    " public void Set<TItem>(string key, TItem value)\n",
    " {\n",
    " _memoryCache.Set(key, value);\n",
    " }\n",
    "}"
   ]
  },
  {
   "cell_type": "markdown",
   "id": "a1e02724",
   "metadata": {},
   "source": [
    "### Project - Wishlist"
   ]
  },
  {
   "cell_type": "code",
   "execution_count": 29,
   "metadata": {
    "polyglot_notebook": {
     "kernelName": "csharp"
    }
   },
   "outputs": [],
   "source": [
    "using System.Collections.Concurrent;\n",
    "\n",
    "public interface IWishList\n",
    "{\n",
    "    Task<WishListItem> AddOrRefreshAsync(string itemName);\n",
    "    Task<IEnumerable<WishListItem>> AllAsync();\n",
    "}\n",
    "\n",
    "public interface ISystemClock\n",
    "{\n",
    "    DateTimeOffset UtcNow { get; }\n",
    "}\n",
    "\n",
    "public class SystemClock : ISystemClock\n",
    "{\n",
    "    // Same as: public DateTimeOffset UtcNow => TimeProvider.System.GetUtcNow();\n",
    "    public DateTimeOffset UtcNow => DateTimeOffset.UtcNow;\n",
    "}\n",
    "\n",
    "public record class WishListItem(string Name, int Count, DateTimeOffset Expiration);\n",
    "\n",
    "public class InMemoryWishListOptions\n",
    "{\n",
    "    public ISystemClock SystemClock { get; set; } = new SystemClock();\n",
    "    public int ExpirationInSeconds { get; set; } = 30;\n",
    "}\n",
    "\n",
    "public class InMemoryWishList : IWishList\n",
    "{\n",
    "    private readonly InMemoryWishListOptions _options;\n",
    "    private readonly ConcurrentDictionary<string, InternalItem> _items = new();\n",
    "\n",
    "    public InMemoryWishList(InMemoryWishListOptions options)\n",
    "    {\n",
    "        _options = options ?? throw new ArgumentNullException(nameof(options));\n",
    "    }\n",
    "\n",
    "    public Task<WishListItem> AddOrRefreshAsync(string itemName)\n",
    "    {\n",
    "        var expirationTime = _options.SystemClock.UtcNow.AddSeconds(_options.ExpirationInSeconds);\n",
    "        _items\n",
    "            .Where(x => x.Value.Expiration < _options.SystemClock.UtcNow)\n",
    "            .Select(x => x.Key)\n",
    "            .ToList()\n",
    "            .ForEach(key => _items.Remove(key, out _))\n",
    "        ;\n",
    "        var item = _items.AddOrUpdate(\n",
    "            itemName,\n",
    "            new InternalItem(Count: 1,Expiration: expirationTime),\n",
    "            (string key, InternalItem item) => item with {\n",
    "                Count = item.Count + 1,\n",
    "                Expiration = expirationTime\n",
    "            }\n",
    "        );\n",
    "        var wishlistItem = new WishListItem(\n",
    "            Name: itemName,\n",
    "            Count: item.Count,\n",
    "            Expiration: item.Expiration\n",
    "        );\n",
    "        return Task.FromResult(wishlistItem);\n",
    "    }\n",
    "\n",
    "    public Task<IEnumerable<WishListItem>> AllAsync()\n",
    "    {\n",
    "        var items = _items\n",
    "            .Where(x => x.Value.Expiration >= _options.SystemClock.UtcNow)\n",
    "            .Select(x => new WishListItem(\n",
    "                Name: x.Key,\n",
    "                Count: x.Value.Count,\n",
    "                Expiration: x.Value.Expiration\n",
    "            ))\n",
    "            .OrderByDescending(x => x.Count)\n",
    "            .AsEnumerable()\n",
    "        ;\n",
    "        return Task.FromResult(items);\n",
    "    }\n",
    "\n",
    "    private record class InternalItem(int Count, DateTimeOffset Expiration);\n",
    "}\n"
   ]
  },
  {
   "cell_type": "code",
   "execution_count": 30,
   "metadata": {
    "polyglot_notebook": {
     "kernelName": "csharp"
    }
   },
   "outputs": [],
   "source": [
    "string[] args = {\"--urls\",\"http://localhost:7001\"};"
   ]
  },
  {
   "cell_type": "code",
   "execution_count": 31,
   "metadata": {
    "polyglot_notebook": {
     "kernelName": "csharp"
    }
   },
   "outputs": [],
   "source": [
    "#r \"C:\\Program Files\\dotnet\\shared\\Microsoft.AspNetCore.App\\9.0.2\\Microsoft.AspNetCore.dll\"\n",
    "#r \"C:\\Program Files\\dotnet\\shared\\Microsoft.AspNetCore.App\\9.0.2\\Microsoft.Extensions.Hosting.dll\"\n",
    "#r \"C:\\Program Files\\dotnet\\shared\\Microsoft.AspNetCore.App\\9.0.2\\Microsoft.AspNetCore.Mvc.ViewFeatures.dll\"\n",
    "#r \"C:\\Program Files\\dotnet\\shared\\Microsoft.AspNetCore.App\\9.0.2\\Microsoft.AspNetCore.Diagnostics.dll\"\n",
    "#r \"C:\\Program Files\\dotnet\\shared\\Microsoft.AspNetCore.App\\9.0.2\\Microsoft.AspNetCore.Http.dll\"\n",
    "#r \"C:\\Program Files\\dotnet\\shared\\Microsoft.AspNetCore.App\\9.0.2\\Microsoft.AspNetCore.Http.Results.dll\""
   ]
  },
  {
   "cell_type": "code",
   "execution_count": 33,
   "metadata": {
    "polyglot_notebook": {
     "kernelName": "csharp"
    }
   },
   "outputs": [
    {
     "name": "stdout",
     "output_type": "stream",
     "text": [
      "info: Microsoft.Hosting.Lifetime[14]\n",
      "      Now listening on: http://localhost:7001\n",
      "info: Microsoft.Hosting.Lifetime[0]\n",
      "      Application started. Press Ctrl+C to shut down.\n",
      "info: Microsoft.Hosting.Lifetime[0]\n",
      "      Hosting environment: Production\n",
      "info: Microsoft.Hosting.Lifetime[0]\n",
      "      Content root path: c:\\Users\\jason\\training\\dotnet\\Architecting-ASP.NET-Core-Applications-3E\\MyNotes\n"
     ]
    }
   ],
   "source": [
    "using Microsoft.AspNetCore.Http;\n",
    "using Microsoft.AspNetCore.Http.HttpResults;\n",
    "using Microsoft.AspNetCore.Routing;\n",
    "using Microsoft.AspNetCore.Builder;\n",
    "using Microsoft.Extensions.DependencyInjection;\n",
    "\n",
    "var builder = WebApplication.CreateBuilder(args);\n",
    "builder.Services\n",
    " .AddSingleton<InMemoryWishListOptions>()\n",
    " .AddSingleton<IWishList, InMemoryWishList>();\n",
    "\n",
    "var app = builder.Build();\n",
    "\n",
    "app.MapGet(\"/\", async (IWishList wishList) => await wishList.AllAsync());\n",
    "\n",
    "app.MapPost(\"/\", async (IWishList wishList, CreateItem? newItem) =>\n",
    "{\n",
    "    if (newItem?.Name == null)\n",
    "    {\n",
    "        return Results.BadRequest();\n",
    "    }\n",
    "    var item = await wishList.AddOrRefreshAsync(newItem.Name);\n",
    "    return Results.Created(\"/\", item);\n",
    "});\n",
    "\n",
    "app.RunAsync();\n",
    "\n",
    "public record class CreateItem(string? Name);"
   ]
  },
  {
   "cell_type": "code",
   "execution_count": null,
   "metadata": {
    "polyglot_notebook": {
     "kernelName": "http"
    }
   },
   "outputs": [],
   "source": [
    "GET http://localhost:7001/"
   ]
  },
  {
   "cell_type": "code",
   "execution_count": null,
   "metadata": {
    "polyglot_notebook": {
     "kernelName": "http"
    }
   },
   "outputs": [],
   "source": [
    "POST http://localhost:7001/\n",
    "Content-Type: application/json\n",
    "\n",
    "{\n",
    "    \"name\": \"Item 1\"\n",
    "}"
   ]
  },
  {
   "cell_type": "code",
   "execution_count": 42,
   "metadata": {
    "polyglot_notebook": {
     "kernelName": "csharp"
    }
   },
   "outputs": [],
   "source": [
    "app.StopAsync();\n",
    "app = null;"
   ]
  },
  {
   "cell_type": "markdown",
   "id": "abb9015a",
   "metadata": {},
   "source": [
    "See complete project at `C08\\Wishlist` and tests at `C08\\Wishlist.Tests`\n",
    "\n",
    "## Guard Clauses\n",
    "\n",
    "- No gaurauntess that injected classes are not null\n",
    "\n",
    "    instead of:\n",
    "\n",
    "    ```csharp\n",
    "    _locationService = locationService;\n",
    "    ```\n",
    "\n",
    "    ```csharp\n",
    "    locationService = locationService ?? throw new ArgumentNullException(nameof(locationService));\n",
    "    ```\n",
    "\n",
    "- The built-in DI container will throw an exception if can't fulfill all dependencies during the instanctiation\n",
    "    * Author recommends adding gaurds regardless\n",
    "\n",
    "- Helper\n",
    "\n",
    "```\n",
    "ArgumentNullException.ThrowIfNull(locationService)\n",
    "```\n",
    "\n",
    "## Service Locator Pattern\n",
    "\n",
    "- Anti-pattern or code smell\n",
    "- Should not be needed in most cases\n",
    "\n",
    "```\n",
    "app.Services.CreateScope().ServiceProvider.GetRequiredService<ApplicationDBContext>()\n",
    "```\n",
    "\n",
    "```\n",
    "IServiceProvider\n",
    "```\n",
    "\n",
    "## Facotry Pattern\n",
    "\n",
    "Can you pre-processing directive to direct the compiler\n",
    "\n",
    "https://learn.microsoft.com/en-us/dotnet/csharp/language-reference/preprocessor-directives\n",
    "\n",
    "Delegate acts as a factory. A different way to achieve above.\n",
    "\n",
    "```csharp\n",
    "builder.Services.AddSingleton<ILocationService>(sp =>\n",
    "{\n",
    "    if (builder.Environment.IsDevelopment())\n",
    "    {\n",
    "        return new InMemoryLocationService();\n",
    "    }\n",
    "    return new SqlLocationService(new NotImplementedDatabase());\n",
    "}\n",
    "```\n",
    "\n"
   ]
  }
 ],
 "metadata": {
  "kernelspec": {
   "display_name": ".NET (C#)",
   "language": "C#",
   "name": ".net-csharp"
  },
  "polyglot_notebook": {
   "kernelInfo": {
    "defaultKernelName": "csharp",
    "items": [
     {
      "aliases": [],
      "name": "csharp"
     }
    ]
   }
  }
 },
 "nbformat": 4,
 "nbformat_minor": 5
}
