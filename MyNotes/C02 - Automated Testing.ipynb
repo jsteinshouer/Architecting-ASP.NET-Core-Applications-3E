{
 "cells": [
  {
   "cell_type": "markdown",
   "id": "e33bdd5c",
   "metadata": {},
   "source": [
    "### Introducing the xUnit framework\n",
    "\n",
    "- You can install the `C# Dev Kit` extension for VS Code to use the GUI for testing\n",
    "    * You must build the test project for the tests to appear in the Test Explorer\n",
    "- Creating a xUnit project `MyProject.Tests`\n",
    "\n",
    "\n",
    "    ```bash\n",
    "    dotnet new xunit\n",
    "    ```\n",
    "\n",
    "    Add a reference to the project you are testing.\n",
    "\n",
    "    ```bash\n",
    "    dotnet add reference ../../src/MyProject.csproj.\n",
    "    ```\n",
    "\n",
    "- `[fact]` attribute is used to define a test case\n",
    "- `[Theroy]` attribute is used to define a data driven test case\n",
    "- Running tests with the CLI\n",
    "\n",
    "    ```\n",
    "    dotnet test\n",
    "    ```"
   ]
  },
  {
   "cell_type": "code",
   "execution_count": 3,
   "id": "1a7b81e5",
   "metadata": {
    "polyglot_notebook": {
     "kernelName": "csharp"
    },
    "vscode": {
     "languageId": "polyglot-notebook"
    }
   },
   "outputs": [
    {
     "data": {
      "text/html": [
       "<div><div></div><div></div><div><strong>Installed Packages</strong><ul><li><span>xunit, 2.9.3</span></li><li><span>xunit.v3.runner.utility, 2.0.1</span></li></ul></div></div>"
      ]
     },
     "metadata": {},
     "output_type": "display_data"
    }
   ],
   "source": [
    "#r \"nuget:xunit\"\n",
    "#r \"nuget:xunit.v3.runner.utility\""
   ]
  },
  {
   "cell_type": "markdown",
   "id": "effdc381",
   "metadata": {},
   "source": [
    "A simple test runner with help from Copilot."
   ]
  },
  {
   "cell_type": "code",
   "execution_count": 50,
   "metadata": {
    "polyglot_notebook": {
     "kernelName": "csharp"
    },
    "vscode": {
     "languageId": "polyglot-notebook"
    }
   },
   "outputs": [],
   "source": [
    "using System;\n",
    "using System.Linq;\n",
    "using System.Reflection;\n",
    "using Xunit;\n",
    "\n",
    "public class SimpleTestRunner\n",
    "{\n",
    "    public static void RunTests(Type testClassType)\n",
    "    {\n",
    "        Console.WriteLine($\"Running tests in {testClassType.Name}...\");\n",
    "\n",
    "        // Create an instance of the test class\n",
    "        var testClassInstance = Activator.CreateInstance(testClassType);\n",
    "\n",
    "        // Get all methods with the [Fact] or [Theory] attribute\n",
    "        var testMethods = testClassType.GetMethods()\n",
    "            .Where(m => m.GetCustomAttributes(typeof(FactAttribute), false).Any() ||\n",
    "                        m.GetCustomAttributes(typeof(TheoryAttribute), false).Any());\n",
    "\n",
    "        foreach (var method in testMethods)\n",
    "        {\n",
    "            var theoryData = method.GetCustomAttributes(typeof(InlineDataAttribute), false)\n",
    "                                   .Cast<InlineDataAttribute>();\n",
    "            \n",
    "            if (theoryData.Any())\n",
    "            {\n",
    "                // Handle [Theory] with [InlineData]\n",
    "                foreach (var data in theoryData)\n",
    "                {\n",
    "                    try\n",
    "                    {\n",
    "                        \n",
    "                        Object[] myObjArray = new Object[] {\n",
    "                             data.GetData(method)\n",
    "                        };\n",
    "                        Console.WriteLine($\"Running {method.Name} with arguments: {String.Join(\",\", data.GetData(method).ToArray<object[]>()[0])}...\");\n",
    "                        method.Invoke(testClassInstance, data.GetData(method).ToArray<object[]>()[0]);\n",
    "                        Console.WriteLine($\"✔ {method.Name} passed.\");\n",
    "                    }\n",
    "                    catch (TargetInvocationException ex)\n",
    "                    {\n",
    "                        Console.WriteLine($\"✘ {method.Name} failed: {ex.InnerException?.Message}\");\n",
    "                        if ( ex.InnerException?.GetType().Namespace != \"Xunit.Sdk\" )\n",
    "                        {\n",
    "                            Console.Write($\"{ex.InnerException?.StackTrace}\");\n",
    "                        }\n",
    "                    }\n",
    "                }\n",
    "            }\n",
    "            else\n",
    "            {\n",
    "                // Handle [Fact]\n",
    "                try\n",
    "                {\n",
    "                    Console.WriteLine($\"Running {method.Name}...\");\n",
    "                    method.Invoke(testClassInstance, null);\n",
    "                    Console.WriteLine($\"✔ {method.Name} passed.\");\n",
    "                }\n",
    "                catch (TargetInvocationException ex)\n",
    "                {\n",
    "                    Console.WriteLine($\"✘ {method.Name} failed: {ex.InnerException?.Message}\");\n",
    "                    if ( ex.InnerException?.GetType().Namespace != \"Xunit.Sdk\" )\n",
    "                    {\n",
    "                        Console.Write($\"{ex.InnerException?.StackTrace}\");\n",
    "                    }\n",
    "                }\n",
    "            }\n",
    "        }\n",
    "    }\n",
    "}"
   ]
  },
  {
   "cell_type": "code",
   "execution_count": 5,
   "id": "8302fff2",
   "metadata": {
    "polyglot_notebook": {
     "kernelName": "csharp"
    },
    "vscode": {
     "languageId": "polyglot-notebook"
    }
   },
   "outputs": [],
   "source": [
    "using Xunit;\n",
    "\n",
    "public class CalculatorTests\n",
    "{\n",
    "    [Fact]\n",
    "    public void Add_ShouldReturnCorrectSum()\n",
    "    {\n",
    "        int result = Add(2, 3);\n",
    "        Assert.Equal(5, result);\n",
    "    }\n",
    "\n",
    "    [Fact]\n",
    "    public void Add_Failure()\n",
    "    {\n",
    "        int result = Add(1, 1);\n",
    "        Assert.Equal(3, result);\n",
    "    }\n",
    "    [Fact]\n",
    "    public void TestException()\n",
    "    {\n",
    "        throw new Exception(\"This test is intentionally failing.\");\n",
    "    }\n",
    "\n",
    "    private int Add(int a, int b) => a + b;\n",
    "}"
   ]
  },
  {
   "cell_type": "code",
   "execution_count": 17,
   "metadata": {
    "polyglot_notebook": {
     "kernelName": "csharp"
    },
    "vscode": {
     "languageId": "polyglot-notebook"
    }
   },
   "outputs": [
    {
     "name": "stdout",
     "output_type": "stream",
     "text": [
      "Running tests in CalculatorTests...\n",
      "Running Add_ShouldReturnCorrectSum...\n",
      "✔ Add_ShouldReturnCorrectSum passed.\n",
      "Running Add_Failure...\n",
      "✘ Add_Failure failed: Assert.Equal() Failure: Values differ\n",
      "Expected: 3\n",
      "Actual:   2\n",
      "Running TestException...\n",
      "✘ TestException failed: This test is intentionally failing.\n",
      "   at Submission#3.CalculatorTests.TestException()\n",
      "   at System.RuntimeMethodHandle.InvokeMethod(Object target, Void** arguments, Signature sig, Boolean isConstructor)\n",
      "   at System.Reflection.MethodBaseInvoker.InvokeWithNoArgs(Object obj, BindingFlags invokeAttr)"
     ]
    }
   ],
   "source": [
    "SimpleTestRunner.RunTests(typeof(CalculatorTests));"
   ]
  },
  {
   "cell_type": "markdown",
   "id": "1afb9042",
   "metadata": {},
   "source": [
    "Use the [Theory] attribute to test with inline data."
   ]
  },
  {
   "cell_type": "code",
   "execution_count": 51,
   "metadata": {
    "polyglot_notebook": {
     "kernelName": "csharp"
    },
    "vscode": {
     "languageId": "polyglot-notebook"
    }
   },
   "outputs": [
    {
     "name": "stdout",
     "output_type": "stream",
     "text": [
      "Running tests in InlineDataTest...\n",
      "Running Should_be_equal with arguments: 1,1...\n",
      "✔ Should_be_equal passed.\n",
      "Running Should_be_equal with arguments: 2,2...\n",
      "✔ Should_be_equal passed.\n",
      "Running Should_be_equal with arguments: 5,5...\n",
      "✔ Should_be_equal passed.\n"
     ]
    }
   ],
   "source": [
    "using Xunit;\n",
    "\n",
    "public class InlineDataTest\n",
    "{\n",
    "    [Theory]\n",
    "    [InlineData(1, 1)]\n",
    "    [InlineData(2, 2)]\n",
    "    [InlineData(5, 5)]\n",
    "    public void Should_be_equal(int value1, int value2)\n",
    "    {\n",
    "        Assert.Equal(value1, value2);\n",
    "    }\n",
    "}\n",
    "SimpleTestRunner.RunTests(typeof(InlineDataTest));"
   ]
  }
 ],
 "metadata": {
  "kernelspec": {
   "display_name": ".NET (C#)",
   "language": "C#",
   "name": ".net-csharp"
  },
  "language_info": {
   "name": "python"
  },
  "polyglot_notebook": {
   "kernelInfo": {
    "defaultKernelName": "csharp",
    "items": [
     {
      "aliases": [],
      "name": "csharp"
     }
    ]
   }
  }
 },
 "nbformat": 4,
 "nbformat_minor": 5
}
