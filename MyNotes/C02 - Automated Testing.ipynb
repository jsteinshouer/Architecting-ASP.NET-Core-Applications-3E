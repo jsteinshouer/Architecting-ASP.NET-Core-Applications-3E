{
 "cells": [
  {
   "cell_type": "markdown",
   "id": "e33bdd5c",
   "metadata": {},
   "source": [
    "# Chapter 2 - Automated Testing\n",
    "\n",
    "## Introducing the xUnit framework\n",
    "\n",
    "- You can install the `C# Dev Kit` extension for VS Code to use the GUI for testing\n",
    "    * You must build the test project for the tests to appear in the Test Explorer\n",
    "- Creating a xUnit project `MyProject.Tests`\n",
    "\n",
    "\n",
    "    ```bash\n",
    "    dotnet new xunit\n",
    "    ```\n",
    "\n",
    "    Add a reference to the project you are testing.\n",
    "\n",
    "    ```bash\n",
    "    dotnet add reference ../../src/MyProject.csproj.\n",
    "    ```\n",
    "\n",
    "- `[fact]` attribute is used to define a test case\n",
    "- `[Theroy]` attribute is used to define a data driven test case\n",
    "- Running tests with the CLI\n",
    "\n",
    "    ```\n",
    "    dotnet test\n",
    "    ```"
   ]
  },
  {
   "cell_type": "code",
   "execution_count": 2,
   "id": "1a7b81e5",
   "metadata": {
    "polyglot_notebook": {
     "kernelName": "csharp"
    },
    "vscode": {
     "languageId": "polyglot-notebook"
    }
   },
   "outputs": [
    {
     "data": {
      "text/html": [
       "<div><div></div><div></div><div><strong>Installed Packages</strong><ul><li><span>xunit, 2.9.3</span></li></ul></div></div>"
      ]
     },
     "metadata": {},
     "output_type": "display_data"
    }
   ],
   "source": [
    "#r \"nuget:xunit\""
   ]
  },
  {
   "cell_type": "code",
   "execution_count": 3,
   "metadata": {
    "polyglot_notebook": {
     "kernelName": "csharp"
    },
    "vscode": {
     "languageId": "polyglot-notebook"
    }
   },
   "outputs": [],
   "source": [
    "#load \"SimpleTestRunner.cs\""
   ]
  },
  {
   "cell_type": "code",
   "execution_count": null,
   "id": "8302fff2",
   "metadata": {
    "polyglot_notebook": {
     "kernelName": "csharp"
    },
    "vscode": {
     "languageId": "polyglot-notebook"
    }
   },
   "outputs": [],
   "source": [
    "using Xunit;\n",
    "\n",
    "public class CalculatorTests\n",
    "{\n",
    "    [Fact]\n",
    "    public void Add_ShouldReturnCorrectSum()\n",
    "    {\n",
    "        int result = Add(2, 3);\n",
    "        Assert.Equal(5, result);\n",
    "    }\n",
    "\n",
    "    [Fact]\n",
    "    public void Add_TestShouldFail()\n",
    "    {\n",
    "        int result = Add(1, 1);\n",
    "        Assert.Equal(3, result);\n",
    "    }\n",
    "    \n",
    "    [Fact]\n",
    "    public void TestException()\n",
    "    {\n",
    "        throw new Exception(\"This test is intentionally failing.\");\n",
    "    }\n",
    "\n",
    "    private int Add(int a, int b) => a + b;\n",
    "}"
   ]
  },
  {
   "cell_type": "code",
   "execution_count": 54,
   "metadata": {
    "polyglot_notebook": {
     "kernelName": "csharp"
    },
    "vscode": {
     "languageId": "polyglot-notebook"
    }
   },
   "outputs": [
    {
     "name": "stdout",
     "output_type": "stream",
     "text": [
      "Running tests in CalculatorTests...\n",
      "Running Add_ShouldReturnCorrectSum...\n",
      "✔ Add_ShouldReturnCorrectSum passed.\n",
      "Running Add_Failure...\n",
      "✘ Add_Failure failed: Assert.Equal() Failure: Values differ\n",
      "Expected: 3\n",
      "Actual:   2\n",
      "Running TestException...\n",
      "✘ TestException failed: This test is intentionally failing.\n",
      "   at Submission#51.CalculatorTests.TestException()\n",
      "   at System.RuntimeMethodHandle.InvokeMethod(Object target, Void** arguments, Signature sig, Boolean isConstructor)\n",
      "   at System.Reflection.MethodBaseInvoker.InvokeWithNoArgs(Object obj, BindingFlags invokeAttr)"
     ]
    }
   ],
   "source": [
    "SimpleTestRunner.RunTests(typeof(CalculatorTests));"
   ]
  },
  {
   "cell_type": "markdown",
   "id": "1afb9042",
   "metadata": {},
   "source": [
    "Use the [Theory] attribute to test with inline data."
   ]
  },
  {
   "cell_type": "code",
   "execution_count": 55,
   "metadata": {
    "polyglot_notebook": {
     "kernelName": "csharp"
    },
    "vscode": {
     "languageId": "polyglot-notebook"
    }
   },
   "outputs": [
    {
     "name": "stdout",
     "output_type": "stream",
     "text": [
      "Running tests in InlineDataTest...\n",
      "Running Should_be_equal with arguments: 1,1...\n",
      "✔ Should_be_equal passed.\n",
      "Running Should_be_equal with arguments: 2,2...\n",
      "✔ Should_be_equal passed.\n",
      "Running Should_be_equal with arguments: 5,5...\n",
      "✔ Should_be_equal passed.\n"
     ]
    }
   ],
   "source": [
    "using Xunit;\n",
    "\n",
    "public class InlineDataTest\n",
    "{\n",
    "    [Theory]\n",
    "    [InlineData(1, 1)]\n",
    "    [InlineData(2, 2)]\n",
    "    [InlineData(5, 5)]\n",
    "    public void Should_be_equal(int value1, int value2)\n",
    "    {\n",
    "        Assert.Equal(value1, value2);\n",
    "    }\n",
    "}\n",
    "SimpleTestRunner.RunTests(typeof(InlineDataTest));"
   ]
  },
  {
   "cell_type": "markdown",
   "id": "a9d34888",
   "metadata": {},
   "source": [
    "## Fixture\n",
    "\n",
    "- Inject dependencies into test classes\n",
    "    * Good for costly dependencies like in-memory databases\n",
    "- Setup - Use Constructor\n",
    "- Teardown - Use `IDisposable`\n",
    "\n",
    "## Arrange, Act, Assert\n",
    "\n",
    "- Method writing readable tests\n",
    "- Ideally Act will be a single line"
   ]
  },
  {
   "cell_type": "code",
   "execution_count": 4,
   "metadata": {
    "polyglot_notebook": {
     "kernelName": "csharp"
    },
    "vscode": {
     "languageId": "polyglot-notebook"
    }
   },
   "outputs": [
    {
     "name": "stdout",
     "output_type": "stream",
     "text": [
      "Running tests in ArrangeActAssert...\n",
      "Running Should_be_equals...\n",
      "✔ Should_be_equals passed.\n"
     ]
    }
   ],
   "source": [
    "using Xunit;\n",
    "\n",
    "public class ArrangeActAssert\n",
    "{\n",
    "    [Fact]\n",
    "    public void Should_be_equals()\n",
    "    {\n",
    "        // Arrange\n",
    "        var a = 1;\n",
    "        var b = 2;\n",
    "        var expectedResult = 3;\n",
    "\n",
    "        // Act\n",
    "        var result = a + b;\n",
    "\n",
    "        // Assert\n",
    "        Assert.Equal(expectedResult, result);\n",
    "    }\n",
    "}\n",
    "\n",
    "SimpleTestRunner.RunTests(typeof(ArrangeActAssert));\n"
   ]
  },
  {
   "cell_type": "markdown",
   "id": "88c917e7",
   "metadata": {},
   "source": [
    "## Organizing your tests\n",
    "\n",
    "- Seperate projects for unit and integration tests\n",
    "    * Recommendation only\n",
    "    * Unit per project\n",
    "    * 1 Integration per solution\n",
    "- src directory for projects and test directory for test projects at the solution level\n",
    "- Test use same namespace as code being tested\n",
    "- Test directory structure matches the app being testsed. \n",
    "\n",
    "i.e.\n",
    "\n",
    "```\n",
    "src/MyApp/Controllers/HelloWorldController.cs\n",
    "test/MApp.Tests/Controllers/HelloWorldControllerTest.cs\n",
    "```\n",
    "\n",
    "- Sub-class for each method being tested"
   ]
  },
  {
   "cell_type": "code",
   "execution_count": 6,
   "metadata": {
    "polyglot_notebook": {
     "kernelName": "csharp"
    },
    "vscode": {
     "languageId": "polyglot-notebook"
    }
   },
   "outputs": [
    {
     "data": {
      "text/html": [
       "<div><div></div><div></div><div><strong>Installed Packages</strong><ul><li><span>Microsoft.AspNetCore.Mvc, 2.3.0</span></li></ul></div></div>"
      ]
     },
     "metadata": {},
     "output_type": "display_data"
    }
   ],
   "source": [
    "#r \"nuget:Microsoft.AspNetCore.Mvc\""
   ]
  },
  {
   "cell_type": "code",
   "execution_count": 7,
   "metadata": {
    "polyglot_notebook": {
     "kernelName": "csharp"
    },
    "vscode": {
     "languageId": "polyglot-notebook"
    }
   },
   "outputs": [],
   "source": [
    "using Microsoft.AspNetCore.Mvc;\n",
    "\n",
    "//namespace MyApp.Controllers;\n",
    "\n",
    "[Route(\"\")]\n",
    "[ApiController]\n",
    "public class HelloWorldController : ControllerBase\n",
    "{\n",
    "    [HttpGet]\n",
    "    public string Hello()\n",
    "    {\n",
    "        return \"Hello World!\";\n",
    "    }\n",
    "}\n"
   ]
  },
  {
   "cell_type": "code",
   "execution_count": 8,
   "metadata": {
    "polyglot_notebook": {
     "kernelName": "csharp"
    },
    "vscode": {
     "languageId": "polyglot-notebook"
    }
   },
   "outputs": [
    {
     "name": "stdout",
     "output_type": "stream",
     "text": [
      "Running tests in ArrangeActAssert...\n",
      "Running Should_be_equals...\n",
      "✔ Should_be_equals passed.\n"
     ]
    }
   ],
   "source": [
    "using Xunit;\n",
    "\n",
    "//namespace MyApp.Controllers;\n",
    "\n",
    "public class HelloWorldControllerTest\n",
    "{\n",
    "    public class Hello : HelloWorldControllerTest\n",
    "    {\n",
    "        [Fact]\n",
    "        public void Should_return_hello_world()\n",
    "        {\n",
    "            // Arrange\n",
    "            var sut = new HelloWorldController();\n",
    "\n",
    "            // Act\n",
    "            var result = sut.Hello();\n",
    "\n",
    "            // Assert\n",
    "            Assert.Equal(\"Hello World!\", result);\n",
    "        }\n",
    "    }\n",
    "}\n",
    "SimpleTestRunner.RunTests(typeof(ArrangeActAssert));"
   ]
  },
  {
   "cell_type": "markdown",
   "id": "84bd67f4",
   "metadata": {},
   "source": [
    "## Integration Tests\n",
    "\n",
    "- .NET Core added the `WebApplicationFactory<TEntry>` class to make integration testing easier in .NET\n",
    "\n",
    "    ```\n",
    "    dotnet add package Microsoft.ASPNetCore.Mvc.Testing\n",
    "    ```\n",
    "    \n",
    "- Provides httpClient to query the web app\n",
    "- Test classes have extension points to mock implementaitons\n",
    "- Need a workaround to test the application - Add this to the bottom of `Program.cs`\n",
    "\n",
    "    [C02/src/MyMinimalApiApp/Program.cs](C02/src/MyMinimalApiApp/Program.cs)\n",
    "    \n",
    "    ```csharp\n",
    "    var builder = WebApplication.CreateBuilder(args);\n",
    "    var app = builder.Build();\n",
    "    app.MapGet(\"/\", () => \"Hello World!\");\n",
    "    app.Run();\n",
    "\n",
    "    public partial class Program { }\n",
    "    ```\n",
    "\n",
    "    [C02/test/MyMinimalApiApp.IntegrationTests/ProgramTest.cs](C02/test/MyMinimalApiApp.IntegrationTests/ProgramTest.cs)\n",
    "\n",
    "    ```csharp\n",
    "    public class ProgramTest : IClassFixture<WebApplicationFactory<Program>>\n",
    "    {\n",
    "    private readonly HttpClient _httpClient;\n",
    "\n",
    "    public ProgramTest(WebApplicationFactory<Program> webApplicationFactory)\n",
    "    {\n",
    "        _httpClient = webApplicationFactory.CreateClient();\n",
    "    }\n",
    "\n",
    "    public class Get : ProgramTest\n",
    "    {\n",
    "        public Get(WebApplicationFactory<Program> webApplicationFactory) : base(webApplicationFactory) { }\n",
    "\n",
    "        [Fact]\n",
    "        public async Task Should_respond_a_status_200_OK()\n",
    "        {\n",
    "            // Act\n",
    "            var result = await _httpClient.GetAsync(\"/\");\n",
    "\n",
    "            // Assert\n",
    "            Assert.Equal(HttpStatusCode.OK, result.StatusCode);\n",
    "        }\n",
    "    ```\n",
    "\n",
    "> One essential thing to remember when writing tests is to test use cases, not the code itself; we are \n",
    "testing features’ correctness, not code correctness.\n",
    "\n"
   ]
  }
 ],
 "metadata": {
  "kernelspec": {
   "display_name": ".NET (C#)",
   "language": "C#",
   "name": ".net-csharp"
  },
  "language_info": {
   "name": "python"
  },
  "polyglot_notebook": {
   "kernelInfo": {
    "defaultKernelName": "csharp",
    "items": [
     {
      "aliases": [],
      "name": "csharp"
     }
    ]
   }
  }
 },
 "nbformat": 4,
 "nbformat_minor": 5
}
