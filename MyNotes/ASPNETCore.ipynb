{
 "cells": [
  {
   "cell_type": "code",
   "execution_count": 1,
   "id": "8e70043d",
   "metadata": {
    "polyglot_notebook": {
     "kernelName": "csharp"
    },
    "vscode": {
     "languageId": "polyglot-notebook"
    }
   },
   "outputs": [
    {
     "data": {
      "text/html": [
       "<div><div></div><div></div><div><strong>Installed Packages</strong><ul><li><span>Microsoft.DotNet.Interactive.AspNetCore, 1.0.0-beta.25177.1</span></li></ul></div></div>"
      ]
     },
     "metadata": {},
     "output_type": "display_data"
    },
    {
     "data": {
      "text/plain": [
       "Loading extension script from `C:\\Users\\jason\\.nuget\\packages\\microsoft.dotnet.interactive.aspnetcore\\1.0.0-beta.25177.1\\interactive-extensions\\dotnet\\extension.dib`"
      ]
     },
     "metadata": {},
     "output_type": "display_data"
    }
   ],
   "source": [
    "#r \"nuget:Microsoft.DotNet.Interactive.AspNetCore,1.0.0-beta.25177.1\""
   ]
  },
  {
   "cell_type": "code",
   "execution_count": null,
   "id": "c9bc157b",
   "metadata": {
    "polyglot_notebook": {
     "kernelName": "csharp"
    },
    "vscode": {
     "languageId": "polyglot-notebook"
    }
   },
   "outputs": [],
   "source": [
    "using Microsoft.AspNetCore.Mvc;\n",
    "\n",
    "\n",
    "[Route(\"api/[controller]\")]\n",
    "[ApiController]\n",
    "public class MyController : ControllerBase\n",
    "{\n",
    " [HttpGet]\n",
    " public IActionResult Get() => Ok(\"Hello from Controller\");\n",
    "}"
   ]
  },
  {
   "cell_type": "code",
   "execution_count": 12,
   "id": "2ec2a8ea",
   "metadata": {
    "polyglot_notebook": {
     "kernelName": "csharp"
    },
    "vscode": {
     "languageId": "polyglot-notebook"
    }
   },
   "outputs": [
    {
     "data": {
      "text/html": [
       "<details open=\"open\" class=\"dni-treeview\"><summary><span class=\"dni-code-hint\"><code>Microsoft.Extensions.DependencyInjection.ServiceLookup.ServiceProviderEngineScope</code></span></summary><div><table><thead><tr></tr></thead><tbody><tr><td>IsRootScope</td><td><div class=\"dni-plaintext\"><pre>True</pre></div></td></tr><tr><td>ServiceProvider</td><td><details class=\"dni-treeview\"><summary><span class=\"dni-code-hint\"><code>Microsoft.Extensions.DependencyInjection.ServiceLookup.ServiceProviderEngineScope</code></span></summary><div><table><thead><tr></tr></thead><tbody><tr><td>IsRootScope</td><td><div class=\"dni-plaintext\"><pre>True</pre></div></td></tr><tr><td>ServiceProvider</td><td><details class=\"dni-treeview\"><summary><span class=\"dni-code-hint\"><code>Microsoft.Extensions.DependencyInjection.ServiceLookup.ServiceProviderEngineScope</code></span></summary><div><table><thead><tr></tr></thead><tbody><tr><td>IsRootScope</td><td><div class=\"dni-plaintext\"><pre>True</pre></div></td></tr><tr><td>ServiceProvider</td><td><details class=\"dni-treeview\"><summary><span class=\"dni-code-hint\"><code>Microsoft.Extensions.DependencyInjection.ServiceLookup.ServiceProviderEngineScope</code></span></summary><div><table><thead><tr></tr></thead><tbody><tr><td>IsRootScope</td><td><div class=\"dni-plaintext\"><pre>True</pre></div></td></tr><tr><td>ServiceProvider</td><td><details class=\"dni-treeview\"><summary><span class=\"dni-code-hint\"><code>Microsoft.Extensions.DependencyInjection.ServiceLookup.ServiceProviderEngineScope</code></span></summary><div><table><thead><tr></tr></thead><tbody><tr><td>IsRootScope</td><td><div class=\"dni-plaintext\"><pre>True</pre></div></td></tr><tr><td>ServiceProvider</td><td><details class=\"dni-treeview\"><summary><span class=\"dni-code-hint\"><code>Microsoft.Extensions.DependencyInjection.ServiceLookup.ServiceProviderEngineScope</code></span></summary><div><table><thead><tr></tr></thead><tbody><tr><td>IsRootScope</td><td>True</td></tr><tr><td>ServiceProvider</td><td>Microsoft.Extensions.DependencyInjection.ServiceLookup.ServiceProviderEngineScope</td></tr></tbody></table></div></details></td></tr></tbody></table></div></details></td></tr></tbody></table></div></details></td></tr></tbody></table></div></details></td></tr></tbody></table></div></details></td></tr></tbody></table></div></details><style>\r\n",
       ".dni-code-hint {\r\n",
       "    font-style: italic;\r\n",
       "    overflow: hidden;\r\n",
       "    white-space: nowrap;\r\n",
       "}\r\n",
       ".dni-treeview {\r\n",
       "    white-space: nowrap;\r\n",
       "}\r\n",
       ".dni-treeview td {\r\n",
       "    vertical-align: top;\r\n",
       "    text-align: start;\r\n",
       "}\r\n",
       "details.dni-treeview {\r\n",
       "    padding-left: 1em;\r\n",
       "}\r\n",
       "table td {\r\n",
       "    text-align: start;\r\n",
       "}\r\n",
       "table tr { \r\n",
       "    vertical-align: top; \r\n",
       "    margin: 0em 0px;\r\n",
       "}\r\n",
       "table tr td pre \r\n",
       "{ \r\n",
       "    vertical-align: top !important; \r\n",
       "    margin: 0em 0px !important;\r\n",
       "} \r\n",
       "table th {\r\n",
       "    text-align: start;\r\n",
       "}\r\n",
       "</style>"
      ]
     },
     "metadata": {},
     "output_type": "display_data"
    },
    {
     "ename": "Error",
     "evalue": "System.InvalidOperationException: Unable to find the required services. Please add all the required services by calling 'IServiceCollection.AddMvc' inside the call to 'ConfigureServices(...)' in the application startup code.\r\n   at Microsoft.AspNetCore.Builder.MvcApplicationBuilderExtensions.VerifyMvcIsRegistered(IApplicationBuilder app)\r\n   at Microsoft.AspNetCore.Builder.MvcApplicationBuilderExtensions.UseMvc(IApplicationBuilder app, Action`1 configureRoutes)\r\n   at Submission#19.<<Initialize>>d__0.MoveNext()\r\n--- End of stack trace from previous location ---\r\n   at Microsoft.CodeAnalysis.Scripting.ScriptExecutionState.RunSubmissionsAsync[TResult](ImmutableArray`1 precedingExecutors, Func`2 currentExecutor, StrongBox`1 exceptionHolderOpt, Func`2 catchExceptionOpt, CancellationToken cancellationToken)",
     "output_type": "error",
     "traceback": [
      "System.InvalidOperationException: Unable to find the required services. Please add all the required services by calling 'IServiceCollection.AddMvc' inside the call to 'ConfigureServices(...)' in the application startup code.\r\n",
      "   at Microsoft.AspNetCore.Builder.MvcApplicationBuilderExtensions.VerifyMvcIsRegistered(IApplicationBuilder app)\r\n",
      "   at Microsoft.AspNetCore.Builder.MvcApplicationBuilderExtensions.UseMvc(IApplicationBuilder app, Action`1 configureRoutes)\r\n",
      "   at Submission#19.<<Initialize>>d__0.MoveNext()\r\n",
      "--- End of stack trace from previous location ---\r\n",
      "   at Microsoft.CodeAnalysis.Scripting.ScriptExecutionState.RunSubmissionsAsync[TResult](ImmutableArray`1 precedingExecutors, Func`2 currentExecutor, StrongBox`1 exceptionHolderOpt, Func`2 catchExceptionOpt, CancellationToken cancellationToken)"
     ]
    }
   ],
   "source": [
    "#!aspnet\n",
    "\n",
    "using Microsoft.AspNetCore.Mvc;\n",
    "\n",
    "Builder.\n",
    "App.UseMvc();\n",
    "\n",
    "Endpoints.MapGet(\"/\", async context =>\n",
    "{\n",
    "    await context.Response.WriteAsync($\"Hello from MapGet!\");\n",
    "});\n"
   ]
  },
  {
   "cell_type": "code",
   "execution_count": 8,
   "id": "14a74eb5",
   "metadata": {
    "polyglot_notebook": {
     "kernelName": "csharp"
    },
    "vscode": {
     "languageId": "polyglot-notebook"
    }
   },
   "outputs": [
    {
     "data": {
      "text/html": [
       "<details open=\"open\" class=\"dni-treeview\"><summary><span class=\"dni-code-hint\"><code>http://127.0.0.1:64878/</code></span></summary><div><table><thead><tr></tr></thead><tbody><tr><td>AbsolutePath</td><td><div class=\"dni-plaintext\"><pre>/</pre></div></td></tr><tr><td>AbsoluteUri</td><td><div class=\"dni-plaintext\"><pre>http://127.0.0.1:64878/</pre></div></td></tr><tr><td>LocalPath</td><td><div class=\"dni-plaintext\"><pre>/</pre></div></td></tr><tr><td>Authority</td><td><div class=\"dni-plaintext\"><pre>127.0.0.1:64878</pre></div></td></tr><tr><td>HostNameType</td><td><span>IPv4</span></td></tr><tr><td>IsDefaultPort</td><td><div class=\"dni-plaintext\"><pre>False</pre></div></td></tr><tr><td>IsFile</td><td><div class=\"dni-plaintext\"><pre>False</pre></div></td></tr><tr><td>IsLoopback</td><td><div class=\"dni-plaintext\"><pre>True</pre></div></td></tr><tr><td>PathAndQuery</td><td><div class=\"dni-plaintext\"><pre>/</pre></div></td></tr><tr><td>Segments</td><td><div class=\"dni-plaintext\"><pre>[ / ]</pre></div></td></tr><tr><td>IsUnc</td><td><div class=\"dni-plaintext\"><pre>False</pre></div></td></tr><tr><td>Host</td><td><div class=\"dni-plaintext\"><pre>127.0.0.1</pre></div></td></tr><tr><td>Port</td><td><div class=\"dni-plaintext\"><pre>64878</pre></div></td></tr><tr><td>Query</td><td><div class=\"dni-plaintext\"><pre></pre></div></td></tr><tr><td>Fragment</td><td><div class=\"dni-plaintext\"><pre></pre></div></td></tr><tr><td>Scheme</td><td><div class=\"dni-plaintext\"><pre>http</pre></div></td></tr><tr><td>OriginalString</td><td><div class=\"dni-plaintext\"><pre>http://127.0.0.1:64878</pre></div></td></tr><tr><td>DnsSafeHost</td><td><div class=\"dni-plaintext\"><pre>127.0.0.1</pre></div></td></tr><tr><td>IdnHost</td><td><div class=\"dni-plaintext\"><pre>127.0.0.1</pre></div></td></tr><tr><td>IsAbsoluteUri</td><td><div class=\"dni-plaintext\"><pre>True</pre></div></td></tr><tr><td>UserEscaped</td><td><div class=\"dni-plaintext\"><pre>False</pre></div></td></tr><tr><td>UserInfo</td><td><div class=\"dni-plaintext\"><pre></pre></div></td></tr></tbody></table></div></details><style>\r\n",
       ".dni-code-hint {\r\n",
       "    font-style: italic;\r\n",
       "    overflow: hidden;\r\n",
       "    white-space: nowrap;\r\n",
       "}\r\n",
       ".dni-treeview {\r\n",
       "    white-space: nowrap;\r\n",
       "}\r\n",
       ".dni-treeview td {\r\n",
       "    vertical-align: top;\r\n",
       "    text-align: start;\r\n",
       "}\r\n",
       "details.dni-treeview {\r\n",
       "    padding-left: 1em;\r\n",
       "}\r\n",
       "table td {\r\n",
       "    text-align: start;\r\n",
       "}\r\n",
       "table tr { \r\n",
       "    vertical-align: top; \r\n",
       "    margin: 0em 0px;\r\n",
       "}\r\n",
       "table tr td pre \r\n",
       "{ \r\n",
       "    vertical-align: top !important; \r\n",
       "    margin: 0em 0px !important;\r\n",
       "} \r\n",
       "table th {\r\n",
       "    text-align: start;\r\n",
       "}\r\n",
       "</style>"
      ]
     },
     "metadata": {},
     "output_type": "display_data"
    }
   ],
   "source": [
    "HttpClient.BaseAddress"
   ]
  },
  {
   "cell_type": "code",
   "execution_count": 5,
   "id": "d9bdf1cb",
   "metadata": {
    "polyglot_notebook": {
     "kernelName": "csharp"
    },
    "vscode": {
     "languageId": "polyglot-notebook"
    }
   },
   "outputs": [
    {
     "data": {
      "text/plain": [
       "Hello from MapGet!"
      ]
     },
     "metadata": {},
     "output_type": "display_data"
    }
   ],
   "source": [
    "var response = await HttpClient.GetAsync(\"/\");\n",
    "var myContent = await response.Content.ReadAsStringAsync();\n",
    "\n",
    "myContent.Display();"
   ]
  },
  {
   "cell_type": "code",
   "execution_count": 10,
   "id": "885d959e",
   "metadata": {
    "polyglot_notebook": {
     "kernelName": "csharp"
    },
    "vscode": {
     "languageId": "polyglot-notebook"
    }
   },
   "outputs": [],
   "source": [
    "#!aspnet-stop"
   ]
  },
  {
   "cell_type": "code",
   "execution_count": 10,
   "id": "70c527af",
   "metadata": {
    "polyglot_notebook": {
     "kernelName": "csharp"
    },
    "vscode": {
     "languageId": "polyglot-notebook"
    }
   },
   "outputs": [],
   "source": [
    "#r \"C:\\Program Files\\dotnet\\shared\\Microsoft.AspNetCore.App\\9.0.2\\Microsoft.AspNetCore.dll\"\n",
    "#r \"C:\\Program Files\\dotnet\\shared\\Microsoft.AspNetCore.App\\9.0.2\\Microsoft.Extensions.Hosting.dll\"\n",
    "#r \"C:\\Program Files\\dotnet\\shared\\Microsoft.AspNetCore.App\\9.0.2\\Microsoft.AspNetCore.Mvc.ViewFeatures.dll\"\n",
    "#r \"C:\\Program Files\\dotnet\\shared\\Microsoft.AspNetCore.App\\9.0.2\\Microsoft.AspNetCore.Diagnostics.dll\""
   ]
  },
  {
   "cell_type": "code",
   "execution_count": null,
   "id": "6817683f",
   "metadata": {
    "polyglot_notebook": {
     "kernelName": "csharp"
    },
    "vscode": {
     "languageId": "polyglot-notebook"
    }
   },
   "outputs": [
    {
     "name": "stdout",
     "output_type": "stream",
     "text": [
      "info: Microsoft.Hosting.Lifetime[14]\n",
      "      Now listening on: http://localhost:5000\n",
      "info: Microsoft.Hosting.Lifetime[0]\n",
      "      Application started. Press Ctrl+C to shut down.\n",
      "info: Microsoft.Hosting.Lifetime[0]\n",
      "      Hosting environment: Production\n",
      "info: Microsoft.Hosting.Lifetime[0]\n",
      "      Content root path: c:\\Users\\jason\\training\\dotnet\\Architecting-ASP.NET-Core-Applications-3E\\MyNotes\n"
     ]
    }
   ],
   "source": [
    "using Microsoft.AspNetCore.Http;\n",
    "using Microsoft.AspNetCore.Routing;\n",
    "using Microsoft.AspNetCore.Builder;\n",
    "\n",
    "var builder = WebApplication.CreateBuilder();\n",
    "var app = builder.Build();\n",
    "app.MapGet(\"/\", () => \"Hello World!\");\n",
    "app.RunAsync(); //Would\n",
    "\n",
    "public partial class Program { }"
   ]
  },
  {
   "cell_type": "code",
   "execution_count": 13,
   "id": "c2339e5c",
   "metadata": {
    "polyglot_notebook": {
     "kernelName": "csharp"
    },
    "vscode": {
     "languageId": "polyglot-notebook"
    }
   },
   "outputs": [],
   "source": [
    "await app.StopAsync();"
   ]
  }
 ],
 "metadata": {
  "kernelspec": {
   "display_name": ".NET (C#)",
   "language": "C#",
   "name": ".net-csharp"
  },
  "language_info": {
   "name": "python"
  },
  "polyglot_notebook": {
   "kernelInfo": {
    "defaultKernelName": "csharp",
    "items": [
     {
      "aliases": [],
      "name": "csharp"
     }
    ]
   }
  }
 },
 "nbformat": 4,
 "nbformat_minor": 5
}
