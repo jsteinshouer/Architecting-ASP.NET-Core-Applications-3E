{
 "cells": [
  {
   "cell_type": "markdown",
   "id": "f891d9f4",
   "metadata": {},
   "source": [
    "# Architectural Principles\n",
    "\n",
    "- Principals are guides, not rules\n",
    "\n",
    "## Separation of concerns (SoC)\n",
    "\n",
    "- Seperate software into logic components \n",
    "- Applies to all levels of design and architecture\n",
    "\n",
    "## Don’t repeat yourself (DRY)\n",
    "\n",
    "- Eliminate redunancy \n",
    "- Encapsulate duplicate logic into a reusable component\n",
    "- Keep SoC principal in mind when refactoring for DRY\n",
    "\n",
    "## Keep it simple, stupid (KISS)\n",
    "\n",
    "- Advocates for simple designs and solutions\n",
    "- Choose the simplest solution possible\n",
    "- Eliminate complexity\n",
    "- Predicting future requirments can be detrimental to design (Over Architecting)\n",
    "\n",
    "## You Aren’t Gonna Need It (YAGNI)\n",
    "\n",
    "- Do not add features or functionality based on speculation\n",
    "- Design the minimal amount needed to meet requirments\n",
    "- Relates to the KISS principal\n",
    "- Be agile and flexible to intermittently adapt and evolve as needs emerge\n",
    "\n",
    "## The SOLID principles\n",
    "\n",
    "SOLID is an acronym for 5 principles\n",
    "\n",
    "### Single responsibility principle\n",
    "\n",
    "- A single class should hold 1 and only 1 responsibility (Only 1 reason to change)\n",
    "\n",
    "    In this example, Public and Prviate projects are 2 responsibilities and can be seperated into `PulicProdctReader` and `PrivateProductReader` classes.\n",
    "\n",
    "    ```csharp\n",
    "    namespace BeforeSRP;\n",
    "    public class ProductRepository\n",
    "    {\n",
    "    public ValueTask<Product> GetOnePublicProductAsync(int productId)\n",
    "    => throw new NotImplementedException();\n",
    "    public ValueTask<Product> GetOnePrivateProductAsync(int productId)\n",
    "    => throw new NotImplementedException();\n",
    "    public ValueTask<IEnumerable<Product>> GetAllPublicProductsAsync()\n",
    "    => throw new NotImplementedException();\n",
    "    public ValueTask<IEnumerable<Product>> GetAllPrivateProductsAsync()\n",
    "    => throw new NotImplementedException();\n",
    "    public ValueTask CreateAsync(Product product)\n",
    "    => throw new NotImplementedException();\n",
    "    public ValueTask UpdateAsync(Product product)\n",
    "    => throw new NotImplementedException();\n",
    "    public ValueTask DeleteAsync(Product product)\n",
    "    => throw new NotImplementedException();\n",
    "    }\n",
    "    ```\n",
    "- Be careful not to over-seperate becuase that adds complexity too\n",
    "- Trouble naming a class may indicate a problem with SoC or SRP\n",
    "- Another indicator is that a method or class is too big\n",
    "\n",
    "### Open/closed principle\n",
    "\n",
    "> ”Software entities (classes, modules, functions, and so on) should be open for extension \n",
    "but closed for modification.”\n",
    "\n",
    "- Composition over inheritance\n",
    "    * Compose classes of reusable components rather than inheriting methods\n",
    "    * \"Is a\" vs \"Has a\" relationship\n",
    "\n",
    "    EntityService is tightly coupled to EntityRepository\n",
    "\n",
    "    ```csharp\n",
    "    namespace OCP.NoComposability;\n",
    "    public class EntityService : EntityRepository\n",
    "    {\n",
    "        public async Task ComplexBusinessProcessAsync(Entity entity)\n",
    "        {\n",
    "            // Do some complex things here\n",
    "            await CreateAsync(entity);\n",
    "            // Do more complex things here\n",
    "        }\n",
    "    }\n",
    "    ```\n",
    "\n",
    "    Composable method\n",
    "\n",
    "    ```csharp\n",
    "    namespace OCP.Composability;\n",
    "    public class EntityService\n",
    "    {\n",
    "        private readonly EntityRepository _repository = new EntityRepository();\n",
    "\n",
    "        public async Task ComplexBusinessProcessAsync(Entity entity)\n",
    "        {\n",
    "            // Do some complex things here\n",
    "            await _repository.CreateAsync(entity);\n",
    "            // Do more complex things here\n",
    "        }\n",
    "    }\n",
    "    ```\n",
    "\n",
    "- Depency injection\n",
    "\n",
    "    ```csharp\n",
    "    namespace OCP.DepencyInjection;\n",
    "    public class EntityService\n",
    "    {\n",
    "        private readonly EntityRepository _repository;\n",
    "\n",
    "        public EntityService(EntityRepository repository)\n",
    "        {\n",
    "            _repository = respository;\n",
    "        }\n",
    "\n",
    "        public async Task ComplexBusinessProcessAsync(Entity entity)\n",
    "        {\n",
    "            // Do some complex things here\n",
    "            await _repository.CreateAsync(entity);\n",
    "            // Do more complex things here\n",
    "        }\n",
    "    }\n",
    "    ```\n",
    "\n",
    "### Liskov substitution principle\n",
    "\n",
    "> The LSP states that in a program, if we replace an instance of a superclass (supertype) with an instance \n",
    "of a subclass (subtype), the program should not break or behave unexpectedly\n",
    "\n",
    "> In simpler words, if S is a subtype of T, we can replace objects of type T with objects of type S without \n",
    "changing any of the expected behaviors of the program (correctness)\n",
    "\n",
    "- Apply when using inheritance\n",
    "- Complex requirement to meet it\n",
    "- should be much of a problem when using composition over inheritance\n",
    "- On requirement is that a subtype must pass all tests written for a supertype\n",
    "\n",
    "> The key idea of the LSP is that the consumer of a supertype should remain unaware of whether it’s \n",
    "interacting with an instance of a supertype or an instance of a subtype.\n",
    "\n",
    "### Interface segregation principle\n",
    "\n",
    "- More small interfaces are better than fewer large interfaces\n",
    "- An interface defines a cohesive contract (methods, properties, and events)\n",
    "- Since C# 8 you can define a default implementation of a method in an interface\n",
    "\n",
    "### Dependency inversion principle\n",
    "\n",
    "- Use abrstractions (Interfaces) to reduce dependencies between classes"
   ]
  },
  {
   "cell_type": "markdown",
   "id": "94bf3e5e",
   "metadata": {},
   "source": [
    "Instead of this:"
   ]
  },
  {
   "cell_type": "code",
   "execution_count": 36,
   "metadata": {
    "polyglot_notebook": {
     "kernelName": "mermaid"
    },
    "vscode": {
     "languageId": "polyglot-notebook"
    }
   },
   "outputs": [
    {
     "data": {
      "text/html": [
       "<div class=\"mermaidMarkdownContainer\" style=\"background-color:white\">\r\n",
       "<link rel=\"stylesheet\" href=\"https://cdnjs.cloudflare.com/ajax/libs/font-awesome/6.2.0/css/all.min.css\">\r\n",
       "<div id=\"415e9a92d4704d1eb04285270329d64c\"></div>\r\n",
       "<script type=\"module\">\r\n",
       "\r\n",
       "            import mermaid from 'https://cdn.jsdelivr.net/npm/mermaid@10.6.1/dist/mermaid.esm.min.mjs';\r\n",
       "            let renderTarget = document.getElementById('415e9a92d4704d1eb04285270329d64c');\r\n",
       "            try {\r\n",
       "                const {svg, bindFunctions} = await mermaid.mermaidAPI.render( \r\n",
       "                    'mermaid_415e9a92d4704d1eb04285270329d64c', \r\n",
       "                    `classDiagram\r\n",
       "    SomeService --> LocalDataPersistance: Uses\r\n",
       "    SomeService --> SqlDataPersistance: Uses`);\r\n",
       "                renderTarget.innerHTML = svg;\r\n",
       "                bindFunctions?.(renderTarget);\r\n",
       "            }\r\n",
       "            catch (error) {\r\n",
       "                console.log(error);\r\n",
       "            }\r\n",
       "</script>\r\n",
       "</div>\r\n"
      ]
     },
     "metadata": {},
     "output_type": "display_data"
    }
   ],
   "source": [
    "classDiagram\n",
    "    SomeService --> LocalDataPersistance: Uses\n",
    "    SomeService --> SqlDataPersistance: Uses"
   ]
  },
  {
   "cell_type": "markdown",
   "id": "b774d50e",
   "metadata": {},
   "source": [
    "Do this:\n",
    "\n",
    "> We can achieve this by introducing an abstraction (like an interface) between the modules This means \n",
    "that instead of Class A depending directly on Class B, Class A would rely on an abstraction that Class \n",
    "B implements."
   ]
  },
  {
   "cell_type": "code",
   "execution_count": null,
   "metadata": {
    "polyglot_notebook": {
     "kernelName": "mermaid"
    },
    "vscode": {
     "languageId": "polyglot-notebook"
    }
   },
   "outputs": [
    {
     "data": {
      "text/html": [
       "<div class=\"mermaidMarkdownContainer\" style=\"background-color:white\">\r\n",
       "<link rel=\"stylesheet\" href=\"https://cdnjs.cloudflare.com/ajax/libs/font-awesome/6.2.0/css/all.min.css\">\r\n",
       "<div id=\"3759c4159c844a8f830e25caecbff703\"></div>\r\n",
       "<script type=\"module\">\r\n",
       "\r\n",
       "            import mermaid from 'https://cdn.jsdelivr.net/npm/mermaid@10.6.1/dist/mermaid.esm.min.mjs';\r\n",
       "            let renderTarget = document.getElementById('3759c4159c844a8f830e25caecbff703');\r\n",
       "            try {\r\n",
       "                const {svg, bindFunctions} = await mermaid.mermaidAPI.render( \r\n",
       "                    'mermaid_3759c4159c844a8f830e25caecbff703', \r\n",
       "                    `classDiagram\r\n",
       "    SomeService --> IDataPersistance: Uses\r\n",
       "    IDataPersistance <|-- LocalDataPersistance\r\n",
       "    IDataPersistance <|-- SqlDataPersistance\r\n",
       "`);\r\n",
       "                renderTarget.innerHTML = svg;\r\n",
       "                bindFunctions?.(renderTarget);\r\n",
       "            }\r\n",
       "            catch (error) {\r\n",
       "                console.log(error);\r\n",
       "            }\r\n",
       "</script>\r\n",
       "</div>\r\n"
      ]
     },
     "metadata": {},
     "output_type": "display_data"
    }
   ],
   "source": [
    "classDiagram\n",
    "    SomeService --> IDataPersistance: Uses\n",
    "    IDataPersistance <|-- LocalDataPersistance\n",
    "    IDataPersistance <|-- SqlDataPersistance\n"
   ]
  },
  {
   "cell_type": "markdown",
   "id": "35f5cd4d",
   "metadata": {},
   "source": [
    "These abstractions can be moved into assemblies for subsystems as well to help decouple at a higher level"
   ]
  },
  {
   "cell_type": "code",
   "execution_count": 39,
   "id": "7260932c",
   "metadata": {
    "polyglot_notebook": {
     "kernelName": "mermaid"
    },
    "vscode": {
     "languageId": "polyglot-notebook"
    }
   },
   "outputs": [
    {
     "data": {
      "text/html": [
       "<div class=\"mermaidMarkdownContainer\" style=\"background-color:white\">\r\n",
       "<link rel=\"stylesheet\" href=\"https://cdnjs.cloudflare.com/ajax/libs/font-awesome/6.2.0/css/all.min.css\">\r\n",
       "<div id=\"8952ed71edc5450c94586e9db28579cf\"></div>\r\n",
       "<script type=\"module\">\r\n",
       "\r\n",
       "            import mermaid from 'https://cdn.jsdelivr.net/npm/mermaid@10.6.1/dist/mermaid.esm.min.mjs';\r\n",
       "            let renderTarget = document.getElementById('8952ed71edc5450c94586e9db28579cf');\r\n",
       "            try {\r\n",
       "                const {svg, bindFunctions} = await mermaid.mermaidAPI.render( \r\n",
       "                    'mermaid_8952ed71edc5450c94586e9db28579cf', \r\n",
       "                    `classDiagram\r\n",
       "namespace Core {\r\n",
       "    class SomeService\r\n",
       "}\r\n",
       "\r\n",
       "namespace Abstractions {\r\n",
       "    class IDataPersistance\r\n",
       "}\r\n",
       "\r\n",
       "namespace Local {\r\n",
       "    class LocalDataPersistance\r\n",
       "}\r\n",
       "namespace Sql {\r\n",
       "    class SqlDataPersistance\r\n",
       "}\r\n",
       "    SomeService --> IDataPersistance\r\n",
       "    IDataPersistance <|-- LocalDataPersistance\r\n",
       "    IDataPersistance <|-- SqlDataPersistance`);\r\n",
       "                renderTarget.innerHTML = svg;\r\n",
       "                bindFunctions?.(renderTarget);\r\n",
       "            }\r\n",
       "            catch (error) {\r\n",
       "                console.log(error);\r\n",
       "            }\r\n",
       "</script>\r\n",
       "</div>\r\n"
      ]
     },
     "metadata": {},
     "output_type": "display_data"
    }
   ],
   "source": [
    "classDiagram\n",
    "namespace Core {\n",
    "    class SomeService\n",
    "}\n",
    "\n",
    "namespace Abstractions {\n",
    "    class IDataPersistance\n",
    "}\n",
    "\n",
    "namespace Local {\n",
    "    class LocalDataPersistance\n",
    "}\n",
    "namespace Sql {\n",
    "    class SqlDataPersistance\n",
    "}\n",
    "    SomeService --> IDataPersistance\n",
    "    IDataPersistance <|-- LocalDataPersistance\n",
    "    IDataPersistance <|-- SqlDataPersistance"
   ]
  },
  {
   "cell_type": "markdown",
   "id": "a8a078f4",
   "metadata": {},
   "source": [
    "Example project at `C03\\Dependency Inversion`. "
   ]
  },
  {
   "cell_type": "code",
   "execution_count": 40,
   "metadata": {
    "polyglot_notebook": {
     "kernelName": "csharp"
    },
    "vscode": {
     "languageId": "polyglot-notebook"
    }
   },
   "outputs": [
    {
     "name": "stdout",
     "output_type": "stream",
     "text": [
      "Beginning SomeService.Operation.\n",
      "Data persisted by LocalDataPersistence.\n",
      "SomeService.Operation has ended.\n",
      "Beginning SomeService.Operation.\n",
      "Data persisted by SqlDataPersistence.\n",
      "SomeService.Operation has ended.\n"
     ]
    }
   ],
   "source": [
    "public interface IDataPersistence\n",
    "{\n",
    "    void Persist();\n",
    "}\n",
    "\n",
    "public class SqlDataPersistence : IDataPersistence\n",
    "{\n",
    "    public void Persist()\n",
    "    {\n",
    "        Console.WriteLine(\"Data persisted by SqlDataPersistence.\");\n",
    "    }\n",
    "}\n",
    "\n",
    "public class LocalDataPersistence : IDataPersistence\n",
    "{\n",
    "    public void Persist()\n",
    "    {\n",
    "        Console.WriteLine(\"Data persisted by LocalDataPersistence.\");\n",
    "    }\n",
    "}\n",
    "\n",
    "public class SomeService\n",
    "{\n",
    "    public void Operation(IDataPersistence someDataPersistence)\n",
    "    {\n",
    "        // The someDataPersistence instance is responsible\n",
    "        // for the location where the data is persisted.\n",
    "        Console.WriteLine(\"Beginning SomeService.Operation.\");\n",
    "        someDataPersistence.Persist();\n",
    "        Console.WriteLine(\"SomeService.Operation has ended.\");\n",
    "    }\n",
    "}\n",
    "\n",
    "var sqlDataPersistence = new SqlDataPersistence();\n",
    "var localDataPersistence = new LocalDataPersistence();\n",
    "\n",
    "var service = new SomeService();\n",
    "service.Operation(localDataPersistence);\n",
    "service.Operation(sqlDataPersistence);"
   ]
  }
 ],
 "metadata": {
  "kernelspec": {
   "display_name": ".NET (C#)",
   "language": "C#",
   "name": ".net-csharp"
  },
  "language_info": {
   "name": "csharp"
  },
  "polyglot_notebook": {
   "kernelInfo": {
    "defaultKernelName": "csharp",
    "items": [
     {
      "aliases": [],
      "name": "csharp"
     }
    ]
   }
  }
 },
 "nbformat": 4,
 "nbformat_minor": 5
}
