{
 "cells": [
  {
   "cell_type": "markdown",
   "id": "55411e36",
   "metadata": {},
   "source": [
    "# Chapter 9 - Application Configuration\n",
    "\n",
    "- Store secrets locally using the secrets manager and use the Azure Key Vault provider in other envrionments\n",
    "\n",
    "    * https://github.com/dotnet/AspNetCore.Docs/blob/main/aspnetcore/security/app-secrets.md\n",
    "    * https://learn.microsoft.com/en-us/aspnet/core/security/app-secrets?view=aspnetcore-9.0&tabs=windows\n",
    "\n",
    "## Order settings are loaded\n",
    "\n",
    "1. appsettings.json\n",
    "2. appsettings.{env}.json\n",
    "3. User secrets (Dev only)\n",
    "4. Envrionment variables\n",
    "5. CLI args\n",
    "\n"
   ]
  },
  {
   "cell_type": "code",
   "execution_count": 2,
   "id": "554257d6",
   "metadata": {
    "polyglot_notebook": {
     "kernelName": "csharp"
    },
    "vscode": {
     "languageId": "polyglot-notebook"
    }
   },
   "outputs": [],
   "source": [
    "#r \"C:\\Program Files\\dotnet\\shared\\Microsoft.AspNetCore.App\\9.0.2\\Microsoft.AspNetCore.dll\"\n",
    "#r \"C:\\Program Files\\dotnet\\shared\\Microsoft.AspNetCore.App\\9.0.2\\Microsoft.Extensions.Hosting.dll\"\n",
    "#r \"C:\\Program Files\\dotnet\\shared\\Microsoft.AspNetCore.App\\9.0.2\\Microsoft.AspNetCore.Mvc.ViewFeatures.dll\"\n",
    "#r \"C:\\Program Files\\dotnet\\shared\\Microsoft.AspNetCore.App\\9.0.2\\Microsoft.AspNetCore.Diagnostics.dll\"\n",
    "#r \"C:\\Program Files\\dotnet\\shared\\Microsoft.AspNetCore.App\\9.0.2\\Microsoft.AspNetCore.Http.dll\"\n",
    "#r \"C:\\Program Files\\dotnet\\shared\\Microsoft.AspNetCore.App\\9.0.2\\Microsoft.AspNetCore.Http.Results.dll\""
   ]
  },
  {
   "cell_type": "markdown",
   "id": "ec61bdbd",
   "metadata": {},
   "source": [
    "I am passing settings since I do not have a appsettings.json.\n",
    "\n",
    "```json\n",
    "{\n",
    "    \"MyOptions\": {\n",
    "        \"name\": \"Fred\"\n",
    "    }\n",
    "}\n",
    "```"
   ]
  },
  {
   "cell_type": "code",
   "execution_count": 21,
   "id": "265ae961",
   "metadata": {
    "polyglot_notebook": {
     "kernelName": "csharp"
    },
    "vscode": {
     "languageId": "polyglot-notebook"
    }
   },
   "outputs": [],
   "source": [
    "string[] args = {\"--urls\",\"http://localhost:7001\",\"--MyOptions:Name=Fred\"};"
   ]
  },
  {
   "cell_type": "markdown",
   "id": "aa08e73c",
   "metadata": {},
   "source": [
    "This allows us to define our config with types and have them injected via the DI container."
   ]
  },
  {
   "cell_type": "code",
   "execution_count": 23,
   "id": "b68d9d38",
   "metadata": {
    "polyglot_notebook": {
     "kernelName": "csharp"
    },
    "vscode": {
     "languageId": "polyglot-notebook"
    }
   },
   "outputs": [
    {
     "name": "stdout",
     "output_type": "stream",
     "text": [
      "info: Microsoft.Hosting.Lifetime[14]\n",
      "      Now listening on: http://localhost:7001\n",
      "info: Microsoft.Hosting.Lifetime[0]\n",
      "      Application started. Press Ctrl+C to shut down.\n",
      "info: Microsoft.Hosting.Lifetime[0]\n",
      "      Hosting environment: Production\n",
      "info: Microsoft.Hosting.Lifetime[0]\n",
      "      Content root path: c:\\Users\\jason\\training\\dotnet\\Architecting-ASP.NET-Core-Applications-3E\\MyNotes\n"
     ]
    }
   ],
   "source": [
    "\n",
    "using Microsoft.AspNetCore.Http;\n",
    "using Microsoft.AspNetCore.Http.HttpResults;\n",
    "using Microsoft.AspNetCore.Routing;\n",
    "using Microsoft.AspNetCore.Builder;\n",
    "using Microsoft.Extensions.DependencyInjection;\n",
    "using Microsoft.Extensions.Options;\n",
    "\n",
    "var builder = WebApplication.CreateBuilder(args);\n",
    "var myOptions = builder.Configuration.GetSection(\"MyOptions\");\n",
    "\n",
    "builder.Services.Configure<MyOptions>(myOptions);\n",
    "\n",
    "var app = builder.Build();\n",
    "\n",
    "app.MapGet(\"/\", (IOptions<MyOptions> options) => options);\n",
    "\n",
    "app.RunAsync();\n",
    "\n",
    "public class MyOptions\n",
    "{\n",
    "    public string? Name { get; set; }\n",
    "}"
   ]
  },
  {
   "cell_type": "code",
   "execution_count": 22,
   "id": "af42277b",
   "metadata": {
    "polyglot_notebook": {
     "kernelName": "csharp"
    },
    "vscode": {
     "languageId": "polyglot-notebook"
    }
   },
   "outputs": [],
   "source": [
    "app.StopAsync();"
   ]
  },
  {
   "cell_type": "code",
   "execution_count": 29,
   "id": "4abbfe5b",
   "metadata": {
    "polyglot_notebook": {
     "kernelName": "csharp"
    },
    "vscode": {
     "languageId": "polyglot-notebook"
    }
   },
   "outputs": [
    {
     "data": {
      "application/json": {
       "value": {
        "name": "Fred"
       }
      }
     },
     "metadata": {},
     "output_type": "display_data"
    }
   ],
   "source": [
    "using System.Net.Http;\n",
    "\n",
    "var httpClient = new HttpClient();\n",
    "\n",
    "var response = await httpClient.GetAsync(\"http://localhost:7001/\");\n",
    "response.EnsureSuccessStatusCode();\n",
    "var content = await response.Content.ReadAsStringAsync();\n",
    "content.DisplayAs(\"application/json\")"
   ]
  },
  {
   "cell_type": "markdown",
   "id": "6db5d2c2",
   "metadata": {},
   "source": [
    "### Reload\n",
    "\n",
    "- Can watch for changes to config using `IOptionsMonitor`\n",
    "\n",
    "### Validation\n",
    "\n",
    "-Can validate options using data annotations\n",
    "\n",
    "```csharp\n",
    "private class Options\n",
    "{\n",
    "    [Required]\n",
    "    public string? MyImportantProperty { get; set; }\n",
    "}\n",
    "...\n",
    "services.AddOptions<Options>()\n",
    "    .Configure(o => o.MyImportantProperty = \"A value\")\n",
    "    .ValidateDataAnnotations()\n",
    "    .ValidateOnStart() // eager validation \n",
    "```\n",
    "\n",
    "- Can also use custom validation for more complex logic\n",
    "\n",
    "- He perfers to define his own class and use it instead the IOptions so he can set the lifetime\n",
    "\n",
    "## Centralization\n",
    "\n",
    "- All in one options + validation\n",
    "- We trade off SRP for ease of management in this case"
   ]
  },
  {
   "cell_type": "code",
   "execution_count": 3,
   "metadata": {
    "polyglot_notebook": {
     "kernelName": "csharp"
    },
    "vscode": {
     "languageId": "polyglot-notebook"
    }
   },
   "outputs": [],
   "source": [
    "using Microsoft.Extensions.Options;\n",
    "\n",
    "public class ProxyOptions : IConfigureOptions<ProxyOptions>, IValidateOptions<ProxyOptions>\n",
    "{\n",
    "    public static readonly int DefaultCacheTimeInSeconds = 60;\n",
    "\n",
    "    public string? Name { get; set; }\n",
    "    public int CacheTimeInSeconds { get; set; }\n",
    "\n",
    "    void IConfigureOptions<ProxyOptions>.Configure(ProxyOptions options)\n",
    "    {\n",
    "        options.CacheTimeInSeconds = DefaultCacheTimeInSeconds;\n",
    "    }\n",
    "\n",
    "    ValidateOptionsResult IValidateOptions<ProxyOptions>.Validate(string? name, ProxyOptions options)\n",
    "    {\n",
    "        if (string.IsNullOrWhiteSpace(options.Name))\n",
    "        {\n",
    "            return ValidateOptionsResult.Fail(\"The 'Name' property is required.\");\n",
    "        }\n",
    "        return ValidateOptionsResult.Success;\n",
    "    }\n",
    "}\n"
   ]
  },
  {
   "cell_type": "markdown",
   "id": "fd74e838",
   "metadata": {},
   "source": [
    "Trying to start the app below without the Name option fails with:\n",
    "\n",
    "```\n",
    "fail: Microsoft.Extensions.Hosting.Internal.Host[11]\n",
    "      Hosting failed to start\n",
    "      Microsoft.Extensions.Options.OptionsValidationException: The 'Name' property is required.\n",
    "         at Microsoft.Extensions.Options.OptionsFactory`1.Create(String name)\n",
    "```"
   ]
  },
  {
   "cell_type": "code",
   "execution_count": 18,
   "metadata": {
    "polyglot_notebook": {
     "kernelName": "csharp"
    },
    "vscode": {
     "languageId": "polyglot-notebook"
    }
   },
   "outputs": [],
   "source": [
    "string[] args = {\"--urls\",\"http://localhost:7002\",\"--myOptions:CacheTimeInSeconds=120\"};"
   ]
  },
  {
   "cell_type": "markdown",
   "id": "0ed3e6c8",
   "metadata": {},
   "source": [
    "Here we can start it by passing the required `Name` option."
   ]
  },
  {
   "cell_type": "code",
   "execution_count": 13,
   "metadata": {
    "polyglot_notebook": {
     "kernelName": "csharp"
    },
    "vscode": {
     "languageId": "polyglot-notebook"
    }
   },
   "outputs": [],
   "source": [
    "string[] args = {\"--urls\",\"http://localhost:7002\",\"--myOptions:CacheTimeInSeconds=120\",\"--myOptions:Name=MyOptionsExample\"};"
   ]
  },
  {
   "cell_type": "code",
   "execution_count": null,
   "metadata": {
    "polyglot_notebook": {
     "kernelName": "csharp"
    },
    "vscode": {
     "languageId": "polyglot-notebook"
    }
   },
   "outputs": [
    {
     "name": "stdout",
     "output_type": "stream",
     "text": [
      "fail: Microsoft.Extensions.Hosting.Internal.Host[11]\r\n",
      "      Hosting failed to start\r\n",
      "      Microsoft.Extensions.Options.OptionsValidationException: The 'Name' property is required.\r\n",
      "         at Microsoft.Extensions.Options.OptionsFactory`1.Create(String name)\r\n",
      "         at System.Lazy`1.ViaFactory(LazyThreadSafetyMode mode)\r\n",
      "         at System.Lazy`1.ExecutionAndPublication(LazyHelper executionAndPublication, Boolean useDefaultConstructor)\r\n",
      "         at System.Lazy`1.CreateValue()\r\n",
      "         at Microsoft.Extensions.Options.OptionsCache`1.GetOrAdd[TArg](String name, Func`3 createOptions, TArg factoryArgument)\r\n",
      "         at Microsoft.Extensions.Options.OptionsMonitor`1.Get(String name)\r\n",
      "         at Microsoft.Extensions.DependencyInjection.OptionsBuilderExtensions.<>c__DisplayClass0_1`1.<ValidateOnStart>b__1()\r\n",
      "         at Microsoft.Extensions.Options.StartupValidator.Validate()\r\n",
      "      --- End of stack trace from previous location ---\r\n",
      "         at Microsoft.Extensions.Options.StartupValidator.Validate()\r\n",
      "         at Microsoft.Extensions.Hosting.Internal.Host.StartAsync(CancellationToken cancellationToken)\r\n"
     ]
    }
   ],
   "source": [
    "\n",
    "using Microsoft.AspNetCore.Http;\n",
    "using Microsoft.AspNetCore.Http.HttpResults;\n",
    "using Microsoft.AspNetCore.Routing;\n",
    "using Microsoft.AspNetCore.Builder;\n",
    "using Microsoft.Extensions.DependencyInjection;\n",
    "using Microsoft.Extensions.Options;\n",
    "\n",
    "var builder = WebApplication.CreateBuilder(args);\n",
    "//We could encapsulate this in an extension method and just call `services.AddProxyService()`\n",
    "var myOptions = builder.Configuration.GetSection(\"MyOptions\");\n",
    "builder.Services\n",
    "    .AddSingleton<IConfigureOptions<ProxyOptions>, ProxyOptions>()\n",
    "    .AddSingleton<IValidateOptions<ProxyOptions>, ProxyOptions>()\n",
    "    .AddSingleton(sp => sp.GetRequiredService<IOptions<ProxyOptions>>().Value)\n",
    "    .Configure<ProxyOptions>(myOptions)\n",
    "    .AddOptions<ProxyOptions>()\n",
    "    .ValidateOnStart()\n",
    ";\n",
    "\n",
    "var app = builder.Build();\n",
    "\n",
    "app.MapGet(\"/\", (ProxyOptions options) => options);\n",
    "\n",
    "app.RunAsync();"
   ]
  },
  {
   "cell_type": "code",
   "execution_count": 16,
   "metadata": {
    "polyglot_notebook": {
     "kernelName": "csharp"
    },
    "vscode": {
     "languageId": "polyglot-notebook"
    }
   },
   "outputs": [
    {
     "data": {
      "application/json": {
       "cacheTimeInSeconds": 120,
       "name": "MyOptionsExample"
      }
     },
     "metadata": {},
     "output_type": "display_data"
    }
   ],
   "source": [
    "using System.Net.Http;\n",
    "\n",
    "var httpClient = new HttpClient();\n",
    "\n",
    "var response = await httpClient.GetAsync(\"http://localhost:7002/\");\n",
    "response.EnsureSuccessStatusCode();\n",
    "var content = await response.Content.ReadAsStringAsync();\n",
    "content.DisplayAs(\"application/json\")"
   ]
  },
  {
   "cell_type": "code",
   "execution_count": 17,
   "metadata": {
    "polyglot_notebook": {
     "kernelName": "csharp"
    },
    "vscode": {
     "languageId": "polyglot-notebook"
    }
   },
   "outputs": [],
   "source": [
    "app.StopAsync();"
   ]
  },
  {
   "cell_type": "markdown",
   "id": "8ea894ba",
   "metadata": {},
   "source": [
    "## ValidateOptionResultBuilder class\n",
    "\n",
    "> alidateOptionsResultBuilder is a new type in .NET 8. It allows us to dynamically accumulate val\u0002idation errors and create a ValidateOptionsResult object representing its current state.\n",
    "\n"
   ]
  }
 ],
 "metadata": {
  "kernelspec": {
   "display_name": ".NET (C#)",
   "language": "C#",
   "name": ".net-csharp"
  },
  "language_info": {
   "name": "python"
  },
  "polyglot_notebook": {
   "kernelInfo": {
    "defaultKernelName": "csharp",
    "items": [
     {
      "aliases": [],
      "name": "csharp"
     }
    ]
   }
  }
 },
 "nbformat": 4,
 "nbformat_minor": 5
}
