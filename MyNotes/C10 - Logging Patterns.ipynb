{
 "cells": [
  {
   "cell_type": "markdown",
   "id": "d59dd84b",
   "metadata": {},
   "source": [
    "# Chapter 10 - Logging Patterns\n",
    "\n",
    "## What is logging?\n",
    "\n",
    "- Cross cutting concern (Applies to the entire application)\n",
    "- Reasons\n",
    "    * Error diagnoisis\n",
    "    * Debugging\n",
    "    * Performance monitoring\n",
    "    * Security auditing\n",
    "    * Compliance\n",
    "    * Behavioral analytics\n",
    "- Log levels\n",
    "    Enum: `Microsoft.Extensions.Logging.LogLevel`\n",
    "- Structure\n",
    "    * A single string (Unstructured)\n",
    "    * Structrured i.e. Json\n",
    "\n",
    "## Writing logs\n",
    "\n",
    "- Provider based - Register 1 or more `ILoggerProvider` instances\n",
    "- Logger interfaces: ` ILogger, ILogger<T>, or ILoggerFactory`\n",
    "- Logged to console by default\n",
    "\n",
    "    ```csharp\n",
    "    namespace LoggingConsole;\n",
    "    public class ServiceUsingILogger(ILogger<ServiceUsingILogger> logger)\n",
    "    {\n",
    "        private readonly ILogger _logger = logger ?? throw new ArgumentNullException(nameof(logger));\n",
    "\n",
    "        public string Generate()\n",
    "        {\n",
    "            _logger.LogInformation(\"ServiceUsingILogger generating a GUID...\");\n",
    "            var guid = Guid.NewGuid();\n",
    "            _logger.LogDebug(\"ServiceUsingILogger generated the GUID {guid}.\", \n",
    "            guid);\n",
    "            return guid.ToString();\n",
    "        }\n",
    "    }\n",
    "    ```\n",
    "\n",
    "- Using `ILoggerFactory.CreateLogger()` allows us to pass a category name\n",
    "- Recommends using `ILogger<T>` by default\n",
    "\n",
    "## Log levels\n",
    "\n",
    "| Level | Method    | Description                                           | \n",
    "| ------|-----------|-------------------------------------------------------|\n",
    "| Trace | LogTrace  | Capture detailed info, performance, sensitive info?   |\n",
    "| Debug | LogDebug  | Log debug info and development info                   |\n",
    "| Info  | LogInformation | Use to track flow, normal events                 |\n",
    "| Warning | LogWarning | Log abnormal behavior                              |\n",
    "| Error | LogError  | Log errors                                            |\n",
    "| Critical | LogCritical | Log errors that require imediate attention, Stop state | \n",
    "\n",
    "- Better performance to use **log message templates** rather than string interpolation for logging\n",
    "\n",
    "    ```csharp\n",
    "    _logger.LogTrace(\"Some: {variable}\", variable);\n",
    "    // Or\n",
    "    _logger.LogTrace(\"Some: {0}\", variable);\n",
    "    ```\n",
    "    Delays the processing until it is sure it must log the message\n",
    "\n",
    "    It may be ok to use string interpolation if logging info or a level is likley to be logged regardless of environment i.e. Warning+ \n",
    "    Better to keep it conistent\n",
    "\n",
    "## Logging Providers\n",
    "\n",
    "- Console (Default)\n",
    "- Debug: Debugger monitor\n",
    "- EventSource: Built-in provider for structured logging\n",
    "- EventLog: Windows event log\n",
    "- ApplicationInsights: Integrates with Azure Application INsights\n",
    "\n",
    "Many other third party providers i.e. Serilog, Log4Net\n",
    "\n",
    "## Configuring\n",
    "\n",
    "appsettings.json\n",
    "\n",
    "```json\n",
    "{\n",
    " \"Logging\": {\n",
    " \"LogLevel\": {\n",
    " \"Default\": \"Information\",\n",
    " \"Microsoft\": \"Warning\"\n",
    " }\n",
    " }\n",
    "}\n",
    "```\n",
    "\n",
    "appsettings.development.json\n",
    "\n",
    "```json\n",
    "{\n",
    "    \"Logging\": {\n",
    "        \"LogLevel\": {\n",
    "            \"Default\": \"Information\",\n",
    "            \"Microsoft\": \"Warning\"\n",
    "        },\n",
    "        \"Console\": {\n",
    "            \"LogLevel\": {\n",
    "                \"Default\": \"Trace\"\n",
    "            }\n",
    "        }\n",
    "    }\n",
    "}\n",
    "```\n",
    "\n",
    "Can use filters in code.\n",
    "\n",
    "```csharp\n",
    "builder.Logging.AddFilter<ConsoleLoggerProvider>(\n",
    "    ServiceUsingLoggerFactory.CategoryName,\n",
    "    level => level >= LogLevel.Debug\n",
    ");\n",
    "```\n",
    "\n",
    "## Structured logging\n",
    "\n",
    "Built-in Json formatter\n",
    "\n",
    "```csharp\n",
    "builder.Logging.AddJsonConsole();\n",
    "...\n",
    "logger.LogInformation(\"You hit the {category} URL!\", category);\n",
    "```\n",
    "\n",
    "```json\n",
    "{\n",
    " \"EventId\": 0,\n",
    " \"LogLevel\": \"Information\",\n",
    " \"Category\": \"root\",\n",
    " \"Message\": \"You hit the root URL!\",\n",
    " \"State\": {\n",
    " \"Message\": \"You hit the root URL!\",\n",
    " \"category\": \"root\",\n",
    " \"{OriginalFormat}\": \"You hit the {category} URL!\"\n",
    " }\n",
    "}\n",
    "```\n",
    "\n",
    "Some third part providers such as `Serilog` have more capabilities.\n",
    "\n",
    "See https://github.com/serilog/serilog-aspnetcore/blob/dev/samples/Sample/Program.cs for an example."
   ]
  },
  {
   "cell_type": "code",
   "execution_count": 1,
   "id": "51841e66",
   "metadata": {
    "polyglot_notebook": {
     "kernelName": "csharp"
    },
    "vscode": {
     "languageId": "polyglot-notebook"
    }
   },
   "outputs": [],
   "source": [
    "#r \"C:\\Program Files\\dotnet\\shared\\Microsoft.AspNetCore.App\\9.0.2\\Microsoft.AspNetCore.dll\"\n",
    "#r \"C:\\Program Files\\dotnet\\shared\\Microsoft.AspNetCore.App\\9.0.2\\Microsoft.Extensions.Hosting.dll\"\n",
    "#r \"C:\\Program Files\\dotnet\\shared\\Microsoft.AspNetCore.App\\9.0.2\\Microsoft.AspNetCore.Mvc.ViewFeatures.dll\"\n",
    "#r \"C:\\Program Files\\dotnet\\shared\\Microsoft.AspNetCore.App\\9.0.2\\Microsoft.AspNetCore.Diagnostics.dll\"\n",
    "#r \"C:\\Program Files\\dotnet\\shared\\Microsoft.AspNetCore.App\\9.0.2\\Microsoft.AspNetCore.Http.dll\"\n",
    "#r \"C:\\Program Files\\dotnet\\shared\\Microsoft.AspNetCore.App\\9.0.2\\Microsoft.AspNetCore.Http.Results.dll\""
   ]
  },
  {
   "cell_type": "code",
   "execution_count": 2,
   "id": "aa0df952",
   "metadata": {
    "polyglot_notebook": {
     "kernelName": "csharp"
    },
    "vscode": {
     "languageId": "polyglot-notebook"
    }
   },
   "outputs": [],
   "source": [
    "string[] args = {\"--urls\",\"http://localhost:7002\",\"--appsettings\",\"C10.appsettings.json\"};"
   ]
  },
  {
   "cell_type": "code",
   "execution_count": null,
   "id": "3057ee52",
   "metadata": {
    "polyglot_notebook": {
     "kernelName": "csharp"
    },
    "vscode": {
     "languageId": "polyglot-notebook"
    }
   },
   "outputs": [],
   "source": [
    "using Microsoft.AspNetCore.Http;\n",
    "using Microsoft.AspNetCore.Http.HttpResults;\n",
    "using Microsoft.AspNetCore.Routing;\n",
    "using Microsoft.AspNetCore.Builder;\n",
    "using Microsoft.Extensions.DependencyInjection;\n",
    "using Microsoft.Extensions.Logging;\n",
    "using System.IO;\n",
    "\n",
    "//This section is not part of the example, just a way to redirect the logs to a file for viewing since I cannot see the console in the notebook\n",
    "StreamWriter sw = File.AppendText(\"logs/applog.txt\");\n",
    "sw.AutoFlush = true;\n",
    "Console.SetError(sw);\n",
    "Console.SetOut(sw);\n",
    "\n",
    "var builder = WebApplication.CreateBuilder(args);\n",
    "builder.Logging.AddJsonConsole();\n",
    "\n",
    "var app = builder.Build();\n",
    "\n",
    "app.MapGet(\"/\", (ILoggerFactory loggerFactory) =>\n",
    "{\n",
    "    const string category = \"root\";\n",
    "    var logger = loggerFactory.CreateLogger(category);\n",
    "    logger.LogInformation(\"You hit the {category} URL!\", category);\n",
    "    return \"Hello World!\";\n",
    "});\n",
    "\n",
    "app.RunAsync();\n"
   ]
  },
  {
   "cell_type": "code",
   "execution_count": 7,
   "id": "db2574b0",
   "metadata": {
    "polyglot_notebook": {
     "kernelName": "csharp"
    },
    "vscode": {
     "languageId": "polyglot-notebook"
    }
   },
   "outputs": [],
   "source": [
    "app.StopAsync();"
   ]
  },
  {
   "cell_type": "code",
   "execution_count": 5,
   "id": "d48e2833",
   "metadata": {
    "polyglot_notebook": {
     "kernelName": "csharp"
    },
    "vscode": {
     "languageId": "polyglot-notebook"
    }
   },
   "outputs": [
    {
     "data": {
      "application/json": ""
     },
     "metadata": {},
     "output_type": "display_data"
    }
   ],
   "source": [
    "using System.Net.Http;\n",
    "\n",
    "var httpClient = new HttpClient();\n",
    "\n",
    "var response = await httpClient.GetAsync(\"http://localhost:7002/\");\n",
    "response.EnsureSuccessStatusCode();\n",
    "var content = await response.Content.ReadAsStringAsync();\n",
    "content.DisplayAs(\"application/json\")"
   ]
  },
  {
   "cell_type": "markdown",
   "id": "23ec7709",
   "metadata": {},
   "source": [
    "## OpenTelemetry example\n",
    "\n",
    "Example using the OpenTelemetry log provider\n",
    "\n",
    "- https://github.com/open-telemetry/opentelemetry-dotnet/tree/main/docs/logs/getting-started-aspnetcore\n",
    "- https://opentelemetry.io/ecosystem/registry/?component=exporter&language=dotnet\n",
    "- https://github.com/DataDog/dd-trace-dotnet/blob/master/tracer/samples/OpenTelemetry"
   ]
  },
  {
   "cell_type": "code",
   "execution_count": 2,
   "id": "8bbbdfc7",
   "metadata": {
    "polyglot_notebook": {
     "kernelName": "csharp"
    },
    "vscode": {
     "languageId": "polyglot-notebook"
    }
   },
   "outputs": [
    {
     "data": {
      "text/html": [
       "<div><div></div><div></div><div><strong>Installed Packages</strong><ul><li><span>OpenTelemetry.Exporter.Console, 1.12.0</span></li><li><span>OpenTelemetry.Extensions.Hosting, 1.12.0</span></li></ul></div></div>"
      ]
     },
     "metadata": {},
     "output_type": "display_data"
    }
   ],
   "source": [
    "#r \"nuget:OpenTelemetry.Exporter.Console\"\n",
    "#r \"nuget:OpenTelemetry.Extensions.Hosting\""
   ]
  },
  {
   "cell_type": "code",
   "execution_count": 3,
   "id": "eaa9ce81",
   "metadata": {
    "polyglot_notebook": {
     "kernelName": "csharp"
    },
    "vscode": {
     "languageId": "polyglot-notebook"
    }
   },
   "outputs": [],
   "source": [
    "string[] args = {\"--urls\",\"http://localhost:7003\",\"--appsettings\",\"C10.appsettings-OT.json\"};"
   ]
  },
  {
   "cell_type": "code",
   "execution_count": 10,
   "id": "1d5172dc",
   "metadata": {
    "polyglot_notebook": {
     "kernelName": "csharp"
    },
    "vscode": {
     "languageId": "polyglot-notebook"
    }
   },
   "outputs": [],
   "source": [
    "\n",
    "using Microsoft.AspNetCore.Http;\n",
    "using Microsoft.AspNetCore.Http.HttpResults;\n",
    "using Microsoft.AspNetCore.Routing;\n",
    "using Microsoft.AspNetCore.Builder;\n",
    "using Microsoft.Extensions.DependencyInjection;\n",
    "using Microsoft.Extensions.Logging;\n",
    "using OpenTelemetry.Logs;\n",
    "using OpenTelemetry.Resources;\n",
    "using System.IO;\n",
    "\n",
    "//This section is not part of the example, just a way to redirect the logs to a file for viewing since I cannot see the console in the notebook\n",
    "StreamWriter sw = File.AppendText(\"logs/OT-console.txt\");\n",
    "sw.AutoFlush = true;\n",
    "Console.SetError(sw);\n",
    "Console.SetOut(sw);\n",
    "\n",
    "var builder = WebApplication.CreateBuilder(args);\n",
    "\n",
    "// For instructional purposes only, disable the default .NET logging providers.\n",
    "// We remove the console logging provider in this demo to use the verbose\n",
    "// OpenTelemetry console exporter instead. For most development and production\n",
    "// scenarios the default console provider works well and there is no need to\n",
    "// clear these providers.\n",
    "builder.Logging.ClearProviders();\n",
    "\n",
    "// Add OpenTelemetry logging provider by calling the WithLogging extension.\n",
    "builder.Services.AddOpenTelemetry()\n",
    "    .ConfigureResource(r => r.AddService(builder.Environment.ApplicationName))\n",
    "    .WithLogging(logging => logging\n",
    "        /* Note: ConsoleExporter is used for demo purpose only. In production\n",
    "           environment, ConsoleExporter should be replaced with other exporters\n",
    "           (e.g. OTLP Exporter). */\n",
    "        .AddConsoleExporter());\n",
    "\n",
    "var app = builder.Build();\n",
    "\n",
    "app.MapGet(\"/\", (ILogger<Program> logger) =>\n",
    "{\n",
    "    var greeting = \"Hello, World!\";\n",
    "    logger.LogInformation(\"Greeting: {greeting} \", greeting);\n",
    "    return \"Hello World!\";\n",
    "});\n",
    "\n",
    "app.Logger.LogInformation(\"App starting...\");\n",
    "\n",
    "app.RunAsync();\n",
    "\n",
    "public partial class Program { }\n",
    "\n"
   ]
  },
  {
   "cell_type": "code",
   "execution_count": 14,
   "id": "70a9f6d8",
   "metadata": {
    "polyglot_notebook": {
     "kernelName": "csharp"
    },
    "vscode": {
     "languageId": "polyglot-notebook"
    }
   },
   "outputs": [],
   "source": [
    "app.StopAsync();"
   ]
  },
  {
   "cell_type": "code",
   "execution_count": 13,
   "id": "46e26cdf",
   "metadata": {
    "polyglot_notebook": {
     "kernelName": "csharp"
    },
    "vscode": {
     "languageId": "polyglot-notebook"
    }
   },
   "outputs": [
    {
     "data": {
      "application/json": ""
     },
     "metadata": {},
     "output_type": "display_data"
    }
   ],
   "source": [
    "using System.Net.Http;\n",
    "\n",
    "var httpClient = new HttpClient();\n",
    "\n",
    "var response = await httpClient.GetAsync(\"http://localhost:7003/\");\n",
    "response.EnsureSuccessStatusCode();\n",
    "var content = await response.Content.ReadAsStringAsync();\n",
    "content.DisplayAs(\"application/json\")"
   ]
  }
 ],
 "metadata": {
  "kernelspec": {
   "display_name": ".NET (C#)",
   "language": "C#",
   "name": ".net-csharp"
  },
  "language_info": {
   "name": "python"
  },
  "polyglot_notebook": {
   "kernelInfo": {
    "defaultKernelName": "csharp",
    "items": [
     {
      "aliases": [],
      "name": "csharp"
     }
    ]
   }
  }
 },
 "nbformat": 4,
 "nbformat_minor": 5
}
