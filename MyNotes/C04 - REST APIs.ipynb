{
 "cells": [
  {
   "cell_type": "markdown",
   "id": "8c679645",
   "metadata": {},
   "source": [
    "# Chapter 4 - Automated Testing\n",
    "\n",
    "## Common Status Codes\n",
    "\n",
    "\n",
    "| Status code | Role |\n",
    "|-------------|------|\n",
    "| 200 OK | Indicates the request has succeeded. It usually includes data related to the resource in the response body. |\n",
    "| 201 CREATED | Indicates the request has succeeded and the system created a resource. It should also include a Location HTTP header pointing to the  |newly created resource and can include the new entity in the response body.\n",
    "| 202 ACCEPTED | Indicates the request has been accepted for processing but has not been processed yet. We use this code for asynchronous operations. |Inan event-driven system (see Chapter 17, Getting Started with Vertical SliceArchitecture), this could mean that an event has been published, the  current resource has completed its job (published the event), but to know more, the client needs to contact another resource, wait for a notification, just wait, or can’t know.\n",
    "| 204 NO CONTENT | Indicates the request has succeeded with no content in the response body. |\n",
    "| 302 FOUND | Indicates that the requested resource resides temporarily under a different URL specified in the Location header. We commonly use this status code for redirection. |\n",
    "| 400 BAD REQUEST | Indicates that the server could not understand or process the request. This usually relates to a validation error like a bad input or a missing field.\n",
    "| 401 UNAUTHORIZED | Indicates that the request requires user authentication to access the resource. |\n",
    "| 403 FORBIDDEN | Indicates that the server understood the request but refused to authorize it. This usually means the client lacks access rights  |forthe resource (authorization).\n",
    "| 404 NOT FOUND | Indicates the resource does not exist or was not found. REST APIs often return this from valid endpoints. |\n",
    "| 409 CONFLICT | Indicates that the server cannot complete the request due to a conflict with the current state of the resource. A typical scenario  |would be that the entity has changed between its read operation (GET) and the current update (PUT) operation.\n",
    "| 500 INTERNAL SERVER ERROR | Indicates that an unhandled error occurred on the server side and prevented it from fulfilling the request |\n",
    "\n",
    "## Headers\n",
    "\n",
    "- Use `Location` to communicate the resource url of new entities, status of async processes, or redirection\n",
    "- \n",
    "\n",
    "## Versioning\n",
    "\n",
    "- What if not version is supplied, First version, latest, or return error\n",
    "- Use the uri to indicate version (Most common)\n",
    "- Could use headers to specify version i.e. `Accept-version`\n",
    "\n",
    "## Data Transfer Object (DTO)\n",
    "\n",
    "- Used to control an API's inputs and outputs\n",
    "- loosley couple our domain model from data exposed via API, can change model without chaning API contract\n",
    "- Can be used to package related data together in a single call\n",
    "\n",
    "\n"
   ]
  },
  {
   "cell_type": "code",
   "execution_count": 46,
   "id": "7f01ae5c",
   "metadata": {
    "polyglot_notebook": {
     "kernelName": "mermaid"
    },
    "vscode": {
     "languageId": "polyglot-notebook"
    }
   },
   "outputs": [
    {
     "data": {
      "text/html": [
       "<div class=\"mermaidMarkdownContainer\" style=\"background-color:white\">\r\n",
       "<link rel=\"stylesheet\" href=\"https://cdnjs.cloudflare.com/ajax/libs/font-awesome/6.2.0/css/all.min.css\">\r\n",
       "<div id=\"e332606bc473410aa7b540c2314e354e\"></div>\r\n",
       "<script type=\"module\">\r\n",
       "\r\n",
       "            import mermaid from 'https://cdn.jsdelivr.net/npm/mermaid@10.6.1/dist/mermaid.esm.min.mjs';\r\n",
       "            let renderTarget = document.getElementById('e332606bc473410aa7b540c2314e354e');\r\n",
       "            try {\r\n",
       "                const {svg, bindFunctions} = await mermaid.mermaidAPI.render( \r\n",
       "                    'mermaid_e332606bc473410aa7b540c2314e354e', \r\n",
       "                    `flowchart RL\r\n",
       "    subgraph C[\"Client\"]\r\n",
       "        \r\n",
       "    end\r\n",
       "    subgraph E[\"REST API Endpoint\"]\r\n",
       "        InputDTO\r\n",
       "        OutputDTO\r\n",
       "    end\r\n",
       "    subgraph D[\"Domain\"]\r\n",
       "       Model\r\n",
       "    end\r\n",
       "    C-->E\r\n",
       "    E-->C\r\n",
       "    E-->D\r\n",
       "    D-->E`);\r\n",
       "                renderTarget.innerHTML = svg;\r\n",
       "                bindFunctions?.(renderTarget);\r\n",
       "            }\r\n",
       "            catch (error) {\r\n",
       "                console.log(error);\r\n",
       "            }\r\n",
       "</script>\r\n",
       "</div>\r\n"
      ]
     },
     "metadata": {},
     "output_type": "display_data"
    }
   ],
   "source": [
    "flowchart RL\n",
    "    subgraph C[\"Client\"]\n",
    "        \n",
    "    end\n",
    "    subgraph E[\"REST API Endpoint\"]\n",
    "        InputDTO\n",
    "        OutputDTO\n",
    "    end\n",
    "    subgraph D[\"Domain\"]\n",
    "       Model\n",
    "    end\n",
    "    C-->E\n",
    "    E-->C\n",
    "    E-->D\n",
    "    D-->E"
   ]
  },
  {
   "cell_type": "markdown",
   "id": "737552ed",
   "metadata": {},
   "source": [
    "## OpenAPI Specs / Docs\n",
    "\n",
    "- Can use the SwaggerGen package to generate OpenAPI spec docs automatically based on teh code.\n",
    "\n",
    "```bash\n",
    " dotnet add package Swashbuckle.AspNetCore.SwaggerGen\n",
    " ```\n",
    "\n",
    " ```csharp\n",
    "var builder = WebApplication.CreateBuilder(args);\n",
    "builder.Services.AddEndpointsApiExplorer();\n",
    "builder.Services.AddSwaggerGen();\n",
    "var app = builder.Build();\n",
    "app.UseSwagger();\n",
    "// Omitted endpoints\n",
    "app.Run();\n",
    "```"
   ]
  }
 ],
 "metadata": {
  "kernelspec": {
   "display_name": ".NET (C#)",
   "language": "C#",
   "name": ".net-csharp"
  },
  "language_info": {
   "name": "python"
  },
  "polyglot_notebook": {
   "kernelInfo": {
    "defaultKernelName": "csharp",
    "items": [
     {
      "aliases": [],
      "name": "csharp"
     }
    ]
   }
  }
 },
 "nbformat": 4,
 "nbformat_minor": 5
}
